{
 "cells": [
  {
   "cell_type": "code",
   "execution_count": 27,
   "metadata": {},
   "outputs": [],
   "source": [
    "import numpy as np\n",
    "\n",
    "import tensorflow as tf\n",
    "\n",
    "from tensorflow.keras.datasets import mnist\n",
    "\n",
    "# layers ：层，作用方便的构建层\n",
    "# Model模型的意思，算法，数学公式，DNN，深度神经网络，3层隐含层 128,256,512\n",
    "from tensorflow.keras import Model,layers"
   ]
  },
  {
   "cell_type": "code",
   "execution_count": 28,
   "metadata": {},
   "outputs": [],
   "source": [
    "(X_train,y_train),(X_test,y_test) = mnist.load_data()\n",
    "# 归一化\n",
    "X_train = (X_train/255.0).astype(np.float32)\n",
    "X_test = (X_test/255.0).astype(np.float32)\n",
    "\n",
    "# reshape,二维的数据，矩阵运算了\n",
    "X_train = X_train.reshape(-1,784)\n",
    "X_test = X_test.reshape(-1,784)\n",
    "\n",
    "# one-hot 概率表示类别\n",
    "y_train = tf.one_hot(y_train,depth=10)\n",
    "y_test = tf.one_hot(y_test,depth=10)\n",
    "\n",
    "# prefetch fetch取出来的意思，预先取出来，更快，加快计算速度\n",
    "# 训练数据\n",
    "data_train = tf.data.Dataset.from_tensor_slices((X_train,y_train)).repeat(50).shuffle(1000).batch(512).prefetch(1)\n",
    "# 测试数据，验证模型好坏！每训练50次，取出一批测试数据，进行测试准确率\n",
    "data_test = tf.data.Dataset.from_tensor_slices((X_test,y_test)).repeat(10).shuffle(1000).batch(512).prefetch(1)"
   ]
  },
  {
   "cell_type": "markdown",
   "metadata": {},
   "source": [
    "### 构建模型，损失，准确率，优化算法"
   ]
  },
  {
   "cell_type": "code",
   "execution_count": 29,
   "metadata": {},
   "outputs": [],
   "source": [
    "class Dnn(Model):\n",
    "    def __init__(self):\n",
    "        super(Dnn,self).__init__()#调用父类方法\n",
    "#         没有写，变量，layers自动帮助，写变量Variable，对应着神经元数量\n",
    "        self.h1 = layers.Dense(256,activation='relu')# 矩阵运算，Dense相当于矩阵运算\n",
    "        self.h2 = layers.Dense(256,activation='relu')\n",
    "        self.h3 = layers.Dense(512,activation='relu')\n",
    "        self.out = layers.Dense(10,activation=tf.nn.softmax)# softmax相当于概率！\n",
    "    def call(self,x,is_training = False):# 可以帮助我们区分，训练和测试情况\n",
    "        x = self.h1(x)\n",
    "        x = self.h2(x)\n",
    "        x = self.h3(x)\n",
    "        y_pred = self.out(x)\n",
    "        return y_pred\n",
    "dnn = Dnn()\n",
    "def cross_entropy(y_true,y_pred):\n",
    "    y_pred = tf.clip_by_value(y_pred,1e-9,1.0)\n",
    "    loss = tf.reduce_mean(tf.reduce_sum(-tf.multiply(y_true,tf.math.log(y_pred)),axis = 1))#y_pred是在分母的位置\n",
    "    return loss\n",
    "# 声明准确率\n",
    "def accuracy(y_true,y_pred):#此时y_true,y_pred都是tensor\n",
    "#     这种写法，和上一个案例，不同，意思完全一样！\n",
    "    y_true = tf.argmax(y_true,axis = -1)\n",
    "    y_pred = tf.argmax(y_pred,axis = -1)\n",
    "#     numpy 支持 == ，Tensorflow 不支持==，必须使用equal 比较的是值，==比较的是内存地址\n",
    "    acc = tf.reduce_mean(tf.cast(tf.equal(y_true,y_pred),tf.float16)).numpy()\n",
    "    return acc\n",
    "sgd = tf.optimizers.SGD(0.1)"
   ]
  },
  {
   "cell_type": "markdown",
   "metadata": {},
   "source": [
    "### 定义优化方法"
   ]
  },
  {
   "cell_type": "code",
   "execution_count": 30,
   "metadata": {},
   "outputs": [],
   "source": [
    "def run_optimizer(X_train,y_train):\n",
    "    with tf.GradientTape() as g:\n",
    "        y_pred = dnn(X_train)\n",
    "        loss = cross_entropy(y_train,y_pred)\n",
    "    gradients = g.gradient(loss,dnn.trainable_variables)#获取dnn模型的为我们声明的变量\n",
    "    sgd.apply_gradients(zip(gradients,dnn.trainable_variables))"
   ]
  },
  {
   "cell_type": "markdown",
   "metadata": {},
   "source": [
    "### for循环，批量的训练"
   ]
  },
  {
   "cell_type": "code",
   "execution_count": 31,
   "metadata": {
    "collapsed": true
   },
   "outputs": [
    {
     "name": "stdout",
     "output_type": "stream",
     "text": [
      "执行次数：10。准确率：0.6523\n",
      "执行次数：20。准确率：0.7285\n",
      "执行次数：30。准确率：0.7734\n",
      "执行次数：40。准确率：0.8047\n",
      "执行次数：50。准确率：0.8047\n",
      "执行次数：60。准确率：0.8672\n",
      "执行次数：70。准确率：0.8730\n",
      "执行次数：80。准确率：0.8672\n",
      "执行次数：90。准确率：0.8750\n",
      "执行次数：100。准确率：0.8711\n",
      "执行次数：110。准确率：0.8848\n",
      "执行次数：120。准确率：0.8633\n",
      "执行次数：130。准确率：0.8945\n",
      "执行次数：140。准确率：0.8887\n",
      "执行次数：150。准确率：0.8887\n",
      "执行次数：160。准确率：0.8770\n",
      "执行次数：170。准确率：0.8867\n",
      "执行次数：180。准确率：0.9160\n",
      "执行次数：190。准确率：0.9043\n",
      "执行次数：200。准确率：0.8984\n",
      "执行次数：210。准确率：0.8926\n",
      "执行次数：220。准确率：0.8965\n",
      "执行次数：230。准确率：0.8984\n",
      "执行次数：240。准确率：0.9023\n",
      "执行次数：250。准确率：0.8906\n",
      "执行次数：260。准确率：0.9199\n",
      "执行次数：270。准确率：0.9141\n",
      "执行次数：280。准确率：0.9102\n",
      "执行次数：290。准确率：0.9062\n",
      "执行次数：300。准确率：0.9121\n",
      "执行次数：310。准确率：0.9180\n",
      "执行次数：320。准确率：0.9141\n",
      "执行次数：330。准确率：0.8867\n",
      "执行次数：340。准确率：0.9062\n",
      "执行次数：350。准确率：0.8926\n",
      "执行次数：360。准确率：0.9219\n",
      "执行次数：370。准确率：0.9023\n",
      "执行次数：380。准确率：0.9512\n",
      "执行次数：390。准确率：0.9160\n",
      "执行次数：400。准确率：0.8867\n",
      "执行次数：410。准确率：0.9160\n",
      "执行次数：420。准确率：0.9336\n",
      "执行次数：430。准确率：0.9238\n",
      "执行次数：440。准确率：0.9199\n",
      "执行次数：450。准确率：0.9238\n",
      "执行次数：460。准确率：0.9297\n",
      "执行次数：470。准确率：0.9258\n",
      "执行次数：480。准确率：0.9355\n",
      "执行次数：490。准确率：0.9121\n",
      "执行次数：500。准确率：0.8984\n",
      "执行次数：510。准确率：0.9180\n",
      "执行次数：520。准确率：0.9316\n",
      "执行次数：530。准确率：0.9199\n",
      "执行次数：540。准确率：0.9316\n",
      "执行次数：550。准确率：0.9355\n",
      "执行次数：560。准确率：0.9297\n",
      "执行次数：570。准确率：0.9355\n",
      "执行次数：580。准确率：0.9316\n",
      "执行次数：590。准确率：0.9141\n",
      "执行次数：600。准确率：0.9395\n",
      "执行次数：610。准确率：0.9297\n",
      "执行次数：620。准确率：0.9473\n",
      "执行次数：630。准确率：0.9297\n",
      "执行次数：640。准确率：0.9316\n",
      "执行次数：650。准确率：0.9297\n",
      "执行次数：660。准确率：0.9277\n",
      "执行次数：670。准确率：0.9512\n",
      "执行次数：680。准确率：0.9316\n",
      "执行次数：690。准确率：0.9316\n",
      "执行次数：700。准确率：0.9414\n",
      "执行次数：710。准确率：0.9316\n",
      "执行次数：720。准确率：0.9238\n",
      "执行次数：730。准确率：0.9395\n",
      "执行次数：740。准确率：0.9395\n",
      "执行次数：750。准确率：0.9277\n",
      "执行次数：760。准确率：0.9395\n",
      "执行次数：770。准确率：0.9414\n",
      "执行次数：780。准确率：0.9258\n",
      "执行次数：790。准确率：0.9297\n",
      "执行次数：800。准确率：0.9512\n",
      "执行次数：810。准确率：0.9434\n",
      "执行次数：820。准确率：0.9492\n",
      "执行次数：830。准确率：0.9531\n",
      "执行次数：840。准确率：0.9473\n",
      "执行次数：850。准确率：0.9414\n",
      "执行次数：860。准确率：0.9492\n",
      "执行次数：870。准确率：0.9395\n",
      "执行次数：880。准确率：0.9336\n",
      "执行次数：890。准确率：0.9395\n",
      "执行次数：900。准确率：0.9551\n",
      "执行次数：910。准确率：0.9512\n",
      "执行次数：920。准确率：0.9277\n",
      "执行次数：930。准确率：0.9375\n",
      "执行次数：940。准确率：0.9492\n",
      "执行次数：950。准确率：0.9336\n",
      "执行次数：960。准确率：0.9473\n",
      "执行次数：970。准确率：0.9375\n",
      "执行次数：980。准确率：0.9355\n",
      "执行次数：990。准确率：0.9375\n",
      "执行次数：1000。准确率：0.9297\n"
     ]
    }
   ],
   "source": [
    "for i,(X_train,y_train) in enumerate(data_train.take(1000),1):\n",
    "    run_optimizer(X_train,y_train)\n",
    "    if i%10 == 0:\n",
    "        for (X_test,y_test) in data_test.take(1):\n",
    "            y_pred = dnn(X_test)\n",
    "            acc = accuracy(y_test,y_pred)\n",
    "            print('执行次数：%d。准确率：%0.4f'%(i,acc))"
   ]
  }
 ],
 "metadata": {
  "kernelspec": {
   "display_name": "Python 3",
   "language": "python",
   "name": "python3"
  },
  "language_info": {
   "codemirror_mode": {
    "name": "ipython",
    "version": 3
   },
   "file_extension": ".py",
   "mimetype": "text/x-python",
   "name": "python",
   "nbconvert_exporter": "python",
   "pygments_lexer": "ipython3",
   "version": "3.7.3"
  },
  "toc": {
   "base_numbering": 1,
   "nav_menu": {},
   "number_sections": true,
   "sideBar": true,
   "skip_h1_title": false,
   "title_cell": "Table of Contents",
   "title_sidebar": "Contents",
   "toc_cell": false,
   "toc_position": {},
   "toc_section_display": true,
   "toc_window_display": false
  }
 },
 "nbformat": 4,
 "nbformat_minor": 2
}
