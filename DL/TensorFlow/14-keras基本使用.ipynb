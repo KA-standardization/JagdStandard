{
 "cells": [
  {
   "cell_type": "markdown",
   "metadata": {},
   "source": [
    "### 构建一个多层感知机的神经网络 == DNN ---->矩阵"
   ]
  },
  {
   "cell_type": "code",
   "execution_count": 4,
   "metadata": {
    "ExecuteTime": {
     "end_time": "2020-04-25T12:38:22.796053Z",
     "start_time": "2020-04-25T12:38:22.759285Z"
    }
   },
   "outputs": [],
   "source": [
    "from keras.models import Sequential,Model\n",
    "\n",
    "from keras.layers import Dense,Dropout,Input\n",
    "\n",
    "import numpy as np\n",
    "\n",
    "from keras.datasets import mnist\n",
    "\n",
    "import keras"
   ]
  },
  {
   "cell_type": "markdown",
   "metadata": {},
   "source": [
    "### 加载数据"
   ]
  },
  {
   "cell_type": "code",
   "execution_count": 20,
   "metadata": {},
   "outputs": [],
   "source": [
    "(X_train,y_train),(X_test,y_test) = mnist.load_data()\n",
    "\n",
    "X_train = X_train/255.0\n",
    "X_test= X_test/255.0\n",
    "X_train = (X_train.astype(np.float32)).reshape(60000,-1)\n",
    "X_test = X_test.astype(np.float32).reshape(10000,784)\n",
    "y_train = keras.utils.to_categorical(y_train)\n",
    "y_test = keras.utils.to_categorical(y_test)"
   ]
  },
  {
   "cell_type": "markdown",
   "metadata": {},
   "source": [
    "### 模型构建成功"
   ]
  },
  {
   "cell_type": "code",
   "execution_count": 27,
   "metadata": {},
   "outputs": [],
   "source": [
    "input_layer = Input(shape = (784,))\n",
    "x = Dense(256,activation='relu')(input_layer)# 第一层隐含层 感知机\n",
    "x = Dense(256,activation='relu')(x)#第二层隐含层 感知机 计算的数据，就是第一层的返回\n",
    "x = Dense(512,activation=keras.activations.relu)(x)#第三层隐含层 感知机\n",
    "output_layer = Dense(10,activation='softmax')(x)\n",
    "model = Model(inputs = input_layer,outputs = output_layer)"
   ]
  },
  {
   "cell_type": "code",
   "execution_count": 50,
   "metadata": {},
   "outputs": [],
   "source": [
    "model.compile(optimizer=keras.optimizers.sgd(),\n",
    "              loss=keras.losses.categorical_crossentropy,\n",
    "              metrics=[keras.metrics.categorical_accuracy])"
   ]
  },
  {
   "cell_type": "code",
   "execution_count": 51,
   "metadata": {
    "collapsed": true
   },
   "outputs": [
    {
     "name": "stdout",
     "output_type": "stream",
     "text": [
      "Train on 60000 samples, validate on 10000 samples\n",
      "Epoch 1/10\n",
      "60000/60000 [==============================] - 2s 32us/step - loss: 0.0907 - categorical_accuracy: 0.9743 - val_loss: 0.1074 - val_categorical_accuracy: 0.9665\n",
      "Epoch 2/10\n",
      "60000/60000 [==============================] - 2s 32us/step - loss: 0.0890 - categorical_accuracy: 0.9747 - val_loss: 0.1067 - val_categorical_accuracy: 0.9662\n",
      "Epoch 3/10\n",
      "60000/60000 [==============================] - 2s 30us/step - loss: 0.0876 - categorical_accuracy: 0.9753 - val_loss: 0.1071 - val_categorical_accuracy: 0.9668\n",
      "Epoch 4/10\n",
      "60000/60000 [==============================] - 2s 30us/step - loss: 0.0861 - categorical_accuracy: 0.9758 - val_loss: 0.1044 - val_categorical_accuracy: 0.9673\n",
      "Epoch 5/10\n",
      "60000/60000 [==============================] - 2s 32us/step - loss: 0.0846 - categorical_accuracy: 0.9761 - val_loss: 0.1031 - val_categorical_accuracy: 0.9671\n",
      "Epoch 6/10\n",
      "60000/60000 [==============================] - 2s 30us/step - loss: 0.0831 - categorical_accuracy: 0.9767 - val_loss: 0.1031 - val_categorical_accuracy: 0.9674\n",
      "Epoch 7/10\n",
      "60000/60000 [==============================] - 2s 31us/step - loss: 0.0817 - categorical_accuracy: 0.9775 - val_loss: 0.1018 - val_categorical_accuracy: 0.9685\n",
      "Epoch 8/10\n",
      "60000/60000 [==============================] - 2s 30us/step - loss: 0.0804 - categorical_accuracy: 0.9774 - val_loss: 0.1003 - val_categorical_accuracy: 0.9680\n",
      "Epoch 9/10\n",
      "60000/60000 [==============================] - 2s 30us/step - loss: 0.0791 - categorical_accuracy: 0.9777 - val_loss: 0.1008 - val_categorical_accuracy: 0.9678\n",
      "Epoch 10/10\n",
      "60000/60000 [==============================] - 2s 31us/step - loss: 0.0777 - categorical_accuracy: 0.9783 - val_loss: 0.1015 - val_categorical_accuracy: 0.9660\n"
     ]
    },
    {
     "data": {
      "text/plain": [
       "<keras.callbacks.callbacks.History at 0x1ab1dee7e48>"
      ]
     },
     "execution_count": 51,
     "metadata": {},
     "output_type": "execute_result"
    }
   ],
   "source": [
    "model.fit(x = X_train,\n",
    "          y = y_train,\n",
    "          batch_size=256,\n",
    "          epochs=10,\n",
    "          verbose=1,#verbose控制是否有输出\n",
    "          validation_data=(X_test,y_test))"
   ]
  }
 ],
 "metadata": {
  "kernelspec": {
   "display_name": "Python 3",
   "language": "python",
   "name": "python3"
  },
  "language_info": {
   "codemirror_mode": {
    "name": "ipython",
    "version": 3
   },
   "file_extension": ".py",
   "mimetype": "text/x-python",
   "name": "python",
   "nbconvert_exporter": "python",
   "pygments_lexer": "ipython3",
   "version": "3.7.3"
  },
  "toc": {
   "base_numbering": 1,
   "nav_menu": {},
   "number_sections": true,
   "sideBar": true,
   "skip_h1_title": false,
   "title_cell": "Table of Contents",
   "title_sidebar": "Contents",
   "toc_cell": false,
   "toc_position": {},
   "toc_section_display": true,
   "toc_window_display": false
  }
 },
 "nbformat": 4,
 "nbformat_minor": 2
}
