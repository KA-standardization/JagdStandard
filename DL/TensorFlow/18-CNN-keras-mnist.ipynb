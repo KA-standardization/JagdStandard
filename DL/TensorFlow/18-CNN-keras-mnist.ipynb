{
 "cells": [
  {
   "cell_type": "code",
   "execution_count": 135,
   "metadata": {},
   "outputs": [],
   "source": [
    "import warnings\n",
    "warnings.filterwarnings('ignore')\n",
    "\n",
    "import numpy as np\n",
    "\n",
    "import tensorflow as tf\n",
    "\n",
    "from tensorflow.keras.datasets import mnist\n",
    "\n",
    "from tensorflow.keras import Model,layers"
   ]
  },
  {
   "cell_type": "code",
   "execution_count": 136,
   "metadata": {},
   "outputs": [],
   "source": [
    "(X_train,y_train),(X_test,y_test) = mnist.load_data()\n",
    "X_train = tf.cast(X_train/255.0,tf.float32)\n",
    "y_train = tf.one_hot(y_train,depth=10)#10分类问题\n",
    "X_test = tf.cast(X_test/255,tf.float32)\n",
    "y_test = tf.one_hot(y_test,depth=10)\n",
    "\n",
    "# 将数据X_train,X_test reshape一下，数据形状满足神经网络要求\n",
    "X_train = tf.reshape(X_train,shape = [-1,28,28,1])\n",
    "X_test = tf.reshape(X_test,shape = [-1,28,28,1])\n",
    "\n",
    "# X_train 60000个，重复了100次，每次取512\n",
    "data_train = tf.data.Dataset.from_tensor_slices((X_train,y_train)).repeat(100).shuffle(2000).batch(128).prefetch(1)\n",
    "# X_test 10000个，可以取5次，重复50次，250次\n",
    "data_test = tf.data.Dataset.from_tensor_slices((X_test,y_test)).repeat(50).shuffle(2000).batch(128).prefetch(1)"
   ]
  },
  {
   "cell_type": "markdown",
   "metadata": {},
   "source": [
    "### 声明模型、损失、准确率、优化算法Adam"
   ]
  },
  {
   "cell_type": "code",
   "execution_count": 137,
   "metadata": {},
   "outputs": [],
   "source": [
    "class Cnn(Model):\n",
    "    def __init__(self):\n",
    "        super(Cnn,self).__init__()\n",
    "#         第一层卷积网络\n",
    "        self.conv1 = layers.Conv2D(filters = 32,kernel_size=(3,3),padding='same',activation='relu')\n",
    "#      strides: Integer, tuple of 2 integers, or None.\n",
    "#     Strides values.\n",
    "#     If None, it will default to `pool_size`.\n",
    "        self.pool1 = layers.MaxPool2D(padding='same')\n",
    "    \n",
    "#         第二层卷积网络\n",
    "        self.conv2 = layers.Conv2D(filters=64,kernel_size=(3,3),padding='same',activation=tf.nn.relu)\n",
    "        self.pool2 = layers.MaxPool2D(padding='same')\n",
    "        \n",
    "#         第三层卷积网络\n",
    "        self.conv3 = layers.Conv2D(filters=64,kernel_size=(3,3),padding='same',activation=tf.nn.relu)\n",
    "        self.pool3 = layers.MaxPool2D(padding='same')\n",
    "        \n",
    "#         全连接层，self.pool3返回的数据是4维，降维\n",
    "        self.flattern = layers.Flatten() # reshape\n",
    "        self.fc = layers.Dense(1024,activation=tf.nn.relu)\n",
    "        \n",
    "#         dropout，防止过拟合，掩盖一些神经元，不让其工作，系数表少了\n",
    "#         普通算法，sklearn中通过L1、L2正则化，实现防止过拟合\n",
    "#          训练时，dropout，测试的时候，依然是完全的网络\n",
    "        self.dropout = layers.Dropout(rate = 0.5)\n",
    "#         输出层\n",
    "        self.out = layers.Dense(10)#Dense相当于，矩阵运算\n",
    "    def call(self,X,is_training = False):\n",
    "        X = self.conv1(X)\n",
    "        X = self.pool1(X)\n",
    "        X = self.conv2(X)\n",
    "        X = self.pool2(X)\n",
    "#         X = self.conv3(X)\n",
    "#         X = self.pool3(X)\n",
    "        X = self.flattern(X)#reshape\n",
    "        X = self.fc(X)\n",
    "#         X = self.dropout(X,training = is_training)\n",
    "        y_pred = self.out(X)#输出层，模型的结果，预测，此处，没有进行softmax。神经网络中称为：logits\n",
    "        if not is_training:# 测试\n",
    "            y_pred = tf.nn.softmax(y_pred)\n",
    "        return y_pred\n",
    "\n",
    "cnn = Cnn()\n",
    "\n",
    "#损失\n",
    "def cross_entropy(y_true,y_pred):\n",
    "    y_pred = tf.clip_by_value(y_pred,1e-9,1.0)\n",
    "#     logits 表示，模型的输出结果（没有进行softmax的结果）\n",
    "    loss = tf.nn.softmax_cross_entropy_with_logits(labels = y_true,logits=y_pred)\n",
    "    return loss\n",
    "\n",
    "# 准确率\n",
    "def accuracy(y_true,y_pred):\n",
    "    y_true = tf.argmax(y_true,axis = -1)\n",
    "    y_pred = tf.argmax(y_pred,axis = -1)\n",
    "    acc = tf.reduce_mean(tf.cast(tf.equal(y_true,y_pred),dtype=tf.float16))\n",
    "    return acc\n",
    "\n",
    "# 优化，Adam优化算法，是在SGD的基础上，进行的优化\n",
    "# Adam optimization is a stochastic gradient descent method that is based on\n",
    "# adaptive estimation of first-order and second-order moments.\n",
    "adam = tf.optimizers.Adam(learning_rate=0.0005)"
   ]
  },
  {
   "cell_type": "markdown",
   "metadata": {},
   "source": [
    "### 定义优化过程"
   ]
  },
  {
   "cell_type": "code",
   "execution_count": 138,
   "metadata": {},
   "outputs": [],
   "source": [
    "def run_optimizer(X_train,y_train):\n",
    "    with tf.GradientTape() as g:\n",
    "        y_pred = cnn(X_train,is_training = True)\n",
    "        loss = cross_entropy(y_train,y_pred)\n",
    "    gradients = g.gradient(loss,cnn.trainable_variables)\n",
    "    adam.apply_gradients(zip(gradients,cnn.trainable_variables))"
   ]
  },
  {
   "cell_type": "markdown",
   "metadata": {},
   "source": [
    "### for循环进行训练"
   ]
  },
  {
   "cell_type": "code",
   "execution_count": 139,
   "metadata": {},
   "outputs": [
    {
     "name": "stdout",
     "output_type": "stream",
     "text": [
      "执行次数：110。训练数据准确率：0.4766。测试数据准确率：0.4453\n",
      "执行次数：120。训练数据准确率：0.4766。测试数据准确率：0.5391\n",
      "执行次数：130。训练数据准确率：0.5312。测试数据准确率：0.5312\n",
      "执行次数：140。训练数据准确率：0.5781。测试数据准确率：0.5703\n",
      "执行次数：150。训练数据准确率：0.5312。测试数据准确率：0.5391\n",
      "执行次数：160。训练数据准确率：0.5859。测试数据准确率：0.5391\n",
      "执行次数：170。训练数据准确率：0.6094。测试数据准确率：0.5703\n",
      "执行次数：180。训练数据准确率：0.6172。测试数据准确率：0.5625\n",
      "执行次数：190。训练数据准确率：0.5469。测试数据准确率：0.6328\n",
      "执行次数：200。训练数据准确率：0.6562。测试数据准确率：0.5859\n"
     ]
    }
   ],
   "source": [
    "for i,(X_train,y_train) in enumerate(data_train.take(100),101):\n",
    "    run_optimizer(X_train,y_train)\n",
    "    if i %10 == 0:\n",
    "        for (X_test,y_test) in data_test.take(1):\n",
    "            y_pred = cnn(X_test,is_training = False)\n",
    "            acc = accuracy(y_test,y_pred)\n",
    "            y_pred2 = cnn(X_train,is_training = False)\n",
    "            acc2 = accuracy(y_train,y_pred2)\n",
    "            print('执行次数：%d。训练数据准确率：%0.4f。测试数据准确率：%0.4f'%(i,acc2,acc))"
   ]
  }
 ],
 "metadata": {
  "kernelspec": {
   "display_name": "Python 3",
   "language": "python",
   "name": "python3"
  },
  "language_info": {
   "codemirror_mode": {
    "name": "ipython",
    "version": 3
   },
   "file_extension": ".py",
   "mimetype": "text/x-python",
   "name": "python",
   "nbconvert_exporter": "python",
   "pygments_lexer": "ipython3",
   "version": "3.7.3"
  },
  "toc": {
   "base_numbering": 1,
   "nav_menu": {},
   "number_sections": true,
   "sideBar": true,
   "skip_h1_title": false,
   "title_cell": "Table of Contents",
   "title_sidebar": "Contents",
   "toc_cell": false,
   "toc_position": {},
   "toc_section_display": true,
   "toc_window_display": false
  }
 },
 "nbformat": 4,
 "nbformat_minor": 2
}
