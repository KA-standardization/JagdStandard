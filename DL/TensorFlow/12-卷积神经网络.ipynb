{
 "cells": [
  {
   "cell_type": "code",
   "execution_count": 18,
   "metadata": {
    "ExecuteTime": {
     "end_time": "2020-04-25T11:48:21.607025Z",
     "start_time": "2020-04-25T11:48:21.591508Z"
    }
   },
   "outputs": [],
   "source": [
    "import warnings\n",
    "warnings.filterwarnings('ignore')\n",
    "import numpy as np\n",
    "import matplotlib.pyplot as plt\n",
    "from tensorflow.keras.datasets import mnist\n",
    "import tensorflow as tf"
   ]
  },
  {
   "cell_type": "code",
   "execution_count": 19,
   "metadata": {
    "ExecuteTime": {
     "end_time": "2020-04-25T11:48:22.390884Z",
     "start_time": "2020-04-25T11:48:21.608079Z"
    }
   },
   "outputs": [],
   "source": [
    "(X_train,y_train),(X_test,y_test) = mnist.load_data()\n",
    "X_train = tf.cast(X_train/255.0,tf.float32)\n",
    "y_train = tf.one_hot(y_train,depth=10)#10分类问题\n",
    "X_test = tf.cast(X_test/255,tf.float32)\n",
    "y_test = tf.one_hot(y_test,depth=10)\n",
    "# X_train 60000个，重复了100次，每次取512\n",
    "data_train = tf.data.Dataset.from_tensor_slices((X_train,y_train)).repeat(100).shuffle(2000).batch(512).prefetch(1)\n",
    "# X_test 10000个，可以取5次，重复50次，250次\n",
    "data_test = tf.data.Dataset.from_tensor_slices((X_test,y_test)).repeat(50).shuffle(2000).batch(2000).prefetch(1)"
   ]
  },
  {
   "cell_type": "markdown",
   "metadata": {},
   "source": [
    "![](http://personal.ie.cuhk.edu.hk/~ccloy/project_target_code/images/fig3.png)"
   ]
  },
  {
   "cell_type": "markdown",
   "metadata": {},
   "source": [
    "### 声明变量"
   ]
  },
  {
   "cell_type": "code",
   "execution_count": 20,
   "metadata": {
    "ExecuteTime": {
     "end_time": "2020-04-25T11:48:22.422624Z",
     "start_time": "2020-04-25T11:48:22.392699Z"
    }
   },
   "outputs": [],
   "source": [
    "# w系数，卷积核，输入数据是28,28，颜色通道是1，黑白图片\n",
    "w = {'kernel1':tf.Variable(tf.random.normal(shape = [3,3,1,64],stddev=0.01)),\n",
    "     'kernel2':tf.Variable(tf.random.normal(shape = [3,3,64,128],stddev=0.01)),#第二层卷积核，以第一层卷积核的结果作为输入\n",
    "     'kernel3':tf.Variable(tf.random.normal(shape = [3,3,128,256],stddev = 0.01)),\n",
    "     'fc':tf.Variable(tf.random.normal(shape = [4*4*256,1024],stddev = 0.01)),\n",
    "     'out':tf.Variable(tf.random.normal(shape = [1024,10],stddev = 0.01))}\n",
    "\n",
    "b = {'bias1':tf.Variable(tf.random.normal(shape = [64],stddev=0.01)),\n",
    "     'bias2':tf.Variable(tf.random.normal(shape = [128],stddev=0.01)),\n",
    "     'bias3':tf.Variable(tf.random.normal(shape = [256],stddev=0.01)),\n",
    "     'fc':tf.Variable(tf.random.normal(shape = [1024],stddev=0.01)),\n",
    "     'out':tf.Variable(tf.random.normal(shape = [10],stddev = 0.01))}"
   ]
  },
  {
   "cell_type": "code",
   "execution_count": 21,
   "metadata": {
    "ExecuteTime": {
     "end_time": "2020-04-25T11:48:22.446161Z",
     "start_time": "2020-04-25T11:48:22.423938Z"
    }
   },
   "outputs": [
    {
     "data": {
      "text/plain": [
       "4573760"
      ]
     },
     "execution_count": 21,
     "metadata": {},
     "output_type": "execute_result"
    }
   ],
   "source": [
    "# 457万系数，变量！\n",
    "3*3*64 + 3*3*64*128 +3*3*128*256 + 4*4*256*1024 + 10240"
   ]
  },
  {
   "cell_type": "markdown",
   "metadata": {},
   "source": [
    "### 构造神经网络的模型、损失、准确率、优化算法"
   ]
  },
  {
   "cell_type": "code",
   "execution_count": 22,
   "metadata": {
    "ExecuteTime": {
     "end_time": "2020-04-25T11:48:22.462372Z",
     "start_time": "2020-04-25T11:48:22.447490Z"
    }
   },
   "outputs": [],
   "source": [
    "def cnn(X):\n",
    "    X = tf.reshape(X,shape = [-1,28,28,1])\n",
    "#     第一层卷积运算\n",
    "    conv1 = tf.nn.conv2d(input=X,filters=w['kernel1'],strides=[1,1,1,1],padding='SAME') + b['bias1']#卷积\n",
    "    conv1 = tf.nn.max_pool(conv1,ksize = [1,2,2,1],strides=[1,2,2,1],padding='SAME')#池化\n",
    "    conv1 = tf.nn.relu(conv1)#激活 conv1.shape = [-1,14,14,64]\n",
    "    \n",
    "#     第二层卷积运算，计算的是，第一层，运算的结果\n",
    "    conv2 = tf.nn.conv2d(input=conv1,filters=w['kernel2'],strides=[1,1,1,1],padding='SAME') + b['bias2']#卷积\n",
    "    conv2 = tf.nn.max_pool(conv2,ksize = [1,2,2,1],strides=[1,2,2,1],padding='SAME')#池化\n",
    "    conv2 = tf.nn.relu(conv2)#激活 conv1.shape = [-1,7,7,128]\n",
    "    \n",
    "#     第三层卷积运算，计算的是，第二层，运算的结果\n",
    "    conv3 = tf.nn.conv2d(input=conv2,filters=w['kernel3'],strides=[1,1,1,1],padding='SAME') + b['bias3']#卷积\n",
    "    conv3 = tf.nn.max_pool(conv3,ksize = [1,2,2,1],strides=[1,2,2,1],padding='SAME')#池化\n",
    "    conv3 = tf.nn.relu(conv3)#激活 conv1.shape = [-1,4,4,256] 数据形状是4维\n",
    "    \n",
    "#     全连接层，矩阵操作\n",
    "    fc = tf.reshape(conv3,shape = [-1,4*4*256])\n",
    "    fc = tf.matmul(fc,w['fc']) + b['fc'] #昨天所讲的深度神经网络呢\n",
    "    fc = tf.nn.relu(fc)# 输出的形状 [-1,1024]\n",
    "    \n",
    "#     输出层，真实值，进行对比\n",
    "    y_pred = tf.matmul(fc,w['out']) + b['out']\n",
    "    y_pred = tf.nn.softmax(y_pred)#转变成概率\n",
    "    return y_pred # 输出的形状[-1,10]\n",
    "# 构建损失，交叉熵\n",
    "def cross_entropy(y_true,y_pred):\n",
    "    y_pred = tf.clip_by_value(y_pred,1e-9,1.0)\n",
    "    loss = tf.reduce_mean(tf.reduce_sum(tf.multiply(y_true,tf.math.log(1/y_pred)),axis = -1))\n",
    "    return loss\n",
    "\n",
    "# 构建计算准确率方法\n",
    "def accuracy(y_true,y_pred):\n",
    "    y_true = tf.argmax(y_true,axis = -1)\n",
    "    y_pred = tf.argmax(y_pred,axis = -1)\n",
    "    acc = tf.reduce_mean(tf.cast(tf.equal(y_true,y_pred),dtype=tf.float16)).numpy()\n",
    "    return acc\n",
    "\n",
    "# 声明优化算法\n",
    "sgd = tf.optimizers.Adam(0.001)"
   ]
  },
  {
   "cell_type": "markdown",
   "metadata": {},
   "source": [
    "### 定义优化方法"
   ]
  },
  {
   "cell_type": "code",
   "execution_count": 23,
   "metadata": {
    "ExecuteTime": {
     "end_time": "2020-04-25T11:48:22.487170Z",
     "start_time": "2020-04-25T11:48:22.462751Z"
    }
   },
   "outputs": [],
   "source": [
    "def run_optimizer(X_train,y_train):\n",
    "    with tf.GradientTape() as g:\n",
    "        y_pred = cnn(X_train)\n",
    "        loss = cross_entropy(y_train,y_pred)\n",
    "    gradients = g.gradient(loss,list(w.values()) + list(b.values()))# 计算梯度，偏导数\n",
    "    sgd.apply_gradients(zip(gradients,list(w.values()) + list(b.values())))"
   ]
  },
  {
   "cell_type": "markdown",
   "metadata": {},
   "source": [
    "### for循环进行训练"
   ]
  },
  {
   "cell_type": "code",
   "execution_count": 24,
   "metadata": {
    "ExecuteTime": {
     "end_time": "2020-04-25T11:48:34.261617Z",
     "start_time": "2020-04-25T11:48:22.487170Z"
    }
   },
   "outputs": [
    {
     "name": "stdout",
     "output_type": "stream",
     "text": [
      "执行次数是：10。准确率是：0.1930\n",
      "执行次数是：20。准确率是：0.5752\n",
      "执行次数是：30。准确率是：0.6733\n",
      "执行次数是：40。准确率是：0.8232\n",
      "执行次数是：50。准确率是：0.8730\n",
      "执行次数是：60。准确率是：0.8828\n",
      "执行次数是：70。准确率是：0.9033\n",
      "执行次数是：80。准确率是：0.9224\n",
      "执行次数是：90。准确率是：0.9277\n",
      "执行次数是：100。准确率是：0.9321\n"
     ]
    }
   ],
   "source": [
    "for i,(X_train,y_train) in enumerate(data_train.take(100),1):\n",
    "    run_optimizer(X_train,y_train)\n",
    "    if i %10 == 0:\n",
    "        for (X_test,y_test) in data_test.take(1):\n",
    "            y_pred = cnn(X_test)\n",
    "            acc = accuracy(y_test,y_pred)\n",
    "            print('执行次数是：%d。准确率是：%0.4f'%(i,acc))"
   ]
  },
  {
   "cell_type": "code",
   "execution_count": 25,
   "metadata": {
    "ExecuteTime": {
     "end_time": "2020-04-25T11:48:46.038877Z",
     "start_time": "2020-04-25T11:48:34.263905Z"
    }
   },
   "outputs": [
    {
     "name": "stdout",
     "output_type": "stream",
     "text": [
      "执行次数是：110。准确率是：0.9316\n",
      "执行次数是：120。准确率是：0.9390\n",
      "执行次数是：130。准确率是：0.9546\n",
      "执行次数是：140。准确率是：0.9463\n",
      "执行次数是：150。准确率是：0.9526\n",
      "执行次数是：160。准确率是：0.9565\n",
      "执行次数是：170。准确率是：0.9585\n",
      "执行次数是：180。准确率是：0.9624\n",
      "执行次数是：190。准确率是：0.9634\n",
      "执行次数是：200。准确率是：0.9712\n"
     ]
    }
   ],
   "source": [
    "for i,(X_train,y_train) in enumerate(data_train.take(100),101):\n",
    "    run_optimizer(X_train,y_train)\n",
    "    if i %10 == 0:\n",
    "        for (X_test,y_test) in data_test.take(1):\n",
    "            y_pred = cnn(X_test)\n",
    "            acc = accuracy(y_test,y_pred)\n",
    "            print('执行次数是：%d。准确率是：%0.4f'%(i,acc))"
   ]
  }
 ],
 "metadata": {
  "kernelspec": {
   "display_name": "Python 3",
   "language": "python",
   "name": "python3"
  },
  "language_info": {
   "codemirror_mode": {
    "name": "ipython",
    "version": 3
   },
   "file_extension": ".py",
   "mimetype": "text/x-python",
   "name": "python",
   "nbconvert_exporter": "python",
   "pygments_lexer": "ipython3",
   "version": "3.7.3"
  },
  "toc": {
   "base_numbering": 1,
   "nav_menu": {},
   "number_sections": true,
   "sideBar": true,
   "skip_h1_title": false,
   "title_cell": "Table of Contents",
   "title_sidebar": "Contents",
   "toc_cell": false,
   "toc_position": {},
   "toc_section_display": true,
   "toc_window_display": false
  }
 },
 "nbformat": 4,
 "nbformat_minor": 2
}
