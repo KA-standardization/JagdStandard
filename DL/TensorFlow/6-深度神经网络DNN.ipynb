{
 "cells": [
  {
   "cell_type": "code",
   "execution_count": 1,
   "metadata": {
    "ExecuteTime": {
     "end_time": "2020-04-25T08:56:43.479370Z",
     "start_time": "2020-04-25T08:56:37.990897Z"
    }
   },
   "outputs": [],
   "source": [
    "import warnings\n",
    "warnings.filterwarnings('ignore')\n",
    "import numpy as np\n",
    "\n",
    "import tensorflow as tf\n",
    "\n",
    "from tensorflow.keras.datasets import mnist"
   ]
  },
  {
   "cell_type": "code",
   "execution_count": 6,
   "metadata": {
    "ExecuteTime": {
     "end_time": "2020-04-25T08:58:00.577160Z",
     "start_time": "2020-04-25T08:58:00.572147Z"
    }
   },
   "outputs": [
    {
     "data": {
      "text/plain": [
       "array([[ 0.92389455, -0.29853302, -1.15131816, -0.19887781],\n",
       "       [ 1.30652212,  0.25715754,  0.39607276,  0.11390258]])"
      ]
     },
     "execution_count": 6,
     "metadata": {},
     "output_type": "execute_result"
    }
   ],
   "source": [
    "x=np.random.randn(2,4)\n",
    "x"
   ]
  },
  {
   "cell_type": "code",
   "execution_count": 8,
   "metadata": {
    "ExecuteTime": {
     "end_time": "2020-04-25T08:58:32.108319Z",
     "start_time": "2020-04-25T08:58:32.102867Z"
    }
   },
   "outputs": [
    {
     "data": {
      "text/plain": [
       "array([-0.72483444,  2.073655  ])"
      ]
     },
     "execution_count": 8,
     "metadata": {},
     "output_type": "execute_result"
    }
   ],
   "source": [
    "x.sum(axis=1)"
   ]
  },
  {
   "cell_type": "markdown",
   "metadata": {},
   "source": [
    "### 加载数据，处理数据"
   ]
  },
  {
   "cell_type": "code",
   "execution_count": 101,
   "metadata": {},
   "outputs": [],
   "source": [
    "(X_train,y_train),(X_test,y_test) = mnist.load_data()\n",
    "\n",
    "# 归一化\n",
    "X_train = (X_train/255.0).astype(np.float32)\n",
    "X_test = (X_test/255.0).astype(np.float32)\n",
    "\n",
    "# reshape,二维的数据，矩阵运算了\n",
    "X_train = X_train.reshape(-1,784)\n",
    "X_test = X_test.reshape(-1,784)\n",
    "\n",
    "# one-hot 概率表示类别\n",
    "y_train = tf.one_hot(y_train,depth=10)\n",
    "y_test = tf.one_hot(y_test,depth=10)\n",
    "\n",
    "# prefetch fetch取出来的意思，预先取出来，更快，加快计算速度\n",
    "# 训练数据\n",
    "data_train = tf.data.Dataset.from_tensor_slices((X_train,y_train)).repeat(50).shuffle(1000).batch(512).prefetch(1)\n",
    "# 测试数据，验证模型好坏！每训练50次，取出一批测试数据，进行测试准确率\n",
    "data_test = tf.data.Dataset.from_tensor_slices((X_test,y_test)).repeat(10).shuffle(1000).batch(512).prefetch(1)"
   ]
  },
  {
   "cell_type": "markdown",
   "metadata": {},
   "source": [
    "### 构建模型"
   ]
  },
  {
   "cell_type": "code",
   "execution_count": 102,
   "metadata": {},
   "outputs": [],
   "source": [
    "# 系数，3层隐含层\n",
    "# 数据 X_train 样本，特征 784\n",
    "# 第一层隐含层，多少个神经元：256个神经元，相当于线性方程，矩阵运算批量的计算\n",
    "w1 = tf.Variable(tf.random.normal(shape = [784,256],stddev = 0.01))\n",
    "b1 = tf.Variable(tf.random.normal(shape = [256],stddev = 0.01))\n",
    "\n",
    "# 第二层隐含层，给256个神经元\n",
    "w2 = tf.Variable(tf.random.normal(shape = [256,256],stddev = 0.01))\n",
    "b2 = tf.Variable(tf.random.normal(shape = [256],stddev = 0.01))\n",
    "\n",
    "#第三层，使用第二层数据的输出为数据\n",
    "# 第三层给，512个神经元\n",
    "w3 = tf.Variable(tf.random.normal(shape = [256,512],stddev = 0.01))\n",
    "b3 = tf.Variable(tf.random.normal(shape = [512],stddev = 0.01))\n",
    "\n",
    "# 输出层，输出几个类别，10分类问题，确定了，输出的类别是10个\n",
    "\n",
    "out_w = tf.Variable(tf.random.normal(shape = [512,10],stddev = 0.01))\n",
    "out_b = tf.Variable(tf.random.normal(shape = [10],stddev = 0.01))\n",
    "\n",
    "def dnn(X):#深度神经网络\n",
    "#     第一层的连接：矩阵运算\n",
    "    d1 = tf.matmul(X,w1) + b1\n",
    "    d1 = tf.nn.relu(d1) # 激活函数\n",
    "    \n",
    "#     第二层的连接，矩阵运算\n",
    "    d2 = tf.nn.relu(tf.matmul(d1,w2) + b2)\n",
    "    \n",
    "#     第三层的连接，矩阵预算\n",
    "    d3 = tf.nn.relu(tf.matmul(d2,w3) + b3)\n",
    "    \n",
    "#     输出层连接，矩阵运算，softmax概率问题\n",
    "    y_pred = tf.nn.softmax(tf.matmul(d3,out_w) + out_b)\n",
    "    return y_pred\n",
    "\n",
    "# 损失函数，样本平均cross_entropy交叉熵\n",
    "def cross_entropy(y_true,y_pred):\n",
    "    y_pred = tf.clip_by_value(y_pred,1e-9,1.0)\n",
    "    loss = tf.reduce_mean(tf.reduce_sum(y_true*tf.math.log(1/y_pred),axis = -1))#数据是二维的\n",
    "    return loss\n",
    "\n",
    "# 计算准确率\n",
    "def accuracy(y_pred,y_true):#y_和y_true,都是tensor\n",
    "    y_pred = y_pred.numpy().argmax(axis = -1)\n",
    "    y_true = y_true.numpy().argmax(axis = -1)\n",
    "    acc = (y_pred == y_true).mean()\n",
    "    return acc #返回准确率\n",
    "# 优化算法，梯度下降\n",
    "# 学习率，太小，学的太慢！\n",
    "sgd = tf.optimizers.SGD(learning_rate=0.2)"
   ]
  },
  {
   "cell_type": "markdown",
   "metadata": {},
   "source": [
    "### 定义运行方法"
   ]
  },
  {
   "cell_type": "code",
   "execution_count": 103,
   "metadata": {},
   "outputs": [],
   "source": [
    "def run_optimizer(X_train,y_train):\n",
    "    with tf.GradientTape() as g:\n",
    "        y_pred = dnn(X_train)\n",
    "        loss = cross_entropy(y_train,y_pred)\n",
    "    gradients = g.gradient(loss,[w1,b1,w2,b2,w3,b3,out_w,out_b])\n",
    "    sgd.apply_gradients(zip(gradients,[w1,b1,w2,b2,w3,b3,out_w,out_b]))"
   ]
  },
  {
   "cell_type": "markdown",
   "metadata": {},
   "source": [
    "### for循环运行代码"
   ]
  },
  {
   "cell_type": "code",
   "execution_count": 104,
   "metadata": {
    "collapsed": true
   },
   "outputs": [
    {
     "name": "stdout",
     "output_type": "stream",
     "text": [
      "执行次数：10。准确率是：0.1348\n",
      "执行次数：20。准确率是：0.1191\n",
      "执行次数：30。准确率是：0.1133\n",
      "执行次数：40。准确率是：0.1270\n",
      "执行次数：50。准确率是：0.1152\n",
      "执行次数：60。准确率是：0.1270\n",
      "执行次数：70。准确率是：0.1016\n",
      "执行次数：80。准确率是：0.1328\n",
      "执行次数：90。准确率是：0.1211\n",
      "执行次数：100。准确率是：0.1191\n",
      "执行次数：110。准确率是：0.1406\n",
      "执行次数：120。准确率是：0.1289\n",
      "执行次数：130。准确率是：0.1309\n",
      "执行次数：140。准确率是：0.1348\n",
      "执行次数：150。准确率是：0.1367\n",
      "执行次数：160。准确率是：0.1309\n",
      "执行次数：170。准确率是：0.1191\n",
      "执行次数：180。准确率是：0.1113\n",
      "执行次数：190。准确率是：0.1250\n",
      "执行次数：200。准确率是：0.1191\n",
      "执行次数：210。准确率是：0.1309\n",
      "执行次数：220。准确率是：0.1348\n",
      "执行次数：230。准确率是：0.1191\n",
      "执行次数：240。准确率是：0.1074\n",
      "执行次数：250。准确率是：0.1035\n",
      "执行次数：260。准确率是：0.1328\n",
      "执行次数：270。准确率是：0.1250\n",
      "执行次数：280。准确率是：0.1035\n",
      "执行次数：290。准确率是：0.1348\n",
      "执行次数：300。准确率是：0.1211\n",
      "执行次数：310。准确率是：0.1367\n",
      "执行次数：320。准确率是：0.1426\n",
      "执行次数：330。准确率是：0.1309\n",
      "执行次数：340。准确率是：0.1426\n",
      "执行次数：350。准确率是：0.1973\n",
      "执行次数：360。准确率是：0.2012\n",
      "执行次数：370。准确率是：0.2129\n",
      "执行次数：380。准确率是：0.2285\n",
      "执行次数：390。准确率是：0.2461\n",
      "执行次数：400。准确率是：0.3496\n",
      "执行次数：410。准确率是：0.4570\n",
      "执行次数：420。准确率是：0.3867\n",
      "执行次数：430。准确率是：0.4336\n",
      "执行次数：440。准确率是：0.5566\n",
      "执行次数：450。准确率是：0.5293\n",
      "执行次数：460。准确率是：0.5938\n",
      "执行次数：470。准确率是：0.5664\n",
      "执行次数：480。准确率是：0.6406\n",
      "执行次数：490。准确率是：0.5977\n",
      "执行次数：500。准确率是：0.5488\n",
      "执行次数：510。准确率是：0.6602\n",
      "执行次数：520。准确率是：0.5996\n",
      "执行次数：530。准确率是：0.7031\n",
      "执行次数：540。准确率是：0.7227\n",
      "执行次数：550。准确率是：0.7520\n",
      "执行次数：560。准确率是：0.7246\n",
      "执行次数：570。准确率是：0.8223\n",
      "执行次数：580。准确率是：0.8047\n",
      "执行次数：590。准确率是：0.8301\n",
      "执行次数：600。准确率是：0.8105\n",
      "执行次数：610。准确率是：0.7988\n",
      "执行次数：620。准确率是：0.8633\n",
      "执行次数：630。准确率是：0.8047\n",
      "执行次数：640。准确率是：0.8594\n",
      "执行次数：650。准确率是：0.8516\n",
      "执行次数：660。准确率是：0.8594\n",
      "执行次数：670。准确率是：0.8887\n",
      "执行次数：680。准确率是：0.8594\n",
      "执行次数：690。准确率是：0.8555\n",
      "执行次数：700。准确率是：0.8848\n",
      "执行次数：710。准确率是：0.8789\n",
      "执行次数：720。准确率是：0.8574\n",
      "执行次数：730。准确率是：0.8848\n",
      "执行次数：740。准确率是：0.9023\n",
      "执行次数：750。准确率是：0.8711\n",
      "执行次数：760。准确率是：0.8945\n",
      "执行次数：770。准确率是：0.8242\n",
      "执行次数：780。准确率是：0.8887\n",
      "执行次数：790。准确率是：0.8906\n",
      "执行次数：800。准确率是：0.8945\n",
      "执行次数：810。准确率是：0.9023\n",
      "执行次数：820。准确率是：0.8984\n",
      "执行次数：830。准确率是：0.9102\n",
      "执行次数：840。准确率是：0.9160\n",
      "执行次数：850。准确率是：0.8906\n",
      "执行次数：860。准确率是：0.9141\n",
      "执行次数：870。准确率是：0.9277\n",
      "执行次数：880。准确率是：0.9023\n",
      "执行次数：890。准确率是：0.9141\n",
      "执行次数：900。准确率是：0.9180\n",
      "执行次数：910。准确率是：0.9258\n",
      "执行次数：920。准确率是：0.9238\n",
      "执行次数：930。准确率是：0.9277\n",
      "执行次数：940。准确率是：0.9297\n",
      "执行次数：950。准确率是：0.9336\n",
      "执行次数：960。准确率是：0.9199\n",
      "执行次数：970。准确率是：0.9277\n",
      "执行次数：980。准确率是：0.9336\n",
      "执行次数：990。准确率是：0.9336\n",
      "执行次数：1000。准确率是：0.9199\n"
     ]
    }
   ],
   "source": [
    "for i,(X_train,y_train) in enumerate(data_train.take(1000),1):\n",
    "    run_optimizer(X_train,y_train)\n",
    "    if i%10 == 0:\n",
    "        #计算准确率\n",
    "        for (X_test,y_test) in data_test.take(1):\n",
    "            y_pred = dnn(X_test)\n",
    "            acc = accuracy(y_pred,y_test)\n",
    "            print('执行次数：%d。准确率是：%0.4f'%(i,acc))"
   ]
  }
 ],
 "metadata": {
  "kernelspec": {
   "display_name": "Python 3",
   "language": "python",
   "name": "python3"
  },
  "language_info": {
   "codemirror_mode": {
    "name": "ipython",
    "version": 3
   },
   "file_extension": ".py",
   "mimetype": "text/x-python",
   "name": "python",
   "nbconvert_exporter": "python",
   "pygments_lexer": "ipython3",
   "version": "3.7.3"
  },
  "toc": {
   "base_numbering": 1,
   "nav_menu": {},
   "number_sections": true,
   "sideBar": true,
   "skip_h1_title": false,
   "title_cell": "Table of Contents",
   "title_sidebar": "Contents",
   "toc_cell": false,
   "toc_position": {},
   "toc_section_display": true,
   "toc_window_display": false
  }
 },
 "nbformat": 4,
 "nbformat_minor": 2
}
