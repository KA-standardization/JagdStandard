{
 "cells": [
  {
   "cell_type": "markdown",
   "metadata": {},
   "source": [
    "### 基于多层感知器的二分类"
   ]
  },
  {
   "cell_type": "markdown",
   "metadata": {},
   "source": [
    "### DNN"
   ]
  },
  {
   "cell_type": "markdown",
   "metadata": {},
   "source": [
    "![](./dnn.png)"
   ]
  },
  {
   "cell_type": "code",
   "execution_count": 12,
   "metadata": {},
   "outputs": [],
   "source": [
    "import numpy as np\n",
    "from keras.models import Sequential# 序贯模型\n",
    "from keras.layers import Dense, Dropout # Dense矩阵运算；Dropout掩盖一些神经元，防止过拟合\n",
    "import keras"
   ]
  },
  {
   "cell_type": "code",
   "execution_count": 2,
   "metadata": {},
   "outputs": [],
   "source": [
    "# 生成虚拟数据\n",
    "x_train = np.random.random((1000, 20))\n",
    "y_train = np.random.randint(2, size=(1000, 1))\n",
    "x_test = np.random.random((100, 20))\n",
    "y_test = np.random.randint(2, size=(100, 1))"
   ]
  },
  {
   "cell_type": "code",
   "execution_count": 3,
   "metadata": {},
   "outputs": [],
   "source": [
    "# 构建模型\n",
    "model = Sequential()#keras中序贯模型\n",
    "model.add(Dense(64, input_dim=20, activation='relu'))#隐含层一\n",
    "model.add(Dropout(0.5))\n",
    "model.add(Dense(64, activation='relu'))#隐含层二\n",
    "model.add(Dropout(0.5))\n",
    "model.add(Dense(1, activation='sigmoid'))#输出层，二分类，sigmoid；多分类，softmax"
   ]
  },
  {
   "cell_type": "code",
   "execution_count": 4,
   "metadata": {},
   "outputs": [],
   "source": [
    "# 配置模型，告诉模型，损失是什么，优化是什么，评价标准是什么\n",
    "model.compile(loss='binary_crossentropy',#binary 二进制二分类\n",
    "              optimizer='rmsprop',# rmsprop 梯度下降，改进了SGD\n",
    "              metrics=['accuracy'])# 准确率"
   ]
  },
  {
   "cell_type": "code",
   "execution_count": 5,
   "metadata": {
    "collapsed": true
   },
   "outputs": [
    {
     "name": "stdout",
     "output_type": "stream",
     "text": [
      "Epoch 1/20\n",
      "1000/1000 [==============================] - 0s 355us/step - loss: 0.7169 - accuracy: 0.4810\n",
      "Epoch 2/20\n",
      "1000/1000 [==============================] - 0s 18us/step - loss: 0.7092 - accuracy: 0.4940\n",
      "Epoch 3/20\n",
      "1000/1000 [==============================] - 0s 29us/step - loss: 0.7031 - accuracy: 0.4840\n",
      "Epoch 4/20\n",
      "1000/1000 [==============================] - 0s 25us/step - loss: 0.7024 - accuracy: 0.4990\n",
      "Epoch 5/20\n",
      "1000/1000 [==============================] - 0s 23us/step - loss: 0.6981 - accuracy: 0.5250\n",
      "Epoch 6/20\n",
      "1000/1000 [==============================] - 0s 30us/step - loss: 0.6983 - accuracy: 0.4980\n",
      "Epoch 7/20\n",
      "1000/1000 [==============================] - 0s 28us/step - loss: 0.6920 - accuracy: 0.5410\n",
      "Epoch 8/20\n",
      "1000/1000 [==============================] - 0s 24us/step - loss: 0.6892 - accuracy: 0.5410\n",
      "Epoch 9/20\n",
      "1000/1000 [==============================] - 0s 29us/step - loss: 0.6987 - accuracy: 0.5040\n",
      "Epoch 10/20\n",
      "1000/1000 [==============================] - 0s 25us/step - loss: 0.6961 - accuracy: 0.5120\n",
      "Epoch 11/20\n",
      "1000/1000 [==============================] - 0s 30us/step - loss: 0.6947 - accuracy: 0.5150\n",
      "Epoch 12/20\n",
      "1000/1000 [==============================] - 0s 30us/step - loss: 0.6923 - accuracy: 0.5210\n",
      "Epoch 13/20\n",
      "1000/1000 [==============================] - 0s 24us/step - loss: 0.6922 - accuracy: 0.5290\n",
      "Epoch 14/20\n",
      "1000/1000 [==============================] - 0s 29us/step - loss: 0.6923 - accuracy: 0.5530\n",
      "Epoch 15/20\n",
      "1000/1000 [==============================] - 0s 35us/step - loss: 0.6961 - accuracy: 0.5070\n",
      "Epoch 16/20\n",
      "1000/1000 [==============================] - 0s 20us/step - loss: 0.6946 - accuracy: 0.5100\n",
      "Epoch 17/20\n",
      "1000/1000 [==============================] - 0s 30us/step - loss: 0.6867 - accuracy: 0.5540\n",
      "Epoch 18/20\n",
      "1000/1000 [==============================] - 0s 24us/step - loss: 0.6903 - accuracy: 0.5260\n",
      "Epoch 19/20\n",
      "1000/1000 [==============================] - 0s 27us/step - loss: 0.6927 - accuracy: 0.5230\n",
      "Epoch 20/20\n",
      "1000/1000 [==============================] - 0s 33us/step - loss: 0.6875 - accuracy: 0.5560\n"
     ]
    },
    {
     "data": {
      "text/plain": [
       "<keras.callbacks.callbacks.History at 0x1a2c9302c88>"
      ]
     },
     "execution_count": 5,
     "metadata": {},
     "output_type": "execute_result"
    }
   ],
   "source": [
    "# 训练\n",
    "model.fit(x_train, y_train,\n",
    "          epochs=20,\n",
    "          batch_size=128)"
   ]
  },
  {
   "cell_type": "code",
   "execution_count": 6,
   "metadata": {},
   "outputs": [
    {
     "name": "stdout",
     "output_type": "stream",
     "text": [
      "\r",
      "100/100 [==============================] - 0s 379us/step\n"
     ]
    },
    {
     "data": {
      "text/plain": [
       "[0.6818742156028748, 0.550000011920929]"
      ]
     },
     "execution_count": 6,
     "metadata": {},
     "output_type": "execute_result"
    }
   ],
   "source": [
    "# 验证测试\n",
    "# 第一个值损失，交叉熵，第二个值是准确率\n",
    "score = model.evaluate(x_test, y_test, batch_size=128)\n",
    "score"
   ]
  },
  {
   "cell_type": "code",
   "execution_count": 20,
   "metadata": {},
   "outputs": [
    {
     "data": {
      "text/plain": [
       "0.68187433"
      ]
     },
     "execution_count": 20,
     "metadata": {},
     "output_type": "execute_result"
    }
   ],
   "source": [
    "# 交叉熵计算的结果\n",
    "y_prob = keras.utils.to_categorical(y_test,num_classes=2)\n",
    "proba_ = model.predict(x_test)\n",
    "proba_ = np.concatenate([1-proba_,proba_],axis = -1)\n",
    "(y_prob*np.log(1/proba_)).sum(axis = -1).mean()"
   ]
  },
  {
   "cell_type": "code",
   "execution_count": 22,
   "metadata": {},
   "outputs": [
    {
     "data": {
      "text/plain": [
       "0.55"
      ]
     },
     "execution_count": 22,
     "metadata": {},
     "output_type": "execute_result"
    }
   ],
   "source": [
    "# 计算准确率\n",
    "y_ = model.predict_classes(x_test)\n",
    "(y_ == y_test).mean()"
   ]
  },
  {
   "cell_type": "markdown",
   "metadata": {},
   "source": [
    "### 获取参数"
   ]
  },
  {
   "cell_type": "code",
   "execution_count": 24,
   "metadata": {},
   "outputs": [
    {
     "name": "stdout",
     "output_type": "stream",
     "text": [
      "(20, 64)\n",
      "(64,)\n",
      "(64, 64)\n",
      "(64,)\n",
      "(64, 1)\n",
      "(1,)\n"
     ]
    }
   ],
   "source": [
    "for v in model.trainable_weights:\n",
    "    print(v.shape)"
   ]
  }
 ],
 "metadata": {
  "kernelspec": {
   "display_name": "Python 3",
   "language": "python",
   "name": "python3"
  },
  "language_info": {
   "codemirror_mode": {
    "name": "ipython",
    "version": 3
   },
   "file_extension": ".py",
   "mimetype": "text/x-python",
   "name": "python",
   "nbconvert_exporter": "python",
   "pygments_lexer": "ipython3",
   "version": "3.7.3"
  },
  "toc": {
   "base_numbering": 1,
   "nav_menu": {},
   "number_sections": true,
   "sideBar": true,
   "skip_h1_title": false,
   "title_cell": "Table of Contents",
   "title_sidebar": "Contents",
   "toc_cell": false,
   "toc_position": {},
   "toc_section_display": true,
   "toc_window_display": false
  }
 },
 "nbformat": 4,
 "nbformat_minor": 2
}
