{
 "cells": [
  {
   "cell_type": "markdown",
   "metadata": {},
   "source": [
    "### 导包、声明数据"
   ]
  },
  {
   "cell_type": "code",
   "execution_count": 2,
   "metadata": {},
   "outputs": [],
   "source": [
    "import numpy as np\n",
    "import tensorflow as tf\n",
    "import matplotlib.pyplot as plt\n",
    "# https://tensorflow.google.cn/install"
   ]
  },
  {
   "cell_type": "markdown",
   "source": [],
   "metadata": {
    "collapsed": false
   }
  },
  {
   "cell_type": "code",
   "execution_count": 4,
   "metadata": {
    "collapsed": true
   },
   "outputs": [
    {
     "data": {
      "text/plain": "<matplotlib.collections.PathCollection at 0x1ccf47228c0>"
     },
     "execution_count": 4,
     "metadata": {},
     "output_type": "execute_result"
    },
    {
     "data": {
      "text/plain": "<Figure size 432x288 with 1 Axes>",
      "image/png": "[encoded data removed]"
     },
     "metadata": {
      "needs_background": "light"
     },
     "output_type": "display_data"
    }
   ],
   "source": [
    "X = np.linspace(2,14,40)\n",
    "w = np.random.randint(1,10,size = 1)[0]\n",
    "b = np.random.randint(-5,5,size = 1)[0]\n",
    "y = X*w + b + np.random.randn(40)*2\n",
    "plt.scatter(X,y)"
   ]
  },
  {
   "cell_type": "code",
   "execution_count": 280,
   "metadata": {},
   "outputs": [],
   "source": [
    "epoch = 601 #循环次数\n",
    "learning_rate = 0.01#学习率，步幅\n",
    "display_num = 10#每运算10次，打印输出一下"
   ]
  },
  {
   "cell_type": "markdown",
   "metadata": {},
   "source": [
    "$$(X^TX)^{-1}X^Ty$$"
   ]
  },
  {
   "cell_type": "markdown",
   "metadata": {},
   "source": [
    "### 定义模型变量：w、b\n",
    "### 定义了模型和损失\n",
    "### 定义优化算法"
   ]
  },
  {
   "cell_type": "code",
   "execution_count": 297,
   "metadata": {},
   "outputs": [
    {
     "data": {
      "text/plain": [
       "<tensorflow.python.keras.optimizer_v2.gradient_descent.SGD at 0x248f8ea7f88>"
      ]
     },
     "execution_count": 297,
     "metadata": {},
     "output_type": "execute_result"
    }
   ],
   "source": [
    "# 初始化，给了一个，随机给的，占位符，不是结果！\n",
    "W = tf.Variable(tf.random.normal(shape = [1]),name = 'weights')#权重、斜率\n",
    "B = tf.Variable(tf.random.normal(shape = [1]),name = 'bias')# 截距\n",
    "def linear_model(X):#线性模型 f(X) = X*W + B\n",
    "#     return tf.multiply(X,W) + B\n",
    "    return X*W + B\n",
    "def sqare_loss(y_pred,y_true):#最小二乘法\n",
    "#     return tf.reduce_mean(tf.pow(tf.subtract(y_true,y_pred),2))\n",
    "    return tf.reduce_mean((y_pred - y_true)**2)\n",
    "# 优化算法：随机梯度下降\n",
    "sgd = tf.optimizers.SGD(learning_rate)#随机梯度下降\n",
    "sgd"
   ]
  },
  {
   "cell_type": "markdown",
   "metadata": {},
   "source": [
    "### 定义优化过程，随机梯度下降"
   ]
  },
  {
   "cell_type": "code",
   "execution_count": 298,
   "metadata": {},
   "outputs": [],
   "source": [
    "def run_optimization():\n",
    "    with tf.GradientTape() as g:# 自动求导，自动计算\n",
    "        y_pred = linear_model(X)# 使用模型进行预测\n",
    "        loss = sqare_loss(y_pred,y)# 计算最小二乘法的损失\n",
    "#     计算梯度，导数，可以根据梯度，进行随机梯度下降\n",
    "    gradients = g.gradient(loss,[W,B])# 求loss对W和B的偏导数\n",
    "#     进行梯度下降，更新了W和B\n",
    "    sgd.apply_gradients(zip(gradients,[W,B]))\n",
    "    return loss.numpy(),W.numpy(),B.numpy()"
   ]
  },
  {
   "cell_type": "markdown",
   "metadata": {},
   "source": [
    "### for循环进行计算"
   ]
  },
  {
   "cell_type": "code",
   "execution_count": 299,
   "metadata": {},
   "outputs": [
    {
     "name": "stdout",
     "output_type": "stream",
     "text": [
      "[7.371913] [0.9411092]\n",
      "Wall time: 128 ms\n"
     ]
    }
   ],
   "source": [
    "%%time\n",
    "for i in range(1,51):\n",
    "    loss_,W_,B_ = run_optimization()\n",
    "print(W_,B_)"
   ]
  },
  {
   "cell_type": "code",
   "execution_count": 284,
   "metadata": {
    "collapsed": true
   },
   "outputs": [
    {
     "name": "stdout",
     "output_type": "stream",
     "text": [
      "标准答案： 7 4\n"
     ]
    }
   ],
   "source": [
    "print('标准答案：',w,b)"
   ]
  },
  {
   "cell_type": "code",
   "execution_count": 285,
   "metadata": {
    "collapsed": true
   },
   "outputs": [
    {
     "data": {
      "text/plain": [
       "[<matplotlib.lines.Line2D at 0x248f5a0f188>]"
      ]
     },
     "execution_count": 285,
     "metadata": {},
     "output_type": "execute_result"
    },
    {
     "data": {
      "image/png": "[encoded data removed]",
      "text/plain": [
       "<Figure size 432x288 with 1 Axes>"
      ]
     },
     "metadata": {
      "needs_background": "light"
     },
     "output_type": "display_data"
    }
   ],
   "source": [
    "plt.scatter(X,y)\n",
    "x = np.linspace(0,14,100)\n",
    "plt.plot(x,W_[0]*x + B_[0],color = 'green')"
   ]
  },
  {
   "cell_type": "code",
   "execution_count": 5,
   "metadata": {
    "scrolled": true
   },
   "outputs": [
    {
     "data": {
      "text/plain": "array([8.12171985])"
     },
     "metadata": {},
     "output_type": "display_data"
    },
    {
     "data": {
      "text/plain": "0.38400196274582754"
     },
     "metadata": {},
     "output_type": "display_data"
    }
   ],
   "source": [
    "from sklearn.linear_model import LinearRegression\n",
    "linear = LinearRegression()\n",
    "linear.fit(X.reshape(-1,1),y)\n",
    "display(linear.coef_,linear.intercept_)"
   ]
  },
  {
   "cell_type": "code",
   "execution_count": 6,
   "metadata": {},
   "outputs": [],
   "source": [
    "from sklearn.linear_model import SGDRegressor"
   ]
  },
  {
   "cell_type": "code",
   "execution_count": 7,
   "metadata": {},
   "outputs": [
    {
     "data": {
      "text/plain": "array([8.09386311])"
     },
     "metadata": {},
     "output_type": "display_data"
    },
    {
     "data": {
      "text/plain": "array([0.7859568])"
     },
     "metadata": {},
     "output_type": "display_data"
    },
    {
     "name": "stdout",
     "output_type": "stream",
     "text": [
      "CPU times: total: 15.6 ms\n",
      "Wall time: 3.99 ms\n"
     ]
    }
   ],
   "source": [
    "%%time\n",
    "sgdRegressor = SGDRegressor()\n",
    "sgdRegressor.fit(X.reshape(-1,1),y)\n",
    "display(sgdRegressor.coef_,sgdRegressor.intercept_)"
   ]
  }
 ],
 "metadata": {
  "kernelspec": {
   "display_name": "Python 3",
   "language": "python",
   "name": "python3"
  },
  "language_info": {
   "codemirror_mode": {
    "name": "ipython",
    "version": 3
   },
   "file_extension": ".py",
   "mimetype": "text/x-python",
   "name": "python",
   "nbconvert_exporter": "python",
   "pygments_lexer": "ipython3",
   "version": "3.7.3"
  },
  "toc": {
   "base_numbering": 1,
   "nav_menu": {},
   "number_sections": true,
   "sideBar": true,
   "skip_h1_title": false,
   "title_cell": "Table of Contents",
   "title_sidebar": "Contents",
   "toc_cell": false,
   "toc_position": {},
   "toc_section_display": true,
   "toc_window_display": false
  }
 },
 "nbformat": 4,
 "nbformat_minor": 2
}