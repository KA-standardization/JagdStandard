{
 "cells": [
  {
   "cell_type": "code",
   "execution_count": 72,
   "metadata": {},
   "outputs": [],
   "source": [
    "import warnings\n",
    "warnings.filterwarnings('ignore')\n",
    "import numpy as np\n",
    "from tensorflow.keras.datasets import mnist\n",
    "import tensorflow as tf"
   ]
  },
  {
   "cell_type": "markdown",
   "metadata": {},
   "source": [
    "### 加载数据"
   ]
  },
  {
   "cell_type": "code",
   "execution_count": 73,
   "metadata": {},
   "outputs": [],
   "source": [
    "(X_train,y_train),(X_test,y_test) = mnist.load_data()\n",
    "\n",
    "# 独热编码：概率形式表示数据\n",
    "# 分类大部分都是概率问题\n",
    "# 目标值变换成概率\n",
    "y_train = tf.one_hot(y_train,depth=10)\n",
    "y_test = tf.one_hot(y_test,depth=10)\n",
    "# 归一化\n",
    "X_train = X_train.reshape(60000,784).astype(np.float32)/255.0\n",
    "X_test = X_test.reshape(10000,784).astype(np.float32)/255.0\n",
    "\n",
    "data_train = tf.data.Dataset.from_tensor_slices((X_train,y_train))\n",
    "data_train = data_train.repeat(100).shuffle(2000).batch(256)\n",
    "\n",
    "data_test = tf.data.Dataset.from_tensor_slices((X_test,y_test))\n",
    "data_test = data_test.repeat(5).shuffle(3000).batch(1000)"
   ]
  },
  {
   "cell_type": "markdown",
   "metadata": {},
   "source": [
    "### 声明模型的斜率和截距\n",
    "### 声明模型和损失\n",
    "### 声明优化算法SGD"
   ]
  },
  {
   "cell_type": "code",
   "execution_count": 74,
   "metadata": {},
   "outputs": [],
   "source": [
    "# X -----w + b -----> y\n",
    "w = tf.Variable(tf.random.normal(shape = [784,10],stddev = 0.1),name = 'weights')\n",
    "b = tf.Variable(tf.random.normal(shape = [10],stddev = 0.1),name = 'bias')\n",
    "# 逻辑斯蒂回归模型\n",
    "def logistic_model(X):\n",
    "    y_pred = tf.nn.softmax(tf.matmul(X,w) + b)# 软最大，转化成概率\n",
    "    return y_pred\n",
    "# 定义损失函数，使用交叉熵\n",
    "# tf.reduce_mean:平均交叉熵\n",
    "# 线性回归时：平均二乘法\n",
    "def cross_entropy(y_pred,y_true):#y_true和y_pred都是多个样本的\n",
    "    y_pred = tf.clip_by_value(y_pred,clip_value_min=1e-8,clip_value_max=1.0)\n",
    "    loss = tf.reduce_mean(tf.reduce_sum(tf.multiply(y_true,tf.math.log(1/y_pred)),axis = -1))\n",
    "    return loss\n",
    "# 优化方式：随机梯度下降\n",
    "sgd = tf.optimizers.SGD(learning_rate=0.01)"
   ]
  },
  {
   "cell_type": "markdown",
   "metadata": {},
   "source": [
    "### 定义优化方法"
   ]
  },
  {
   "cell_type": "code",
   "execution_count": 75,
   "metadata": {},
   "outputs": [],
   "source": [
    "# 定义优化过程和线性回归，一模一样！！！\n",
    "def run_optimizer(X_train,y_train):\n",
    "    with tf.GradientTape() as g:\n",
    "        y_pred = logistic_model(X_train)\n",
    "        loss = cross_entropy(y_pred,y_train)\n",
    "        gradients = g.gradient(loss,[w,b])\n",
    "    sgd.apply_gradients(zip(gradients,[w,b]))"
   ]
  },
  {
   "cell_type": "markdown",
   "metadata": {},
   "source": [
    "### 运行优化代码，计算准确率"
   ]
  },
  {
   "cell_type": "code",
   "execution_count": 77,
   "metadata": {
    "collapsed": true
   },
   "outputs": [
    {
     "name": "stdout",
     "output_type": "stream",
     "text": [
      "运行次数：50。准确率是：0.7710\n",
      "运行次数：100。准确率是：0.8090\n",
      "运行次数：150。准确率是：0.8140\n",
      "运行次数：200。准确率是：0.8240\n",
      "运行次数：250。准确率是：0.8060\n",
      "运行次数：300。准确率是：0.8300\n",
      "运行次数：350。准确率是：0.8210\n",
      "运行次数：400。准确率是：0.8230\n",
      "运行次数：450。准确率是：0.8230\n",
      "运行次数：500。准确率是：0.8100\n",
      "运行次数：550。准确率是：0.8380\n",
      "运行次数：600。准确率是：0.8390\n",
      "运行次数：650。准确率是：0.8210\n",
      "运行次数：700。准确率是：0.8420\n",
      "运行次数：750。准确率是：0.8420\n",
      "运行次数：800。准确率是：0.8250\n",
      "运行次数：850。准确率是：0.8300\n",
      "运行次数：900。准确率是：0.8470\n",
      "运行次数：950。准确率是：0.8360\n",
      "运行次数：1000。准确率是：0.8560\n"
     ]
    }
   ],
   "source": [
    "for i,(X_train,y_train) in enumerate(data_train.take(1000),1):\n",
    "    run_optimizer(X_train,y_train)\n",
    "    if i %50 == 0:#计算准确率，测试数据data_test测试数据\n",
    "        for X_test,y_test in data_test.take(1):#每次和每次取出来的值，不同的\n",
    "            y_ = logistic_model(X_test).numpy().argmax(axis = 1)\n",
    "            y_true = y_test.numpy().argmax(axis = 1)\n",
    "            accuracy = (y_ == y_true).mean()\n",
    "            print('运行次数：%d。准确率是：%0.4f'%(i,accuracy))"
   ]
  }
 ],
 "metadata": {
  "kernelspec": {
   "display_name": "Python 3",
   "language": "python",
   "name": "python3"
  },
  "language_info": {
   "codemirror_mode": {
    "name": "ipython",
    "version": 3
   },
   "file_extension": ".py",
   "mimetype": "text/x-python",
   "name": "python",
   "nbconvert_exporter": "python",
   "pygments_lexer": "ipython3",
   "version": "3.7.3"
  },
  "toc": {
   "base_numbering": 1,
   "nav_menu": {},
   "number_sections": true,
   "sideBar": true,
   "skip_h1_title": false,
   "title_cell": "Table of Contents",
   "title_sidebar": "Contents",
   "toc_cell": false,
   "toc_position": {},
   "toc_section_display": true,
   "toc_window_display": false
  }
 },
 "nbformat": 4,
 "nbformat_minor": 2
}
