{
 "cells": [
  {
   "cell_type": "code",
   "execution_count": 1,
   "metadata": {},
   "outputs": [],
   "source": [
    "import numpy as np\n",
    "\n",
    "import tensorflow as tf"
   ]
  },
  {
   "cell_type": "code",
   "execution_count": 2,
   "metadata": {
    "scrolled": true
   },
   "outputs": [
    {
     "data": {
      "text/plain": [
       "array([[2, 2, 2, 1, 2],\n",
       "       [0, 2, 1, 1, 2],\n",
       "       [0, 1, 1, 1, 0],\n",
       "       [0, 2, 1, 2, 0],\n",
       "       [1, 1, 1, 2, 0]])"
      ]
     },
     "execution_count": 2,
     "metadata": {},
     "output_type": "execute_result"
    }
   ],
   "source": [
    "image = np.random.randint(0,3,size = (5,5))\n",
    "image"
   ]
  },
  {
   "cell_type": "code",
   "execution_count": 4,
   "metadata": {
    "scrolled": true
   },
   "outputs": [
    {
     "data": {
      "text/plain": [
       "array([[-1,  0,  1],\n",
       "       [ 1,  1,  0],\n",
       "       [ 0, -1,  0]])"
      ]
     },
     "execution_count": 4,
     "metadata": {},
     "output_type": "execute_result"
    }
   ],
   "source": [
    "# 卷积运算左上角的数值1，右下角数值0\n",
    "filter_ = np.random.randint(-1,2,size = (3,3))\n",
    "filter_"
   ]
  },
  {
   "cell_type": "code",
   "execution_count": 9,
   "metadata": {},
   "outputs": [
    {
     "data": {
      "text/plain": [
       "array([[2., 2., 3., 2., 1.],\n",
       "       [2., 1., 1., 1., 2.],\n",
       "       [2., 0., 0., 1., 0.],\n",
       "       [0., 2., 2., 0., 1.],\n",
       "       [3., 3., 2., 2., 0.]], dtype=float32)"
      ]
     },
     "execution_count": 9,
     "metadata": {},
     "output_type": "execute_result"
    }
   ],
   "source": [
    "# Given an input tensor of shape `[batch, in_height, in_width, in_channels]`\n",
    "# input 必须是4维\n",
    "# batch：样本数量\n",
    "# in_height:高度\n",
    "# in_width:宽度\n",
    "# in_channels:颜色通道（红绿蓝），通过数量是1个：黑白图片\n",
    "# numpy 里面是有reshape的，条件限制：reshape之前和之后，数据量不变\n",
    "input_layer = tf.reshape(image,shape = [1,5,5,1])\n",
    "input_layer = tf.cast(input_layer,dtype=tf.float32)\n",
    "\n",
    "# 参数二filters 卷积核，复数，多个卷积核\n",
    "# a filter / kernel tensor of shape\n",
    "# `[filter_height, filter_width, in_channels, out_channels]`, this op\n",
    "# filter_height 卷积核高度\n",
    "# filter_width  卷积核宽度\n",
    "# in_channels    输入数据的颜色通道，应该和输入数据的in_channels 保持一直\n",
    "# out_channels   输出卷积核数量，人为定义的\n",
    "filters = tf.reshape(filter_,shape = [3,3,1,1])\n",
    "kernel = tf.cast(filters,dtype= tf.float32)\n",
    "\n",
    "# 参数三，strides步幅，扫描\n",
    "# strides: An int or list of `ints` that has length `1`, `2` or `4`.  The\n",
    "#     stride of the sliding window（扫描窗口） for each dimension of `input`.\n",
    "\n",
    "# 参数四：padding: Either the `string` `\"SAME\"` or `\"VALID\"`\n",
    "# 现在，使用别人写好的代码，那么必须遵循人家规定条件\n",
    "# google开发人员，规定输入数据必须是4维。\n",
    "conv = tf.nn.conv2d(input = input_layer,\n",
    "                    filters = kernel,\n",
    "                    strides =[1,1,1,1] ,\n",
    "                    padding='SAME',#原数据进行填充\n",
    "                    data_format='NHWC')#NHWC ---->N代表样本数量，H代表height，W代表width，C代表channel\n",
    "# 输入的数据是四维的，输出的数据也是4维的\n",
    "conv.numpy().reshape(5,5)"
   ]
  }
 ],
 "metadata": {
  "kernelspec": {
   "display_name": "Python 3",
   "language": "python",
   "name": "python3"
  },
  "language_info": {
   "codemirror_mode": {
    "name": "ipython",
    "version": 3
   },
   "file_extension": ".py",
   "mimetype": "text/x-python",
   "name": "python",
   "nbconvert_exporter": "python",
   "pygments_lexer": "ipython3",
   "version": "3.7.3"
  },
  "toc": {
   "base_numbering": 1,
   "nav_menu": {},
   "number_sections": true,
   "sideBar": true,
   "skip_h1_title": false,
   "title_cell": "Table of Contents",
   "title_sidebar": "Contents",
   "toc_cell": false,
   "toc_position": {},
   "toc_section_display": true,
   "toc_window_display": false
  }
 },
 "nbformat": 4,
 "nbformat_minor": 2
}
