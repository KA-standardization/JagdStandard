{
 "cells": [
  {
   "cell_type": "code",
   "execution_count": 1,
   "metadata": {
    "ExecuteTime": {
     "end_time": "2020-05-09T00:06:00.679295Z",
     "start_time": "2020-05-09T00:05:59.803738Z"
    }
   },
   "outputs": [],
   "source": [
    "import torch\n",
    "import torch.nn.functional as F\n",
    "from torch.utils.data import DataLoader\n",
    "from torchvision.datasets import MNIST\n",
    "from torchvision import transforms"
   ]
  },
  {
   "cell_type": "code",
   "execution_count": 2,
   "metadata": {
    "ExecuteTime": {
     "end_time": "2020-05-09T00:06:00.684173Z",
     "start_time": "2020-05-09T00:06:00.680991Z"
    }
   },
   "outputs": [],
   "source": [
    "transform=transforms.Compose([transforms.ToTensor(),transforms.Normalize((0.1307,),(0.3081,))])\n",
    "batch_size=64"
   ]
  },
  {
   "cell_type": "code",
   "execution_count": 3,
   "metadata": {
    "ExecuteTime": {
     "end_time": "2020-05-09T00:06:00.729378Z",
     "start_time": "2020-05-09T00:06:00.685978Z"
    }
   },
   "outputs": [],
   "source": [
    "train_data=MNIST('./datas/mnist',download=False,train=True,transform=transform)\n",
    "test_data=MNIST('./datas/mnist',download=False,train=False,transform=transform)"
   ]
  },
  {
   "cell_type": "code",
   "execution_count": 4,
   "metadata": {
    "ExecuteTime": {
     "end_time": "2020-05-09T00:06:00.733889Z",
     "start_time": "2020-05-09T00:06:00.730858Z"
    }
   },
   "outputs": [],
   "source": [
    "train_loader=DataLoader(dataset=train_data,shuffle=True,batch_size=batch_size,num_workers=8)\n",
    "test_loader=DataLoader(dataset=test_data,shuffle=False,batch_size=batch_size,num_workers=8)"
   ]
  },
  {
   "cell_type": "code",
   "execution_count": 5,
   "metadata": {
    "ExecuteTime": {
     "end_time": "2020-05-09T00:06:00.743866Z",
     "start_time": "2020-05-09T00:06:00.735844Z"
    }
   },
   "outputs": [],
   "source": [
    "class ResidualBlock(torch.nn.Module):\n",
    "    def __init__(self,channel):\n",
    "        super(ResidualBlock,self).__init__()\n",
    "        self.conv1=torch.nn.Conv2d(channel,channel,kernel_size=3,padding=1)\n",
    "        self.conv2=torch.nn.Conv2d(channel,channel,kernel_size=3,padding=1)\n",
    "    def forward(self,x):\n",
    "        y=F.relu(self.conv1(x))\n",
    "        y=self.conv2(y)\n",
    "        return F.relu(x+y)"
   ]
  },
  {
   "cell_type": "code",
   "execution_count": 6,
   "metadata": {
    "ExecuteTime": {
     "end_time": "2020-05-09T00:06:00.752898Z",
     "start_time": "2020-05-09T00:06:00.744821Z"
    }
   },
   "outputs": [],
   "source": [
    "class Model(torch.nn.Module):\n",
    "    def __init__(self):\n",
    "        super(Model,self).__init__()\n",
    "        self.conv1=torch.nn.Conv2d(1,16,kernel_size=5)\n",
    "        self.conv2=torch.nn.Conv2d(16,32,kernel_size=5)\n",
    "        self.pooling=torch.nn.MaxPool2d(kernel_size=2)\n",
    "        self.rb1=ResidualBlock(16)\n",
    "        self.rb2=ResidualBlock(32)\n",
    "        self.linear=torch.nn.Linear(512,10)\n",
    "    def forward(self,x):\n",
    "        in_size=x.size(0)\n",
    "        x=self.pooling(F.relu(self.conv1(x)))\n",
    "        x=self.rb1(x)\n",
    "        x=self.pooling(F.relu(self.conv2(x)))\n",
    "        x=self.rb2(x)\n",
    "        x=x.view(in_size,-1)\n",
    "#         print(x.size(1))\n",
    "        x=self.linear(x)\n",
    "        return x\n",
    "model=Model()"
   ]
  },
  {
   "cell_type": "code",
   "execution_count": 7,
   "metadata": {
    "ExecuteTime": {
     "end_time": "2020-05-09T00:06:02.480428Z",
     "start_time": "2020-05-09T00:06:00.755795Z"
    }
   },
   "outputs": [
    {
     "data": {
      "text/plain": [
       "Model(\n",
       "  (conv1): Conv2d(1, 16, kernel_size=(5, 5), stride=(1, 1))\n",
       "  (conv2): Conv2d(16, 32, kernel_size=(5, 5), stride=(1, 1))\n",
       "  (pooling): MaxPool2d(kernel_size=2, stride=2, padding=0, dilation=1, ceil_mode=False)\n",
       "  (rb1): ResidualBlock(\n",
       "    (conv1): Conv2d(16, 16, kernel_size=(3, 3), stride=(1, 1), padding=(1, 1))\n",
       "    (conv2): Conv2d(16, 16, kernel_size=(3, 3), stride=(1, 1), padding=(1, 1))\n",
       "  )\n",
       "  (rb2): ResidualBlock(\n",
       "    (conv1): Conv2d(32, 32, kernel_size=(3, 3), stride=(1, 1), padding=(1, 1))\n",
       "    (conv2): Conv2d(32, 32, kernel_size=(3, 3), stride=(1, 1), padding=(1, 1))\n",
       "  )\n",
       "  (linear): Linear(in_features=512, out_features=10, bias=True)\n",
       ")"
      ]
     },
     "execution_count": 7,
     "metadata": {},
     "output_type": "execute_result"
    }
   ],
   "source": [
    "device = torch.device(\"cuda:0\" if torch.cuda.is_available() else \"cpu\")\n",
    "model.to(device)"
   ]
  },
  {
   "cell_type": "code",
   "execution_count": 8,
   "metadata": {
    "ExecuteTime": {
     "end_time": "2020-05-09T00:06:02.487371Z",
     "start_time": "2020-05-09T00:06:02.481382Z"
    }
   },
   "outputs": [
    {
     "name": "stderr",
     "output_type": "stream",
     "text": [
      "c:\\users\\root\\appdata\\local\\programs\\python\\python37\\lib\\site-packages\\torch\\nn\\_reduction.py:43: UserWarning: size_average and reduce args will be deprecated, please use reduction='mean' instead.\n",
      "  warnings.warn(warning.format(ret))\n"
     ]
    }
   ],
   "source": [
    "criterion=torch.nn.CrossEntropyLoss(size_average=True)\n",
    "optimizer=torch.optim.SGD(params=model.parameters(),lr=0.01,momentum=0.5)"
   ]
  },
  {
   "cell_type": "code",
   "execution_count": 9,
   "metadata": {
    "ExecuteTime": {
     "end_time": "2020-05-09T00:06:02.506318Z",
     "start_time": "2020-05-09T00:06:02.492405Z"
    }
   },
   "outputs": [],
   "source": [
    "def train(epoch):\n",
    "    running_loss=0.0\n",
    "    for batch_idx,data in enumerate(train_loader):\n",
    "        x,y=data\n",
    "        x,y=x.to(device),y.to(device)\n",
    "        optimizer.zero_grad()\n",
    "        y_=model(x)\n",
    "        loss=criterion(y_,y)\n",
    "        loss.backward()\n",
    "        optimizer.step()\n",
    "        running_loss+=loss.item()\n",
    "        if batch_idx%500==0:\n",
    "            print('[%d, %5d] loss: %.3f'%(epoch+1,batch_idx+1,running_loss/500))\n",
    "            running_loss=0.0\n",
    "def test():\n",
    "    correct=0\n",
    "    total=0\n",
    "    with torch.no_grad():\n",
    "        for data in test_loader:\n",
    "            x,y=data\n",
    "            x,y=x.to(device),y.to(device)\n",
    "            y_=model(x)\n",
    "            _,predicted=torch.max(y_.data,dim=1)\n",
    "            total+=y.size(0)\n",
    "            correct+=(predicted==y).sum().item()\n",
    "    print('Accuracy=',100*correct/total)"
   ]
  },
  {
   "cell_type": "code",
   "execution_count": 10,
   "metadata": {
    "ExecuteTime": {
     "end_time": "2020-05-09T00:08:10.965418Z",
     "start_time": "2020-05-09T00:06:02.508312Z"
    }
   },
   "outputs": [
    {
     "name": "stdout",
     "output_type": "stream",
     "text": [
      "[1,     1] loss: 0.005\n",
      "[1,   501] loss: 0.352\n",
      "Accuracy= 96.52\n",
      "[2,     1] loss: 0.000\n",
      "[2,   501] loss: 0.082\n",
      "Accuracy= 98.13\n",
      "[3,     1] loss: 0.000\n",
      "[3,   501] loss: 0.059\n",
      "Accuracy= 98.7\n",
      "[4,     1] loss: 0.000\n",
      "[4,   501] loss: 0.049\n",
      "Accuracy= 98.86\n",
      "[5,     1] loss: 0.000\n",
      "[5,   501] loss: 0.040\n",
      "Accuracy= 98.73\n",
      "[6,     1] loss: 0.000\n",
      "[6,   501] loss: 0.036\n",
      "Accuracy= 99.08\n",
      "[7,     1] loss: 0.000\n",
      "[7,   501] loss: 0.032\n",
      "Accuracy= 98.76\n",
      "[8,     1] loss: 0.000\n",
      "[8,   501] loss: 0.028\n",
      "Accuracy= 99.06\n",
      "[9,     1] loss: 0.000\n",
      "[9,   501] loss: 0.022\n",
      "Accuracy= 98.89\n",
      "[10,     1] loss: 0.000\n",
      "[10,   501] loss: 0.021\n",
      "Accuracy= 99.11\n",
      "Wall time: 2min 8s\n"
     ]
    }
   ],
   "source": [
    "%%time\n",
    "for epoch in range(10):\n",
    "    train(epoch)\n",
    "    test()"
   ]
  }
 ],
 "metadata": {
  "kernelspec": {
   "display_name": "Python 3",
   "language": "python",
   "name": "python3"
  },
  "language_info": {
   "codemirror_mode": {
    "name": "ipython",
    "version": 3
   },
   "file_extension": ".py",
   "mimetype": "text/x-python",
   "name": "python",
   "nbconvert_exporter": "python",
   "pygments_lexer": "ipython3",
   "version": "3.7.3"
  },
  "toc": {
   "base_numbering": 1,
   "nav_menu": {},
   "number_sections": true,
   "sideBar": true,
   "skip_h1_title": false,
   "title_cell": "Table of Contents",
   "title_sidebar": "Contents",
   "toc_cell": false,
   "toc_position": {},
   "toc_section_display": true,
   "toc_window_display": false
  }
 },
 "nbformat": 4,
 "nbformat_minor": 4
}
