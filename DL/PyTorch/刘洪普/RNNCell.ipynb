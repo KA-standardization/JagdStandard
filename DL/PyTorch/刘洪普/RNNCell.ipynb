{
 "cells": [
  {
   "cell_type": "code",
   "execution_count": 1,
   "metadata": {
    "ExecuteTime": {
     "end_time": "2020-05-10T10:37:17.436067Z",
     "start_time": "2020-05-10T10:37:16.935012Z"
    }
   },
   "outputs": [],
   "source": [
    "import torch"
   ]
  },
  {
   "cell_type": "code",
   "execution_count": 2,
   "metadata": {
    "ExecuteTime": {
     "end_time": "2020-05-10T10:37:17.440059Z",
     "start_time": "2020-05-10T10:37:17.437119Z"
    }
   },
   "outputs": [],
   "source": [
    "batch_size=1\n",
    "seq_len=3\n",
    "input_size=4\n",
    "hidden_size=2"
   ]
  },
  {
   "cell_type": "code",
   "execution_count": 3,
   "metadata": {
    "ExecuteTime": {
     "end_time": "2020-05-10T10:37:17.447077Z",
     "start_time": "2020-05-10T10:37:17.442055Z"
    }
   },
   "outputs": [],
   "source": [
    "cell=torch.nn.RNNCell(input_size=input_size,\n",
    "                      hidden_size=hidden_size)"
   ]
  },
  {
   "cell_type": "code",
   "execution_count": 4,
   "metadata": {
    "ExecuteTime": {
     "end_time": "2020-05-10T10:37:17.452028Z",
     "start_time": "2020-05-10T10:37:17.449036Z"
    }
   },
   "outputs": [],
   "source": [
    "data=torch.randn(seq_len,batch_size,input_size)\n",
    "hidden=torch.zeros(batch_size,hidden_size)"
   ]
  },
  {
   "cell_type": "code",
   "execution_count": 5,
   "metadata": {
    "ExecuteTime": {
     "end_time": "2020-05-10T10:37:17.464993Z",
     "start_time": "2020-05-10T10:37:17.453025Z"
    }
   },
   "outputs": [
    {
     "data": {
      "text/plain": [
       "tensor([[[-1.6470, -0.8275, -0.3770,  0.0177]],\n",
       "\n",
       "        [[ 0.6591, -1.2432,  0.6157,  0.3194]],\n",
       "\n",
       "        [[-0.5039,  0.6118,  1.1902,  1.0239]]])"
      ]
     },
     "metadata": {},
     "output_type": "display_data"
    },
    {
     "data": {
      "text/plain": [
       "tensor([[0., 0.]])"
      ]
     },
     "metadata": {},
     "output_type": "display_data"
    }
   ],
   "source": [
    "display(data)\n",
    "display(hidden)"
   ]
  },
  {
   "cell_type": "code",
   "execution_count": 6,
   "metadata": {
    "ExecuteTime": {
     "end_time": "2020-05-10T10:37:17.477994Z",
     "start_time": "2020-05-10T10:37:17.466026Z"
    }
   },
   "outputs": [
    {
     "name": "stdout",
     "output_type": "stream",
     "text": [
      "Input size:  torch.Size([3, 1, 4])\n",
      "Output size:  torch.Size([1, 2])\n",
      "tensor([[-0.8177,  0.3621]])\n",
      "Input size:  torch.Size([3, 1, 4])\n",
      "Output size:  torch.Size([1, 2])\n",
      "tensor([[-0.9220, -0.9612]])\n",
      "Input size:  torch.Size([3, 1, 4])\n",
      "Output size:  torch.Size([1, 2])\n",
      "tensor([[ 0.1363, -0.6614]])\n"
     ]
    }
   ],
   "source": [
    "for i,xy in enumerate(data):\n",
    "    print('Input size: ',data.shape)\n",
    "    hidden=cell(xy,hidden)\n",
    "    print('Output size: ',hidden.shape)\n",
    "    print(hidden.data)"
   ]
  },
  {
   "cell_type": "code",
   "execution_count": 7,
   "metadata": {
    "ExecuteTime": {
     "end_time": "2020-05-10T10:37:17.481990Z",
     "start_time": "2020-05-10T10:37:17.478955Z"
    }
   },
   "outputs": [],
   "source": [
    "import numpy as np"
   ]
  },
  {
   "cell_type": "code",
   "execution_count": 8,
   "metadata": {
    "ExecuteTime": {
     "end_time": "2020-05-10T10:37:17.486980Z",
     "start_time": "2020-05-10T10:37:17.483943Z"
    }
   },
   "outputs": [],
   "source": [
    "batch_size=1\n",
    "input_size=4\n",
    "hidden_size=4"
   ]
  },
  {
   "cell_type": "code",
   "execution_count": 9,
   "metadata": {
    "ExecuteTime": {
     "end_time": "2020-05-10T10:37:17.494916Z",
     "start_time": "2020-05-10T10:37:17.488929Z"
    }
   },
   "outputs": [],
   "source": [
    "idx2char=['e','h','l','o']\n",
    "x_data=[1,0,2,2,3]\n",
    "y_data=[3,1,2,3,2]\n",
    "one_hot_lookup=np.identity(4)\n",
    "x_one_hot=[one_hot_lookup[x] for x in x_data]\n",
    "inputs=torch.Tensor(x_one_hot).view(-1,batch_size,input_size)\n",
    "labels=torch.LongTensor(y_data).view(-1,1)"
   ]
  },
  {
   "cell_type": "code",
   "execution_count": 10,
   "metadata": {
    "ExecuteTime": {
     "end_time": "2020-05-10T10:37:17.501904Z",
     "start_time": "2020-05-10T10:37:17.497907Z"
    }
   },
   "outputs": [
    {
     "data": {
      "text/plain": [
       "tensor([[3],\n",
       "        [1],\n",
       "        [2],\n",
       "        [3],\n",
       "        [2]])"
      ]
     },
     "execution_count": 10,
     "metadata": {},
     "output_type": "execute_result"
    }
   ],
   "source": [
    "labels"
   ]
  },
  {
   "cell_type": "code",
   "execution_count": 11,
   "metadata": {
    "ExecuteTime": {
     "end_time": "2020-05-10T10:37:17.509878Z",
     "start_time": "2020-05-10T10:37:17.503890Z"
    }
   },
   "outputs": [],
   "source": [
    "class Model(torch.nn.Module):\n",
    "    def __init__(self,batch_size,input_size,hidden_size):\n",
    "        super(Model,self).__init__()\n",
    "        self.batch_size=batch_size\n",
    "        self.input_size=input_size\n",
    "        self.hidden_size=hidden_size\n",
    "        self.cell=torch.nn.RNNCell(input_size=self.input_size,hidden_size=self.hidden_size)\n",
    "    def forward(self,inputs,hidden):\n",
    "        hidden=self.cell(inputs,hidden)\n",
    "        return hidden\n",
    "    def init_hidden(self):\n",
    "        return torch.zeros(self.batch_size,self.hidden_size)\n",
    "model=Model(batch_size=batch_size,input_size=input_size,hidden_size=hidden_size)"
   ]
  },
  {
   "cell_type": "code",
   "execution_count": 12,
   "metadata": {
    "ExecuteTime": {
     "end_time": "2020-05-10T10:37:17.515856Z",
     "start_time": "2020-05-10T10:37:17.511896Z"
    }
   },
   "outputs": [],
   "source": [
    "criterion=torch.nn.CrossEntropyLoss()\n",
    "optimizer=torch.optim.Adam(params=model.parameters(),lr=0.1)"
   ]
  },
  {
   "cell_type": "code",
   "execution_count": 16,
   "metadata": {
    "ExecuteTime": {
     "end_time": "2020-05-10T10:42:54.826252Z",
     "start_time": "2020-05-10T10:42:54.790788Z"
    }
   },
   "outputs": [
    {
     "name": "stdout",
     "output_type": "stream",
     "text": [
      "ohlll, Epoch [1/15] loss=2.3090\n",
      "ohlll, Epoch [2/15] loss=2.2944\n",
      "ohlll, Epoch [3/15] loss=2.2816\n",
      "ohlll, Epoch [4/15] loss=2.2708\n",
      "ohlll, Epoch [5/15] loss=2.2616\n",
      "ohlll, Epoch [6/15] loss=2.2537\n",
      "ohlll, Epoch [7/15] loss=2.2471\n",
      "ohlll, Epoch [8/15] loss=2.2413\n",
      "ohlll, Epoch [9/15] loss=2.2362\n",
      "ohlll, Epoch [10/15] loss=2.2318\n"
     ]
    }
   ],
   "source": [
    "for epoch in range(10):\n",
    "    loss=0\n",
    "    optimizer.zero_grad()\n",
    "    hidden=model.init_hidden()\n",
    "    for inputs_,labels_ in zip(inputs,labels):\n",
    "        hidden=model(inputs_,hidden)\n",
    "#         print(hidden)\n",
    "        loss+=criterion(hidden,labels_)\n",
    "#         print(labels_)\n",
    "        _,idx=hidden.max(dim=1)\n",
    "        print(idx2char[idx.item()],end='')\n",
    "    loss.backward()\n",
    "    optimizer.step()\n",
    "    print(', Epoch [%d/15] loss=%.4f' % (epoch+1, loss.item()))"
   ]
  }
 ],
 "metadata": {
  "kernelspec": {
   "display_name": "Python 3",
   "language": "python",
   "name": "python3"
  },
  "language_info": {
   "codemirror_mode": {
    "name": "ipython",
    "version": 3
   },
   "file_extension": ".py",
   "mimetype": "text/x-python",
   "name": "python",
   "nbconvert_exporter": "python",
   "pygments_lexer": "ipython3",
   "version": "3.7.3"
  },
  "toc": {
   "base_numbering": 1,
   "nav_menu": {},
   "number_sections": true,
   "sideBar": true,
   "skip_h1_title": false,
   "title_cell": "Table of Contents",
   "title_sidebar": "Contents",
   "toc_cell": false,
   "toc_position": {},
   "toc_section_display": true,
   "toc_window_display": false
  }
 },
 "nbformat": 4,
 "nbformat_minor": 4
}
