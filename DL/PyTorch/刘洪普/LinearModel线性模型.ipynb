{
 "cells": [
  {
   "cell_type": "code",
   "execution_count": 1,
   "metadata": {
    "ExecuteTime": {
     "end_time": "2020-05-01T14:38:30.556362Z",
     "start_time": "2020-05-01T14:38:28.612720Z"
    }
   },
   "outputs": [],
   "source": [
    "import torch\n",
    "import matplotlib.pyplot as plt"
   ]
  },
  {
   "cell_type": "code",
   "execution_count": 2,
   "metadata": {
    "ExecuteTime": {
     "end_time": "2020-05-01T14:39:41.267262Z",
     "start_time": "2020-05-01T14:39:41.244420Z"
    }
   },
   "outputs": [],
   "source": [
    "x_data=torch.Tensor([[1.0],[2.0],[3.0]])\n",
    "y_data=torch.Tensor([[2.0],[4.0],[6.0]])"
   ]
  },
  {
   "cell_type": "code",
   "execution_count": 3,
   "metadata": {
    "ExecuteTime": {
     "end_time": "2020-05-01T14:43:44.420482Z",
     "start_time": "2020-05-01T14:43:44.390124Z"
    }
   },
   "outputs": [],
   "source": [
    "class LinearModel(torch.nn.Module):\n",
    "    def __init__(self):\n",
    "        super(LinearModel,self).__init__()\n",
    "        self.linear=torch.nn.Linear(1,1)\n",
    "        \n",
    "    def forward(self,x):\n",
    "        y_=self.linear(x)\n",
    "        return y_"
   ]
  },
  {
   "cell_type": "code",
   "execution_count": 7,
   "metadata": {
    "ExecuteTime": {
     "end_time": "2020-05-01T14:51:16.301484Z",
     "start_time": "2020-05-01T14:51:16.296496Z"
    }
   },
   "outputs": [],
   "source": [
    "model=LinearModel()\n",
    "criterion=torch.nn.MSELoss(size_average=False)\n",
    "optimizer=torch.optim.SGD(model.parameters(),lr=0.01)"
   ]
  },
  {
   "cell_type": "code",
   "execution_count": 13,
   "metadata": {
    "ExecuteTime": {
     "end_time": "2020-05-01T14:58:16.292635Z",
     "start_time": "2020-05-01T14:58:16.209791Z"
    },
    "collapsed": true
   },
   "outputs": [
    {
     "name": "stdout",
     "output_type": "stream",
     "text": [
      "0 0.0023374748416244984\n",
      "1 0.0023039006628096104\n",
      "2 0.002270799595862627\n",
      "3 0.0022381413727998734\n",
      "4 0.0022060065530240536\n",
      "5 0.0021742857061326504\n",
      "6 0.0021430368069559336\n",
      "7 0.0021122279576957226\n",
      "8 0.002081888960674405\n",
      "9 0.002051943214610219\n",
      "10 0.0020224861800670624\n",
      "11 0.0019934135489165783\n",
      "12 0.001964773051440716\n",
      "13 0.0019365240586921573\n",
      "14 0.0019086700631305575\n",
      "15 0.0018812776543200016\n",
      "16 0.0018542460165917873\n",
      "17 0.001827561529353261\n",
      "18 0.0018013222143054008\n",
      "19 0.0017754097934812307\n",
      "20 0.0017499260138720274\n",
      "21 0.0017247518990188837\n",
      "22 0.0016999640502035618\n",
      "23 0.0016755411634221673\n",
      "24 0.0016514604212716222\n",
      "25 0.001627722755074501\n",
      "26 0.0016043412033468485\n",
      "27 0.0015812765341252089\n",
      "28 0.0015585373621433973\n",
      "29 0.0015361611731350422\n",
      "30 0.0015140665927901864\n",
      "31 0.001492322888225317\n",
      "32 0.0014708659145981073\n",
      "33 0.0014497238444164395\n",
      "34 0.0014288753736764193\n",
      "35 0.0014083698624745011\n",
      "36 0.0013881034683436155\n",
      "37 0.00136815186124295\n",
      "38 0.0013485070085152984\n",
      "39 0.001329114311374724\n",
      "40 0.0013100325595587492\n",
      "41 0.00129119330085814\n",
      "42 0.001272637746296823\n",
      "43 0.001254335860721767\n",
      "44 0.0012363198911771178\n",
      "45 0.001218552002683282\n",
      "46 0.0012010355712845922\n",
      "47 0.0011837659403681755\n",
      "48 0.001166756497696042\n",
      "49 0.0011500022374093533\n",
      "50 0.0011334710288792849\n",
      "51 0.0011171759106218815\n",
      "52 0.0011011263122782111\n",
      "53 0.0010852942941710353\n",
      "54 0.0010696928948163986\n",
      "55 0.0010543139651417732\n",
      "56 0.0010391888208687305\n",
      "57 0.0010242287535220385\n",
      "58 0.0010095268953591585\n",
      "59 0.000995000940747559\n",
      "60 0.000980704091489315\n",
      "61 0.0009666173718869686\n",
      "62 0.0009527276852168143\n",
      "63 0.0009390417253598571\n",
      "64 0.0009255362674593925\n",
      "65 0.0009122340707108378\n",
      "66 0.0008991187205538154\n",
      "67 0.0008862021495588124\n",
      "68 0.0008734702132642269\n",
      "69 0.0008609173237346113\n",
      "70 0.0008485468570142984\n",
      "71 0.0008363515371456742\n",
      "72 0.0008243313641287386\n",
      "73 0.0008124760934151709\n",
      "74 0.0008008102886378765\n",
      "75 0.000789295881986618\n",
      "76 0.0007779590087011456\n",
      "77 0.000766779703553766\n",
      "78 0.0007557484204880893\n",
      "79 0.0007448954274877906\n",
      "80 0.0007341887685470283\n",
      "81 0.0007236440433189273\n",
      "82 0.00071324547752738\n",
      "83 0.0007029853877611458\n",
      "84 0.0006928868242539465\n",
      "85 0.0006829252233728766\n",
      "86 0.0006731186294928193\n",
      "87 0.0006634354358538985\n",
      "88 0.0006539025926031172\n",
      "89 0.0006445037433877587\n",
      "90 0.0006352505879476666\n",
      "91 0.0006261022062972188\n",
      "92 0.0006171126151457429\n",
      "93 0.0006082496256567538\n",
      "94 0.0005994949024170637\n",
      "95 0.0005908870371058583\n",
      "96 0.000582396169193089\n",
      "97 0.0005740266642533243\n",
      "98 0.0005657827132381499\n",
      "99 0.0005576464463956654\n"
     ]
    }
   ],
   "source": [
    "w_list=[]\n",
    "loss_list=[]\n",
    "for epoch in range(100):\n",
    "    y_=model(x_data)\n",
    "    loss=criterion(y_,y_data)\n",
    "    print(epoch,loss.data.item())\n",
    "    loss_list.append(loss.data.item())\n",
    "    optimizer.zero_grad()\n",
    "    loss.backward()\n",
    "    w_list.append(model.linear.weight.item())\n",
    "    optimizer.step()"
   ]
  },
  {
   "cell_type": "code",
   "execution_count": 28,
   "metadata": {
    "ExecuteTime": {
     "end_time": "2020-05-01T15:03:33.114042Z",
     "start_time": "2020-05-01T15:03:33.081073Z"
    }
   },
   "outputs": [
    {
     "data": {
      "text/plain": [
       "7.972854137420654"
      ]
     },
     "metadata": {},
     "output_type": "display_data"
    },
    {
     "data": {
      "text/plain": [
       "<AddmmBackward at 0x2b5fd91ecf8>"
      ]
     },
     "metadata": {},
     "output_type": "display_data"
    },
    {
     "data": {
      "text/plain": [
       "tensor([[7.9729]], grad_fn=<AddmmBackward>)"
      ]
     },
     "execution_count": 28,
     "metadata": {},
     "output_type": "execute_result"
    }
   ],
   "source": [
    "y_test=model(torch.Tensor([[4]]))\n",
    "display(y_test.data.item())\n",
    "display(y_test.grad_fn)\n",
    "y_test"
   ]
  },
  {
   "cell_type": "code",
   "execution_count": 29,
   "metadata": {
    "ExecuteTime": {
     "end_time": "2020-05-01T15:05:05.400378Z",
     "start_time": "2020-05-01T15:05:05.262647Z"
    }
   },
   "outputs": [
    {
     "data": {
      "text/plain": [
       "[<matplotlib.lines.Line2D at 0x2b5fd90c0b8>]"
      ]
     },
     "execution_count": 29,
     "metadata": {},
     "output_type": "execute_result"
    },
    {
     "data": {
      "image/png": "[encoded data removed]",
      "text/plain": [
       "<Figure size 432x288 with 1 Axes>"
      ]
     },
     "metadata": {
      "needs_background": "light"
     },
     "output_type": "display_data"
    }
   ],
   "source": [
    "plt.plot(w_list,loss_list)"
   ]
  }
 ],
 "metadata": {
  "kernelspec": {
   "display_name": "Python 3",
   "language": "python",
   "name": "python3"
  },
  "language_info": {
   "codemirror_mode": {
    "name": "ipython",
    "version": 3
   },
   "file_extension": ".py",
   "mimetype": "text/x-python",
   "name": "python",
   "nbconvert_exporter": "python",
   "pygments_lexer": "ipython3",
   "version": "3.7.3"
  },
  "toc": {
   "base_numbering": 1,
   "nav_menu": {},
   "number_sections": true,
   "sideBar": true,
   "skip_h1_title": false,
   "title_cell": "Table of Contents",
   "title_sidebar": "Contents",
   "toc_cell": false,
   "toc_position": {},
   "toc_section_display": true,
   "toc_window_display": false
  }
 },
 "nbformat": 4,
 "nbformat_minor": 4
}
