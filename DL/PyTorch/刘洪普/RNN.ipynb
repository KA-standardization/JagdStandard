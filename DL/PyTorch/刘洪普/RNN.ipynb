{
 "cells": [
  {
   "cell_type": "code",
   "execution_count": 1,
   "metadata": {
    "ExecuteTime": {
     "end_time": "2020-05-10T11:39:54.143980Z",
     "start_time": "2020-05-10T11:39:52.961886Z"
    }
   },
   "outputs": [],
   "source": [
    "import torch"
   ]
  },
  {
   "cell_type": "code",
   "execution_count": 2,
   "metadata": {
    "ExecuteTime": {
     "end_time": "2020-05-10T11:39:54.156379Z",
     "start_time": "2020-05-10T11:39:54.145409Z"
    }
   },
   "outputs": [
    {
     "name": "stdout",
     "output_type": "stream",
     "text": [
      "Output size: torch.Size([3, 1, 2])\n",
      "Output: tensor([[[-0.4499,  0.1619]],\n",
      "\n",
      "        [[ 0.6121,  0.2760]],\n",
      "\n",
      "        [[-0.3535, -0.8401]]], grad_fn=<StackBackward>)\n",
      "Hidden size:  torch.Size([1, 1, 2])\n",
      "Hidden:  tensor([[[-0.3535, -0.8401]]], grad_fn=<StackBackward>)\n"
     ]
    }
   ],
   "source": [
    "batch_size = 1\n",
    "seq_len = 3\n",
    "input_size = 4\n",
    "hidden_size = 2\n",
    "num_layers = 1\n",
    "cell = torch.nn.RNN(input_size=input_size, hidden_size=hidden_size,num_layers=num_layers)\n",
    "# (seqLen, batchSize, inputSize)\n",
    "inputs = torch.randn(seq_len, batch_size, input_size)\n",
    "hidden = torch.zeros(num_layers, batch_size, hidden_size)\n",
    "out, hidden = cell(inputs, hidden)\n",
    "print('Output size:', out.shape)\n",
    "print('Output:', out)\n",
    "print('Hidden size: ', hidden.shape)\n",
    "print('Hidden: ', hidden)"
   ]
  },
  {
   "cell_type": "code",
   "execution_count": 3,
   "metadata": {
    "ExecuteTime": {
     "end_time": "2020-05-10T11:39:54.161406Z",
     "start_time": "2020-05-10T11:39:54.158374Z"
    }
   },
   "outputs": [],
   "source": [
    "import numpy as np"
   ]
  },
  {
   "cell_type": "code",
   "execution_count": 4,
   "metadata": {
    "ExecuteTime": {
     "end_time": "2020-05-10T11:39:54.165404Z",
     "start_time": "2020-05-10T11:39:54.162363Z"
    }
   },
   "outputs": [],
   "source": [
    "input_size = 4\n",
    "hidden_size= 4\n",
    "num_layers= 1\n",
    "batch_size = 1\n",
    "seq_len = 5"
   ]
  },
  {
   "cell_type": "code",
   "execution_count": 5,
   "metadata": {
    "ExecuteTime": {
     "end_time": "2020-05-10T11:39:54.173341Z",
     "start_time": "2020-05-10T11:39:54.166375Z"
    }
   },
   "outputs": [],
   "source": [
    "idx2char=['e','h','l','o']\n",
    "x_data=[1,0,2,2,3]\n",
    "y_data=[3,1,2,3,2]\n",
    "one_hot_lookup=np.identity(4)\n",
    "x_one_hot=[one_hot_lookup[x] for x in x_data]\n",
    "inputs=torch.Tensor(x_one_hot).view(seq_len,batch_size,input_size)\n",
    "labels=torch.LongTensor(y_data)"
   ]
  },
  {
   "cell_type": "code",
   "execution_count": 6,
   "metadata": {
    "ExecuteTime": {
     "end_time": "2020-05-10T11:39:54.185328Z",
     "start_time": "2020-05-10T11:39:54.178321Z"
    }
   },
   "outputs": [],
   "source": [
    "class Model(torch.nn.Module):\n",
    "    def __init__(self,batch_size,input_size,hidden_size,num_layers=1):\n",
    "        super(Model,self).__init__()\n",
    "        self.batch_size=batch_size\n",
    "        self.input_size=input_size\n",
    "        self.hidden_size=hidden_size\n",
    "        self.num_layers=num_layers\n",
    "        self.rnn=torch.nn.RNN(input_size=self.input_size,hidden_size=self.hidden_size,num_layers=self.num_layers)\n",
    "    def forward(self,inputs,hidden):\n",
    "        out,_=self.rnn(inputs,hidden)\n",
    "        return out.view(-1,self.hidden_size)\n",
    "    def init_hidden(self):\n",
    "        return torch.zeros(self.num_layers,self.batch_size,self.hidden_size)\n",
    "model=Model(batch_size=batch_size,input_size=input_size,hidden_size=hidden_size,num_layers=num_layers)"
   ]
  },
  {
   "cell_type": "code",
   "execution_count": 7,
   "metadata": {
    "ExecuteTime": {
     "end_time": "2020-05-10T11:39:54.192317Z",
     "start_time": "2020-05-10T11:39:54.187296Z"
    }
   },
   "outputs": [
    {
     "name": "stderr",
     "output_type": "stream",
     "text": [
      "c:\\users\\root\\appdata\\local\\programs\\python\\python37\\lib\\site-packages\\torch\\nn\\_reduction.py:43: UserWarning: size_average and reduce args will be deprecated, please use reduction='mean' instead.\n",
      "  warnings.warn(warning.format(ret))\n"
     ]
    }
   ],
   "source": [
    "criterion=torch.nn.CrossEntropyLoss(size_average=True)\n",
    "optimizer=torch.optim.Adam(params=model.parameters(),lr=0.1)"
   ]
  },
  {
   "cell_type": "code",
   "execution_count": 8,
   "metadata": {
    "ExecuteTime": {
     "end_time": "2020-05-10T11:39:54.259169Z",
     "start_time": "2020-05-10T11:39:54.194314Z"
    }
   },
   "outputs": [
    {
     "name": "stdout",
     "output_type": "stream",
     "text": [
      "Predicted:  loooe, Epoch [1/15] loss = 1.470\n",
      "Predicted:  loool, Epoch [2/15] loss = 1.228\n",
      "Predicted:  lhlol, Epoch [3/15] loss = 1.025\n",
      "Predicted:  lhlol, Epoch [4/15] loss = 0.899\n",
      "Predicted:  lhlol, Epoch [5/15] loss = 0.804\n",
      "Predicted:  lhlol, Epoch [6/15] loss = 0.738\n",
      "Predicted:  lhlol, Epoch [7/15] loss = 0.690\n",
      "Predicted:  lhlol, Epoch [8/15] loss = 0.646\n",
      "Predicted:  lhlol, Epoch [9/15] loss = 0.608\n",
      "Predicted:  lhlol, Epoch [10/15] loss = 0.580\n",
      "Predicted:  lhlol, Epoch [11/15] loss = 0.558\n",
      "Predicted:  lhlol, Epoch [12/15] loss = 0.541\n",
      "Predicted:  ohlol, Epoch [13/15] loss = 0.530\n",
      "Predicted:  ohlol, Epoch [14/15] loss = 0.521\n",
      "Predicted:  ohlol, Epoch [15/15] loss = 0.514\n"
     ]
    }
   ],
   "source": [
    "for epoch in range(15):\n",
    "    optimizer.zero_grad()\n",
    "    hidden=model.init_hidden()\n",
    "    outputs = model(inputs,hidden)\n",
    "    loss = criterion(outputs, labels)\n",
    "    loss.backward()\n",
    "    optimizer.step()\n",
    "    _, idx = outputs.max(dim=1)\n",
    "    idx = idx.data.numpy()\n",
    "    print('Predicted: ', ''.join([idx2char[x] for x in idx]), end='')\n",
    "    print(', Epoch [%d/15] loss = %.3f' % (epoch + 1, loss.item()))"
   ]
  }
 ],
 "metadata": {
  "kernelspec": {
   "display_name": "Python 3",
   "language": "python",
   "name": "python3"
  },
  "language_info": {
   "codemirror_mode": {
    "name": "ipython",
    "version": 3
   },
   "file_extension": ".py",
   "mimetype": "text/x-python",
   "name": "python",
   "nbconvert_exporter": "python",
   "pygments_lexer": "ipython3",
   "version": "3.7.3"
  },
  "toc": {
   "base_numbering": 1,
   "nav_menu": {},
   "number_sections": true,
   "sideBar": true,
   "skip_h1_title": false,
   "title_cell": "Table of Contents",
   "title_sidebar": "Contents",
   "toc_cell": false,
   "toc_position": {},
   "toc_section_display": true,
   "toc_window_display": false
  }
 },
 "nbformat": 4,
 "nbformat_minor": 4
}
