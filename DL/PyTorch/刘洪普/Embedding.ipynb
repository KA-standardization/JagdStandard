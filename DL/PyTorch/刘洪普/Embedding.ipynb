{
 "cells": [
  {
   "cell_type": "code",
   "execution_count": 1,
   "metadata": {
    "ExecuteTime": {
     "end_time": "2020-05-12T12:40:32.822569Z",
     "start_time": "2020-05-12T12:40:30.667921Z"
    }
   },
   "outputs": [],
   "source": [
    "import torch "
   ]
  },
  {
   "cell_type": "code",
   "execution_count": 3,
   "metadata": {
    "ExecuteTime": {
     "end_time": "2020-05-12T12:42:51.476927Z",
     "start_time": "2020-05-12T12:42:51.471941Z"
    }
   },
   "outputs": [],
   "source": [
    "idx2char=['e','h','l','o']\n",
    "x_data=[[1,0,2,2,3]]\n",
    "y_data=[3,1,2,3,2]\n",
    "inputs=torch.LongTensor(x_data)\n",
    "labels=torch.LongTensor(y_data)"
   ]
  },
  {
   "cell_type": "code",
   "execution_count": 4,
   "metadata": {
    "ExecuteTime": {
     "end_time": "2020-05-12T12:44:07.037828Z",
     "start_time": "2020-05-12T12:44:07.032843Z"
    }
   },
   "outputs": [],
   "source": [
    "num_class=4\n",
    "input_size=4\n",
    "hidden_size=8\n",
    "embedding_size=10\n",
    "num_layers=2\n",
    "batch_size=1\n",
    "seq_len=5"
   ]
  },
  {
   "cell_type": "code",
   "execution_count": 8,
   "metadata": {
    "ExecuteTime": {
     "end_time": "2020-05-12T12:48:42.263707Z",
     "start_time": "2020-05-12T12:48:42.249776Z"
    }
   },
   "outputs": [],
   "source": [
    "class Model(torch.nn.Module):\n",
    "    def __init__(self):\n",
    "        super(Model, self).__init__()\n",
    "        self.emb = torch.nn.Embedding(input_size, embedding_size)\n",
    "        self.rnn = torch.nn.RNN(input_size=embedding_size,hidden_size=hidden_size,num_layers=num_layers,batch_first=True)\n",
    "        self.fc = torch.nn.Linear(hidden_size, num_class)\n",
    "    def forward(self, x):\n",
    "        hidden = torch.zeros(num_layers, x.size(0), hidden_size)\n",
    "        x = self.emb(x) # (batch, seqLen, embeddingSize)\n",
    "        x, _ = self.rnn(x, hidden)\n",
    "        x = self.fc(x)\n",
    "        return x.view(-1, num_class)\n",
    "model=Model()"
   ]
  },
  {
   "cell_type": "code",
   "execution_count": 9,
   "metadata": {
    "ExecuteTime": {
     "end_time": "2020-05-12T12:48:43.634368Z",
     "start_time": "2020-05-12T12:48:43.629835Z"
    }
   },
   "outputs": [],
   "source": [
    "criterion = torch.nn.CrossEntropyLoss()\n",
    "optimizer = torch.optim.Adam(model.parameters(), lr=0.05)"
   ]
  },
  {
   "cell_type": "code",
   "execution_count": 10,
   "metadata": {
    "ExecuteTime": {
     "end_time": "2020-05-12T12:49:48.617643Z",
     "start_time": "2020-05-12T12:49:47.671310Z"
    }
   },
   "outputs": [
    {
     "name": "stdout",
     "output_type": "stream",
     "text": [
      "Predicted:  ohelh, Epoch [1/15] loss = 1.355\n",
      "Predicted:  ohllo, Epoch [2/15] loss = 1.072\n",
      "Predicted:  ohlol, Epoch [3/15] loss = 0.879\n",
      "Predicted:  ohlol, Epoch [4/15] loss = 0.694\n",
      "Predicted:  ohlol, Epoch [5/15] loss = 0.515\n",
      "Predicted:  ohlol, Epoch [6/15] loss = 0.385\n",
      "Predicted:  ohlol, Epoch [7/15] loss = 0.284\n",
      "Predicted:  ohlol, Epoch [8/15] loss = 0.209\n",
      "Predicted:  ohlol, Epoch [9/15] loss = 0.154\n",
      "Predicted:  ohlol, Epoch [10/15] loss = 0.114\n",
      "Predicted:  ohlol, Epoch [11/15] loss = 0.082\n",
      "Predicted:  ohlol, Epoch [12/15] loss = 0.057\n",
      "Predicted:  ohlol, Epoch [13/15] loss = 0.040\n",
      "Predicted:  ohlol, Epoch [14/15] loss = 0.028\n",
      "Predicted:  ohlol, Epoch [15/15] loss = 0.020\n"
     ]
    }
   ],
   "source": [
    "for epoch in range(15):\n",
    "    optimizer.zero_grad()\n",
    "    outputs = model(inputs)\n",
    "    loss = criterion(outputs, labels)\n",
    "    loss.backward()\n",
    "    optimizer.step()\n",
    "    _, idx = outputs.max(dim=1)\n",
    "    idx = idx.data.numpy()\n",
    "    print('Predicted: ', ''.join([idx2char[x] for x in idx]), end='')\n",
    "    print(', Epoch [%d/15] loss = %.3f' % (epoch + 1, loss.item()))"
   ]
  }
 ],
 "metadata": {
  "kernelspec": {
   "display_name": "Python 3",
   "language": "python",
   "name": "python3"
  },
  "language_info": {
   "codemirror_mode": {
    "name": "ipython",
    "version": 3
   },
   "file_extension": ".py",
   "mimetype": "text/x-python",
   "name": "python",
   "nbconvert_exporter": "python",
   "pygments_lexer": "ipython3",
   "version": "3.7.3"
  },
  "toc": {
   "base_numbering": 1,
   "nav_menu": {},
   "number_sections": true,
   "sideBar": true,
   "skip_h1_title": false,
   "title_cell": "Table of Contents",
   "title_sidebar": "Contents",
   "toc_cell": false,
   "toc_position": {},
   "toc_section_display": true,
   "toc_window_display": false
  }
 },
 "nbformat": 4,
 "nbformat_minor": 4
}
