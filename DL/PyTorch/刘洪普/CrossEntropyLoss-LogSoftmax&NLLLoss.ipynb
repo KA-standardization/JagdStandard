{
 "cells": [
  {
   "cell_type": "code",
   "execution_count": 11,
   "metadata": {
    "ExecuteTime": {
     "end_time": "2020-05-03T13:36:37.857549Z",
     "start_time": "2020-05-03T13:36:37.385310Z"
    }
   },
   "outputs": [],
   "source": [
    "import numpy as np \n",
    "import torch"
   ]
  },
  {
   "cell_type": "code",
   "execution_count": 10,
   "metadata": {
    "ExecuteTime": {
     "end_time": "2020-05-03T13:35:45.592229Z",
     "start_time": "2020-05-03T13:35:45.566854Z"
    },
    "collapsed": true
   },
   "outputs": [
    {
     "name": "stdout",
     "output_type": "stream",
     "text": [
      "0.9729189131256584\n",
      "[0.37797814 0.34200877 0.28001309]\n",
      "[ 0.97291891 -0.         -0.        ]\n"
     ]
    },
    {
     "data": {
      "text/plain": [
       "array([-0.97291891, -1.07291891, -1.27291891])"
      ]
     },
     "execution_count": 10,
     "metadata": {},
     "output_type": "execute_result"
    }
   ],
   "source": [
    "# LogSoftmax&NLLLoss\n",
    "y = np.array([1, 0, 0]) \n",
    "z = np.array([0.2, 0.1, -0.1]) \n",
    "y_pred = np.exp(z) / np.exp(z).sum() #LogSoftmax\n",
    "loss = (- y * np.log(y_pred)).sum() #NLLLoss\n",
    "print(loss)\n",
    "print(y_pred)\n",
    "print((- y * np.log(y_pred)))\n",
    "np.log(y_pred)"
   ]
  },
  {
   "cell_type": "code",
   "execution_count": 12,
   "metadata": {
    "ExecuteTime": {
     "end_time": "2020-05-03T13:37:01.025919Z",
     "start_time": "2020-05-03T13:37:00.994670Z"
    }
   },
   "outputs": [
    {
     "name": "stdout",
     "output_type": "stream",
     "text": [
      "tensor(0.9729)\n"
     ]
    }
   ],
   "source": [
    "y = torch.LongTensor([0]) \n",
    "z = torch.Tensor([[0.2, 0.1, -0.1]]) \n",
    "criterion = torch.nn.CrossEntropyLoss() #CrossEntropyLoss == LogSoftmax&NLLLoss\n",
    "loss = criterion(z, y) \n",
    "print(loss)"
   ]
  }
 ],
 "metadata": {
  "kernelspec": {
   "display_name": "Python 3",
   "language": "python",
   "name": "python3"
  },
  "language_info": {
   "codemirror_mode": {
    "name": "ipython",
    "version": 3
   },
   "file_extension": ".py",
   "mimetype": "text/x-python",
   "name": "python",
   "nbconvert_exporter": "python",
   "pygments_lexer": "ipython3",
   "version": "3.7.3"
  },
  "toc": {
   "base_numbering": 1,
   "nav_menu": {},
   "number_sections": true,
   "sideBar": true,
   "skip_h1_title": false,
   "title_cell": "Table of Contents",
   "title_sidebar": "Contents",
   "toc_cell": false,
   "toc_position": {},
   "toc_section_display": true,
   "toc_window_display": false
  }
 },
 "nbformat": 4,
 "nbformat_minor": 4
}
