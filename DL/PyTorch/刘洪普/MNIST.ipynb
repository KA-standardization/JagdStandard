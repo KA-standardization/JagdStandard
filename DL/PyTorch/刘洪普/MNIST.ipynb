{
 "cells": [
  {
   "cell_type": "code",
   "execution_count": 1,
   "metadata": {
    "ExecuteTime": {
     "end_time": "2020-05-03T15:37:18.732182Z",
     "start_time": "2020-05-03T15:37:17.808417Z"
    }
   },
   "outputs": [],
   "source": [
    "import torch\n",
    "from torchvision.datasets import MNIST\n",
    "from torchvision import transforms\n",
    "from torch.utils.data import DataLoader\n",
    "import torch.nn.functional as F"
   ]
  },
  {
   "cell_type": "code",
   "execution_count": 2,
   "metadata": {
    "ExecuteTime": {
     "end_time": "2020-05-03T15:37:18.753028Z",
     "start_time": "2020-05-03T15:37:18.732182Z"
    }
   },
   "outputs": [],
   "source": [
    "import os\n",
    "os.environ[\"CUDA_VISIBLE_DEVICES\"] = \"0\"\n",
    "# torch.cuda.is_available()\n",
    "# cuda是否可用；\n",
    "\n",
    "# torch.cuda.device_count()\n",
    "# 返回gpu数量；\n",
    "\n",
    "# torch.cuda.get_device_name(0)\n",
    "# 返回gpu名字，设备索引默认从0开始；\n",
    "\n",
    "# torch.cuda.current_device()\n",
    "# 返回当前设备索引；"
   ]
  },
  {
   "cell_type": "code",
   "execution_count": 3,
   "metadata": {
    "ExecuteTime": {
     "end_time": "2020-05-03T15:37:19.218091Z",
     "start_time": "2020-05-03T15:37:18.753028Z"
    }
   },
   "outputs": [
    {
     "data": {
      "text/plain": [
       "0"
      ]
     },
     "execution_count": 3,
     "metadata": {},
     "output_type": "execute_result"
    }
   ],
   "source": [
    "torch.cuda.current_device()"
   ]
  },
  {
   "cell_type": "code",
   "execution_count": 4,
   "metadata": {
    "ExecuteTime": {
     "end_time": "2020-05-03T15:37:19.233455Z",
     "start_time": "2020-05-03T15:37:19.218091Z"
    }
   },
   "outputs": [
    {
     "data": {
      "text/plain": [
       "True"
      ]
     },
     "execution_count": 4,
     "metadata": {},
     "output_type": "execute_result"
    }
   ],
   "source": [
    "use_gpu = torch.cuda.is_available()\n",
    "use_gpu"
   ]
  },
  {
   "cell_type": "code",
   "execution_count": 5,
   "metadata": {
    "ExecuteTime": {
     "end_time": "2020-05-03T15:37:19.249145Z",
     "start_time": "2020-05-03T15:37:19.233455Z"
    }
   },
   "outputs": [],
   "source": [
    "mini_batch=64\n",
    "transfrom=transforms.Compose([transforms.ToTensor(),\n",
    "                             transforms.Normalize((0.1307,),(0.3081,))\n",
    "                             ])"
   ]
  },
  {
   "cell_type": "code",
   "execution_count": 6,
   "metadata": {
    "ExecuteTime": {
     "end_time": "2020-05-03T15:37:19.286480Z",
     "start_time": "2020-05-03T15:37:19.249145Z"
    }
   },
   "outputs": [],
   "source": [
    "train_data=MNIST('./datas/mnist',\n",
    "                 train=True,\n",
    "                 download=False,\n",
    "                 transform=transfrom)\n",
    "test_data=MNIST('./datas/mnist',\n",
    "                train=False,\n",
    "                download=False,\n",
    "                transform=transfrom)"
   ]
  },
  {
   "cell_type": "code",
   "execution_count": 7,
   "metadata": {
    "ExecuteTime": {
     "end_time": "2020-05-03T15:37:19.302320Z",
     "start_time": "2020-05-03T15:37:19.286480Z"
    }
   },
   "outputs": [],
   "source": [
    "train_loader=DataLoader(dataset=train_data,\n",
    "                        shuffle=True,\n",
    "                        batch_size=mini_batch)\n",
    "test_loader=DataLoader(dataset=test_data,\n",
    "                       shuffle=False,\n",
    "                       batch_size=mini_batch)"
   ]
  },
  {
   "cell_type": "code",
   "execution_count": 8,
   "metadata": {
    "ExecuteTime": {
     "end_time": "2020-05-03T15:37:19.317939Z",
     "start_time": "2020-05-03T15:37:19.302320Z"
    }
   },
   "outputs": [],
   "source": [
    "class Model(torch.nn.Module):\n",
    "    def __init__(self):\n",
    "        super(Model,self).__init__()\n",
    "        self.linear1=torch.nn.Linear(784,512)\n",
    "        self.linear2=torch.nn.Linear(512,256)\n",
    "        self.linear3=torch.nn.Linear(256,128)\n",
    "        self.linear4=torch.nn.Linear(128,64)\n",
    "        self.linear5=torch.nn.Linear(64,10)\n",
    "    def forward(self,x):\n",
    "        x=x.view(-1,784)\n",
    "        x=F.relu(self.linear1(x))\n",
    "        x=F.relu(self.linear2(x))\n",
    "        x=F.relu(self.linear3(x))\n",
    "        x=F.relu(self.linear4(x))\n",
    "        x=self.linear5(x)\n",
    "        return x\n",
    "model=Model()"
   ]
  },
  {
   "cell_type": "code",
   "execution_count": 9,
   "metadata": {
    "ExecuteTime": {
     "end_time": "2020-05-03T15:37:19.333305Z",
     "start_time": "2020-05-03T15:37:19.317939Z"
    }
   },
   "outputs": [],
   "source": [
    "criterion=torch.nn.CrossEntropyLoss()\n",
    "optimizer=torch.optim.SGD(params=model.parameters(),lr=0.01,momentum=0.5)"
   ]
  },
  {
   "cell_type": "code",
   "execution_count": 10,
   "metadata": {
    "ExecuteTime": {
     "end_time": "2020-05-03T15:37:20.875357Z",
     "start_time": "2020-05-03T15:37:19.333305Z"
    }
   },
   "outputs": [],
   "source": [
    "if(use_gpu):\n",
    "    model = model.cuda()\n",
    "    criterion = criterion.cuda()"
   ]
  },
  {
   "cell_type": "code",
   "execution_count": 11,
   "metadata": {
    "ExecuteTime": {
     "end_time": "2020-05-03T15:37:20.902274Z",
     "start_time": "2020-05-03T15:37:20.875357Z"
    }
   },
   "outputs": [],
   "source": [
    "def train(epoch):\n",
    "    running_loss=0.0\n",
    "    for batch_idx,data in enumerate(train_loader):\n",
    "        x,y=data\n",
    "        if (use_gpu):\n",
    "            x,y = x.cuda(),y.cuda()\n",
    "        optimizer.zero_grad()\n",
    "        y_=model(x)\n",
    "        loss=criterion(y_,y)\n",
    "        loss.backward()\n",
    "        optimizer.step()\n",
    "        running_loss+=loss.item()\n",
    "        if batch_idx%300==0:\n",
    "            print('[%d, %5d] loss: %.3f'%(epoch+1,batch_idx+1,running_loss/300))\n",
    "            running_loss=0.0\n",
    "def test():\n",
    "    correct=0\n",
    "    total=0\n",
    "    with torch.no_grad():\n",
    "        for data in test_loader:\n",
    "            x,y=data\n",
    "            if (use_gpu):\n",
    "                x,y = x.cuda(),y.cuda()\n",
    "            y_=model(x)\n",
    "            _,predicted=torch.max(y_.data,dim=1)\n",
    "            total+=y.size(0)\n",
    "            correct+=(predicted==y).sum().item()\n",
    "    print('Accuracy=',100*correct/total)"
   ]
  },
  {
   "cell_type": "code",
   "execution_count": 12,
   "metadata": {
    "ExecuteTime": {
     "end_time": "2020-05-03T15:39:28.681516Z",
     "start_time": "2020-05-03T15:37:20.902274Z"
    }
   },
   "outputs": [
    {
     "name": "stdout",
     "output_type": "stream",
     "text": [
      "[1,     1] loss: 0.008\n",
      "[1,   301] loss: 2.224\n",
      "[1,   601] loss: 0.896\n",
      "[1,   901] loss: 0.414\n",
      "Accuracy= 89.44\n",
      "[2,     1] loss: 0.002\n",
      "[2,   301] loss: 0.310\n",
      "[2,   601] loss: 0.270\n",
      "[2,   901] loss: 0.233\n",
      "Accuracy= 93.78\n",
      "[3,     1] loss: 0.001\n",
      "[3,   301] loss: 0.188\n",
      "[3,   601] loss: 0.172\n",
      "[3,   901] loss: 0.158\n",
      "Accuracy= 95.05\n",
      "[4,     1] loss: 0.001\n",
      "[4,   301] loss: 0.131\n",
      "[4,   601] loss: 0.120\n",
      "[4,   901] loss: 0.120\n",
      "Accuracy= 96.72\n",
      "[5,     1] loss: 0.000\n",
      "[5,   301] loss: 0.099\n",
      "[5,   601] loss: 0.095\n",
      "[5,   901] loss: 0.088\n",
      "Accuracy= 97.04\n",
      "[6,     1] loss: 0.000\n",
      "[6,   301] loss: 0.073\n",
      "[6,   601] loss: 0.076\n",
      "[6,   901] loss: 0.076\n",
      "Accuracy= 97.13\n",
      "[7,     1] loss: 0.000\n",
      "[7,   301] loss: 0.059\n",
      "[7,   601] loss: 0.060\n",
      "[7,   901] loss: 0.061\n",
      "Accuracy= 97.16\n",
      "[8,     1] loss: 0.001\n",
      "[8,   301] loss: 0.047\n",
      "[8,   601] loss: 0.051\n",
      "[8,   901] loss: 0.052\n",
      "Accuracy= 97.61\n",
      "[9,     1] loss: 0.000\n",
      "[9,   301] loss: 0.040\n",
      "[9,   601] loss: 0.039\n",
      "[9,   901] loss: 0.042\n",
      "Accuracy= 97.54\n",
      "[10,     1] loss: 0.000\n",
      "[10,   301] loss: 0.033\n",
      "[10,   601] loss: 0.034\n",
      "[10,   901] loss: 0.033\n",
      "Accuracy= 97.58\n"
     ]
    }
   ],
   "source": [
    "for epoch in range(10):\n",
    "    train(epoch)\n",
    "    test()"
   ]
  }
 ],
 "metadata": {
  "kernelspec": {
   "display_name": "Python 3",
   "language": "python",
   "name": "python3"
  },
  "language_info": {
   "codemirror_mode": {
    "name": "ipython",
    "version": 3
   },
   "file_extension": ".py",
   "mimetype": "text/x-python",
   "name": "python",
   "nbconvert_exporter": "python",
   "pygments_lexer": "ipython3",
   "version": "3.7.3"
  },
  "toc": {
   "base_numbering": 1,
   "nav_menu": {},
   "number_sections": true,
   "sideBar": true,
   "skip_h1_title": false,
   "title_cell": "Table of Contents",
   "title_sidebar": "Contents",
   "toc_cell": false,
   "toc_position": {},
   "toc_section_display": true,
   "toc_window_display": false
  }
 },
 "nbformat": 4,
 "nbformat_minor": 4
}
