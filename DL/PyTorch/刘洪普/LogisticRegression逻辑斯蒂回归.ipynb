{
 "cells": [
  {
   "cell_type": "code",
   "execution_count": 13,
   "metadata": {
    "ExecuteTime": {
     "end_time": "2020-05-02T05:45:07.776640Z",
     "start_time": "2020-05-02T05:45:07.773575Z"
    }
   },
   "outputs": [],
   "source": [
    "import torch\n",
    "import matplotlib.pyplot as plt\n",
    "import numpy as np"
   ]
  },
  {
   "cell_type": "code",
   "execution_count": 3,
   "metadata": {
    "ExecuteTime": {
     "end_time": "2020-05-02T05:32:17.143612Z",
     "start_time": "2020-05-02T05:32:17.114415Z"
    }
   },
   "outputs": [],
   "source": [
    "x_data=torch.Tensor([[1.0],[2.0],[3.0]])\n",
    "y_data=torch.Tensor([[0],[0],[1]])"
   ]
  },
  {
   "cell_type": "code",
   "execution_count": 4,
   "metadata": {
    "ExecuteTime": {
     "end_time": "2020-05-02T05:35:42.638323Z",
     "start_time": "2020-05-02T05:35:42.622698Z"
    }
   },
   "outputs": [],
   "source": [
    "class LogisticModel(torch.nn.Module):\n",
    "    def __init__(self):\n",
    "        super(LogisticModel,self).__init__()\n",
    "        self.linear=torch.nn.Linear(1,1)\n",
    "        \n",
    "    def forward(self,x):\n",
    "        y_=torch.nn.functional.sigmoid(self.linear(x))\n",
    "        return y_"
   ]
  },
  {
   "cell_type": "code",
   "execution_count": 5,
   "metadata": {
    "ExecuteTime": {
     "end_time": "2020-05-02T05:39:23.385289Z",
     "start_time": "2020-05-02T05:39:23.377319Z"
    }
   },
   "outputs": [],
   "source": [
    "model=LogisticModel()"
   ]
  },
  {
   "cell_type": "code",
   "execution_count": 7,
   "metadata": {
    "ExecuteTime": {
     "end_time": "2020-05-02T05:39:56.494689Z",
     "start_time": "2020-05-02T05:39:56.491603Z"
    }
   },
   "outputs": [],
   "source": [
    "criterion=torch.nn.BCELoss(size_average=False)\n",
    "optimizer=torch.optim.SGD(params=model.parameters(),lr=0.01)"
   ]
  },
  {
   "cell_type": "code",
   "execution_count": 45,
   "metadata": {
    "ExecuteTime": {
     "end_time": "2020-05-02T05:54:30.020754Z",
     "start_time": "2020-05-02T05:54:27.298968Z"
    },
    "collapsed": true
   },
   "outputs": [
    {
     "name": "stderr",
     "output_type": "stream",
     "text": [
      "c:\\users\\root\\appdata\\local\\programs\\python\\python37\\lib\\site-packages\\torch\\nn\\functional.py:1569: UserWarning: nn.functional.sigmoid is deprecated. Use torch.sigmoid instead.\n",
      "  warnings.warn(\"nn.functional.sigmoid is deprecated. Use torch.sigmoid instead.\")\n"
     ]
    },
    {
     "name": "stdout",
     "output_type": "stream",
     "text": [
      "0 0.013920536264777184\n",
      "100 0.013913994655013084\n",
      "200 0.013907572254538536\n",
      "300 0.013901149854063988\n",
      "400 0.013894728384912014\n",
      "500 0.013888366520404816\n",
      "600 0.013881944119930267\n",
      "700 0.013875521719455719\n",
      "800 0.013869218528270721\n",
      "900 0.013862738385796547\n",
      "1000 0.013856494799256325\n",
      "1100 0.013850013725459576\n",
      "1200 0.013843651860952377\n",
      "1300 0.013837229460477829\n",
      "1400 0.01383086759597063\n",
      "1500 0.013824505731463432\n",
      "1600 0.013818023726344109\n",
      "1700 0.01381172239780426\n",
      "1800 0.013805359601974487\n",
      "1900 0.013798997737467289\n",
      "2000 0.013792695477604866\n",
      "2100 0.013786214403808117\n",
      "2200 0.013779973611235619\n",
      "2300 0.013773669488728046\n",
      "2400 0.013767425902187824\n",
      "2500 0.013761121779680252\n",
      "2600 0.013754819519817829\n",
      "2700 0.013748636469244957\n",
      "2800 0.01374233327805996\n",
      "2900 0.013736030086874962\n",
      "3000 0.013729847967624664\n",
      "3100 0.013723544776439667\n",
      "3200 0.01371736079454422\n",
      "3300 0.013711057603359222\n",
      "3400 0.01370487455278635\n",
      "3500 0.013698572292923927\n",
      "3600 0.013692389242351055\n",
      "3700 0.013686086051166058\n",
      "3800 0.01367984339594841\n",
      "3900 0.013673659414052963\n",
      "4000 0.013667358085513115\n",
      "4100 0.013661174103617668\n",
      "4200 0.01365487091243267\n",
      "4300 0.013648748397827148\n",
      "4400 0.013642445206642151\n",
      "4500 0.013636263087391853\n",
      "4600 0.01363002136349678\n",
      "4700 0.013623837381601334\n",
      "4800 0.01361759565770626\n",
      "4900 0.013611411675810814\n",
      "5000 0.013605169951915741\n",
      "5100 0.013599047437310219\n",
      "5200 0.013592865318059921\n",
      "5300 0.013586681336164474\n",
      "5400 0.013580439612269402\n",
      "5500 0.01357419602572918\n",
      "5600 0.013568073511123657\n",
      "5700 0.013561831787228584\n",
      "5800 0.013555649667978287\n",
      "5900 0.013549527153372765\n",
      "6000 0.013543404638767242\n",
      "6100 0.01353716105222702\n",
      "6200 0.013530979864299297\n",
      "6300 0.013524796813726425\n",
      "6400 0.013518614694476128\n",
      "6500 0.013512492179870605\n",
      "6600 0.013506369665265083\n",
      "6700 0.013500247150659561\n",
      "6800 0.013494005426764488\n",
      "6900 0.013487943448126316\n",
      "7000 0.013481700792908669\n",
      "7100 0.013475578278303146\n",
      "7200 0.013469456695020199\n",
      "7300 0.013463335111737251\n",
      "7400 0.013457272201776505\n",
      "7500 0.013451090082526207\n",
      "7600 0.01344490796327591\n",
      "7700 0.013438904657959938\n",
      "7800 0.013432662934064865\n",
      "7900 0.013426601886749268\n",
      "8000 0.013420479372143745\n",
      "8100 0.013414297252893448\n",
      "8200 0.0134081756696105\n",
      "8300 0.013402113690972328\n",
      "8400 0.013395991176366806\n",
      "8500 0.013389929197728634\n",
      "8600 0.013383807614445686\n",
      "8700 0.013377685099840164\n",
      "8800 0.013371624052524567\n",
      "8900 0.013365441933274269\n",
      "9000 0.013359379954636097\n",
      "9100 0.01335325837135315\n",
      "9200 0.013347196392714977\n",
      "9300 0.013341134414076805\n",
      "9400 0.013335013762116432\n",
      "9500 0.013329070061445236\n",
      "9600 0.013322889804840088\n",
      "9700 0.013316947966814041\n",
      "9800 0.013310765847563744\n",
      "9900 0.013304704800248146\n"
     ]
    }
   ],
   "source": [
    "loss_list=[]\n",
    "for epoch in range(10000):\n",
    "    y_=model(x_data)\n",
    "    loss=criterion(y_,y_data)\n",
    "    if epoch%100==0:\n",
    "        print(epoch,loss.item())\n",
    "    loss_list.append(loss.item())\n",
    "    optimizer.zero_grad()\n",
    "    loss.backward()\n",
    "    optimizer.step()"
   ]
  },
  {
   "cell_type": "code",
   "execution_count": 46,
   "metadata": {
    "ExecuteTime": {
     "end_time": "2020-05-02T05:54:34.533312Z",
     "start_time": "2020-05-02T05:54:34.526290Z"
    }
   },
   "outputs": [
    {
     "data": {
      "text/plain": [
       "0.9999997615814209"
      ]
     },
     "metadata": {},
     "output_type": "display_data"
    },
    {
     "data": {
      "text/plain": [
       "1.0"
      ]
     },
     "execution_count": 46,
     "metadata": {},
     "output_type": "execute_result"
    }
   ],
   "source": [
    "y_test=model(torch.Tensor([[4]]))\n",
    "display(y_test.data.item())\n",
    "np.sign(y_test.data.item())"
   ]
  },
  {
   "cell_type": "code",
   "execution_count": 47,
   "metadata": {
    "ExecuteTime": {
     "end_time": "2020-05-02T05:54:36.753484Z",
     "start_time": "2020-05-02T05:54:36.649220Z"
    }
   },
   "outputs": [
    {
     "data": {
      "text/plain": [
       "[<matplotlib.lines.Line2D at 0x19919bb58d0>]"
      ]
     },
     "execution_count": 47,
     "metadata": {},
     "output_type": "execute_result"
    },
    {
     "data": {
      "image/png": "[encoded data removed]",
      "text/plain": [
       "<Figure size 432x288 with 1 Axes>"
      ]
     },
     "metadata": {
      "needs_background": "light"
     },
     "output_type": "display_data"
    }
   ],
   "source": [
    "cl=np.linspace(0,1,num=len(loss_list))\n",
    "plt.plot(loss_list,cl)"
   ]
  }
 ],
 "metadata": {
  "kernelspec": {
   "display_name": "Python 3",
   "language": "python",
   "name": "python3"
  },
  "language_info": {
   "codemirror_mode": {
    "name": "ipython",
    "version": 3
   },
   "file_extension": ".py",
   "mimetype": "text/x-python",
   "name": "python",
   "nbconvert_exporter": "python",
   "pygments_lexer": "ipython3",
   "version": "3.7.3"
  },
  "toc": {
   "base_numbering": 1,
   "nav_menu": {},
   "number_sections": true,
   "sideBar": true,
   "skip_h1_title": false,
   "title_cell": "Table of Contents",
   "title_sidebar": "Contents",
   "toc_cell": false,
   "toc_position": {},
   "toc_section_display": true,
   "toc_window_display": false
  }
 },
 "nbformat": 4,
 "nbformat_minor": 4
}
