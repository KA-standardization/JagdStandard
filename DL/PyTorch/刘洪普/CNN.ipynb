{
 "cells": [
  {
   "cell_type": "code",
   "execution_count": 1,
   "metadata": {
    "ExecuteTime": {
     "end_time": "2020-05-06T13:07:32.352519Z",
     "start_time": "2020-05-06T13:07:31.534953Z"
    }
   },
   "outputs": [],
   "source": [
    "import torch\n",
    "from torchvision.datasets import MNIST\n",
    "from torchvision import transforms\n",
    "from torch.utils.data import DataLoader\n",
    "import torch.nn.functional as F"
   ]
  },
  {
   "cell_type": "code",
   "execution_count": 2,
   "metadata": {
    "ExecuteTime": {
     "end_time": "2020-05-06T13:07:32.368218Z",
     "start_time": "2020-05-06T13:07:32.352519Z"
    }
   },
   "outputs": [],
   "source": [
    "transform=transforms.Compose([transforms.ToTensor(),transforms.Normalize((0.1307,),(0.3081,))])\n",
    "mini_batch=128"
   ]
  },
  {
   "cell_type": "code",
   "execution_count": 3,
   "metadata": {
    "ExecuteTime": {
     "end_time": "2020-05-06T13:07:32.406034Z",
     "start_time": "2020-05-06T13:07:32.368218Z"
    }
   },
   "outputs": [],
   "source": [
    "train_data=MNIST('./datas/mnist',train=True,download=False,transform=transform)\n",
    "test_data=MNIST('./datas/mnist',train=False,download=False,transform=transform)"
   ]
  },
  {
   "cell_type": "code",
   "execution_count": 4,
   "metadata": {
    "ExecuteTime": {
     "end_time": "2020-05-06T13:07:32.421655Z",
     "start_time": "2020-05-06T13:07:32.406034Z"
    }
   },
   "outputs": [],
   "source": [
    "train_loader=DataLoader(dataset=train_data,batch_size=mini_batch,shuffle=True,num_workers=8)\n",
    "test_loader=DataLoader(dataset=test_data,batch_size=mini_batch,shuffle=False,num_workers=8)"
   ]
  },
  {
   "cell_type": "code",
   "execution_count": 5,
   "metadata": {
    "ExecuteTime": {
     "end_time": "2020-05-06T13:07:32.437279Z",
     "start_time": "2020-05-06T13:07:32.421655Z"
    }
   },
   "outputs": [],
   "source": [
    "class Model(torch.nn.Module):\n",
    "    def __init__(self):\n",
    "        super(Model,self).__init__()\n",
    "        self.conv1=torch.nn.Conv2d(1,10,kernel_size=5)\n",
    "        self.conv2=torch.nn.Conv2d(10,20,kernel_size=5)\n",
    "        self.pooling=torch.nn.MaxPool2d(kernel_size=2)\n",
    "        self.linear1=torch.nn.Linear(320,256)\n",
    "        self.linear2=torch.nn.Linear(256,128)\n",
    "        self.linear3=torch.nn.Linear(128,64)\n",
    "        self.linear4=torch.nn.Linear(64,10)\n",
    "    def forward(self,x):\n",
    "        batch_size=x.size(0)\n",
    "        x=self.pooling(F.relu(self.conv1(x)))\n",
    "        x=self.pooling(F.relu(self.conv2(x)))\n",
    "        x=x.view(batch_size,-1)\n",
    "        x=F.relu(self.linear1(x))\n",
    "        x=F.relu(self.linear2(x))\n",
    "        x=F.relu(self.linear3(x))\n",
    "        x=self.linear4(x)\n",
    "        return x\n",
    "model=Model()"
   ]
  },
  {
   "cell_type": "code",
   "execution_count": 6,
   "metadata": {
    "ExecuteTime": {
     "end_time": "2020-05-06T13:07:34.041535Z",
     "start_time": "2020-05-06T13:07:32.437279Z"
    }
   },
   "outputs": [
    {
     "data": {
      "text/plain": [
       "Model(\n",
       "  (conv1): Conv2d(1, 10, kernel_size=(5, 5), stride=(1, 1))\n",
       "  (conv2): Conv2d(10, 20, kernel_size=(5, 5), stride=(1, 1))\n",
       "  (pooling): MaxPool2d(kernel_size=2, stride=2, padding=0, dilation=1, ceil_mode=False)\n",
       "  (linear1): Linear(in_features=320, out_features=256, bias=True)\n",
       "  (linear2): Linear(in_features=256, out_features=128, bias=True)\n",
       "  (linear3): Linear(in_features=128, out_features=64, bias=True)\n",
       "  (linear4): Linear(in_features=64, out_features=10, bias=True)\n",
       ")"
      ]
     },
     "execution_count": 6,
     "metadata": {},
     "output_type": "execute_result"
    }
   ],
   "source": [
    "device = torch.device(\"cuda:0\" if torch.cuda.is_available() else \"cpu\")\n",
    "model.to(device)"
   ]
  },
  {
   "cell_type": "code",
   "execution_count": 7,
   "metadata": {
    "ExecuteTime": {
     "end_time": "2020-05-06T13:07:34.069386Z",
     "start_time": "2020-05-06T13:07:34.041535Z"
    }
   },
   "outputs": [
    {
     "name": "stderr",
     "output_type": "stream",
     "text": [
      "c:\\users\\root\\appdata\\local\\programs\\python\\python37\\lib\\site-packages\\torch\\nn\\_reduction.py:43: UserWarning: size_average and reduce args will be deprecated, please use reduction='mean' instead.\n",
      "  warnings.warn(warning.format(ret))\n"
     ]
    }
   ],
   "source": [
    "criterion=torch.nn.CrossEntropyLoss(size_average=True)\n",
    "optimizer=torch.optim.SGD(params=model.parameters(),lr=0.01,momentum=0.5)"
   ]
  },
  {
   "cell_type": "code",
   "execution_count": 1,
   "metadata": {
    "ExecuteTime": {
     "end_time": "2020-05-08T23:05:01.754415Z",
     "start_time": "2020-05-08T23:05:01.744405Z"
    }
   },
   "outputs": [],
   "source": [
    "def train(epoch):\n",
    "    running_loss=0.0\n",
    "    for batch_idx,data in enumerate(train_loader):\n",
    "        x,y=data\n",
    "        x,y=x.to(device),y.to(device)\n",
    "        optimizer.zero_grad()\n",
    "        y_=model(x)\n",
    "        loss=criterion(y_,y)\n",
    "        loss.backward()\n",
    "        optimizer.step()\n",
    "        running_loss+=loss.item()\n",
    "        if batch_idx%500==0:\n",
    "            print('[%d, %5d] loss: %.3f'%(epoch+1,batch_idx+1,running_loss/500))\n",
    "            running_loss=0.0\n",
    "def test():\n",
    "    correct=0\n",
    "    total=0\n",
    "    with torch.no_grad():\n",
    "        for data in test_loader:\n",
    "            x,y=data\n",
    "            x,y=x.to(device),y.to(device)\n",
    "            y_=model(x)\n",
    "            _,predicted=torch.max(y_.data,dim=1)\n",
    "            total+=y.size(0)\n",
    "            correct+=(predicted==y).sum().item()\n",
    "    print('Accuracy=',100*correct/total)"
   ]
  },
  {
   "cell_type": "code",
   "execution_count": 9,
   "metadata": {
    "ExecuteTime": {
     "end_time": "2020-05-06T13:08:51.014717Z",
     "start_time": "2020-05-06T13:07:34.094598Z"
    }
   },
   "outputs": [
    {
     "name": "stdout",
     "output_type": "stream",
     "text": [
      "[1,     1] loss: 0.005\n",
      "Accuracy= 89.07\n",
      "[2,     1] loss: 0.001\n",
      "Accuracy= 94.36\n",
      "[3,     1] loss: 0.000\n",
      "Accuracy= 96.33\n",
      "[4,     1] loss: 0.000\n",
      "Accuracy= 97.12\n",
      "[5,     1] loss: 0.000\n",
      "Accuracy= 97.36\n",
      "[6,     1] loss: 0.000\n",
      "Accuracy= 97.82\n",
      "[7,     1] loss: 0.000\n",
      "Accuracy= 98.13\n",
      "[8,     1] loss: 0.000\n",
      "Accuracy= 98.22\n",
      "[9,     1] loss: 0.000\n",
      "Accuracy= 98.18\n",
      "[10,     1] loss: 0.000\n",
      "Accuracy= 98.43\n",
      "Wall time: 1min 16s\n"
     ]
    }
   ],
   "source": [
    "%%time\n",
    "for epoch in range(10):\n",
    "    train(epoch)\n",
    "    test()"
   ]
  }
 ],
 "metadata": {
  "kernelspec": {
   "display_name": "Python 3",
   "language": "python",
   "name": "python3"
  },
  "language_info": {
   "codemirror_mode": {
    "name": "ipython",
    "version": 3
   },
   "file_extension": ".py",
   "mimetype": "text/x-python",
   "name": "python",
   "nbconvert_exporter": "python",
   "pygments_lexer": "ipython3",
   "version": "3.7.3"
  },
  "toc": {
   "base_numbering": 1,
   "nav_menu": {},
   "number_sections": true,
   "sideBar": true,
   "skip_h1_title": false,
   "title_cell": "Table of Contents",
   "title_sidebar": "Contents",
   "toc_cell": false,
   "toc_position": {},
   "toc_section_display": true,
   "toc_window_display": false
  }
 },
 "nbformat": 4,
 "nbformat_minor": 4
}
