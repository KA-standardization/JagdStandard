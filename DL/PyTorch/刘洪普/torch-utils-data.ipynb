{
 "cells": [
  {
   "cell_type": "code",
   "execution_count": 1,
   "metadata": {
    "ExecuteTime": {
     "end_time": "2020-05-03T13:03:00.822994Z",
     "start_time": "2020-05-03T13:03:00.273535Z"
    }
   },
   "outputs": [],
   "source": [
    "import torch\n",
    "from torch.utils.data import Dataset,DataLoader\n",
    "import numpy as np"
   ]
  },
  {
   "cell_type": "code",
   "execution_count": 2,
   "metadata": {
    "ExecuteTime": {
     "end_time": "2020-05-03T13:03:00.843384Z",
     "start_time": "2020-05-03T13:03:00.822994Z"
    }
   },
   "outputs": [],
   "source": [
    "class TestDataset(Dataset):\n",
    "    def __init__(self):\n",
    "        self.Data=np.asarray([[1,2],[3,4],[2,1],[3,4],[4,5]])\n",
    "        self.Lable=np.asarray([0,1,0,1,2])\n",
    "    def __getitem__(self,index):\n",
    "        txt=torch.from_numpy(self.Data[index])\n",
    "        lable=torch.tensor(self.Lable[index])\n",
    "        return txt,lable\n",
    "    def __len__(self):\n",
    "        return len(self.Data)"
   ]
  },
  {
   "cell_type": "code",
   "execution_count": 7,
   "metadata": {
    "ExecuteTime": {
     "end_time": "2020-05-03T13:16:50.794324Z",
     "start_time": "2020-05-03T13:16:50.788566Z"
    },
    "code_folding": []
   },
   "outputs": [],
   "source": [
    "dataset=TestDataset()\n",
    "train_loder=DataLoader(dataset=dataset,batch_size=2,shuffle=False,num_workers=2)\n",
    "if '__name__'=='__main__':\n",
    "    for i,data in enumerate(train_loder):\n",
    "        print(i)\n",
    "        x,y=data\n",
    "        print('x=',x)\n",
    "        print('y=',y)"
   ]
  }
 ],
 "metadata": {
  "kernelspec": {
   "display_name": "Python 3",
   "language": "python",
   "name": "python3"
  },
  "language_info": {
   "codemirror_mode": {
    "name": "ipython",
    "version": 3
   },
   "file_extension": ".py",
   "mimetype": "text/x-python",
   "name": "python",
   "nbconvert_exporter": "python",
   "pygments_lexer": "ipython3",
   "version": "3.7.3"
  },
  "toc": {
   "base_numbering": 1,
   "nav_menu": {},
   "number_sections": true,
   "sideBar": true,
   "skip_h1_title": false,
   "title_cell": "Table of Contents",
   "title_sidebar": "Contents",
   "toc_cell": false,
   "toc_position": {},
   "toc_section_display": true,
   "toc_window_display": false
  }
 },
 "nbformat": 4,
 "nbformat_minor": 4
}
