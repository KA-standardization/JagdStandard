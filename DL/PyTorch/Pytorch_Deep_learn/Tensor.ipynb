{
 "cells": [
  {
   "cell_type": "code",
   "execution_count": 1,
   "metadata": {
    "ExecuteTime": {
     "end_time": "2020-06-29T05:55:47.912762Z",
     "start_time": "2020-06-29T05:55:46.267206Z"
    }
   },
   "outputs": [],
   "source": [
    "import torch"
   ]
  },
  {
   "cell_type": "markdown",
   "metadata": {},
   "source": [
    "### Tensor&tensor几点区别\n",
    "torch.Tensor : torch.empty&torch.tensor之间的一种混合,使用全局默认的dtype(FloatTensor)  \n",
    "torch.Tensor(1) : 返回大小为1的张量,其值为随机初始化的值  \n",
    "torch.tensor : 从数据中推断数据类型  \n",
    "torch.tensor(1) : 返回标量,其值为1"
   ]
  },
  {
   "cell_type": "code",
   "execution_count": 71,
   "metadata": {
    "ExecuteTime": {
     "end_time": "2020-06-29T06:05:29.729892Z",
     "start_time": "2020-06-29T06:05:29.723909Z"
    }
   },
   "outputs": [
    {
     "name": "stdout",
     "output_type": "stream",
     "text": [
      "Tensor--> tensor([0.]), 类型: torch.FloatTensor\n",
      "tensor--> 1, 类型: torch.LongTensor\n"
     ]
    }
   ],
   "source": [
    "t1=torch.Tensor(1)\n",
    "t2=torch.tensor(1)\n",
    "print('Tensor--> {}, 类型: {}'.format(t1,t1.type()))\n",
    "print('tensor--> {}, 类型: {}'.format(t2,t2.type()))"
   ]
  },
  {
   "cell_type": "markdown",
   "metadata": {
    "heading_collapsed": true
   },
   "source": [
    "### 创建Tensor"
   ]
  },
  {
   "cell_type": "code",
   "execution_count": 72,
   "metadata": {
    "ExecuteTime": {
     "end_time": "2020-06-29T06:06:54.762148Z",
     "start_time": "2020-06-29T06:06:54.759154Z"
    },
    "hidden": true
   },
   "outputs": [],
   "source": [
    "import numpy as np"
   ]
  },
  {
   "cell_type": "code",
   "execution_count": 83,
   "metadata": {
    "ExecuteTime": {
     "end_time": "2020-06-29T06:09:06.206572Z",
     "start_time": "2020-06-29T06:09:06.200116Z"
    },
    "hidden": true
   },
   "outputs": [
    {
     "data": {
      "text/plain": [
       "tensor([[[0., 0., 0.],\n",
       "         [0., 0., 0.]]])"
      ]
     },
     "execution_count": 83,
     "metadata": {},
     "output_type": "execute_result"
    }
   ],
   "source": [
    "t3=np.ndarray([1,2,3])\n",
    "torch.Tensor(t3)"
   ]
  },
  {
   "cell_type": "code",
   "execution_count": 106,
   "metadata": {
    "ExecuteTime": {
     "end_time": "2020-06-29T07:23:47.091487Z",
     "start_time": "2020-06-29T07:23:47.086458Z"
    },
    "hidden": true
   },
   "outputs": [
    {
     "data": {
      "text/plain": [
       "tensor([[[0., 0., 0.],\n",
       "         [0., 0., 0.]]], dtype=torch.float64)"
      ]
     },
     "execution_count": 106,
     "metadata": {},
     "output_type": "execute_result"
    }
   ],
   "source": [
    "torch.from_numpy(t3)"
   ]
  },
  {
   "cell_type": "code",
   "execution_count": 86,
   "metadata": {
    "ExecuteTime": {
     "end_time": "2020-06-29T06:09:56.068874Z",
     "start_time": "2020-06-29T06:09:56.062432Z"
    },
    "hidden": true
   },
   "outputs": [
    {
     "data": {
      "text/plain": [
       "tensor([1., 2., 3., 4.])"
      ]
     },
     "execution_count": 86,
     "metadata": {},
     "output_type": "execute_result"
    }
   ],
   "source": [
    "list_a=[1,2,3,4]\n",
    "torch.Tensor(list_a)"
   ]
  },
  {
   "cell_type": "code",
   "execution_count": 93,
   "metadata": {
    "ExecuteTime": {
     "end_time": "2020-06-29T06:12:00.838102Z",
     "start_time": "2020-06-29T06:12:00.832119Z"
    },
    "hidden": true
   },
   "outputs": [
    {
     "data": {
      "text/plain": [
       "tensor([[1., 0., 0.],\n",
       "        [0., 1., 0.],\n",
       "        [0., 0., 1.]])"
      ]
     },
     "execution_count": 93,
     "metadata": {},
     "output_type": "execute_result"
    }
   ],
   "source": [
    "torch.eye(3) # torch.eye(3,3) eye(rows,columns)"
   ]
  },
  {
   "cell_type": "code",
   "execution_count": 95,
   "metadata": {
    "ExecuteTime": {
     "end_time": "2020-06-29T06:14:47.487294Z",
     "start_time": "2020-06-29T06:14:47.481311Z"
    },
    "hidden": true
   },
   "outputs": [
    {
     "data": {
      "text/plain": [
       "tensor([ 100.0000,  129.1550,  166.8101,  215.4435,  278.2560,  359.3814,\n",
       "         464.1589,  599.4843,  774.2637, 1000.0000])"
      ]
     },
     "execution_count": 95,
     "metadata": {},
     "output_type": "execute_result"
    }
   ],
   "source": [
    "torch.logspace(2,3,10) #从10^start 到10^end 均匀分成steps份"
   ]
  },
  {
   "cell_type": "code",
   "execution_count": 102,
   "metadata": {
    "ExecuteTime": {
     "end_time": "2020-06-29T06:21:16.642876Z",
     "start_time": "2020-06-29T06:21:16.639884Z"
    },
    "hidden": true
   },
   "outputs": [],
   "source": [
    "# ones()\n",
    "# zeros()\n",
    "# linspace()\n",
    "# rand/randn [0,1)均匀分布/标准正态分布"
   ]
  },
  {
   "cell_type": "markdown",
   "metadata": {},
   "source": [
    "### 修改Tensor形状\n"
   ]
  },
  {
   "cell_type": "code",
   "execution_count": null,
   "metadata": {},
   "outputs": [],
   "source": []
  }
 ],
 "metadata": {
  "kernelspec": {
   "display_name": "Python 3",
   "language": "python",
   "name": "python3"
  },
  "language_info": {
   "codemirror_mode": {
    "name": "ipython",
    "version": 3
   },
   "file_extension": ".py",
   "mimetype": "text/x-python",
   "name": "python",
   "nbconvert_exporter": "python",
   "pygments_lexer": "ipython3",
   "version": "3.7.3"
  },
  "toc": {
   "base_numbering": 1,
   "nav_menu": {},
   "number_sections": true,
   "sideBar": true,
   "skip_h1_title": false,
   "title_cell": "Table of Contents",
   "title_sidebar": "Contents",
   "toc_cell": false,
   "toc_position": {},
   "toc_section_display": true,
   "toc_window_display": false
  }
 },
 "nbformat": 4,
 "nbformat_minor": 4
}
