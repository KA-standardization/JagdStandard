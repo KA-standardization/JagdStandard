{
 "cells": [
  {
   "cell_type": "code",
   "execution_count": 4,
   "metadata": {
    "ExecuteTime": {
     "end_time": "2020-07-08T13:43:53.909661Z",
     "start_time": "2020-07-08T13:43:53.880392Z"
    }
   },
   "outputs": [],
   "source": [
    "import pandas as pd\n",
    "import matplotlib.pyplot as plt\n",
    "from sklearn.model_selection import train_test_split,GridSearchCV\n",
    "from sklearn.pipeline import Pipeline\n",
    "from sklearn.linear_model import LogisticRegression\n",
    "from sklearn.feature_extraction.text import TfidfVectorizer\n",
    "from sklearn.preprocessing import LabelEncoder\n",
    "from sklearn.metrics import accuracy_score,precision_score,recall_score,f1_score,matthews_corrcoef,classification_report,confusion_matrix,auc,roc_curve\n",
    "from sklearn.linear_model import LinearRegression"
   ]
  },
  {
   "cell_type": "code",
   "execution_count": 2,
   "metadata": {
    "ExecuteTime": {
     "end_time": "2020-07-08T13:42:39.154014Z",
     "start_time": "2020-07-08T13:42:39.084598Z"
    }
   },
   "outputs": [],
   "source": [
    "df=pd.read_csv('./datas/SMSSpamCollection',delimiter='\\t',header=None)\n",
    "X=df[1].values\n",
    "y=df[0].values\n",
    "le=LabelEncoder()\n",
    "y_trans=le.fit_transform(y)\n",
    "X_train,X_test,y_train,y_test=train_test_split(X,y_trans)"
   ]
  },
  {
   "cell_type": "code",
   "execution_count": 6,
   "metadata": {
    "ExecuteTime": {
     "end_time": "2020-07-08T13:44:22.230693Z",
     "start_time": "2020-07-08T13:44:22.213776Z"
    }
   },
   "outputs": [],
   "source": [
    "pipeline=Pipeline([('tfidf',TfidfVectorizer()),('logr',LogisticRegression())])\n",
    "parameters={\n",
    "    'tfidf__max_df': (0.25, 0.5, 0.75),\n",
    "    'tfidf__stop_words': ('english', None),\n",
    "    'tfidf__max_features': (2500, 5000, None),\n",
    "    'tfidf__ngram_range': ((1, 1), (1, 2)),\n",
    "    'tfidf__use_idf': (True, False),\n",
    "    'logr__penalty': ('l1', 'l2'),\n",
    "    'logr__C': (0.01, 0.1, 1, 10),\n",
    "}\n",
    "g_search=GridSearchCV(estimator=pipeline,param_grid=parameters,n_jobs=-1,scoring='accuracy',cv=3,verbose=1)"
   ]
  },
  {
   "cell_type": "code",
   "execution_count": 26,
   "metadata": {
    "ExecuteTime": {
     "end_time": "2020-06-21T03:16:11.415983Z",
     "start_time": "2020-06-21T03:15:30.463806Z"
    }
   },
   "outputs": [
    {
     "name": "stdout",
     "output_type": "stream",
     "text": [
      "Fitting 3 folds for each of 576 candidates, totalling 1728 fits\n"
     ]
    },
    {
     "name": "stderr",
     "output_type": "stream",
     "text": [
      "[Parallel(n_jobs=-1)]: Using backend LokyBackend with 12 concurrent workers.\n",
      "[Parallel(n_jobs=-1)]: Done  26 tasks      | elapsed:    3.6s\n",
      "[Parallel(n_jobs=-1)]: Done 176 tasks      | elapsed:    5.7s\n",
      "[Parallel(n_jobs=-1)]: Done 426 tasks      | elapsed:   10.8s\n",
      "[Parallel(n_jobs=-1)]: Done 776 tasks      | elapsed:   16.6s\n",
      "[Parallel(n_jobs=-1)]: Done 1226 tasks      | elapsed:   26.0s\n",
      "[Parallel(n_jobs=-1)]: Done 1728 out of 1728 | elapsed:   40.6s finished\n"
     ]
    },
    {
     "data": {
      "text/plain": [
       "0.9851639148121559"
      ]
     },
     "execution_count": 26,
     "metadata": {},
     "output_type": "execute_result"
    }
   ],
   "source": [
    "g_search.fit(X_train,y_train)\n",
    "g_search.best_score_"
   ]
  },
  {
   "cell_type": "code",
   "execution_count": 29,
   "metadata": {
    "ExecuteTime": {
     "end_time": "2020-06-21T03:19:11.020527Z",
     "start_time": "2020-06-21T03:19:11.013574Z"
    }
   },
   "outputs": [
    {
     "name": "stdout",
     "output_type": "stream",
     "text": [
      "tfidf__max_df ----> 0.5\n",
      "tfidf__stop_words ----> None\n",
      "tfidf__max_features ----> 2500\n",
      "tfidf__ngram_range ----> (1, 2)\n",
      "tfidf__use_idf ----> True\n",
      "logr__penalty ----> l2\n",
      "logr__C ----> 10\n"
     ]
    }
   ],
   "source": [
    "best_params=g_search.best_estimator_.get_params()\n",
    "for name in parameters.keys():\n",
    "    print(name,'---->',best_params[name])"
   ]
  },
  {
   "cell_type": "code",
   "execution_count": 34,
   "metadata": {
    "ExecuteTime": {
     "end_time": "2020-06-21T03:25:35.670594Z",
     "start_time": "2020-06-21T03:25:35.614609Z"
    }
   },
   "outputs": [
    {
     "name": "stdout",
     "output_type": "stream",
     "text": [
      "accuracy 0.9834888729361091\n",
      "precision 0.9942857142857143\n",
      "recall 0.8877551020408163\n",
      "f1 0.9380053908355795\n",
      "马修斯相关系数 0.9305007641018477\n"
     ]
    },
    {
     "data": {
      "text/plain": [
       "'              precision    recall  f1-score   support\\n\\n           0       0.98      1.00      0.99      1197\\n           1       0.99      0.89      0.94       196\\n\\n    accuracy                           0.98      1393\\n   macro avg       0.99      0.94      0.96      1393\\nweighted avg       0.98      0.98      0.98      1393\\n'"
      ]
     },
     "execution_count": 34,
     "metadata": {},
     "output_type": "execute_result"
    }
   ],
   "source": [
    "y_=g_search.predict(X_test)\n",
    "print('accuracy',accuracy_score(y_test,y_))\n",
    "print('precision',precision_score(y_test,y_))\n",
    "print('recall',recall_score(y_test,y_))\n",
    "print('f1',f1_score(y_test,y_))\n",
    "print('马修斯相关系数',matthews_corrcoef(y_test,y_))\n",
    "classification_report(y_test,y_)"
   ]
  },
  {
   "cell_type": "code",
   "execution_count": 40,
   "metadata": {
    "ExecuteTime": {
     "end_time": "2020-06-21T03:29:09.540371Z",
     "start_time": "2020-06-21T03:29:09.423651Z"
    }
   },
   "outputs": [
    {
     "name": "stdout",
     "output_type": "stream",
     "text": [
      "[[1196    1]\n",
      " [  22  174]]\n"
     ]
    },
    {
     "data": {
      "text/plain": [
       "<matplotlib.colorbar.Colorbar at 0x1f8a59c3470>"
      ]
     },
     "execution_count": 40,
     "metadata": {},
     "output_type": "execute_result"
    },
    {
     "data": {
      "image/png": "[encoded data removed]",
      "text/plain": [
       "<Figure size 288x288 with 2 Axes>"
      ]
     },
     "metadata": {
      "needs_background": "light"
     },
     "output_type": "display_data"
    }
   ],
   "source": [
    "confusion=confusion_matrix(y_test,y_)\n",
    "print(confusion)\n",
    "plt.matshow(confusion)\n",
    "plt.ylabel('True')\n",
    "plt.xlabel('predict')\n",
    "plt.colorbar()"
   ]
  },
  {
   "cell_type": "code",
   "execution_count": 53,
   "metadata": {
    "ExecuteTime": {
     "end_time": "2020-06-21T03:37:23.227694Z",
     "start_time": "2020-06-21T03:37:23.186841Z"
    }
   },
   "outputs": [
    {
     "data": {
      "text/plain": [
       "0.9921146403423525"
      ]
     },
     "execution_count": 53,
     "metadata": {},
     "output_type": "execute_result"
    }
   ],
   "source": [
    "proba=g_search.predict_proba(X_test)\n",
    "false_positive,recall,thresholds=roc_curve(y_test,proba[:,1])\n",
    "auc(false_positive,recall)"
   ]
  },
  {
   "cell_type": "code",
   "execution_count": 55,
   "metadata": {
    "ExecuteTime": {
     "end_time": "2020-06-21T03:41:52.498973Z",
     "start_time": "2020-06-21T03:41:52.382662Z"
    }
   },
   "outputs": [
    {
     "data": {
      "text/plain": [
       "Text(0.5, 0, 'flase positive')"
      ]
     },
     "execution_count": 55,
     "metadata": {},
     "output_type": "execute_result"
    },
    {
     "data": {
      "image/png": "[encoded data removed]",
      "text/plain": [
       "<Figure size 432x288 with 1 Axes>"
      ]
     },
     "metadata": {
      "needs_background": "light"
     },
     "output_type": "display_data"
    }
   ],
   "source": [
    "plt.plot(false_positive,recall,c='r',label='AUC=%0.2f'%auc(false_positive,recall))\n",
    "plt.legend()\n",
    "plt.plot([0,1],[0,1],'g--')\n",
    "plt.xlim([0,1])\n",
    "plt.ylim([0,1])\n",
    "plt.ylabel('recall')\n",
    "plt.xlabel('flase positive')"
   ]
  },
  {
   "cell_type": "code",
   "execution_count": 52,
   "metadata": {
    "ExecuteTime": {
     "end_time": "2020-06-21T03:36:46.590492Z",
     "start_time": "2020-06-21T03:36:46.585505Z"
    }
   },
   "outputs": [
    {
     "data": {
      "text/plain": [
       "0.000835421888053467"
      ]
     },
     "execution_count": 52,
     "metadata": {},
     "output_type": "execute_result"
    }
   ],
   "source": [
    "confusion[0,1]/(confusion[0,1]+confusion[0,0]) #假阳性率"
   ]
  },
  {
   "cell_type": "code",
   "execution_count": null,
   "metadata": {},
   "outputs": [],
   "source": []
  },
  {
   "cell_type": "code",
   "execution_count": null,
   "metadata": {},
   "outputs": [],
   "source": []
  },
  {
   "cell_type": "code",
   "execution_count": null,
   "metadata": {},
   "outputs": [],
   "source": []
  },
  {
   "cell_type": "code",
   "execution_count": null,
   "metadata": {},
   "outputs": [],
   "source": []
  },
  {
   "cell_type": "code",
   "execution_count": null,
   "metadata": {},
   "outputs": [],
   "source": []
  },
  {
   "cell_type": "code",
   "execution_count": null,
   "metadata": {},
   "outputs": [],
   "source": []
  },
  {
   "cell_type": "code",
   "execution_count": null,
   "metadata": {},
   "outputs": [],
   "source": []
  }
 ],
 "metadata": {
  "kernelspec": {
   "display_name": "Python 3",
   "language": "python",
   "name": "python3"
  },
  "language_info": {
   "codemirror_mode": {
    "name": "ipython",
    "version": 3
   },
   "file_extension": ".py",
   "mimetype": "text/x-python",
   "name": "python",
   "nbconvert_exporter": "python",
   "pygments_lexer": "ipython3",
   "version": "3.7.3"
  },
  "toc": {
   "base_numbering": 1,
   "nav_menu": {},
   "number_sections": true,
   "sideBar": true,
   "skip_h1_title": false,
   "title_cell": "Table of Contents",
   "title_sidebar": "Contents",
   "toc_cell": false,
   "toc_position": {},
   "toc_section_display": true,
   "toc_window_display": false
  }
 },
 "nbformat": 4,
 "nbformat_minor": 4
}
