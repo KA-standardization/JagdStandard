{
 "cells": [
  {
   "cell_type": "code",
   "execution_count": 4,
   "metadata": {
    "ExecuteTime": {
     "end_time": "2020-06-26T08:22:21.744371Z",
     "start_time": "2020-06-26T08:22:21.738386Z"
    }
   },
   "outputs": [],
   "source": [
    "import numpy as np\n",
    "from sklearn.neighbors import KNeighborsClassifier\n",
    "from sklearn.tree import DecisionTreeClassifier\n",
    "from sklearn.linear_model import LogisticRegression\n",
    "from sklearn.datasets import make_classification\n",
    "from sklearn.base import clone,BaseEstimator,TransformerMixin,ClassifierMixin\n",
    "from sklearn.model_selection import train_test_split"
   ]
  },
  {
   "cell_type": "code",
   "execution_count": 3,
   "metadata": {
    "ExecuteTime": {
     "end_time": "2020-06-26T08:20:12.753635Z",
     "start_time": "2020-06-26T08:20:12.747200Z"
    },
    "code_folding": [
     0
    ]
   },
   "outputs": [],
   "source": [
    "class StackClassifier(BaseEstimator,TransformerMixin,ClassifierMixin):\n",
    "    def __init__(self,classifiers):\n",
    "        self.classifiers=classifiers\n",
    "        self.meta_classifier=DecisionTreeClassifier()\n",
    "    def fit(self,X,y):\n",
    "        for clf in self.classifiers:            \n",
    "            clf.fit(X,y)\n",
    "        self.meta_classifier.fit(self._get_meta_features(X),y)        \n",
    "        return self\n",
    "    def _get_meta_features(self,X):\n",
    "        probas=np.asarray([clf.predict_proba(X) for clf in self.classifiers])\n",
    "        return np.concatenate(probas, axis=1)     \n",
    "    def predict(self,X):\n",
    "        return self.meta_classifier.predict(self._get_meta_features(X))\n",
    "    def predict_proba(self,X):\n",
    "        return self.meta_classifier.predict_proba(self._get_meta_features(X))"
   ]
  },
  {
   "cell_type": "code",
   "execution_count": 5,
   "metadata": {
    "ExecuteTime": {
     "end_time": "2020-06-26T08:23:06.332205Z",
     "start_time": "2020-06-26T08:23:06.324704Z"
    }
   },
   "outputs": [],
   "source": [
    "X,y=make_classification(n_samples=1000,n_features=50,n_informative=30,n_clusters_per_class=3,random_state=31)\n",
    "X_train,X_test,y_train,y_test=train_test_split(X,y,random_state=31)"
   ]
  },
  {
   "cell_type": "code",
   "execution_count": 11,
   "metadata": {
    "ExecuteTime": {
     "end_time": "2020-06-26T08:27:26.131199Z",
     "start_time": "2020-06-26T08:27:26.105309Z"
    }
   },
   "outputs": [
    {
     "data": {
      "text/plain": [
       "0.768"
      ]
     },
     "execution_count": 11,
     "metadata": {},
     "output_type": "execute_result"
    }
   ],
   "source": [
    "lr=LogisticRegression()\n",
    "lr.fit(X_train,y_train)\n",
    "lr.score(X_test,y_test)"
   ]
  },
  {
   "cell_type": "code",
   "execution_count": 12,
   "metadata": {
    "ExecuteTime": {
     "end_time": "2020-06-26T08:27:27.098355Z",
     "start_time": "2020-06-26T08:27:27.070906Z"
    }
   },
   "outputs": [
    {
     "data": {
      "text/plain": [
       "0.88"
      ]
     },
     "execution_count": 12,
     "metadata": {},
     "output_type": "execute_result"
    }
   ],
   "source": [
    "knn=KNeighborsClassifier(n_neighbors=5)\n",
    "knn.fit(X_train,y_train)\n",
    "knn.score(X_test,y_test)"
   ]
  },
  {
   "cell_type": "code",
   "execution_count": 14,
   "metadata": {
    "ExecuteTime": {
     "end_time": "2020-06-26T08:27:36.061150Z",
     "start_time": "2020-06-26T08:27:35.977943Z"
    }
   },
   "outputs": [
    {
     "data": {
      "text/plain": [
       "0.804"
      ]
     },
     "execution_count": 14,
     "metadata": {},
     "output_type": "execute_result"
    }
   ],
   "source": [
    "sc=StackClassifier(classifiers=[lr,knn])\n",
    "sc.fit(X_train,y_train)\n",
    "sc.score(X_test,y_test)"
   ]
  }
 ],
 "metadata": {
  "kernelspec": {
   "display_name": "Python 3",
   "language": "python",
   "name": "python3"
  },
  "language_info": {
   "codemirror_mode": {
    "name": "ipython",
    "version": 3
   },
   "file_extension": ".py",
   "mimetype": "text/x-python",
   "name": "python",
   "nbconvert_exporter": "python",
   "pygments_lexer": "ipython3",
   "version": "3.7.3"
  },
  "toc": {
   "base_numbering": 1,
   "nav_menu": {},
   "number_sections": true,
   "sideBar": true,
   "skip_h1_title": false,
   "title_cell": "Table of Contents",
   "title_sidebar": "Contents",
   "toc_cell": false,
   "toc_position": {},
   "toc_section_display": true,
   "toc_window_display": false
  }
 },
 "nbformat": 4,
 "nbformat_minor": 4
}
