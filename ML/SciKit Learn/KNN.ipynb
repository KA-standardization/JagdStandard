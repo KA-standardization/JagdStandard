{
 "cells": [
  {
   "cell_type": "code",
   "execution_count": 1,
   "metadata": {
    "ExecuteTime": {
     "end_time": "2020-06-19T00:26:49.402716Z",
     "start_time": "2020-06-19T00:26:48.789414Z"
    }
   },
   "outputs": [],
   "source": [
    "import numpy as np\n",
    "from sklearn.neighbors import KNeighborsClassifier,KNeighborsRegressor"
   ]
  },
  {
   "cell_type": "code",
   "execution_count": 2,
   "metadata": {
    "ExecuteTime": {
     "end_time": "2020-06-19T00:26:49.424474Z",
     "start_time": "2020-06-19T00:26:49.402716Z"
    }
   },
   "outputs": [],
   "source": [
    "X_train = np.array([\n",
    "    [158, 64],\n",
    "    [170, 86],\n",
    "    [183, 84],\n",
    "    [191, 80],\n",
    "    [155, 49],\n",
    "    [163, 59],\n",
    "    [180, 67],\n",
    "    [158, 54],\n",
    "    [170, 67]\n",
    "])\n",
    "y_train = ['male', 'male', 'male', 'male', 'female', 'female', 'female', 'female', 'female']"
   ]
  },
  {
   "cell_type": "markdown",
   "metadata": {},
   "source": [
    "### K-近邻算法  \n",
    "KNN模型假设 : 互相接近的实例拥有类似的响应变量值  \n",
    "近邻 : 度量空间中的训练实例  \n",
    "度量空间 : 定义了集合中所有成员之间距离的特征空间  \n",
    "惰性学习模型(基于实例的学习模型) : 会对训练数据集进行少量的处理或者完全不处理  \n",
    "非参数模型 : 模型参数的个数并不固定,可能随着训练实例数量的增加而增加  \n",
    "超参K : 设为一个奇数防止出现平局现象"
   ]
  },
  {
   "cell_type": "markdown",
   "metadata": {},
   "source": [
    "#### 分类"
   ]
  },
  {
   "cell_type": "code",
   "execution_count": 3,
   "metadata": {
    "ExecuteTime": {
     "end_time": "2020-06-19T00:26:49.440099Z",
     "start_time": "2020-06-19T00:26:49.424474Z"
    }
   },
   "outputs": [
    {
     "data": {
      "text/plain": [
       "'female'"
      ]
     },
     "execution_count": 3,
     "metadata": {},
     "output_type": "execute_result"
    }
   ],
   "source": [
    "x=np.array([[155,70]])\n",
    "distances=np.sqrt(np.sum((X_train-x)**2,axis=1))  #欧氏距离\n",
    "from collections import Counter\n",
    "b=Counter(np.take(y_train,distances.argsort()[:3]))\n",
    "b.most_common(1)[0][0]"
   ]
  },
  {
   "cell_type": "code",
   "execution_count": 4,
   "metadata": {
    "ExecuteTime": {
     "end_time": "2020-06-19T00:26:49.455723Z",
     "start_time": "2020-06-19T00:26:49.440099Z"
    }
   },
   "outputs": [],
   "source": [
    "from sklearn.preprocessing import LabelBinarizer  #转换器接口"
   ]
  },
  {
   "cell_type": "code",
   "execution_count": 5,
   "metadata": {
    "ExecuteTime": {
     "end_time": "2020-06-19T00:26:49.471427Z",
     "start_time": "2020-06-19T00:26:49.455723Z"
    }
   },
   "outputs": [
    {
     "data": {
      "text/plain": [
       "array(['female'], dtype='<U6')"
      ]
     },
     "execution_count": 5,
     "metadata": {},
     "output_type": "execute_result"
    }
   ],
   "source": [
    "lb=LabelBinarizer()\n",
    "y_binarized=lb.fit_transform(y_train)\n",
    "knnc=KNeighborsClassifier(n_neighbors=3)\n",
    "knnc.fit(X_train,y_binarized.reshape(-1))\n",
    "lb.inverse_transform(knnc.predict(np.array([155,70]).reshape(1,-1))[0])"
   ]
  },
  {
   "cell_type": "code",
   "execution_count": 6,
   "metadata": {
    "ExecuteTime": {
     "end_time": "2020-06-19T00:26:49.486968Z",
     "start_time": "2020-06-19T00:26:49.471427Z"
    }
   },
   "outputs": [
    {
     "name": "stdout",
     "output_type": "stream",
     "text": [
      "[1 1 0 0] Ture\n",
      "[0 1 0 0] Predict\n"
     ]
    },
    {
     "data": {
      "text/plain": [
       "array(['female', 'male', 'female', 'female'], dtype='<U6')"
      ]
     },
     "execution_count": 6,
     "metadata": {},
     "output_type": "execute_result"
    }
   ],
   "source": [
    "X_test = np.array([\n",
    "    [168, 65],\n",
    "    [180, 96],\n",
    "    [160, 52],\n",
    "    [169, 67]\n",
    "])\n",
    "y_test = ['male', 'male', 'female', 'female']\n",
    "y_test_binarized=lb.transform(y_test)\n",
    "y_=knnc.predict(X_test)\n",
    "print(y_test_binarized.T[0],'Ture')\n",
    "print(y_,\"Predict\")\n",
    "lb.inverse_transform(y_)"
   ]
  },
  {
   "cell_type": "code",
   "execution_count": 7,
   "metadata": {
    "ExecuteTime": {
     "end_time": "2020-06-19T00:26:49.502629Z",
     "start_time": "2020-06-19T00:26:49.486968Z"
    }
   },
   "outputs": [],
   "source": [
    "from sklearn.metrics import accuracy_score #准确率"
   ]
  },
  {
   "cell_type": "code",
   "execution_count": 8,
   "metadata": {
    "ExecuteTime": {
     "end_time": "2020-06-19T00:26:49.518249Z",
     "start_time": "2020-06-19T00:26:49.502629Z"
    }
   },
   "outputs": [
    {
     "data": {
      "text/plain": [
       "0.75"
      ]
     },
     "execution_count": 8,
     "metadata": {},
     "output_type": "execute_result"
    }
   ],
   "source": [
    "accuracy_score(y_test_binarized,y_)"
   ]
  },
  {
   "cell_type": "code",
   "execution_count": 9,
   "metadata": {
    "ExecuteTime": {
     "end_time": "2020-06-19T00:26:49.540385Z",
     "start_time": "2020-06-19T00:26:49.518249Z"
    }
   },
   "outputs": [],
   "source": [
    "from sklearn.metrics import precision_score #精准率"
   ]
  },
  {
   "cell_type": "code",
   "execution_count": 10,
   "metadata": {
    "ExecuteTime": {
     "end_time": "2020-06-19T00:26:49.556006Z",
     "start_time": "2020-06-19T00:26:49.540385Z"
    }
   },
   "outputs": [
    {
     "data": {
      "text/plain": [
       "1.0"
      ]
     },
     "execution_count": 10,
     "metadata": {},
     "output_type": "execute_result"
    }
   ],
   "source": [
    "precision_score(y_test_binarized,y_)"
   ]
  },
  {
   "cell_type": "code",
   "execution_count": 11,
   "metadata": {
    "ExecuteTime": {
     "end_time": "2020-06-19T00:26:49.571706Z",
     "start_time": "2020-06-19T00:26:49.556006Z"
    }
   },
   "outputs": [],
   "source": [
    "from sklearn.metrics import recall_score #召回率"
   ]
  },
  {
   "cell_type": "code",
   "execution_count": 12,
   "metadata": {
    "ExecuteTime": {
     "end_time": "2020-06-19T00:26:49.587302Z",
     "start_time": "2020-06-19T00:26:49.571706Z"
    }
   },
   "outputs": [
    {
     "data": {
      "text/plain": [
       "0.5"
      ]
     },
     "execution_count": 12,
     "metadata": {},
     "output_type": "execute_result"
    }
   ],
   "source": [
    "recall_score(y_test_binarized,y_)"
   ]
  },
  {
   "cell_type": "code",
   "execution_count": 13,
   "metadata": {
    "ExecuteTime": {
     "end_time": "2020-06-19T00:26:49.602914Z",
     "start_time": "2020-06-19T00:26:49.587302Z"
    }
   },
   "outputs": [],
   "source": [
    "from sklearn.metrics import f1_score #f1得分"
   ]
  },
  {
   "cell_type": "code",
   "execution_count": 14,
   "metadata": {
    "ExecuteTime": {
     "end_time": "2020-06-19T00:26:49.618539Z",
     "start_time": "2020-06-19T00:26:49.602914Z"
    }
   },
   "outputs": [
    {
     "data": {
      "text/plain": [
       "0.6666666666666666"
      ]
     },
     "execution_count": 14,
     "metadata": {},
     "output_type": "execute_result"
    }
   ],
   "source": [
    "f1_score(y_test_binarized,y_)"
   ]
  },
  {
   "cell_type": "code",
   "execution_count": 15,
   "metadata": {
    "ExecuteTime": {
     "end_time": "2020-06-19T00:26:49.640767Z",
     "start_time": "2020-06-19T00:26:49.618539Z"
    }
   },
   "outputs": [],
   "source": [
    "from sklearn.metrics import matthews_corrcoef #马修斯相关系数"
   ]
  },
  {
   "cell_type": "code",
   "execution_count": 16,
   "metadata": {
    "ExecuteTime": {
     "end_time": "2020-06-19T00:26:49.656343Z",
     "start_time": "2020-06-19T00:26:49.640767Z"
    }
   },
   "outputs": [
    {
     "data": {
      "text/plain": [
       "0.5773502691896258"
      ]
     },
     "execution_count": 16,
     "metadata": {},
     "output_type": "execute_result"
    }
   ],
   "source": [
    "matthews_corrcoef(y_test_binarized,y_)"
   ]
  },
  {
   "cell_type": "code",
   "execution_count": 17,
   "metadata": {
    "ExecuteTime": {
     "end_time": "2020-06-19T00:26:49.671975Z",
     "start_time": "2020-06-19T00:26:49.656343Z"
    }
   },
   "outputs": [],
   "source": [
    "from sklearn.metrics import classification_report #精准率 召回率 F1得分"
   ]
  },
  {
   "cell_type": "code",
   "execution_count": 18,
   "metadata": {
    "ExecuteTime": {
     "end_time": "2020-06-19T00:26:49.703217Z",
     "start_time": "2020-06-19T00:26:49.671975Z"
    }
   },
   "outputs": [
    {
     "data": {
      "text/plain": [
       "'              precision    recall  f1-score   support\\n\\n        Male       1.00      0.50      0.67         2\\n\\n   micro avg       1.00      0.50      0.67         2\\n   macro avg       1.00      0.50      0.67         2\\nweighted avg       1.00      0.50      0.67         2\\n'"
      ]
     },
     "execution_count": 18,
     "metadata": {},
     "output_type": "execute_result"
    }
   ],
   "source": [
    "classification_report(y_test_binarized,y_,target_names=['Male'],labels=[1])"
   ]
  },
  {
   "cell_type": "markdown",
   "metadata": {},
   "source": [
    "#### 回归"
   ]
  },
  {
   "cell_type": "code",
   "execution_count": 19,
   "metadata": {
    "ExecuteTime": {
     "end_time": "2020-06-19T00:26:49.718795Z",
     "start_time": "2020-06-19T00:26:49.703217Z"
    }
   },
   "outputs": [],
   "source": [
    "from sklearn.metrics import mean_absolute_error,mean_squared_error # 平均绝对误差,均方误差"
   ]
  },
  {
   "cell_type": "code",
   "execution_count": 20,
   "metadata": {
    "ExecuteTime": {
     "end_time": "2020-06-19T00:26:49.740989Z",
     "start_time": "2020-06-19T00:26:49.718795Z"
    }
   },
   "outputs": [],
   "source": [
    "X_train = np.array([\n",
    "    [158, 1],\n",
    "    [170, 1],\n",
    "    [183, 1],\n",
    "    [191, 1],\n",
    "    [155, 0],\n",
    "    [163, 0],\n",
    "    [180, 0],\n",
    "    [158, 0],\n",
    "    [170, 0]\n",
    "])\n",
    "y_train = [64, 86, 84, 80, 49, 59, 67, 54, 67]\n",
    "\n",
    "X_test = np.array([\n",
    "    [160, 1],\n",
    "    [196, 1],\n",
    "    [168, 0],\n",
    "    [177, 0]\n",
    "])\n",
    "y_test = [66, 87, 68, 74]\n",
    "knnr=KNeighborsRegressor(n_neighbors=3)\n",
    "knnr.fit(X_train,y_train)\n",
    "y_=knnr.predict(X_test)"
   ]
  },
  {
   "cell_type": "code",
   "execution_count": 21,
   "metadata": {
    "ExecuteTime": {
     "end_time": "2020-06-19T00:26:49.756807Z",
     "start_time": "2020-06-19T00:26:49.740989Z"
    }
   },
   "outputs": [],
   "source": [
    "from sklearn.metrics import r2_score #决定系数"
   ]
  },
  {
   "cell_type": "code",
   "execution_count": 22,
   "metadata": {
    "ExecuteTime": {
     "end_time": "2020-06-19T00:26:49.772278Z",
     "start_time": "2020-06-19T00:26:49.756807Z"
    }
   },
   "outputs": [
    {
     "name": "stdout",
     "output_type": "stream",
     "text": [
      "[59.         77.         70.66666667 72.66666667]\n",
      "0.41250645994832036\n",
      "5.25\n"
     ]
    },
    {
     "data": {
      "text/plain": [
       "39.47222222222223"
      ]
     },
     "execution_count": 22,
     "metadata": {},
     "output_type": "execute_result"
    }
   ],
   "source": [
    "print(y_)\n",
    "print(r2_score(y_test,y_))\n",
    "print(mean_absolute_error(y_test,y_))\n",
    "mean_squared_error(y_test,y_)"
   ]
  },
  {
   "cell_type": "code",
   "execution_count": 23,
   "metadata": {
    "ExecuteTime": {
     "end_time": "2020-06-19T00:26:49.787916Z",
     "start_time": "2020-06-19T00:26:49.772278Z"
    }
   },
   "outputs": [],
   "source": [
    "from sklearn.preprocessing import StandardScaler #特征缩放的转换器\n",
    "# \n",
    "ss=StandardScaler()"
   ]
  },
  {
   "cell_type": "code",
   "execution_count": 24,
   "metadata": {
    "ExecuteTime": {
     "end_time": "2020-06-19T00:26:49.803487Z",
     "start_time": "2020-06-19T00:26:49.787916Z"
    }
   },
   "outputs": [
    {
     "data": {
      "text/plain": [
       "array([[-0.9908706 ,  1.11803399],\n",
       "       [ 0.01869567,  1.11803399],\n",
       "       [ 1.11239246,  1.11803399],\n",
       "       [ 1.78543664,  1.11803399],\n",
       "       [-1.24326216, -0.89442719],\n",
       "       [-0.57021798, -0.89442719],\n",
       "       [ 0.86000089, -0.89442719],\n",
       "       [-0.9908706 , -0.89442719],\n",
       "       [ 0.01869567, -0.89442719]])"
      ]
     },
     "execution_count": 24,
     "metadata": {},
     "output_type": "execute_result"
    }
   ],
   "source": [
    "X_ss_train=ss.fit_transform(X_train)\n",
    "X_ss_train"
   ]
  },
  {
   "cell_type": "code",
   "execution_count": 25,
   "metadata": {
    "ExecuteTime": {
     "end_time": "2020-06-19T00:26:49.819138Z",
     "start_time": "2020-06-19T00:26:49.803487Z"
    }
   },
   "outputs": [],
   "source": [
    "knnr.fit(X_ss_train,y_train)\n",
    "y_=knnr.predict(X_test)"
   ]
  },
  {
   "cell_type": "code",
   "execution_count": 26,
   "metadata": {
    "ExecuteTime": {
     "end_time": "2020-06-19T00:26:49.841376Z",
     "start_time": "2020-06-19T00:26:49.819138Z"
    }
   },
   "outputs": [
    {
     "name": "stdout",
     "output_type": "stream",
     "text": [
      "[77. 77. 77. 77.]\n",
      "-0.1572093023255814\n",
      "8.25\n"
     ]
    },
    {
     "data": {
      "text/plain": [
       "77.75"
      ]
     },
     "execution_count": 26,
     "metadata": {},
     "output_type": "execute_result"
    }
   ],
   "source": [
    "print(y_)\n",
    "print(r2_score(y_test,y_))\n",
    "print(mean_absolute_error(y_test,y_))\n",
    "mean_squared_error(y_test,y_)"
   ]
  },
  {
   "cell_type": "code",
   "execution_count": null,
   "metadata": {},
   "outputs": [],
   "source": []
  },
  {
   "cell_type": "code",
   "execution_count": null,
   "metadata": {},
   "outputs": [],
   "source": []
  }
 ],
 "metadata": {
  "kernelspec": {
   "display_name": "Python 3",
   "language": "python",
   "name": "python3"
  },
  "language_info": {
   "codemirror_mode": {
    "name": "ipython",
    "version": 3
   },
   "file_extension": ".py",
   "mimetype": "text/x-python",
   "name": "python",
   "nbconvert_exporter": "python",
   "pygments_lexer": "ipython3",
   "version": "3.7.3"
  },
  "toc": {
   "base_numbering": 1,
   "nav_menu": {},
   "number_sections": true,
   "sideBar": true,
   "skip_h1_title": false,
   "title_cell": "Table of Contents",
   "title_sidebar": "Contents",
   "toc_cell": false,
   "toc_position": {},
   "toc_section_display": true,
   "toc_window_display": false
  }
 },
 "nbformat": 4,
 "nbformat_minor": 4
}
