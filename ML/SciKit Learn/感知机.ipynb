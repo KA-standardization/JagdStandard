{
 "cells": [
  {
   "cell_type": "code",
   "execution_count": 1,
   "metadata": {
    "ExecuteTime": {
     "end_time": "2020-06-26T14:12:52.983026Z",
     "start_time": "2020-06-26T14:12:52.336987Z"
    }
   },
   "outputs": [],
   "source": [
    "from sklearn.linear_model import Perceptron\n",
    "from sklearn.feature_extraction.text import TfidfVectorizer\n",
    "from sklearn.metrics import f1_score,classification_report\n",
    "from sklearn.datasets import fetch_20newsgroups"
   ]
  },
  {
   "cell_type": "code",
   "execution_count": 2,
   "metadata": {
    "ExecuteTime": {
     "end_time": "2020-06-26T14:12:55.324943Z",
     "start_time": "2020-06-26T14:12:52.984947Z"
    }
   },
   "outputs": [],
   "source": [
    "categories=['rec.sport.hockey','rec.sport.baseball','rec.autos']\n",
    "data_train=fetch_20newsgroups(subset='train',categories=categories,remove=('headers','footers','quotes'))\n",
    "data_test=fetch_20newsgroups(subset='test',categories=categories,remove=('headers','footers','quotes'))"
   ]
  },
  {
   "cell_type": "code",
   "execution_count": 3,
   "metadata": {
    "ExecuteTime": {
     "end_time": "2020-06-26T14:12:55.328937Z",
     "start_time": "2020-06-26T14:12:55.326939Z"
    }
   },
   "outputs": [],
   "source": [
    "vector=TfidfVectorizer()"
   ]
  },
  {
   "cell_type": "code",
   "execution_count": 4,
   "metadata": {
    "ExecuteTime": {
     "end_time": "2020-06-26T14:12:55.650359Z",
     "start_time": "2020-06-26T14:12:55.331542Z"
    }
   },
   "outputs": [],
   "source": [
    "X_train=vector.fit_transform(data_train.data)\n",
    "X_test=vector.transform(data_test.data)\n",
    "p=Perceptron(random_state=31)"
   ]
  },
  {
   "cell_type": "code",
   "execution_count": 5,
   "metadata": {
    "ExecuteTime": {
     "end_time": "2020-06-26T14:12:55.667897Z",
     "start_time": "2020-06-26T14:12:55.651138Z"
    }
   },
   "outputs": [],
   "source": [
    "p.fit(X_train,data_train.target)\n",
    "y_=p.predict(X_test)"
   ]
  },
  {
   "cell_type": "code",
   "execution_count": 7,
   "metadata": {
    "ExecuteTime": {
     "end_time": "2020-06-26T14:13:25.275199Z",
     "start_time": "2020-06-26T14:13:25.265711Z"
    }
   },
   "outputs": [
    {
     "name": "stdout",
     "output_type": "stream",
     "text": [
      "              precision    recall  f1-score   support\n",
      "\n",
      "           0       0.85      0.93      0.89       396\n",
      "           1       0.87      0.81      0.84       397\n",
      "           2       0.89      0.86      0.87       399\n",
      "\n",
      "    accuracy                           0.87      1192\n",
      "   macro avg       0.87      0.87      0.87      1192\n",
      "weighted avg       0.87      0.87      0.87      1192\n",
      "\n"
     ]
    }
   ],
   "source": [
    "print(classification_report(data_test.target,y_))"
   ]
  },
  {
   "cell_type": "code",
   "execution_count": 8,
   "metadata": {
    "ExecuteTime": {
     "end_time": "2020-06-26T14:14:05.819696Z",
     "start_time": "2020-06-26T14:14:05.807728Z"
    }
   },
   "outputs": [
    {
     "data": {
      "text/plain": [
       "0.8674496644295302"
      ]
     },
     "execution_count": 8,
     "metadata": {},
     "output_type": "execute_result"
    }
   ],
   "source": [
    "p.score(X_test,data_test.target)"
   ]
  }
 ],
 "metadata": {
  "kernelspec": {
   "display_name": "Python 3",
   "language": "python",
   "name": "python3"
  },
  "language_info": {
   "codemirror_mode": {
    "name": "ipython",
    "version": 3
   },
   "file_extension": ".py",
   "mimetype": "text/x-python",
   "name": "python",
   "nbconvert_exporter": "python",
   "pygments_lexer": "ipython3",
   "version": "3.7.3"
  },
  "toc": {
   "base_numbering": 1,
   "nav_menu": {},
   "number_sections": true,
   "sideBar": true,
   "skip_h1_title": false,
   "title_cell": "Table of Contents",
   "title_sidebar": "Contents",
   "toc_cell": false,
   "toc_position": {},
   "toc_section_display": true,
   "toc_window_display": false
  }
 },
 "nbformat": 4,
 "nbformat_minor": 4
}
