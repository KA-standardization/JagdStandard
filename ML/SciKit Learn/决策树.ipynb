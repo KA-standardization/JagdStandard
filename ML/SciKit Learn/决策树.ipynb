{
 "cells": [
  {
   "cell_type": "code",
   "execution_count": 1,
   "metadata": {
    "ExecuteTime": {
     "end_time": "2020-08-02T07:54:00.660741Z",
     "start_time": "2020-08-02T07:53:59.512726Z"
    }
   },
   "outputs": [],
   "source": [
    "import pandas as pd\n",
    "from sklearn.tree import DecisionTreeClassifier\n",
    "from sklearn.pipeline import Pipeline\n",
    "from sklearn.metrics import classification_report\n",
    "from sklearn.model_selection import GridSearchCV,train_test_split"
   ]
  },
  {
   "cell_type": "code",
   "execution_count": 2,
   "metadata": {
    "ExecuteTime": {
     "end_time": "2020-08-02T07:54:03.864753Z",
     "start_time": "2020-08-02T07:54:03.455792Z"
    }
   },
   "outputs": [
    {
     "name": "stderr",
     "output_type": "stream",
     "text": [
      "c:\\users\\root\\appdata\\local\\programs\\python\\python37\\lib\\site-packages\\IPython\\core\\interactiveshell.py:3063: DtypeWarning: Columns (3) have mixed types.Specify dtype option on import or set low_memory=False.\n",
      "  interactivity=interactivity, compiler=compiler, result=result)\n"
     ]
    }
   ],
   "source": [
    "df=pd.read_csv('./datas/ad.data',header=None)"
   ]
  },
  {
   "cell_type": "code",
   "execution_count": 3,
   "metadata": {
    "ExecuteTime": {
     "end_time": "2020-08-02T07:54:05.239829Z",
     "start_time": "2020-08-02T07:54:05.195337Z"
    }
   },
   "outputs": [
    {
     "name": "stdout",
     "output_type": "stream",
     "text": [
      "<class 'pandas.core.frame.DataFrame'>\n",
      "RangeIndex: 3279 entries, 0 to 3278\n",
      "Columns: 1559 entries, 0 to 1558\n",
      "dtypes: int64(1554), object(5)\n",
      "memory usage: 39.0+ MB\n"
     ]
    }
   ],
   "source": [
    "df.info()"
   ]
  },
  {
   "cell_type": "code",
   "execution_count": 4,
   "metadata": {
    "ExecuteTime": {
     "end_time": "2020-08-02T07:54:06.544027Z",
     "start_time": "2020-08-02T07:54:06.530487Z"
    }
   },
   "outputs": [],
   "source": [
    "explanatory_variable_columns=set(df.columns.values)\n",
    "explanatory_variable_columns.remove(len(df.columns.values)-1)\n",
    "response_variable_column=df[len(df.columns.values)-1]"
   ]
  },
  {
   "cell_type": "code",
   "execution_count": 11,
   "metadata": {
    "ExecuteTime": {
     "end_time": "2020-06-26T05:24:21.636587Z",
     "start_time": "2020-06-26T05:24:21.579437Z"
    }
   },
   "outputs": [],
   "source": [
    "y=[1 if i=='ad.' else 0 for i in response_variable_column]\n",
    "X=df[list(explanatory_variable_columns)].copy()"
   ]
  },
  {
   "cell_type": "code",
   "execution_count": 12,
   "metadata": {
    "ExecuteTime": {
     "end_time": "2020-06-26T05:26:04.917253Z",
     "start_time": "2020-06-26T05:26:04.814959Z"
    }
   },
   "outputs": [],
   "source": [
    "X.replace(regex=True,to_replace=' *?',value=-1,inplace=True)\n",
    "X_train,X_test,y_train,y_test=train_test_split(X,y)"
   ]
  },
  {
   "cell_type": "code",
   "execution_count": 13,
   "metadata": {
    "ExecuteTime": {
     "end_time": "2020-06-26T05:34:57.708286Z",
     "start_time": "2020-06-26T05:34:44.386439Z"
    }
   },
   "outputs": [
    {
     "name": "stdout",
     "output_type": "stream",
     "text": [
      "Fitting 5 folds for each of 36 candidates, totalling 180 fits\n"
     ]
    },
    {
     "name": "stderr",
     "output_type": "stream",
     "text": [
      "[Parallel(n_jobs=-1)]: Using backend LokyBackend with 12 concurrent workers.\n",
      "[Parallel(n_jobs=-1)]: Done  26 tasks      | elapsed:    4.3s\n",
      "[Parallel(n_jobs=-1)]: Done 180 out of 180 | elapsed:   12.8s finished\n"
     ]
    },
    {
     "data": {
      "text/plain": [
       "GridSearchCV(estimator=Pipeline(steps=[('dtc', DecisionTreeClassifier())]),\n",
       "             n_jobs=-1,\n",
       "             param_grid={'dtc__criterion': ('gini', 'entropy'),\n",
       "                         'dtc__max_depth': (150, 155, 160),\n",
       "                         'dtc__min_samples_leaf': (1, 2, 3),\n",
       "                         'dtc__min_samples_split': (2, 3)},\n",
       "             scoring='accuracy', verbose=1)"
      ]
     },
     "execution_count": 13,
     "metadata": {},
     "output_type": "execute_result"
    }
   ],
   "source": [
    "pipeline=Pipeline([\n",
    "    ('dtc',DecisionTreeClassifier())\n",
    "])\n",
    "params={\n",
    "    'dtc__criterion':(\"gini\", \"entropy\"),\n",
    "    'dtc__max_depth':(150,155,160),\n",
    "    'dtc__min_samples_split':(2,3),\n",
    "    'dtc__min_samples_leaf':(1,2,3)\n",
    "}\n",
    "grid_search=GridSearchCV(estimator=pipeline,param_grid=params,n_jobs=-1,verbose=1,scoring='accuracy')\n",
    "grid_search.fit(X_train,y_train)"
   ]
  },
  {
   "cell_type": "code",
   "execution_count": 14,
   "metadata": {
    "ExecuteTime": {
     "end_time": "2020-06-26T05:42:18.251318Z",
     "start_time": "2020-06-26T05:42:18.246294Z"
    }
   },
   "outputs": [
    {
     "data": {
      "text/plain": [
       "0.972751808984485"
      ]
     },
     "execution_count": 14,
     "metadata": {},
     "output_type": "execute_result"
    }
   ],
   "source": [
    "grid_search.best_score_"
   ]
  },
  {
   "cell_type": "code",
   "execution_count": 15,
   "metadata": {
    "ExecuteTime": {
     "end_time": "2020-06-26T05:42:47.257883Z",
     "start_time": "2020-06-26T05:42:47.251885Z"
    }
   },
   "outputs": [
    {
     "data": {
      "text/plain": [
       "{'memory': None,\n",
       " 'steps': [('dtc',\n",
       "   DecisionTreeClassifier(criterion='entropy', max_depth=160, min_samples_split=3))],\n",
       " 'verbose': False,\n",
       " 'dtc': DecisionTreeClassifier(criterion='entropy', max_depth=160, min_samples_split=3),\n",
       " 'dtc__ccp_alpha': 0.0,\n",
       " 'dtc__class_weight': None,\n",
       " 'dtc__criterion': 'entropy',\n",
       " 'dtc__max_depth': 160,\n",
       " 'dtc__max_features': None,\n",
       " 'dtc__max_leaf_nodes': None,\n",
       " 'dtc__min_impurity_decrease': 0.0,\n",
       " 'dtc__min_impurity_split': None,\n",
       " 'dtc__min_samples_leaf': 1,\n",
       " 'dtc__min_samples_split': 3,\n",
       " 'dtc__min_weight_fraction_leaf': 0.0,\n",
       " 'dtc__presort': 'deprecated',\n",
       " 'dtc__random_state': None,\n",
       " 'dtc__splitter': 'best'}"
      ]
     },
     "execution_count": 15,
     "metadata": {},
     "output_type": "execute_result"
    }
   ],
   "source": [
    "grid_search.best_estimator_.get_params()"
   ]
  },
  {
   "cell_type": "code",
   "execution_count": 17,
   "metadata": {
    "ExecuteTime": {
     "end_time": "2020-06-26T05:45:46.982195Z",
     "start_time": "2020-06-26T05:45:46.977209Z"
    }
   },
   "outputs": [
    {
     "name": "stdout",
     "output_type": "stream",
     "text": [
      "dtc__criterion --> entropy\n",
      "dtc__max_depth --> 160\n",
      "dtc__min_samples_split --> 3\n",
      "dtc__min_samples_leaf --> 1\n"
     ]
    }
   ],
   "source": [
    "for name in params.keys():\n",
    "    print(name,'-->',grid_search.best_estimator_.get_params()[name])"
   ]
  },
  {
   "cell_type": "code",
   "execution_count": 18,
   "metadata": {
    "ExecuteTime": {
     "end_time": "2020-06-26T05:46:34.718805Z",
     "start_time": "2020-06-26T05:46:34.694847Z"
    }
   },
   "outputs": [
    {
     "data": {
      "text/plain": [
       "'              precision    recall  f1-score   support\\n\\n           0       0.97      0.99      0.98       692\\n           1       0.96      0.84      0.90       128\\n\\n    accuracy                           0.97       820\\n   macro avg       0.97      0.92      0.94       820\\nweighted avg       0.97      0.97      0.97       820\\n'"
      ]
     },
     "execution_count": 18,
     "metadata": {},
     "output_type": "execute_result"
    }
   ],
   "source": [
    "y_=grid_search.predict(X_test)\n",
    "classification_report(y_test,y_)"
   ]
  },
  {
   "cell_type": "code",
   "execution_count": 19,
   "metadata": {
    "ExecuteTime": {
     "end_time": "2020-06-26T05:48:14.134066Z",
     "start_time": "2020-06-26T05:48:14.130930Z"
    }
   },
   "outputs": [],
   "source": [
    "from sklearn.metrics import accuracy_score,precision_score,recall_score,f1_score"
   ]
  },
  {
   "cell_type": "code",
   "execution_count": 20,
   "metadata": {
    "ExecuteTime": {
     "end_time": "2020-06-26T05:48:25.308498Z",
     "start_time": "2020-06-26T05:48:25.302426Z"
    }
   },
   "outputs": [
    {
     "data": {
      "text/plain": [
       "0.9695121951219512"
      ]
     },
     "execution_count": 20,
     "metadata": {},
     "output_type": "execute_result"
    }
   ],
   "source": [
    "accuracy_score(y_test,y_)"
   ]
  },
  {
   "cell_type": "code",
   "execution_count": 21,
   "metadata": {
    "ExecuteTime": {
     "end_time": "2020-06-26T05:48:42.666240Z",
     "start_time": "2020-06-26T05:48:42.660260Z"
    }
   },
   "outputs": [
    {
     "data": {
      "text/plain": [
       "0.963963963963964"
      ]
     },
     "execution_count": 21,
     "metadata": {},
     "output_type": "execute_result"
    }
   ],
   "source": [
    "precision_score(y_test,y_)"
   ]
  },
  {
   "cell_type": "code",
   "execution_count": 22,
   "metadata": {
    "ExecuteTime": {
     "end_time": "2020-06-26T05:48:57.499396Z",
     "start_time": "2020-06-26T05:48:57.493400Z"
    }
   },
   "outputs": [
    {
     "data": {
      "text/plain": [
       "0.8359375"
      ]
     },
     "execution_count": 22,
     "metadata": {},
     "output_type": "execute_result"
    }
   ],
   "source": [
    "recall_score(y_test,y_)"
   ]
  },
  {
   "cell_type": "code",
   "execution_count": 23,
   "metadata": {
    "ExecuteTime": {
     "end_time": "2020-06-26T05:49:08.530023Z",
     "start_time": "2020-06-26T05:49:08.522922Z"
    }
   },
   "outputs": [
    {
     "data": {
      "text/plain": [
       "0.8953974895397491"
      ]
     },
     "execution_count": 23,
     "metadata": {},
     "output_type": "execute_result"
    }
   ],
   "source": [
    "f1_score(y_test,y_)"
   ]
  }
 ],
 "metadata": {
  "kernelspec": {
   "display_name": "Python 3",
   "language": "python",
   "name": "python3"
  },
  "language_info": {
   "codemirror_mode": {
    "name": "ipython",
    "version": 3
   },
   "file_extension": ".py",
   "mimetype": "text/x-python",
   "name": "python",
   "nbconvert_exporter": "python",
   "pygments_lexer": "ipython3",
   "version": "3.7.3"
  },
  "toc": {
   "base_numbering": 1,
   "nav_menu": {},
   "number_sections": true,
   "sideBar": true,
   "skip_h1_title": false,
   "title_cell": "Table of Contents",
   "title_sidebar": "Contents",
   "toc_cell": false,
   "toc_position": {},
   "toc_section_display": true,
   "toc_window_display": false
  }
 },
 "nbformat": 4,
 "nbformat_minor": 4
}
