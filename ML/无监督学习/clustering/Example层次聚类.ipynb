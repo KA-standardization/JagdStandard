{
 "cells": [
  {
   "cell_type": "code",
   "execution_count": 1,
   "metadata": {
    "ExecuteTime": {
     "end_time": "2020-04-13T06:52:49.188923Z",
     "start_time": "2020-04-13T06:52:49.058403Z"
    }
   },
   "outputs": [],
   "source": [
    "# import\n",
    "import warnings\n",
    "warnings.filterwarnings('ignore')\n",
    "import numpy as np"
   ]
  },
  {
   "cell_type": "code",
   "execution_count": 16,
   "metadata": {
    "ExecuteTime": {
     "end_time": "2020-04-13T07:08:02.500136Z",
     "start_time": "2020-04-13T07:08:02.484485Z"
    }
   },
   "outputs": [],
   "source": [
    "# datas\n",
    "x1=np.array([0,7,2,9,3])\n",
    "x2=np.array([7,0,5,4,6])\n",
    "x3=np.array([2,5,0,8,1])\n",
    "x4=np.array([9,4,8,0,5])\n",
    "x5=np.array([3,6,1,5,0])"
   ]
  },
  {
   "cell_type": "code",
   "execution_count": 26,
   "metadata": {
    "ExecuteTime": {
     "end_time": "2020-04-13T07:11:44.499583Z",
     "start_time": "2020-04-13T07:11:44.475765Z"
    }
   },
   "outputs": [],
   "source": [
    "def euclidean_distance(x1,x2):\n",
    "    res=[]\n",
    "    for i in range(len(x1)):\n",
    "        res.append((x1[i]-x2[i])**2)\n",
    "#     print(sum(res))\n",
    "    return np.sqrt(sum(res))"
   ]
  },
  {
   "cell_type": "code",
   "execution_count": 27,
   "metadata": {
    "ExecuteTime": {
     "end_time": "2020-04-13T07:11:45.553476Z",
     "start_time": "2020-04-13T07:11:45.524354Z"
    }
   },
   "outputs": [
    {
     "name": "stdout",
     "output_type": "stream",
     "text": [
      "141\n"
     ]
    },
    {
     "data": {
      "text/plain": [
       "11.874342087037917"
      ]
     },
     "execution_count": 27,
     "metadata": {},
     "output_type": "execute_result"
    }
   ],
   "source": [
    "euclidean_distance(x1,x2)"
   ]
  },
  {
   "cell_type": "code",
   "execution_count": 28,
   "metadata": {
    "ExecuteTime": {
     "end_time": "2020-04-13T10:55:50.235222Z",
     "start_time": "2020-04-13T10:55:50.219561Z"
    }
   },
   "outputs": [],
   "source": [
    "def euclidean_distance2(x1,x2):\n",
    "    res=[]\n",
    "    for i in range(len(x1)):\n",
    "        res.append((x1[i]-x2[i])**2)\n",
    "    return sum(res)"
   ]
  },
  {
   "cell_type": "code",
   "execution_count": 34,
   "metadata": {
    "ExecuteTime": {
     "end_time": "2020-04-13T10:59:19.374859Z",
     "start_time": "2020-04-13T10:59:19.357788Z"
    }
   },
   "outputs": [],
   "source": [
    "X1=np.array((0,2)).T\n",
    "X2=np.array((0,0)).T\n",
    "X3=np.array((1,0)).T\n",
    "X4=np.array((5,0)).T\n",
    "X5=np.array((5,2)).T"
   ]
  },
  {
   "cell_type": "code",
   "execution_count": 37,
   "metadata": {
    "ExecuteTime": {
     "end_time": "2020-04-13T11:00:44.277890Z",
     "start_time": "2020-04-13T11:00:44.262206Z"
    }
   },
   "outputs": [
    {
     "data": {
      "text/plain": [
       "5"
      ]
     },
     "metadata": {},
     "output_type": "display_data"
    },
    {
     "data": {
      "text/plain": [
       "1"
      ]
     },
     "metadata": {},
     "output_type": "display_data"
    }
   ],
   "source": [
    "display(euclidean_distance2(X3,X1))\n",
    "display(euclidean_distance2(X3,X2))"
   ]
  },
  {
   "cell_type": "code",
   "execution_count": 39,
   "metadata": {
    "ExecuteTime": {
     "end_time": "2020-04-13T11:01:06.597390Z",
     "start_time": "2020-04-13T11:01:06.571203Z"
    }
   },
   "outputs": [
    {
     "data": {
      "text/plain": [
       "29"
      ]
     },
     "metadata": {},
     "output_type": "display_data"
    },
    {
     "data": {
      "text/plain": [
       "25"
      ]
     },
     "metadata": {},
     "output_type": "display_data"
    }
   ],
   "source": [
    "display(euclidean_distance2(X4,X1))\n",
    "display(euclidean_distance2(X4,X2))"
   ]
  },
  {
   "cell_type": "code",
   "execution_count": 40,
   "metadata": {
    "ExecuteTime": {
     "end_time": "2020-04-13T11:01:16.557603Z",
     "start_time": "2020-04-13T11:01:16.532657Z"
    }
   },
   "outputs": [
    {
     "data": {
      "text/plain": [
       "25"
      ]
     },
     "metadata": {},
     "output_type": "display_data"
    },
    {
     "data": {
      "text/plain": [
       "29"
      ]
     },
     "metadata": {},
     "output_type": "display_data"
    }
   ],
   "source": [
    "display(euclidean_distance2(X5,X1))\n",
    "display(euclidean_distance2(X5,X2))"
   ]
  },
  {
   "cell_type": "code",
   "execution_count": 75,
   "metadata": {
    "ExecuteTime": {
     "end_time": "2020-04-13T12:29:18.427560Z",
     "start_time": "2020-04-13T12:29:18.417696Z"
    }
   },
   "outputs": [],
   "source": [
    "def class_mean(*args):\n",
    "    if len(args)<1:\n",
    "        return None\n",
    "    temp=[]\n",
    "    for i in range(len(args)):\n",
    "        temp.append(args[i])\n",
    "    mean=[]\n",
    "    count=0\n",
    "    for j in range(len(temp[0])):\n",
    "        for v in temp:\n",
    "            count+=v[j]\n",
    "        mean.append(count)\n",
    "        count=0\n",
    "    res=[]\n",
    "    for k in range(len(mean)):\n",
    "        res.append(mean[k]/len(args))      \n",
    "    return res      "
   ]
  },
  {
   "cell_type": "code",
   "execution_count": 76,
   "metadata": {
    "ExecuteTime": {
     "end_time": "2020-04-13T12:29:19.923152Z",
     "start_time": "2020-04-13T12:29:19.888015Z"
    }
   },
   "outputs": [
    {
     "data": {
      "text/plain": [
       "(2.5, 2.0)"
      ]
     },
     "execution_count": 76,
     "metadata": {},
     "output_type": "execute_result"
    }
   ],
   "source": [
    "tuple(class_mean(X1,X5))"
   ]
  },
  {
   "cell_type": "code",
   "execution_count": 77,
   "metadata": {
    "ExecuteTime": {
     "end_time": "2020-04-13T12:29:22.904025Z",
     "start_time": "2020-04-13T12:29:22.869871Z"
    }
   },
   "outputs": [
    {
     "data": {
      "text/plain": [
       "(2.0, 0.0)"
      ]
     },
     "execution_count": 77,
     "metadata": {},
     "output_type": "execute_result"
    }
   ],
   "source": [
    "tuple(class_mean(X2,X3,X4))"
   ]
  }
 ],
 "metadata": {
  "kernelspec": {
   "display_name": "Python 3",
   "language": "python",
   "name": "python3"
  },
  "language_info": {
   "codemirror_mode": {
    "name": "ipython",
    "version": 3
   },
   "file_extension": ".py",
   "mimetype": "text/x-python",
   "name": "python",
   "nbconvert_exporter": "python",
   "pygments_lexer": "ipython3",
   "version": "3.6.8"
  },
  "toc": {
   "base_numbering": 1,
   "nav_menu": {},
   "number_sections": true,
   "sideBar": true,
   "skip_h1_title": false,
   "title_cell": "Table of Contents",
   "title_sidebar": "Contents",
   "toc_cell": false,
   "toc_position": {},
   "toc_section_display": true,
   "toc_window_display": false
  }
 },
 "nbformat": 4,
 "nbformat_minor": 4
}
