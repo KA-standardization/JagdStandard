{
 "cells": [
  {
   "cell_type": "code",
   "execution_count": 1,
   "metadata": {
    "ExecuteTime": {
     "end_time": "2020-04-13T04:32:23.124627Z",
     "start_time": "2020-04-13T04:32:19.098861Z"
    }
   },
   "outputs": [],
   "source": [
    "import numpy as np\n",
    "import matplotlib.pyplot as plt\n",
    "from sklearn import datasets\n",
    "from sklearn.cluster import KMeans\n",
    "from sklearn.metrics import confusion_matrix\n",
    "import pandas as pd\n",
    "from sklearn.metrics import silhouette_score #轮廓系数\n",
    "from sklearn.metrics import adjusted_rand_score #调整的兰德系数"
   ]
  },
  {
   "cell_type": "code",
   "execution_count": 3,
   "metadata": {
    "ExecuteTime": {
     "end_time": "2020-04-12T16:40:51.835951Z",
     "start_time": "2020-04-12T16:40:51.797305Z"
    }
   },
   "outputs": [
    {
     "data": {
      "text/html": [
       "<div>\n",
       "<style scoped>\n",
       "    .dataframe tbody tr th:only-of-type {\n",
       "        vertical-align: middle;\n",
       "    }\n",
       "\n",
       "    .dataframe tbody tr th {\n",
       "        vertical-align: top;\n",
       "    }\n",
       "\n",
       "    .dataframe thead th {\n",
       "        text-align: right;\n",
       "    }\n",
       "</style>\n",
       "<table border=\"1\" class=\"dataframe\">\n",
       "  <thead>\n",
       "    <tr style=\"text-align: right;\">\n",
       "      <th></th>\n",
       "      <th>国家</th>\n",
       "      <th>2006年世界杯</th>\n",
       "      <th>2010年世界杯</th>\n",
       "      <th>2007亚洲杯</th>\n",
       "    </tr>\n",
       "  </thead>\n",
       "  <tbody>\n",
       "    <tr>\n",
       "      <th>0</th>\n",
       "      <td>中国</td>\n",
       "      <td>50</td>\n",
       "      <td>50</td>\n",
       "      <td>9</td>\n",
       "    </tr>\n",
       "    <tr>\n",
       "      <th>1</th>\n",
       "      <td>日本</td>\n",
       "      <td>28</td>\n",
       "      <td>9</td>\n",
       "      <td>4</td>\n",
       "    </tr>\n",
       "    <tr>\n",
       "      <th>2</th>\n",
       "      <td>韩国</td>\n",
       "      <td>17</td>\n",
       "      <td>15</td>\n",
       "      <td>3</td>\n",
       "    </tr>\n",
       "    <tr>\n",
       "      <th>3</th>\n",
       "      <td>伊朗</td>\n",
       "      <td>25</td>\n",
       "      <td>40</td>\n",
       "      <td>5</td>\n",
       "    </tr>\n",
       "    <tr>\n",
       "      <th>4</th>\n",
       "      <td>沙特</td>\n",
       "      <td>28</td>\n",
       "      <td>40</td>\n",
       "      <td>2</td>\n",
       "    </tr>\n",
       "    <tr>\n",
       "      <th>5</th>\n",
       "      <td>伊拉克</td>\n",
       "      <td>50</td>\n",
       "      <td>50</td>\n",
       "      <td>1</td>\n",
       "    </tr>\n",
       "    <tr>\n",
       "      <th>6</th>\n",
       "      <td>卡塔尔</td>\n",
       "      <td>50</td>\n",
       "      <td>40</td>\n",
       "      <td>9</td>\n",
       "    </tr>\n",
       "    <tr>\n",
       "      <th>7</th>\n",
       "      <td>阿联酋</td>\n",
       "      <td>50</td>\n",
       "      <td>40</td>\n",
       "      <td>9</td>\n",
       "    </tr>\n",
       "    <tr>\n",
       "      <th>8</th>\n",
       "      <td>乌兹别克斯坦</td>\n",
       "      <td>40</td>\n",
       "      <td>40</td>\n",
       "      <td>5</td>\n",
       "    </tr>\n",
       "    <tr>\n",
       "      <th>9</th>\n",
       "      <td>泰国</td>\n",
       "      <td>50</td>\n",
       "      <td>50</td>\n",
       "      <td>9</td>\n",
       "    </tr>\n",
       "    <tr>\n",
       "      <th>10</th>\n",
       "      <td>越南</td>\n",
       "      <td>50</td>\n",
       "      <td>50</td>\n",
       "      <td>5</td>\n",
       "    </tr>\n",
       "    <tr>\n",
       "      <th>11</th>\n",
       "      <td>阿曼</td>\n",
       "      <td>50</td>\n",
       "      <td>50</td>\n",
       "      <td>9</td>\n",
       "    </tr>\n",
       "    <tr>\n",
       "      <th>12</th>\n",
       "      <td>巴林</td>\n",
       "      <td>40</td>\n",
       "      <td>40</td>\n",
       "      <td>9</td>\n",
       "    </tr>\n",
       "    <tr>\n",
       "      <th>13</th>\n",
       "      <td>朝鲜</td>\n",
       "      <td>40</td>\n",
       "      <td>32</td>\n",
       "      <td>17</td>\n",
       "    </tr>\n",
       "    <tr>\n",
       "      <th>14</th>\n",
       "      <td>印尼</td>\n",
       "      <td>50</td>\n",
       "      <td>50</td>\n",
       "      <td>9</td>\n",
       "    </tr>\n",
       "  </tbody>\n",
       "</table>\n",
       "</div>"
      ],
      "text/plain": [
       "        国家  2006年世界杯  2010年世界杯  2007亚洲杯\n",
       "0       中国        50        50        9\n",
       "1       日本        28         9        4\n",
       "2       韩国        17        15        3\n",
       "3       伊朗        25        40        5\n",
       "4       沙特        28        40        2\n",
       "5      伊拉克        50        50        1\n",
       "6      卡塔尔        50        40        9\n",
       "7      阿联酋        50        40        9\n",
       "8   乌兹别克斯坦        40        40        5\n",
       "9       泰国        50        50        9\n",
       "10      越南        50        50        5\n",
       "11      阿曼        50        50        9\n",
       "12      巴林        40        40        9\n",
       "13      朝鲜        40        32       17\n",
       "14      印尼        50        50        9"
      ]
     },
     "execution_count": 3,
     "metadata": {},
     "output_type": "execute_result"
    }
   ],
   "source": [
    "datas=pd.read_csv('./datas/AsiaFootball.txt')\n",
    "datas"
   ]
  },
  {
   "cell_type": "code",
   "execution_count": 4,
   "metadata": {
    "ExecuteTime": {
     "end_time": "2020-04-09T07:31:52.083025Z",
     "start_time": "2020-04-09T07:31:52.051113Z"
    }
   },
   "outputs": [
    {
     "name": "stdout",
     "output_type": "stream",
     "text": [
      "['中国' '伊拉克' '卡塔尔' '阿联酋' '泰国' '越南' '阿曼' '印尼']\n",
      "['日本' '韩国']\n",
      "['伊朗' '沙特' '乌兹别克斯坦' '巴林' '朝鲜']\n"
     ]
    }
   ],
   "source": [
    "# 非结构簇集合\n",
    "k=KMeans(n_clusters=3)\n",
    "k.fit(datas.iloc[:,1:])\n",
    "y_=k.predict(datas.iloc[:,1:])\n",
    "c=datas['国家'].values\n",
    "for i in range(3):\n",
    "    cond=y_==i\n",
    "    print(c[cond])"
   ]
  },
  {
   "cell_type": "code",
   "execution_count": 5,
   "metadata": {
    "ExecuteTime": {
     "end_time": "2020-04-09T07:31:52.250617Z",
     "start_time": "2020-04-09T07:31:52.085058Z"
    }
   },
   "outputs": [
    {
     "data": {
      "text/plain": [
       "<matplotlib.collections.PathCollection at 0x14d57a14b00>"
      ]
     },
     "execution_count": 5,
     "metadata": {},
     "output_type": "execute_result"
    },
    {
     "data": {
      "image/png": "[encoded data removed]",
      "text/plain": [
       "<Figure size 432x288 with 1 Axes>"
      ]
     },
     "metadata": {
      "needs_background": "light"
     },
     "output_type": "display_data"
    }
   ],
   "source": [
    "# k值得选取\n",
    "X,y=datasets.make_blobs(centers=3)\n",
    "plt.scatter(X[:,0],X[:,1],c=y)"
   ]
  },
  {
   "cell_type": "code",
   "execution_count": 6,
   "metadata": {
    "ExecuteTime": {
     "end_time": "2020-04-09T07:31:52.455448Z",
     "start_time": "2020-04-09T07:31:52.251610Z"
    }
   },
   "outputs": [
    {
     "data": {
      "text/plain": [
       "<matplotlib.collections.PathCollection at 0x14d57acfa20>"
      ]
     },
     "execution_count": 6,
     "metadata": {},
     "output_type": "execute_result"
    },
    {
     "data": {
      "image/png": "[encoded data removed]",
      "text/plain": [
       "<Figure size 432x288 with 1 Axes>"
      ]
     },
     "metadata": {
      "needs_background": "light"
     },
     "output_type": "display_data"
    }
   ],
   "source": [
    "k=KMeans(n_clusters=6)\n",
    "k.fit(X)\n",
    "y_=k.predict(X)\n",
    "plt.scatter(X[:,0],X[:,1],c=y_)"
   ]
  },
  {
   "cell_type": "code",
   "execution_count": 7,
   "metadata": {
    "ExecuteTime": {
     "end_time": "2020-04-09T07:31:52.468952Z",
     "start_time": "2020-04-09T07:31:52.456445Z"
    }
   },
   "outputs": [
    {
     "data": {
      "text/plain": [
       "array([3, 5, 1, 5, 2, 1, 2, 0, 3, 1, 2, 2, 1, 5, 3, 0, 5, 4, 4, 3, 2, 2,\n",
       "       1, 0, 1, 0, 0, 3, 3, 2, 5, 2, 0, 1, 1, 2, 2, 1, 0, 2, 1, 1, 2, 2,\n",
       "       4, 3, 2, 1, 1, 5, 0, 3, 2, 3, 1, 1, 2, 2, 2, 3, 4, 1, 5, 2, 0, 3,\n",
       "       0, 3, 5, 1, 5, 2, 3, 1, 1, 5, 5, 0, 3, 1, 1, 5, 4, 2, 0, 1, 0, 5,\n",
       "       1, 1, 0, 1, 3, 1, 1, 5, 1, 5, 4, 0])"
      ]
     },
     "metadata": {},
     "output_type": "display_data"
    },
    {
     "data": {
      "text/plain": [
       "array([3, 5, 1, 5, 2, 1, 2, 0, 3, 1, 2, 2, 1, 5, 3, 0, 5, 4, 4, 3, 2, 2,\n",
       "       1, 0, 1, 0, 0, 3, 3, 2, 5, 2, 0, 1, 1, 2, 2, 1, 0, 2, 1, 1, 2, 2,\n",
       "       4, 3, 2, 1, 1, 5, 0, 3, 2, 3, 1, 1, 2, 2, 2, 3, 4, 1, 5, 2, 0, 3,\n",
       "       0, 3, 5, 1, 5, 2, 3, 1, 1, 5, 5, 0, 3, 1, 1, 5, 4, 2, 0, 1, 0, 5,\n",
       "       1, 1, 0, 1, 3, 1, 1, 5, 1, 5, 4, 0])"
      ]
     },
     "execution_count": 7,
     "metadata": {},
     "output_type": "execute_result"
    }
   ],
   "source": [
    "display(y_)\n",
    "k.labels_"
   ]
  },
  {
   "cell_type": "markdown",
   "metadata": {},
   "source": [
    "![](./imgs/簇.png)"
   ]
  },
  {
   "cell_type": "code",
   "execution_count": 8,
   "metadata": {
    "ExecuteTime": {
     "end_time": "2020-04-09T07:31:52.476938Z",
     "start_time": "2020-04-09T07:31:52.470949Z"
    }
   },
   "outputs": [
    {
     "data": {
      "text/plain": [
       "0.3504910821707133"
      ]
     },
     "execution_count": 8,
     "metadata": {},
     "output_type": "execute_result"
    }
   ],
   "source": [
    "# 轮廓系数 评价指标\n",
    "silhouette_score(X,y_)"
   ]
  },
  {
   "cell_type": "code",
   "execution_count": 9,
   "metadata": {
    "ExecuteTime": {
     "end_time": "2020-04-09T07:31:52.872428Z",
     "start_time": "2020-04-09T07:31:52.481918Z"
    }
   },
   "outputs": [
    {
     "data": {
      "text/plain": [
       "[<matplotlib.lines.Line2D at 0x14d57b3e748>]"
      ]
     },
     "execution_count": 9,
     "metadata": {},
     "output_type": "execute_result"
    },
    {
     "data": {
      "image/png": "[encoded data removed]",
      "text/plain": [
       "<Figure size 432x288 with 1 Axes>"
      ]
     },
     "metadata": {
      "needs_background": "light"
     },
     "output_type": "display_data"
    }
   ],
   "source": [
    "score=[]\n",
    "for i in range(2,7):\n",
    "    k=KMeans(n_clusters=i).fit(X)\n",
    "    score.append(silhouette_score(X,k.labels_))\n",
    "plt.plot(range(2,7),score)"
   ]
  },
  {
   "cell_type": "code",
   "execution_count": 10,
   "metadata": {
    "ExecuteTime": {
     "end_time": "2020-04-09T07:31:52.879409Z",
     "start_time": "2020-04-09T07:31:52.874421Z"
    }
   },
   "outputs": [],
   "source": [
    "plt.rcParams['font.sans-serif'] = ['SimHei']  # 用来正常显示中文标签\n",
    "plt.rcParams['axes.unicode_minus'] = False  # 用来正常显示负号"
   ]
  },
  {
   "cell_type": "code",
   "execution_count": 11,
   "metadata": {
    "ExecuteTime": {
     "end_time": "2020-04-09T07:31:53.209043Z",
     "start_time": "2020-04-09T07:31:52.881405Z"
    }
   },
   "outputs": [
    {
     "data": {
      "text/plain": [
       "Text(0, 0.5, '兰德系数')"
      ]
     },
     "execution_count": 11,
     "metadata": {},
     "output_type": "execute_result"
    },
    {
     "data": {
      "image/png": "[encoded data removed]",
      "text/plain": [
       "<Figure size 432x288 with 1 Axes>"
      ]
     },
     "metadata": {
      "needs_background": "light"
     },
     "output_type": "display_data"
    }
   ],
   "source": [
    "# 调整的兰德系数\n",
    "score=[]\n",
    "for i in range(2,7):\n",
    "    k=KMeans(n_clusters=i).fit(X)\n",
    "    score.append(adjusted_rand_score(y,k.labels_))\n",
    "plt.plot(range(2,7),score)\n",
    "plt.xlabel('K值')\n",
    "plt.ylabel('兰德系数')"
   ]
  },
  {
   "cell_type": "code",
   "execution_count": 12,
   "metadata": {
    "ExecuteTime": {
     "end_time": "2020-04-09T07:31:53.220598Z",
     "start_time": "2020-04-09T07:31:53.213034Z"
    }
   },
   "outputs": [
    {
     "data": {
      "text/plain": [
       "array([1, 1, 0, 1, 2, 0, 2, 1, 1, 0, 1, 2, 0, 1, 1, 2, 1, 0, 0, 1, 2, 2,\n",
       "       0, 2, 0, 2, 2, 1, 1, 2, 1, 2, 1, 0, 0, 2, 2, 0, 1, 2, 0, 0, 2, 2,\n",
       "       0, 1, 2, 0, 0, 1, 2, 1, 2, 1, 0, 0, 2, 2, 2, 1, 0, 0, 1, 2, 2, 1,\n",
       "       2, 1, 1, 0, 1, 2, 1, 0, 0, 1, 2, 2, 1, 0, 0, 1, 0, 2, 2, 0, 2, 1,\n",
       "       0, 0, 2, 0, 1, 0, 0, 1, 0, 1, 0, 2])"
      ]
     },
     "execution_count": 12,
     "metadata": {},
     "output_type": "execute_result"
    }
   ],
   "source": [
    "y"
   ]
  }
 ],
 "metadata": {
  "kernelspec": {
   "display_name": "Python 3",
   "language": "python",
   "name": "python3"
  },
  "language_info": {
   "codemirror_mode": {
    "name": "ipython",
    "version": 3
   },
   "file_extension": ".py",
   "mimetype": "text/x-python",
   "name": "python",
   "nbconvert_exporter": "python",
   "pygments_lexer": "ipython3",
   "version": "3.6.8"
  },
  "toc": {
   "base_numbering": 1,
   "nav_menu": {},
   "number_sections": true,
   "sideBar": true,
   "skip_h1_title": false,
   "title_cell": "Table of Contents",
   "title_sidebar": "Contents",
   "toc_cell": false,
   "toc_position": {},
   "toc_section_display": true,
   "toc_window_display": false
  }
 },
 "nbformat": 4,
 "nbformat_minor": 4
}
