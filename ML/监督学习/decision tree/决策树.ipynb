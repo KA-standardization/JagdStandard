{
 "cells": [
  {
   "cell_type": "code",
   "execution_count": 118,
   "metadata": {
    "ExecuteTime": {
     "end_time": "2020-03-31T12:32:18.869866Z",
     "start_time": "2020-03-31T12:32:18.842550Z"
    },
    "code_folding": []
   },
   "outputs": [],
   "source": [
    "# import \n",
    "import numpy as np\n",
    "from collections import Counter\n",
    "import warnings\n",
    "warnings.filterwarnings('ignore')"
   ]
  },
  {
   "cell_type": "code",
   "execution_count": 87,
   "metadata": {
    "ExecuteTime": {
     "end_time": "2020-03-31T12:21:49.806896Z",
     "start_time": "2020-03-31T12:21:49.788822Z"
    },
    "code_folding": []
   },
   "outputs": [],
   "source": [
    "# datas\n",
    "age=np.array(['青年']*5+['中年']*5+['老年']*5)\n",
    "job=np.array(['否']*2+['是']*2+['否']*3+['是']+['否']*4+['是']*2+['否'])\n",
    "house=np.array(['否']*3+['是']+['否']*3+['是']*5+['否']*3)\n",
    "credit=np.array(['一般']+['好']*2+['一般']*3+['好']*2+['非常好']*3+['好']*2+['非常好']+['一般'])\n",
    "class_datas=np.array(['否1']*2+['是1']*2+['否1']*3+['是1']*7+['否1'])\n",
    "datas=[]\n",
    "for i in range(len(class_datas)):\n",
    "    datas.append({'age':age[i],\n",
    "                  'job':job[i],\n",
    "                  'house':house[i],\n",
    "                  'credit':credit[i],\n",
    "                  'class_datas':class_datas[i]})"
   ]
  },
  {
   "cell_type": "code",
   "execution_count": 88,
   "metadata": {
    "ExecuteTime": {
     "end_time": "2020-03-31T12:21:52.187313Z",
     "start_time": "2020-03-31T12:21:52.160712Z"
    },
    "code_folding": []
   },
   "outputs": [],
   "source": [
    "def empirical_entropy(x):\n",
    "    y_class=Counter(x)\n",
    "    if len(y_class)<2:\n",
    "        return 0\n",
    "    y=list(y_class.keys())\n",
    "    res_list=[]\n",
    "    for i in range(len(y_class)):\n",
    "        res_list.append(str(-y_class[y[i]]/len(x)*\\\n",
    "                            np.log2(y_class[y[i]]/len(x))))\n",
    "#     res=-y_class[y[0]]/len(x)*np.log2(y_class[y[0]]/len(x))-\\\n",
    "#         (1-(y_class[y[0]])/len(x))*np.log2((1-(y_class[y[0]])/len(x)))\n",
    "    res=eval(\"+\".join(res_list))\n",
    "    return res"
   ]
  },
  {
   "cell_type": "code",
   "execution_count": 89,
   "metadata": {
    "ExecuteTime": {
     "end_time": "2020-03-31T12:21:55.408890Z",
     "start_time": "2020-03-31T12:21:55.393191Z"
    }
   },
   "outputs": [
    {
     "data": {
      "text/plain": [
       "0.9709505944546686"
      ]
     },
     "execution_count": 89,
     "metadata": {},
     "output_type": "execute_result"
    }
   ],
   "source": [
    "H=empirical_entropy(class_datas)\n",
    "H"
   ]
  },
  {
   "cell_type": "code",
   "execution_count": 71,
   "metadata": {
    "ExecuteTime": {
     "end_time": "2020-03-31T12:12:09.499981Z",
     "start_time": "2020-03-31T12:12:09.472813Z"
    },
    "code_folding": [
     0
    ],
    "solution": "shown",
    "solution_first": true
   },
   "outputs": [],
   "source": [
    "# test\n",
    "y=Counter(age)\n",
    "yy=list(y.keys())\n",
    "cond=[]\n",
    "cond2=[]\n",
    "for k in range(len(yy)):\n",
    "    for l in datas:\n",
    "        cond.append(l['age']==yy[k])\n",
    "        if len(cond)==15:\n",
    "            cond2.append(cond)\n",
    "            cond=[]\n"
   ]
  },
  {
   "cell_type": "code",
   "execution_count": 30,
   "metadata": {
    "ExecuteTime": {
     "end_time": "2020-03-31T06:10:55.696286Z",
     "start_time": "2020-03-31T06:10:55.692660Z"
    },
    "solution": "shown"
   },
   "outputs": [],
   "source": [
    "d=np.array(datas).reshape(1,-1)\n",
    "# cond=np.array([True]*3+[False]*12).reshape(1,-1)\n",
    "# d[cond]"
   ]
  },
  {
   "cell_type": "code",
   "execution_count": 32,
   "metadata": {
    "ExecuteTime": {
     "end_time": "2020-03-31T06:11:02.979507Z",
     "start_time": "2020-03-31T06:11:02.974518Z"
    },
    "collapsed": true,
    "solution": "shown"
   },
   "outputs": [
    {
     "data": {
      "text/plain": [
       "array([{'age': '青年', 'job': '否', 'house': '否', 'credit': '一般', 'class_datas': '否'},\n",
       "       {'age': '青年', 'job': '否', 'house': '否', 'credit': '好', 'class_datas': '否'},\n",
       "       {'age': '青年', 'job': '是', 'house': '否', 'credit': '好', 'class_datas': '是'},\n",
       "       {'age': '青年', 'job': '是', 'house': '是', 'credit': '一般', 'class_datas': '是'},\n",
       "       {'age': '青年', 'job': '否', 'house': '否', 'credit': '一般', 'class_datas': '否'}],\n",
       "      dtype=object)"
      ]
     },
     "execution_count": 32,
     "metadata": {},
     "output_type": "execute_result"
    }
   ],
   "source": [
    "cond3=np.array(cond2[0]).reshape(1,-1)\n",
    "d2=d[cond3]\n",
    "for d in d2:\n",
    "    d['']"
   ]
  },
  {
   "cell_type": "code",
   "execution_count": 117,
   "metadata": {
    "ExecuteTime": {
     "end_time": "2020-03-31T12:31:51.296302Z",
     "start_time": "2020-03-31T12:31:51.274327Z"
    },
    "code_folding": []
   },
   "outputs": [],
   "source": [
    "def conditional_entropy(x,name,class_key,class_value,datas):\n",
    "    class_x=Counter(x)\n",
    "    key_x=list(class_x.keys())\n",
    "    key_v=list(class_x.values())\n",
    "    temp=[]\n",
    "    cond=[]\n",
    "    for k in range(len(key_x)):\n",
    "        for l in datas:\n",
    "            temp.append(l[name]==key_x[k])\n",
    "            if len(temp)==15:\n",
    "                cond.append(temp)\n",
    "                temp=[]\n",
    "    datas_arr=np.array(datas).reshape(1,-1)\n",
    "    datas_part=[]\n",
    "    for j in range(len(cond)):\n",
    "        cond_part=np.array(cond[j]).reshape(1,-1)\n",
    "        datas_part.append([datas_arr[cond_part]])\n",
    "    res_list=[]\n",
    "    res=0\n",
    "    for d in range(len(datas_part)):\n",
    "        res=0\n",
    "        for v in datas_part[d]:\n",
    "            for h in v:\n",
    "                if h[class_key]==class_value:\n",
    "                    res+=1\n",
    "        res_list.append({key_x[d]:key_v[d],class_value:res})\n",
    "#     print(res_list)\n",
    "    res_all=[]\n",
    "    for val in res_list:\n",
    "        val_p=list(val.values())\n",
    "        v_k=val_p[0]\n",
    "        v_c=val_p[1]\n",
    "        res_one=str((v_k/len(x))*\\\n",
    "                    (-(v_c/v_k)*np.log2(v_c/v_k)-\\\n",
    "                     (((v_k-v_c)/v_k)*np.log2((v_k-v_c)/v_k))))\n",
    "        res_all.append(res_one)\n",
    "#     print(res_all)\n",
    "    res_all_2=[]\n",
    "    for n in res_all:\n",
    "        if n == 'nan':\n",
    "            n='0'\n",
    "        res_all_2.append(n)\n",
    "    result=eval('+'.join(res_all_2))\n",
    "    return result"
   ]
  },
  {
   "cell_type": "code",
   "execution_count": 120,
   "metadata": {
    "ExecuteTime": {
     "end_time": "2020-03-31T12:32:42.793833Z",
     "start_time": "2020-03-31T12:32:42.769199Z"
    }
   },
   "outputs": [
    {
     "data": {
      "text/plain": [
       "0.08300749985576883"
      ]
     },
     "execution_count": 120,
     "metadata": {},
     "output_type": "execute_result"
    }
   ],
   "source": [
    "A_age=conditional_entropy(age,'age','class_datas','是1',datas)\n",
    "H-A_age"
   ]
  },
  {
   "cell_type": "code",
   "execution_count": 119,
   "metadata": {
    "ExecuteTime": {
     "end_time": "2020-03-31T12:32:34.984766Z",
     "start_time": "2020-03-31T12:32:34.955757Z"
    }
   },
   "outputs": [
    {
     "data": {
      "text/plain": [
       "0.32365019815155627"
      ]
     },
     "execution_count": 119,
     "metadata": {},
     "output_type": "execute_result"
    }
   ],
   "source": [
    "A_job=conditional_entropy(job,'job','class_datas','是1',datas)\n",
    "H-A_job"
   ]
  },
  {
   "cell_type": "code",
   "execution_count": 121,
   "metadata": {
    "ExecuteTime": {
     "end_time": "2020-03-31T12:33:51.024399Z",
     "start_time": "2020-03-31T12:33:50.998088Z"
    }
   },
   "outputs": [
    {
     "data": {
      "text/plain": [
       "0.4199730940219749"
      ]
     },
     "execution_count": 121,
     "metadata": {},
     "output_type": "execute_result"
    }
   ],
   "source": [
    "A_house=conditional_entropy(house,'house','class_datas','是1',datas)\n",
    "H-A_house"
   ]
  },
  {
   "cell_type": "code",
   "execution_count": 122,
   "metadata": {
    "ExecuteTime": {
     "end_time": "2020-03-31T12:35:02.676922Z",
     "start_time": "2020-03-31T12:35:02.655403Z"
    }
   },
   "outputs": [
    {
     "data": {
      "text/plain": [
       "0.36298956253708536"
      ]
     },
     "execution_count": 122,
     "metadata": {},
     "output_type": "execute_result"
    }
   ],
   "source": [
    "A_credit=conditional_entropy(credit,'credit','class_datas','是1',datas)\n",
    "H-A_credit"
   ]
  },
  {
   "cell_type": "code",
   "execution_count": 124,
   "metadata": {
    "ExecuteTime": {
     "end_time": "2020-03-31T12:45:45.392571Z",
     "start_time": "2020-03-31T12:45:45.357675Z"
    }
   },
   "outputs": [
    {
     "data": {
      "text/plain": [
       "0.4199730940219749"
      ]
     },
     "execution_count": 124,
     "metadata": {},
     "output_type": "execute_result"
    }
   ],
   "source": [
    "max(H-A_age,H-A_credit,H-A_house,H-A_job)"
   ]
  }
 ],
 "metadata": {
  "kernelspec": {
   "display_name": "Python 3",
   "language": "python",
   "name": "python3"
  },
  "language_info": {
   "codemirror_mode": {
    "name": "ipython",
    "version": 3
   },
   "file_extension": ".py",
   "mimetype": "text/x-python",
   "name": "python",
   "nbconvert_exporter": "python",
   "pygments_lexer": "ipython3",
   "version": "3.7.3"
  },
  "toc": {
   "base_numbering": 1,
   "nav_menu": {},
   "number_sections": true,
   "sideBar": true,
   "skip_h1_title": false,
   "title_cell": "Table of Contents",
   "title_sidebar": "Contents",
   "toc_cell": false,
   "toc_position": {},
   "toc_section_display": true,
   "toc_window_display": false
  }
 },
 "nbformat": 4,
 "nbformat_minor": 4
}
