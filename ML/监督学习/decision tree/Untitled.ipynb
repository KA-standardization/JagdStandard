{
 "cells": [
  {
   "cell_type": "code",
   "execution_count": 2,
   "metadata": {
    "ExecuteTime": {
     "end_time": "2020-03-30T12:56:35.254987Z",
     "start_time": "2020-03-30T12:56:34.921593Z"
    }
   },
   "outputs": [],
   "source": [
    "import numpy as np\n",
    "import matplotlib.pyplot as plt\n",
    "from collections import Counter"
   ]
  },
  {
   "cell_type": "code",
   "execution_count": 8,
   "metadata": {
    "ExecuteTime": {
     "end_time": "2020-03-30T12:11:06.327682Z",
     "start_time": "2020-03-30T12:11:06.296139Z"
    }
   },
   "outputs": [
    {
     "data": {
      "text/plain": [
       "array([1, 1, 1, 0, 1, 0, 0, 0, 0, 1, 1, 0, 1, 1, 1, 0, 1, 1, 0, 0, 0, 1,\n",
       "       1, 1, 0, 0, 0, 0, 0, 1, 0, 0, 1, 1, 0, 1, 0, 1, 0, 0, 1, 1, 1, 0,\n",
       "       0, 0, 1, 1, 0, 0])"
      ]
     },
     "execution_count": 8,
     "metadata": {},
     "output_type": "execute_result"
    }
   ],
   "source": [
    "x=np.random.randint(0,2,size=50)\n",
    "x"
   ]
  },
  {
   "cell_type": "code",
   "execution_count": 17,
   "metadata": {
    "ExecuteTime": {
     "end_time": "2020-03-30T12:23:54.489887Z",
     "start_time": "2020-03-30T12:23:54.443628Z"
    }
   },
   "outputs": [
    {
     "name": "stdout",
     "output_type": "stream",
     "text": [
      "0\n",
      "1\n"
     ]
    }
   ],
   "source": [
    "y=Counter(x)\n",
    "for i in range(len(y)):\n",
    "    print(i)"
   ]
  },
  {
   "cell_type": "code",
   "execution_count": 45,
   "metadata": {
    "ExecuteTime": {
     "end_time": "2020-03-30T12:42:06.463137Z",
     "start_time": "2020-03-30T12:42:06.428721Z"
    }
   },
   "outputs": [],
   "source": [
    "def prob(x):\n",
    "    if len(x) == 0:\n",
    "        return None\n",
    "    denominator=len(x)\n",
    "    x_class=Counter(x)\n",
    "    x_list=[]\n",
    "    for i in range(len(x_class)):\n",
    "        x_list.append('x'+str(i))\n",
    "    x2_list=[]\n",
    "    for j in range(len(x_list)):\n",
    "        x2_list.append({x_list[j]:x_class[j]/denominator})\n",
    "    return x2_list\n",
    "# def entropy(x):\n",
    "#     hp=[]\n",
    "#     for i in range(len(x)):\n",
    "#         xx=eval(str(x[i].values()))\n",
    "#         hp.append(-xx*np.log2(xx)-(1-xx)*np.log2(1-xx))"
   ]
  },
  {
   "cell_type": "code",
   "execution_count": 49,
   "metadata": {
    "ExecuteTime": {
     "end_time": "2020-03-30T12:44:32.424511Z",
     "start_time": "2020-03-30T12:44:32.409218Z"
    }
   },
   "outputs": [],
   "source": [
    "f=lambda x:-x*np.log2(x)-(1-x)*np.log2(1-x)"
   ]
  },
  {
   "cell_type": "code",
   "execution_count": 61,
   "metadata": {
    "ExecuteTime": {
     "end_time": "2020-03-30T12:47:34.773207Z",
     "start_time": "2020-03-30T12:47:34.746722Z"
    }
   },
   "outputs": [
    {
     "data": {
      "text/plain": [
       "[{'x0': 0.52}, {'x1': 0.48}]"
      ]
     },
     "execution_count": 61,
     "metadata": {},
     "output_type": "execute_result"
    }
   ],
   "source": [
    "y=prob(x)\n",
    "y"
   ]
  },
  {
   "cell_type": "code",
   "execution_count": 55,
   "metadata": {
    "ExecuteTime": {
     "end_time": "2020-03-30T12:46:10.468130Z",
     "start_time": "2020-03-30T12:46:10.438262Z"
    }
   },
   "outputs": [
    {
     "data": {
      "text/plain": [
       "0.9988455359952018"
      ]
     },
     "execution_count": 55,
     "metadata": {},
     "output_type": "execute_result"
    }
   ],
   "source": [
    "-0.52*np.log2(0.52)-(1-0.52)*np.log2(1-0.52)"
   ]
  },
  {
   "cell_type": "code",
   "execution_count": 63,
   "metadata": {
    "ExecuteTime": {
     "end_time": "2020-03-30T12:48:19.940559Z",
     "start_time": "2020-03-30T12:48:19.916725Z"
    }
   },
   "outputs": [],
   "source": [
    "y2=f(0.52)\n",
    "y3=f(0.48)"
   ]
  },
  {
   "cell_type": "code",
   "execution_count": 64,
   "metadata": {
    "ExecuteTime": {
     "end_time": "2020-03-30T12:48:22.507942Z",
     "start_time": "2020-03-30T12:48:22.308296Z"
    },
    "collapsed": true
   },
   "outputs": [
    {
     "data": {
      "text/plain": [
       "[<matplotlib.lines.Line2D at 0x1e63ebd52e8>]"
      ]
     },
     "execution_count": 64,
     "metadata": {},
     "output_type": "execute_result"
    },
    {
     "data": {
      "image/png": "[encoded data removed]",
      "text/plain": [
       "<Figure size 432x288 with 1 Axes>"
      ]
     },
     "metadata": {
      "needs_background": "light"
     },
     "output_type": "display_data"
    }
   ],
   "source": [
    "plt.plot([0.52,0.48],[y2,y3])"
   ]
  },
  {
   "cell_type": "code",
   "execution_count": 10,
   "metadata": {
    "ExecuteTime": {
     "end_time": "2020-03-30T12:58:37.324148Z",
     "start_time": "2020-03-30T12:58:37.297186Z"
    }
   },
   "outputs": [],
   "source": [
    "def entropy(p):\n",
    "    return -(p * np.log2(p) + (1 - p) * np.log2(1-p))"
   ]
  },
  {
   "cell_type": "code",
   "execution_count": 11,
   "metadata": {
    "ExecuteTime": {
     "end_time": "2020-03-30T12:58:38.667795Z",
     "start_time": "2020-03-30T12:58:38.652412Z"
    }
   },
   "outputs": [
    {
     "name": "stderr",
     "output_type": "stream",
     "text": [
      "c:\\users\\root\\appdata\\local\\programs\\python\\python36\\lib\\site-packages\\ipykernel_launcher.py:2: RuntimeWarning: divide by zero encountered in log2\n",
      "  \n",
      "c:\\users\\root\\appdata\\local\\programs\\python\\python36\\lib\\site-packages\\ipykernel_launcher.py:2: RuntimeWarning: invalid value encountered in multiply\n",
      "  \n"
     ]
    }
   ],
   "source": [
    "p1 = np.linspace(0, 1, 50)\n",
    "entropy = entropy(p1)"
   ]
  },
  {
   "cell_type": "code",
   "execution_count": 25,
   "metadata": {
    "ExecuteTime": {
     "end_time": "2020-03-30T13:08:11.049330Z",
     "start_time": "2020-03-30T13:08:10.879366Z"
    }
   },
   "outputs": [
    {
     "data": {
      "image/png": "[encoded data removed]",
      "text/plain": [
       "<Figure size 288x288 with 1 Axes>"
      ]
     },
     "metadata": {
      "needs_background": "light"
     },
     "output_type": "display_data"
    }
   ],
   "source": [
    "plt.figure(figsize=(4,4))\n",
    "plt.plot(p1, entropy, 'k-')\n",
    "plt.grid()\n",
    "plt.xlabel('p',fontsize=20,color='blue')\n",
    "plt.ylabel('H(p)',fontsize=20,color='red')\n",
    "plt.savefig('./1.png')"
   ]
  }
 ],
 "metadata": {
  "kernelspec": {
   "display_name": "Python 3",
   "language": "python",
   "name": "python3"
  },
  "language_info": {
   "codemirror_mode": {
    "name": "ipython",
    "version": 3
   },
   "file_extension": ".py",
   "mimetype": "text/x-python",
   "name": "python",
   "nbconvert_exporter": "python",
   "pygments_lexer": "ipython3",
   "version": "3.7.3"
  },
  "toc": {
   "base_numbering": 1,
   "nav_menu": {},
   "number_sections": true,
   "sideBar": true,
   "skip_h1_title": false,
   "title_cell": "Table of Contents",
   "title_sidebar": "Contents",
   "toc_cell": false,
   "toc_position": {},
   "toc_section_display": true,
   "toc_window_display": false
  }
 },
 "nbformat": 4,
 "nbformat_minor": 4
}
