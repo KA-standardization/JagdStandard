{
 "cells": [
  {
   "cell_type": "code",
   "execution_count": 1,
   "metadata": {
    "ExecuteTime": {
     "end_time": "2020-03-23T11:44:48.862036Z",
     "start_time": "2020-03-23T11:44:48.726814Z"
    },
    "code_folding": [
     0
    ]
   },
   "outputs": [],
   "source": [
    "# import\n",
    "import numpy as np"
   ]
  },
  {
   "cell_type": "code",
   "execution_count": 2,
   "metadata": {
    "ExecuteTime": {
     "end_time": "2020-03-23T11:44:48.866770Z",
     "start_time": "2020-03-23T11:44:48.862779Z"
    },
    "code_folding": []
   },
   "outputs": [],
   "source": [
    "# init\n",
    "x=np.arange(10)\n",
    "y=np.array([1,1,1,-1,-1,-1,1,1,1,-1])\n",
    "w1=np.array([0.1]*10)"
   ]
  },
  {
   "cell_type": "code",
   "execution_count": 3,
   "metadata": {
    "ExecuteTime": {
     "end_time": "2020-03-23T11:44:48.884721Z",
     "start_time": "2020-03-23T11:44:48.868766Z"
    }
   },
   "outputs": [
    {
     "name": "stdout",
     "output_type": "stream",
     "text": [
      "1.5 0.4   0.6\n",
      "2.5 0.3   0.7\n",
      "3.5 0.4   0.6\n",
      "4.5 0.5   0.5\n",
      "5.5 0.6   0.4\n",
      "6.5 0.5   0.5\n",
      "7.5 0.4   0.6\n",
      "8.5 0.3   0.7\n",
      "9.5 0.4   0.6\n"
     ]
    }
   ],
   "source": [
    "for v in np.arange(1.5,10,1):\n",
    "    G1=[1 if i<v else -1 for i in x]\n",
    "    err=(G1!=y)*w1\n",
    "    err=err.sum()\n",
    "    print(v,round(err,4),end='   ')\n",
    "    G1=[-1 if i<v else 1 for i in x]\n",
    "    err=((G1!=y)*w1).sum()\n",
    "    print(round(err,4))"
   ]
  },
  {
   "cell_type": "code",
   "execution_count": 4,
   "metadata": {
    "ExecuteTime": {
     "end_time": "2020-03-23T11:44:48.904669Z",
     "start_time": "2020-03-23T11:44:48.885718Z"
    }
   },
   "outputs": [
    {
     "data": {
      "text/plain": [
       "0.4236"
      ]
     },
     "execution_count": 4,
     "metadata": {},
     "output_type": "execute_result"
    }
   ],
   "source": [
    "v=2.5\n",
    "G1=np.array([1 if i<v else -1 for i in x])\n",
    "err1=round(((G1!=y)*w1).sum(),4)\n",
    "alpha1=round(np.log((1-err1)/err1)/2,4)\n",
    "alpha1"
   ]
  },
  {
   "cell_type": "code",
   "execution_count": 5,
   "metadata": {
    "ExecuteTime": {
     "end_time": "2020-03-23T11:44:48.911649Z",
     "start_time": "2020-03-23T11:44:48.905665Z"
    }
   },
   "outputs": [
    {
     "data": {
      "text/plain": [
       "False"
      ]
     },
     "execution_count": 5,
     "metadata": {},
     "output_type": "execute_result"
    }
   ],
   "source": [
    "f1=np.sign(alpha1*G1)\n",
    "(f1==y).all()"
   ]
  },
  {
   "cell_type": "code",
   "execution_count": 6,
   "metadata": {
    "ExecuteTime": {
     "end_time": "2020-03-23T11:44:48.916636Z",
     "start_time": "2020-03-23T11:44:48.912646Z"
    }
   },
   "outputs": [],
   "source": [
    "w2=(w1*np.exp(-alpha1*y*G1))/(w1*np.exp(-alpha1*y*G1)).sum()"
   ]
  },
  {
   "cell_type": "code",
   "execution_count": 7,
   "metadata": {
    "ExecuteTime": {
     "end_time": "2020-03-23T11:44:48.928604Z",
     "start_time": "2020-03-23T11:44:48.918631Z"
    }
   },
   "outputs": [
    {
     "name": "stdout",
     "output_type": "stream",
     "text": [
      "1.5 0.5714   0.4286\n",
      "2.5 0.5   0.5\n",
      "3.5 0.5714   0.4286\n",
      "4.5 0.6428   0.3572\n",
      "5.5 0.7143   0.2857\n",
      "6.5 0.5476   0.4524\n",
      "7.5 0.381   0.619\n",
      "8.5 0.2143   0.7857\n",
      "9.5 0.2857   0.7143\n"
     ]
    }
   ],
   "source": [
    "for v in np.arange(1.5,10,1):\n",
    "    G2=[1 if i<v else -1 for i in x]\n",
    "    err2=(G2!=y)*w2\n",
    "    err2=err2.sum()\n",
    "    print(v,round(err2,4),end='   ')\n",
    "    G2=[-1 if i<v else 1 for i in x]\n",
    "    err2=((G2!=y)*w2).sum()\n",
    "    print(round(err2,4))"
   ]
  },
  {
   "cell_type": "code",
   "execution_count": 8,
   "metadata": {
    "ExecuteTime": {
     "end_time": "2020-03-23T11:44:48.938579Z",
     "start_time": "2020-03-23T11:44:48.931596Z"
    }
   },
   "outputs": [
    {
     "data": {
      "text/plain": [
       "0.6496"
      ]
     },
     "execution_count": 8,
     "metadata": {},
     "output_type": "execute_result"
    }
   ],
   "source": [
    "v2=8.5\n",
    "G2=np.array([1 if i<v2 else -1 for i in x])\n",
    "err2=round(((G2!=y)*w2).sum(),4)\n",
    "alpha2=round(np.log((1-err2)/err2)/2,4)\n",
    "alpha2"
   ]
  },
  {
   "cell_type": "code",
   "execution_count": 9,
   "metadata": {
    "ExecuteTime": {
     "end_time": "2020-03-23T11:44:48.945558Z",
     "start_time": "2020-03-23T11:44:48.940572Z"
    }
   },
   "outputs": [
    {
     "name": "stdout",
     "output_type": "stream",
     "text": [
      "False\n",
      "[ 1.  1.  1.  1.  1.  1.  1.  1.  1. -1.]\n",
      "[ 1  1  1 -1 -1 -1  1  1  1 -1]\n"
     ]
    }
   ],
   "source": [
    "f2=np.sign(alpha1*G1+alpha2*G2)\n",
    "print((f2==y).all())\n",
    "print(f2)\n",
    "print(y)"
   ]
  },
  {
   "cell_type": "code",
   "execution_count": 10,
   "metadata": {
    "ExecuteTime": {
     "end_time": "2020-03-23T11:44:48.952542Z",
     "start_time": "2020-03-23T11:44:48.946556Z"
    }
   },
   "outputs": [
    {
     "data": {
      "text/plain": [
       "array([0.04545785, 0.04545785, 0.04545785, 0.16666494, 0.16666494,\n",
       "       0.16666494, 0.10605793, 0.10605793, 0.10605793, 0.04545785])"
      ]
     },
     "execution_count": 10,
     "metadata": {},
     "output_type": "execute_result"
    }
   ],
   "source": [
    "w3=(w2*np.exp(-alpha2*y*G2))/(w2*np.exp(-alpha2*y*G2)).sum()\n",
    "w3"
   ]
  },
  {
   "cell_type": "code",
   "execution_count": 11,
   "metadata": {
    "ExecuteTime": {
     "end_time": "2020-03-23T11:44:48.962524Z",
     "start_time": "2020-03-23T11:44:48.953537Z"
    }
   },
   "outputs": [
    {
     "name": "stdout",
     "output_type": "stream",
     "text": [
      "1.5 0.3636   0.6364\n",
      "2.5 0.3182   0.6818\n",
      "3.5 0.4848   0.5152\n",
      "4.5 0.6515   0.3485\n",
      "5.5 0.8182   0.1818\n",
      "6.5 0.7121   0.2879\n",
      "7.5 0.6061   0.3939\n",
      "8.5 0.5   0.5\n",
      "9.5 0.5455   0.4545\n"
     ]
    }
   ],
   "source": [
    "for v in np.arange(1.5,10,1):\n",
    "    G3=[1 if i<v else -1 for i in x]\n",
    "    err3=(G3!=y)*w3\n",
    "    err3=err3.sum()\n",
    "    print(v,round(err3,4),end='   ')\n",
    "    G3=[-1 if i<v else 1 for i in x]\n",
    "    err3=((G3!=y)*w3).sum()\n",
    "    print(round(err3,4))"
   ]
  },
  {
   "cell_type": "code",
   "execution_count": 12,
   "metadata": {
    "ExecuteTime": {
     "end_time": "2020-03-23T11:44:48.969508Z",
     "start_time": "2020-03-23T11:44:48.963526Z"
    }
   },
   "outputs": [
    {
     "data": {
      "text/plain": [
       "0.7521"
      ]
     },
     "execution_count": 12,
     "metadata": {},
     "output_type": "execute_result"
    }
   ],
   "source": [
    "v3=5.5\n",
    "G3=np.array([-1 if i<v3 else 1 for i in x])\n",
    "err3=round(((G3!=y)*w3).sum(),4)\n",
    "alpha3=round(np.log((1-err3)/err3)/2,4)\n",
    "alpha3"
   ]
  },
  {
   "cell_type": "code",
   "execution_count": 13,
   "metadata": {
    "ExecuteTime": {
     "end_time": "2020-03-23T11:44:48.983476Z",
     "start_time": "2020-03-23T11:44:48.974514Z"
    }
   },
   "outputs": [
    {
     "data": {
      "text/plain": [
       "array([0.12501321, 0.12501321, 0.12501321, 0.10184168, 0.10184168,\n",
       "       0.10184168, 0.06480738, 0.06480738, 0.06480738, 0.12501321])"
      ]
     },
     "execution_count": 13,
     "metadata": {},
     "output_type": "execute_result"
    }
   ],
   "source": [
    "w4=(w3*np.exp(-alpha3*y*G3))/(w3*np.exp(-alpha3*y*G3)).sum()\n",
    "w4"
   ]
  },
  {
   "cell_type": "code",
   "execution_count": 16,
   "metadata": {
    "ExecuteTime": {
     "end_time": "2020-03-23T11:45:24.633187Z",
     "start_time": "2020-03-23T11:45:24.627203Z"
    }
   },
   "outputs": [
    {
     "data": {
      "text/plain": [
       "True"
      ]
     },
     "execution_count": 16,
     "metadata": {},
     "output_type": "execute_result"
    }
   ],
   "source": [
    "f3=np.sign(alpha1*G1+alpha2*G2+alpha3*G3)\n",
    "(f3==y).all()"
   ]
  }
 ],
 "metadata": {
  "kernelspec": {
   "display_name": "Python 3",
   "language": "python",
   "name": "python3"
  },
  "language_info": {
   "codemirror_mode": {
    "name": "ipython",
    "version": 3
   },
   "file_extension": ".py",
   "mimetype": "text/x-python",
   "name": "python",
   "nbconvert_exporter": "python",
   "pygments_lexer": "ipython3",
   "version": "3.6.8"
  },
  "toc": {
   "base_numbering": 1,
   "nav_menu": {},
   "number_sections": true,
   "sideBar": true,
   "skip_h1_title": false,
   "title_cell": "Table of Contents",
   "title_sidebar": "Contents",
   "toc_cell": false,
   "toc_position": {},
   "toc_section_display": true,
   "toc_window_display": false
  }
 },
 "nbformat": 4,
 "nbformat_minor": 4
}
