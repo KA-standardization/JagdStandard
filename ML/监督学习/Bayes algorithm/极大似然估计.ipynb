{
 "cells": [
  {
   "cell_type": "code",
   "execution_count": 1,
   "metadata": {
    "ExecuteTime": {
     "end_time": "2020-03-28T15:58:50.547236Z",
     "start_time": "2020-03-28T15:58:50.405648Z"
    }
   },
   "outputs": [],
   "source": [
    "# import\n",
    "import numpy as np\n",
    "from collections import Counter\n",
    "from fractions import Fraction\n",
    "X1=np.array([1]*5+[2]*5+[3]*5)\n",
    "X2=np.array(['S','M','M','S','S','S','M','M','L','L','L','M','M','L','L'])\n",
    "Y=np.array([-1,-1,1,1,-1,-1,-1,1,1,1,1,1,1,1,-1])"
   ]
  },
  {
   "cell_type": "code",
   "execution_count": 2,
   "metadata": {
    "ExecuteTime": {
     "end_time": "2020-03-28T15:58:50.554255Z",
     "start_time": "2020-03-28T15:58:50.549226Z"
    }
   },
   "outputs": [
    {
     "name": "stdout",
     "output_type": "stream",
     "text": [
      "3/5\n",
      "2/5\n"
     ]
    }
   ],
   "source": [
    "Y_class_count=Counter(Y)\n",
    "# Y_minus=Y_class_count[-1]/len(Y)\n",
    "Y_plus=Fraction(Y_class_count[1],len(Y))\n",
    "Y_minus=Fraction(Y_class_count[-1],len(Y))\n",
    "print(Y_plus)\n",
    "print(Y_minus)"
   ]
  },
  {
   "cell_type": "code",
   "execution_count": 3,
   "metadata": {
    "ExecuteTime": {
     "end_time": "2020-03-28T15:58:50.565183Z",
     "start_time": "2020-03-28T15:58:50.555274Z"
    }
   },
   "outputs": [
    {
     "name": "stdout",
     "output_type": "stream",
     "text": [
      "Counter({1: 5, 2: 5, 3: 5})\n"
     ]
    },
    {
     "data": {
      "text/plain": [
       "Counter({'S': 4, 'M': 6, 'L': 5})"
      ]
     },
     "execution_count": 3,
     "metadata": {},
     "output_type": "execute_result"
    }
   ],
   "source": [
    "X1_class_count=Counter(X1)\n",
    "X2_class_count=Counter(X2)\n",
    "print(X1_class_count)\n",
    "X2_class_count"
   ]
  },
  {
   "cell_type": "code",
   "execution_count": 4,
   "metadata": {
    "ExecuteTime": {
     "end_time": "2020-03-28T15:58:50.574160Z",
     "start_time": "2020-03-28T15:58:50.566181Z"
    }
   },
   "outputs": [
    {
     "data": {
      "text/plain": [
       "[{'X1': 1, 'X2': 'S', 'Y': -1},\n",
       " {'X1': 1, 'X2': 'M', 'Y': -1},\n",
       " {'X1': 1, 'X2': 'M', 'Y': 1},\n",
       " {'X1': 1, 'X2': 'S', 'Y': 1},\n",
       " {'X1': 1, 'X2': 'S', 'Y': -1},\n",
       " {'X1': 2, 'X2': 'S', 'Y': -1},\n",
       " {'X1': 2, 'X2': 'M', 'Y': -1},\n",
       " {'X1': 2, 'X2': 'M', 'Y': 1},\n",
       " {'X1': 2, 'X2': 'L', 'Y': 1},\n",
       " {'X1': 2, 'X2': 'L', 'Y': 1},\n",
       " {'X1': 3, 'X2': 'L', 'Y': 1},\n",
       " {'X1': 3, 'X2': 'M', 'Y': 1},\n",
       " {'X1': 3, 'X2': 'M', 'Y': 1},\n",
       " {'X1': 3, 'X2': 'L', 'Y': 1},\n",
       " {'X1': 3, 'X2': 'L', 'Y': -1}]"
      ]
     },
     "execution_count": 4,
     "metadata": {},
     "output_type": "execute_result"
    }
   ],
   "source": [
    "list_datas=[]\n",
    "for i in range(len(Y)):\n",
    "    list_datas.append({'X1':X1[i],'X2':X2[i],'Y':Y[i]})\n",
    "list_datas"
   ]
  },
  {
   "cell_type": "code",
   "execution_count": 10,
   "metadata": {
    "ExecuteTime": {
     "end_time": "2020-03-28T15:59:33.073992Z",
     "start_time": "2020-03-28T15:59:33.067051Z"
    }
   },
   "outputs": [],
   "source": [
    "count_Y_minus_X1_1=0\n",
    "count_Y_minus_X1_2=0\n",
    "count_Y_minus_X1_3=0\n",
    "count_Y_minus_X2_S=0\n",
    "count_Y_minus_X2_L=0\n",
    "count_Y_minus_X2_M=0\n",
    "count_Y_plus_X1_1=0\n",
    "count_Y_plus_X1_2=0\n",
    "count_Y_plus_X1_3=0\n",
    "count_Y_plus_X2_S=0\n",
    "count_Y_plus_X2_L=0\n",
    "count_Y_plus_X2_M=0\n",
    "for j in list_datas:\n",
    "    if j['Y'] == -1:\n",
    "        if j['X1'] == 1:\n",
    "            count_Y_minus_X1_1+=1\n",
    "        if j['X1'] == 2:\n",
    "            count_Y_minus_X1_2+=1\n",
    "        if j['X1'] == 3:\n",
    "            count_Y_minus_X1_3+=1\n",
    "        if j['X2'] == 'S':\n",
    "            count_Y_minus_X2_S+=1\n",
    "        if j['X2'] == 'L':\n",
    "            count_Y_minus_X2_L+=1\n",
    "        if j['X2'] == 'M':\n",
    "            count_Y_minus_X2_M+=1\n",
    "    if j['Y'] == 1:\n",
    "        if j['X1'] == 1:\n",
    "            count_Y_plus_X1_1+=1\n",
    "        if j['X1'] == 2:\n",
    "            count_Y_plus_X1_2+=1\n",
    "        if j['X1'] == 3:\n",
    "            count_Y_plus_X1_3+=1\n",
    "        if j['X2'] == 'S':\n",
    "            count_Y_plus_X2_S+=1\n",
    "        if j['X2'] == 'L':\n",
    "            count_Y_plus_X2_L+=1\n",
    "        if j['X2'] == 'M':\n",
    "            count_Y_plus_X2_M+=1"
   ]
  },
  {
   "cell_type": "code",
   "execution_count": 30,
   "metadata": {
    "ExecuteTime": {
     "end_time": "2020-03-28T16:10:28.009342Z",
     "start_time": "2020-03-28T16:10:27.999369Z"
    }
   },
   "outputs": [],
   "source": [
    "prob_X1_1_Y_plus=Fraction(count_Y_plus_X1_1,len(X1))/Y_plus\n",
    "prob_X1_2_Y_plus=Fraction(count_Y_plus_X1_2,len(X1))/Y_plus\n",
    "prob_X1_3_Y_plus=Fraction(count_Y_plus_X1_3,len(X1))/Y_plus\n",
    "\n",
    "prob_X2_S_Y_plus=Fraction(count_Y_plus_X2_S,len(X2))/Y_plus\n",
    "prob_X2_M_Y_plus=Fraction(count_Y_plus_X2_M,len(X2))/Y_plus\n",
    "prob_X2_L_Y_plus=Fraction(count_Y_plus_X2_L,len(X2))/Y_plus\n",
    "\n",
    "prob_X1_1_Y_minus=Fraction(count_Y_minus_X1_1,len(X1))/Y_minus\n",
    "prob_X1_2_Y_minus=Fraction(count_Y_minus_X1_2,len(X1))/Y_minus\n",
    "prob_X1_3_Y_minus=Fraction(count_Y_minus_X1_3,len(X1))/Y_minus\n",
    "\n",
    "prob_X2_S_Y_minus=Fraction(count_Y_minus_X2_S,len(X2))/Y_minus\n",
    "prob_X2_M_Y_minus=Fraction(count_Y_minus_X2_M,len(X2))/Y_minus\n",
    "prob_X2_L_Y_minus=Fraction(count_Y_minus_X2_L,len(X2))/Y_minus"
   ]
  },
  {
   "cell_type": "code",
   "execution_count": 35,
   "metadata": {
    "ExecuteTime": {
     "end_time": "2020-03-28T16:33:46.581165Z",
     "start_time": "2020-03-28T16:33:46.577176Z"
    }
   },
   "outputs": [],
   "source": [
    "prob1=Y_plus*prob_X1_2_Y_plus*prob_X2_S_Y_plus"
   ]
  },
  {
   "cell_type": "code",
   "execution_count": 36,
   "metadata": {
    "ExecuteTime": {
     "end_time": "2020-03-28T16:33:47.879130Z",
     "start_time": "2020-03-28T16:33:47.875867Z"
    }
   },
   "outputs": [],
   "source": [
    "prob2=Y_minus*prob_X1_2_Y_minus*prob_X2_S_Y_minus"
   ]
  },
  {
   "cell_type": "code",
   "execution_count": 37,
   "metadata": {
    "ExecuteTime": {
     "end_time": "2020-03-28T16:35:34.039675Z",
     "start_time": "2020-03-28T16:35:34.033689Z"
    }
   },
   "outputs": [
    {
     "data": {
      "text/plain": [
       "Fraction(1, 15)"
      ]
     },
     "execution_count": 37,
     "metadata": {},
     "output_type": "execute_result"
    }
   ],
   "source": [
    "prob_list=[prob1,prob2]\n",
    "max(prob_list)"
   ]
  },
  {
   "cell_type": "code",
   "execution_count": 42,
   "metadata": {
    "ExecuteTime": {
     "end_time": "2020-03-28T16:44:37.933818Z",
     "start_time": "2020-03-28T16:44:37.927812Z"
    }
   },
   "outputs": [
    {
     "name": "stdout",
     "output_type": "stream",
     "text": [
      "-1\n"
     ]
    }
   ],
   "source": [
    "OK=np.max(np.array([prob1,prob2]))\n",
    "np.array([Y_minus,Y_plus])\n",
    "for i in np.array([Y_minus,Y_plus]):\n",
    "    y1=OK/(prob_X1_2_Y_minus*prob_X2_S_Y_minus)\n",
    "    y2=OK/(prob_X1_2_Y_plus*prob_X2_S_Y_plus)\n",
    "    if i == y1:\n",
    "        print('-1')\n",
    "    if i == y2:\n",
    "        print('1')"
   ]
  }
 ],
 "metadata": {
  "kernelspec": {
   "display_name": "Python 3",
   "language": "python",
   "name": "python3"
  },
  "language_info": {
   "codemirror_mode": {
    "name": "ipython",
    "version": 3
   },
   "file_extension": ".py",
   "mimetype": "text/x-python",
   "name": "python",
   "nbconvert_exporter": "python",
   "pygments_lexer": "ipython3",
   "version": "3.7.3"
  },
  "toc": {
   "base_numbering": 1,
   "nav_menu": {},
   "number_sections": true,
   "sideBar": true,
   "skip_h1_title": false,
   "title_cell": "Table of Contents",
   "title_sidebar": "Contents",
   "toc_cell": false,
   "toc_position": {},
   "toc_section_display": true,
   "toc_window_display": false
  }
 },
 "nbformat": 4,
 "nbformat_minor": 4
}
