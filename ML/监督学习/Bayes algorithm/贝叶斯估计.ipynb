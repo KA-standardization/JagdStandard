{
 "cells": [
  {
   "cell_type": "code",
   "execution_count": 1,
   "metadata": {
    "ExecuteTime": {
     "end_time": "2020-03-28T18:27:40.053538Z",
     "start_time": "2020-03-28T18:27:39.909243Z"
    }
   },
   "outputs": [],
   "source": [
    "# import\n",
    "import numpy as np\n",
    "from collections import Counter\n",
    "from fractions import Fraction\n",
    "X1=np.array([1]*5+[2]*5+[3]*5)\n",
    "X2=np.array(['S','M','M','S','S','S','M','M','L','L','L','M','M','L','L'])\n",
    "Y=np.array([-1,-1,1,1,-1,-1,-1,1,1,1,1,1,1,1,-1])"
   ]
  },
  {
   "cell_type": "code",
   "execution_count": 2,
   "metadata": {
    "ExecuteTime": {
     "end_time": "2020-03-28T18:27:40.062446Z",
     "start_time": "2020-03-28T18:27:40.054465Z"
    }
   },
   "outputs": [
    {
     "name": "stdout",
     "output_type": "stream",
     "text": [
      "10/17\n",
      "7/17\n"
     ]
    }
   ],
   "source": [
    "Y_class_count=Counter(Y)\n",
    "lam=1\n",
    "Y_bayes_plus=Fraction(Y_class_count[1]+lam,len(set(Y))*lam+len(Y))\n",
    "Y_bayes_minus=Fraction(Y_class_count[-1]+lam,len(set(Y))*lam+len(Y))\n",
    "print(Y_bayes_plus)\n",
    "print(Y_bayes_minus)"
   ]
  },
  {
   "cell_type": "code",
   "execution_count": 3,
   "metadata": {
    "ExecuteTime": {
     "end_time": "2020-03-28T18:27:40.079438Z",
     "start_time": "2020-03-28T18:27:40.065438Z"
    }
   },
   "outputs": [],
   "source": [
    "list_datas=[]\n",
    "for i in range(len(Y)):\n",
    "    list_datas.append({'X1':X1[i],'X2':X2[i],'Y':Y[i]})\n",
    "count_Y_minus_X1_1=0\n",
    "count_Y_minus_X1_2=0\n",
    "count_Y_minus_X1_3=0\n",
    "count_Y_minus_X2_S=0\n",
    "count_Y_minus_X2_L=0\n",
    "count_Y_minus_X2_M=0\n",
    "count_Y_plus_X1_1=0\n",
    "count_Y_plus_X1_2=0\n",
    "count_Y_plus_X1_3=0\n",
    "count_Y_plus_X2_S=0\n",
    "count_Y_plus_X2_L=0\n",
    "count_Y_plus_X2_M=0\n",
    "for j in list_datas:\n",
    "    if j['Y'] == -1:\n",
    "        if j['X1'] == 1:\n",
    "            count_Y_minus_X1_1+=1\n",
    "        if j['X1'] == 2:\n",
    "            count_Y_minus_X1_2+=1\n",
    "        if j['X1'] == 3:\n",
    "            count_Y_minus_X1_3+=1\n",
    "        if j['X2'] == 'S':\n",
    "            count_Y_minus_X2_S+=1\n",
    "        if j['X2'] == 'L':\n",
    "            count_Y_minus_X2_L+=1\n",
    "        if j['X2'] == 'M':\n",
    "            count_Y_minus_X2_M+=1\n",
    "    if j['Y'] == 1:\n",
    "        if j['X1'] == 1:\n",
    "            count_Y_plus_X1_1+=1\n",
    "        if j['X1'] == 2:\n",
    "            count_Y_plus_X1_2+=1\n",
    "        if j['X1'] == 3:\n",
    "            count_Y_plus_X1_3+=1\n",
    "        if j['X2'] == 'S':\n",
    "            count_Y_plus_X2_S+=1\n",
    "        if j['X2'] == 'L':\n",
    "            count_Y_plus_X2_L+=1\n",
    "        if j['X2'] == 'M':\n",
    "            count_Y_plus_X2_M+=1"
   ]
  },
  {
   "cell_type": "code",
   "execution_count": 4,
   "metadata": {
    "ExecuteTime": {
     "end_time": "2020-03-28T18:27:40.091398Z",
     "start_time": "2020-03-28T18:27:40.080397Z"
    }
   },
   "outputs": [],
   "source": [
    "prob_X1_1_Y_plus=Fraction(count_Y_plus_X1_1+lam,len(X1))/Fraction(Y_class_count[1]+len(set(X1)),len(Y))\n",
    "prob_X1_2_Y_plus=Fraction(count_Y_plus_X1_2+lam,len(X1))/Fraction(Y_class_count[1]+len(set(X1)),len(Y))\n",
    "prob_X1_3_Y_plus=Fraction(count_Y_plus_X1_3+lam,len(X1))/Fraction(Y_class_count[1]+len(set(X1)),len(Y))\n",
    "\n",
    "prob_X2_S_Y_plus=Fraction(count_Y_plus_X2_S+lam,len(X2))/Fraction(Y_class_count[1]+len(set(X2)),len(Y))\n",
    "prob_X2_M_Y_plus=Fraction(count_Y_plus_X2_M+lam,len(X2))/Fraction(Y_class_count[1]+len(set(X2)),len(Y))\n",
    "prob_X2_L_Y_plus=Fraction(count_Y_plus_X2_L+lam,len(X2))/Fraction(Y_class_count[1]+len(set(X2)),len(Y))\n",
    "\n",
    "prob_X1_1_Y_minus=Fraction(count_Y_minus_X1_1+lam,len(X1))/Fraction(Y_class_count[-1]+len(set(X1)),len(Y))\n",
    "prob_X1_2_Y_minus=Fraction(count_Y_minus_X1_2+lam,len(X1))/Fraction(Y_class_count[-1]+len(set(X1)),len(Y))\n",
    "prob_X1_3_Y_minus=Fraction(count_Y_minus_X1_3+lam,len(X1))/Fraction(Y_class_count[-1]+len(set(X1)),len(Y))\n",
    "\n",
    "prob_X2_S_Y_minus=Fraction(count_Y_minus_X2_S+lam,len(X2))/Fraction(Y_class_count[-1]+len(set(X2)),len(Y))\n",
    "prob_X2_M_Y_minus=Fraction(count_Y_minus_X2_M+lam,len(X2))/Fraction(Y_class_count[-1]+len(set(X2)),len(Y))\n",
    "prob_X2_L_Y_minus=Fraction(count_Y_minus_X2_L+lam,len(X2))/Fraction(Y_class_count[-1]+len(set(X2)),len(Y))"
   ]
  },
  {
   "cell_type": "code",
   "execution_count": 9,
   "metadata": {
    "ExecuteTime": {
     "end_time": "2020-03-28T18:29:44.048158Z",
     "start_time": "2020-03-28T18:29:44.043170Z"
    }
   },
   "outputs": [
    {
     "data": {
      "text/plain": [
       "Fraction(28, 459)"
      ]
     },
     "execution_count": 9,
     "metadata": {},
     "output_type": "execute_result"
    }
   ],
   "source": [
    "prob2=Y_bayes_minus*prob_X1_2_Y_minus*prob_X2_S_Y_minus\n",
    "prob2"
   ]
  },
  {
   "cell_type": "code",
   "execution_count": 8,
   "metadata": {
    "ExecuteTime": {
     "end_time": "2020-03-28T18:29:37.730314Z",
     "start_time": "2020-03-28T18:29:37.725368Z"
    }
   },
   "outputs": [
    {
     "data": {
      "text/plain": [
       "Fraction(5, 153)"
      ]
     },
     "execution_count": 8,
     "metadata": {},
     "output_type": "execute_result"
    }
   ],
   "source": [
    "prob1=Y_bayes_plus*prob_X1_2_Y_plus*prob_X2_S_Y_plus\n",
    "prob1"
   ]
  },
  {
   "cell_type": "code",
   "execution_count": 13,
   "metadata": {
    "ExecuteTime": {
     "end_time": "2020-03-28T18:31:56.103328Z",
     "start_time": "2020-03-28T18:31:56.098659Z"
    }
   },
   "outputs": [
    {
     "name": "stdout",
     "output_type": "stream",
     "text": [
      "-1\n"
     ]
    }
   ],
   "source": [
    "OK=np.max(np.array([prob1,prob2]))\n",
    "for i in np.array([Y_bayes_minus,Y_bayes_plus]):\n",
    "    y1=OK/(prob_X1_2_Y_minus*prob_X2_S_Y_minus)\n",
    "    y2=OK/(prob_X1_2_Y_plus*prob_X2_S_Y_plus)\n",
    "    if i == y1:\n",
    "        print('-1')\n",
    "    if i == y2:\n",
    "        print('1')"
   ]
  }
 ],
 "metadata": {
  "kernelspec": {
   "display_name": "Python 3",
   "language": "python",
   "name": "python3"
  },
  "language_info": {
   "codemirror_mode": {
    "name": "ipython",
    "version": 3
   },
   "file_extension": ".py",
   "mimetype": "text/x-python",
   "name": "python",
   "nbconvert_exporter": "python",
   "pygments_lexer": "ipython3",
   "version": "3.7.3"
  },
  "toc": {
   "base_numbering": 1,
   "nav_menu": {},
   "number_sections": true,
   "sideBar": true,
   "skip_h1_title": false,
   "title_cell": "Table of Contents",
   "title_sidebar": "Contents",
   "toc_cell": false,
   "toc_position": {},
   "toc_section_display": true,
   "toc_window_display": false
  }
 },
 "nbformat": 4,
 "nbformat_minor": 4
}
