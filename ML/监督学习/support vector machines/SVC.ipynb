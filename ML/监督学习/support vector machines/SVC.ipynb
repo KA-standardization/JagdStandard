{
 "cells": [
  {
   "cell_type": "code",
   "execution_count": 2,
   "metadata": {
    "ExecuteTime": {
     "end_time": "2020-04-15T18:37:39.202973Z",
     "start_time": "2020-04-15T18:37:39.172334Z"
    }
   },
   "outputs": [],
   "source": [
    "# import\n",
    "import warnings\n",
    "warnings.filterwarnings('ignore')\n",
    "import numpy as np\n",
    "import matplotlib.pyplot as plt\n",
    "from sklearn import datasets\n",
    "from sklearn.svm import SVC\n",
    "from sklearn.model_selection import train_test_split"
   ]
  },
  {
   "cell_type": "code",
   "execution_count": 16,
   "metadata": {
    "ExecuteTime": {
     "end_time": "2020-04-15T18:45:27.332837Z",
     "start_time": "2020-04-15T18:45:27.303631Z"
    },
    "code_folding": [
     0
    ]
   },
   "outputs": [],
   "source": [
    "# datas\n",
    "X,y=datasets.load_iris(True)\n",
    "X_train,X_test,y_train,y_test=train_test_split(X,y,test_size=0.2)"
   ]
  },
  {
   "cell_type": "code",
   "execution_count": 15,
   "metadata": {
    "ExecuteTime": {
     "end_time": "2020-04-15T18:44:49.060866Z",
     "start_time": "2020-04-15T18:44:49.026564Z"
    },
    "collapsed": true
   },
   "outputs": [
    {
     "data": {
      "text/plain": [
       "0.9333333333333333"
      ]
     },
     "metadata": {},
     "output_type": "display_data"
    },
    {
     "data": {
      "text/plain": [
       "array([[0.96587809, 0.02339194, 0.01072997],\n",
       "       [0.00974851, 0.04997379, 0.94027771],\n",
       "       [0.02997211, 0.96044363, 0.00958426],\n",
       "       [0.00981708, 0.44183364, 0.54834928],\n",
       "       [0.93613081, 0.04879872, 0.01507047],\n",
       "       [0.01143883, 0.40893841, 0.57962276],\n",
       "       [0.00911518, 0.01456076, 0.97632406],\n",
       "       [0.95728222, 0.0302344 , 0.01248338],\n",
       "       [0.00772972, 0.00271301, 0.98955727],\n",
       "       [0.01214295, 0.42865347, 0.55920358],\n",
       "       [0.01498657, 0.97919673, 0.0058167 ],\n",
       "       [0.0085935 , 0.02445026, 0.96695624],\n",
       "       [0.0075662 , 0.87260622, 0.11982758],\n",
       "       [0.00920812, 0.97133932, 0.01945256],\n",
       "       [0.96658649, 0.02283168, 0.01058183],\n",
       "       [0.97273356, 0.01736479, 0.00990164],\n",
       "       [0.96190995, 0.02683191, 0.01125814],\n",
       "       [0.97055145, 0.01932446, 0.01012409],\n",
       "       [0.01591809, 0.97811435, 0.00596756],\n",
       "       [0.00737451, 0.96012716, 0.03249833],\n",
       "       [0.01069687, 0.04677081, 0.94253231],\n",
       "       [0.13005252, 0.84527304, 0.02467444],\n",
       "       [0.01237543, 0.98258902, 0.00503555],\n",
       "       [0.03890487, 0.95188016, 0.00921497],\n",
       "       [0.96381667, 0.02527417, 0.01090916],\n",
       "       [0.00800644, 0.90536266, 0.0866309 ],\n",
       "       [0.01010492, 0.00946956, 0.98042551],\n",
       "       [0.00935493, 0.10079664, 0.88984843],\n",
       "       [0.00903832, 0.00790143, 0.98306025],\n",
       "       [0.94825846, 0.03878201, 0.01295954]])"
      ]
     },
     "metadata": {},
     "output_type": "display_data"
    }
   ],
   "source": [
    "svc=SVC(kernel='rbf',probability=True)\n",
    "# kernel=linear线性时才有 coef_\n",
    "svc.fit(X_train,y_train)\n",
    "display(svc.score(X_test,y_test))#得分\n",
    "# display(svc.coef_)#权值向量 \n",
    "display(svc.predict_proba(X_test))#概率"
   ]
  }
 ],
 "metadata": {
  "kernelspec": {
   "display_name": "Python 3",
   "language": "python",
   "name": "python3"
  },
  "language_info": {
   "codemirror_mode": {
    "name": "ipython",
    "version": 3
   },
   "file_extension": ".py",
   "mimetype": "text/x-python",
   "name": "python",
   "nbconvert_exporter": "python",
   "pygments_lexer": "ipython3",
   "version": "3.7.3"
  },
  "toc": {
   "base_numbering": 1,
   "nav_menu": {},
   "number_sections": true,
   "sideBar": true,
   "skip_h1_title": false,
   "title_cell": "Table of Contents",
   "title_sidebar": "Contents",
   "toc_cell": false,
   "toc_position": {},
   "toc_section_display": true,
   "toc_window_display": false
  }
 },
 "nbformat": 4,
 "nbformat_minor": 4
}
