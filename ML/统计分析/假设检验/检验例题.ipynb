{
 "cells": [
  {
   "cell_type": "markdown",
   "metadata": {},
   "source": [
    "统计方法:\n",
    " - 描述统计\n",
    "     - 集中趋势\n",
    "     - 离散程度\n",
    " - 推断统计\n",
    "     - 抽样分布\n",
    "     - 参数估计\n",
    "         - 点估计\n",
    "         - 区间估计\n",
    "     - 假设检验"
   ]
  },
  {
   "cell_type": "raw",
   "metadata": {},
   "source": [
    "某个学校规定学生自习的时间为3个小时，该学校管理部门随机抽取了一些学生了解他们的自习情况。\n",
    "\n",
    "- 判断学生的真实的平均自习时间`是否`为3个小时。"
   ]
  },
  {
   "cell_type": "markdown",
   "metadata": {},
   "source": [
    "假设检验的步骤\n",
    "- 1.提出原假设与备择假设\n",
    "- 2.选定适当的检验统计量\n",
    "- 3.确定适当的显著水平\n",
    "- 4.假设检验的判断"
   ]
  },
  {
   "cell_type": "markdown",
   "metadata": {},
   "source": [
    "$H_0 : \\mu = 3$\n",
    "\n",
    "$H_1 : \\mu != 3$\n",
    "\n",
    "- 原假设是我们想要检验的假设\n",
    "- 备择假设是在原假设被拒绝的时候应该接受的假设\n",
    "- 研究者想要收集证据予以推翻、否定的是原假设\n",
    "- 研究者想要收集证据予以支持、证实的是备择假设\n",
    "- 判断的符合可以是 =    !=     >=    >   <    <="
   ]
  }
 ],
 "metadata": {
  "kernelspec": {
   "display_name": "Python 3",
   "language": "python",
   "name": "python3"
  },
  "language_info": {
   "codemirror_mode": {
    "name": "ipython",
    "version": 3
   },
   "file_extension": ".py",
   "mimetype": "text/x-python",
   "name": "python",
   "nbconvert_exporter": "python",
   "pygments_lexer": "ipython3",
   "version": "3.7.0"
  }
 },
 "nbformat": 4,
 "nbformat_minor": 2
}
