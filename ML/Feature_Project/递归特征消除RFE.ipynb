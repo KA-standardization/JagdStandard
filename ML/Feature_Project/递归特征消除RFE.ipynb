{
 "cells": [
  {
   "cell_type": "code",
   "execution_count": 1,
   "metadata": {
    "ExecuteTime": {
     "end_time": "2020-04-09T04:04:46.480698Z",
     "start_time": "2020-04-09T04:04:45.362644Z"
    }
   },
   "outputs": [],
   "source": [
    "# import\n",
    "import warnings\n",
    "warnings.filterwarnings('ignore')\n",
    "import numpy as np\n",
    "from sklearn import datasets\n",
    "from sklearn.linear_model import RidgeCV,LogisticRegression,LinearRegression\n",
    "from sklearn.tree import DecisionTreeClassifier,DecisionTreeRegressor\n",
    "from sklearn.ensemble import AdaBoostClassifier,AdaBoostRegressor\n",
    "from xgboost import XGBClassifier,XGBRegressor\n",
    "from sklearn.feature_selection import RFE,RFECV"
   ]
  },
  {
   "cell_type": "markdown",
   "metadata": {},
   "source": [
    "![](./imgs/rfe.png)"
   ]
  },
  {
   "cell_type": "code",
   "execution_count": 6,
   "metadata": {
    "ExecuteTime": {
     "end_time": "2020-04-06T08:30:17.436184Z",
     "start_time": "2020-04-06T08:30:17.426206Z"
    }
   },
   "outputs": [],
   "source": [
    "X,y=datasets.load_boston(True)"
   ]
  },
  {
   "cell_type": "code",
   "execution_count": 5,
   "metadata": {
    "ExecuteTime": {
     "end_time": "2020-04-09T04:08:29.441945Z",
     "start_time": "2020-04-09T04:08:29.119104Z"
    }
   },
   "outputs": [
    {
     "data": {
      "text/plain": [
       "(178, 8)"
      ]
     },
     "execution_count": 5,
     "metadata": {},
     "output_type": "execute_result"
    }
   ],
   "source": [
    "rfe=RFE(estimator=AdaBoostRegressor(),\n",
    "        n_features_to_select=8)\n",
    "X2=rfe.fit_transform(X,y)\n",
    "X2.shape"
   ]
  },
  {
   "cell_type": "code",
   "execution_count": 8,
   "metadata": {
    "ExecuteTime": {
     "end_time": "2020-04-06T08:33:29.362833Z",
     "start_time": "2020-04-06T08:33:29.357832Z"
    }
   },
   "outputs": [
    {
     "data": {
      "text/plain": [
       "array([ True, False, False, False,  True,  True, False,  True, False,\n",
       "        True,  True,  True,  True])"
      ]
     },
     "execution_count": 8,
     "metadata": {},
     "output_type": "execute_result"
    }
   ],
   "source": [
    "rfe.get_support()"
   ]
  },
  {
   "cell_type": "markdown",
   "metadata": {},
   "source": [
    "![](./imgs/rfe2.png)"
   ]
  },
  {
   "cell_type": "code",
   "execution_count": 18,
   "metadata": {
    "ExecuteTime": {
     "end_time": "2020-04-06T08:57:09.560377Z",
     "start_time": "2020-04-06T08:57:09.541384Z"
    }
   },
   "outputs": [
    {
     "data": {
      "text/plain": [
       "array([[ 18.   ,   0.   ,   6.575, 396.9  ],\n",
       "       [  0.   ,   0.   ,   6.421, 396.9  ],\n",
       "       [  0.   ,   0.   ,   7.185, 392.83 ],\n",
       "       [  0.   ,   0.   ,   6.998, 394.63 ],\n",
       "       [  0.   ,   0.   ,   7.147, 396.9  ]])"
      ]
     },
     "execution_count": 18,
     "metadata": {},
     "output_type": "execute_result"
    }
   ],
   "source": [
    "X,y=datasets.load_boston(True)\n",
    "while True:\n",
    "    s,f=X.shape\n",
    "    l=[i for i in range(f)]\n",
    "    if f==4:\n",
    "        break\n",
    "    linear=LinearRegression()\n",
    "    linear.fit(X,y)\n",
    "    index=np.argmin(linear.coef_)\n",
    "    l.remove(index)\n",
    "    X=X[:,l]\n",
    "X[:5]"
   ]
  },
  {
   "cell_type": "code",
   "execution_count": 7,
   "metadata": {
    "ExecuteTime": {
     "end_time": "2020-04-09T04:09:48.018677Z",
     "start_time": "2020-04-09T04:09:46.291302Z"
    }
   },
   "outputs": [
    {
     "data": {
      "text/plain": [
       "(178, 7)"
      ]
     },
     "execution_count": 7,
     "metadata": {},
     "output_type": "execute_result"
    }
   ],
   "source": [
    "X,y=datasets.load_wine(True)\n",
    "rfecv=RFECV(estimator=AdaBoostClassifier(),\n",
    "            min_features_to_select=5,\n",
    "            cv=5,# 交叉验证,5次循环 loop\n",
    "            n_jobs=-1)\n",
    "X2=rfecv.fit_transform(X,y)\n",
    "X2.shape"
   ]
  },
  {
   "cell_type": "code",
   "execution_count": 4,
   "metadata": {
    "ExecuteTime": {
     "end_time": "2020-04-09T04:07:34.734642Z",
     "start_time": "2020-04-09T04:07:34.729656Z"
    }
   },
   "outputs": [
    {
     "data": {
      "text/plain": [
       "array([False, False, False, False, False,  True,  True, False,  True,\n",
       "        True,  True,  True,  True])"
      ]
     },
     "execution_count": 4,
     "metadata": {},
     "output_type": "execute_result"
    }
   ],
   "source": [
    "rfecv.get_support()"
   ]
  }
 ],
 "metadata": {
  "kernelspec": {
   "display_name": "Python 3",
   "language": "python",
   "name": "python3"
  },
  "language_info": {
   "codemirror_mode": {
    "name": "ipython",
    "version": 3
   },
   "file_extension": ".py",
   "mimetype": "text/x-python",
   "name": "python",
   "nbconvert_exporter": "python",
   "pygments_lexer": "ipython3",
   "version": "3.7.3"
  },
  "toc": {
   "base_numbering": 1,
   "nav_menu": {},
   "number_sections": true,
   "sideBar": true,
   "skip_h1_title": false,
   "title_cell": "Table of Contents",
   "title_sidebar": "Contents",
   "toc_cell": false,
   "toc_position": {},
   "toc_section_display": true,
   "toc_window_display": false
  }
 },
 "nbformat": 4,
 "nbformat_minor": 4
}
