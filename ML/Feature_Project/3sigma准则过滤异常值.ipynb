{
 "cells": [
  {
   "cell_type": "code",
   "execution_count": 1,
   "metadata": {
    "ExecuteTime": {
     "end_time": "2020-05-06T01:51:12.310407Z",
     "start_time": "2020-05-06T01:51:11.360061Z"
    },
    "code_folding": [],
    "solution": "hidden"
   },
   "outputs": [],
   "source": [
    "# import\n",
    "import warnings\n",
    "warnings.filterwarnings('ignore')\n",
    "import numpy as np\n",
    "import matplotlib.pyplot as plt\n",
    "%matplotlib inline"
   ]
  },
  {
   "cell_type": "code",
   "execution_count": 2,
   "metadata": {
    "ExecuteTime": {
     "end_time": "2020-05-06T01:51:12.330307Z",
     "start_time": "2020-05-06T01:51:12.310407Z"
    },
    "code_folding": []
   },
   "outputs": [],
   "source": [
    "# datas\n",
    "X=np.random.randn(100000,3)"
   ]
  },
  {
   "cell_type": "markdown",
   "metadata": {
    "ExecuteTime": {
     "end_time": "2020-04-04T08:36:35.609873Z",
     "start_time": "2020-04-04T08:36:35.606402Z"
    },
    "solution": "shown",
    "solution_first": true
   },
   "source": [
    "画图"
   ]
  },
  {
   "cell_type": "code",
   "execution_count": 3,
   "metadata": {
    "ExecuteTime": {
     "end_time": "2020-05-06T01:51:12.579946Z",
     "start_time": "2020-05-06T01:51:12.330307Z"
    },
    "solution": "shown"
   },
   "outputs": [
    {
     "data": {
      "image/png": "[encoded data removed]",
      "text/plain": [
       "<Figure size 432x288 with 1 Axes>"
      ]
     },
     "metadata": {
      "needs_background": "light"
     },
     "output_type": "display_data"
    }
   ],
   "source": [
    "_=plt.hist(X[:,0],bins=100) # bins分成多少份"
   ]
  },
  {
   "cell_type": "code",
   "execution_count": 4,
   "metadata": {
    "ExecuteTime": {
     "end_time": "2020-05-06T01:51:12.810321Z",
     "start_time": "2020-05-06T01:51:12.580292Z"
    },
    "solution": "shown"
   },
   "outputs": [
    {
     "data": {
      "image/png": "[encoded data removed]",
      "text/plain": [
       "<Figure size 432x288 with 1 Axes>"
      ]
     },
     "metadata": {
      "needs_background": "light"
     },
     "output_type": "display_data"
    }
   ],
   "source": [
    "_=plt.hist(X[:,1],bins=100)"
   ]
  },
  {
   "cell_type": "code",
   "execution_count": 5,
   "metadata": {
    "ExecuteTime": {
     "end_time": "2020-05-06T01:51:13.040502Z",
     "start_time": "2020-05-06T01:51:12.811567Z"
    },
    "solution": "shown"
   },
   "outputs": [
    {
     "data": {
      "image/png": "[encoded data removed]",
      "text/plain": [
       "<Figure size 432x288 with 1 Axes>"
      ]
     },
     "metadata": {
      "needs_background": "light"
     },
     "output_type": "display_data"
    }
   ],
   "source": [
    "_=plt.hist(X[:,2],bins=100)"
   ]
  },
  {
   "cell_type": "markdown",
   "metadata": {},
   "source": [
    "3sigma 标准差  \n",
    "$|X-\\mu|>3\\sigma$  \n",
    "$\\mu$为平均值"
   ]
  },
  {
   "cell_type": "code",
   "execution_count": 6,
   "metadata": {
    "ExecuteTime": {
     "end_time": "2020-05-06T01:51:13.060125Z",
     "start_time": "2020-05-06T01:51:13.042064Z"
    },
    "code_folding": []
   },
   "outputs": [
    {
     "data": {
      "text/plain": [
       "array([280, 284, 277])"
      ]
     },
     "execution_count": 6,
     "metadata": {},
     "output_type": "execute_result"
    }
   ],
   "source": [
    "# 计算个属性的平均值\n",
    "cond=np.abs(X-X.mean(axis=0)) > 3*X.std(axis=0)\n",
    "cond.sum(axis=0)"
   ]
  },
  {
   "cell_type": "code",
   "execution_count": 7,
   "metadata": {
    "ExecuteTime": {
     "end_time": "2020-05-06T01:51:13.080701Z",
     "start_time": "2020-05-06T01:51:13.062158Z"
    },
    "code_folding": []
   },
   "outputs": [
    {
     "data": {
      "text/plain": [
       "array([[ 0.46668282,  3.53368229,  0.10298062],\n",
       "       [ 3.68228505,  0.17187771,  0.09073659],\n",
       "       [-0.48559794, -0.99950532, -3.30706926],\n",
       "       ...,\n",
       "       [ 0.67374138, -3.03849261,  1.87349175],\n",
       "       [ 3.00198653,  0.38708335,  0.69852778],\n",
       "       [-2.0501608 , -3.18299876,  1.31306212]])"
      ]
     },
     "execution_count": 7,
     "metadata": {},
     "output_type": "execute_result"
    }
   ],
   "source": [
    "# 异常值\n",
    "cond2=cond.any(axis=1)\n",
    "X[cond2]"
   ]
  },
  {
   "cell_type": "code",
   "execution_count": 8,
   "metadata": {
    "ExecuteTime": {
     "end_time": "2020-05-06T01:51:13.100532Z",
     "start_time": "2020-05-06T01:51:13.082763Z"
    },
    "code_folding": []
   },
   "outputs": [
    {
     "data": {
      "text/plain": [
       "array([[ 0.30416347,  0.58913435,  1.38169316],\n",
       "       [-1.16961082, -1.17345908,  0.72467097],\n",
       "       [-1.00165052,  0.11461957, -0.14829561],\n",
       "       ...,\n",
       "       [ 1.49721681,  0.33043868, -0.01286164],\n",
       "       [ 0.48577706, -0.50815364, -0.27705475],\n",
       "       [ 0.26151585, -0.90153494,  0.96854284]])"
      ]
     },
     "execution_count": 8,
     "metadata": {},
     "output_type": "execute_result"
    }
   ],
   "source": [
    "# 正常值\n",
    "cond3=np.logical_not(cond2)\n",
    "X[cond3]"
   ]
  }
 ],
 "metadata": {
  "kernelspec": {
   "display_name": "Python 3",
   "language": "python",
   "name": "python3"
  },
  "language_info": {
   "codemirror_mode": {
    "name": "ipython",
    "version": 3
   },
   "file_extension": ".py",
   "mimetype": "text/x-python",
   "name": "python",
   "nbconvert_exporter": "python",
   "pygments_lexer": "ipython3",
   "version": "3.7.3"
  },
  "toc": {
   "base_numbering": 1,
   "nav_menu": {},
   "number_sections": true,
   "sideBar": true,
   "skip_h1_title": false,
   "title_cell": "Table of Contents",
   "title_sidebar": "Contents",
   "toc_cell": false,
   "toc_position": {},
   "toc_section_display": true,
   "toc_window_display": false
  }
 },
 "nbformat": 4,
 "nbformat_minor": 4
}
