{
 "cells": [
  {
   "cell_type": "markdown",
   "metadata": {},
   "source": [
    "针对任意多的分隔符拆分字符串  \n",
    "re.split()"
   ]
  },
  {
   "cell_type": "code",
   "execution_count": 5,
   "metadata": {
    "ExecuteTime": {
     "end_time": "2020-02-06T22:30:46.271990Z",
     "start_time": "2020-02-06T22:30:46.267004Z"
    }
   },
   "outputs": [
    {
     "data": {
      "text/plain": [
       "['asdf', 'fjdk', 'afed', 'fjek', 'asdf', 'foo']"
      ]
     },
     "execution_count": 5,
     "metadata": {},
     "output_type": "execute_result"
    }
   ],
   "source": [
    "import re\n",
    "line = 'asdf fjdk; afed, fjek, asdf,    foo'\n",
    "re.split(r'[;,\\s]\\s*', line)"
   ]
  },
  {
   "cell_type": "code",
   "execution_count": 7,
   "metadata": {
    "ExecuteTime": {
     "end_time": "2020-02-06T22:33:31.295561Z",
     "start_time": "2020-02-06T22:33:31.291029Z"
    }
   },
   "outputs": [
    {
     "data": {
      "text/plain": [
       "['asdf', ' ', 'fjdk', ';', 'afed', ',', 'fjek', ',', 'asdf', ',', 'foo']"
      ]
     },
     "execution_count": 7,
     "metadata": {},
     "output_type": "execute_result"
    }
   ],
   "source": [
    "# capture group  \n",
    "# 如果用到了捕获组 那么匹配的文本也会包含在最终结果中\n",
    "fields = re.split(r'(;|,|\\s)\\s*', line)\n",
    "fields"
   ]
  },
  {
   "cell_type": "code",
   "execution_count": 12,
   "metadata": {
    "ExecuteTime": {
     "end_time": "2020-02-06T22:37:08.657333Z",
     "start_time": "2020-02-06T22:37:08.652346Z"
    }
   },
   "outputs": [
    {
     "data": {
      "text/plain": [
       "['asdf', 'fjdk', 'afed', 'fjek', 'asdf', 'foo']"
      ]
     },
     "execution_count": 12,
     "metadata": {},
     "output_type": "execute_result"
    }
   ],
   "source": [
    "values = fields[::2]\n",
    "values"
   ]
  },
  {
   "cell_type": "code",
   "execution_count": 13,
   "metadata": {
    "ExecuteTime": {
     "end_time": "2020-02-06T22:37:11.070187Z",
     "start_time": "2020-02-06T22:37:11.065115Z"
    }
   },
   "outputs": [
    {
     "data": {
      "text/plain": [
       "[' ', ';', ',', ',', ',']"
      ]
     },
     "execution_count": 13,
     "metadata": {},
     "output_type": "execute_result"
    }
   ],
   "source": [
    "delimiters = fields[1::2]\n",
    "delimiters"
   ]
  },
  {
   "cell_type": "code",
   "execution_count": 14,
   "metadata": {
    "ExecuteTime": {
     "end_time": "2020-02-06T22:37:14.565954Z",
     "start_time": "2020-02-06T22:37:14.560968Z"
    }
   },
   "outputs": [
    {
     "data": {
      "text/plain": [
       "'asdf fjdk;afed,fjek,asdf,'"
      ]
     },
     "execution_count": 14,
     "metadata": {},
     "output_type": "execute_result"
    }
   ],
   "source": [
    "\"\".join(v+d for v, d in zip(values, delimiters))"
   ]
  },
  {
   "cell_type": "code",
   "execution_count": 15,
   "metadata": {
    "ExecuteTime": {
     "end_time": "2020-02-06T22:40:31.614582Z",
     "start_time": "2020-02-06T22:40:31.609596Z"
    }
   },
   "outputs": [
    {
     "data": {
      "text/plain": [
       "['asdf', 'fjdk;', 'afed', 'fjek', 'asdf', 'foo']"
      ]
     },
     "execution_count": 15,
     "metadata": {},
     "output_type": "execute_result"
    }
   ],
   "source": [
    "# 非捕获组\n",
    "# (?: )\n",
    "re.split(r'(?:,|:|\\s)\\s*', line)"
   ]
  },
  {
   "cell_type": "markdown",
   "metadata": {},
   "source": [
    "在字符串的开头或结尾处做文本匹配  \n",
    "startswith()  \n",
    "endswith()  \n",
    "接受tuple() 元组参数  \n",
    "re.match('http:|https:|ftp:', url)"
   ]
  },
  {
   "cell_type": "markdown",
   "metadata": {},
   "source": [
    "利用Shell通配符做字符串匹配  \n",
    "fnmatch模块提供了  \n",
    "fnmatch() 大小写区分规则和底层文件系统相同  \n",
    "fnmatch('foo.txt', '*.TXT') Win True Mac False  \n",
    "fnmatchcase() 完全匹配我们提供的大小写方式  \n",
    "fnmatchcase('foo.txt', '*.txt') True"
   ]
  },
  {
   "cell_type": "code",
   "execution_count": 16,
   "metadata": {
    "ExecuteTime": {
     "end_time": "2020-02-07T00:10:20.799159Z",
     "start_time": "2020-02-07T00:10:20.795821Z"
    }
   },
   "outputs": [],
   "source": [
    "from fnmatch import fnmatchcase\n",
    "addresses = [\n",
    "    '5412 N CLARK ST',\n",
    "    '1060 W ADDISON ST',\n",
    "    '1039 W GRANVILLE AVE',\n",
    "    '2122 N CLARK ST',\n",
    "    '4802 N BROADWAY',\n",
    "]"
   ]
  },
  {
   "cell_type": "code",
   "execution_count": 17,
   "metadata": {
    "ExecuteTime": {
     "end_time": "2020-02-07T00:11:06.581470Z",
     "start_time": "2020-02-07T00:11:06.576484Z"
    }
   },
   "outputs": [
    {
     "data": {
      "text/plain": [
       "['5412 N CLARK ST', '1060 W ADDISON ST', '2122 N CLARK ST']"
      ]
     },
     "execution_count": 17,
     "metadata": {},
     "output_type": "execute_result"
    }
   ],
   "source": [
    "[addr for addr in addresses if fnmatchcase(addr, '* ST')]"
   ]
  },
  {
   "cell_type": "code",
   "execution_count": 18,
   "metadata": {
    "ExecuteTime": {
     "end_time": "2020-02-07T00:11:59.829435Z",
     "start_time": "2020-02-07T00:11:59.824448Z"
    }
   },
   "outputs": [
    {
     "data": {
      "text/plain": [
       "['5412 N CLARK ST']"
      ]
     },
     "execution_count": 18,
     "metadata": {},
     "output_type": "execute_result"
    }
   ],
   "source": [
    "[addr for addr in addresses if fnmatchcase(addr, '54[0-9][0-9] *')]"
   ]
  },
  {
   "cell_type": "markdown",
   "metadata": {},
   "source": [
    "文本模式的匹配与查找  \n",
    "re.match(r'\\d+/\\d+/\\d+', text1)  \n",
    "针对同一个模式做多次匹配  \n",
    "首先将正则表达式模式预编译成一个模式对象  \n",
    "datepat = re.compile(r'\\d+/\\d+/\\d+')  \n",
    "datepat.match(text1) True/False   \n",
    "datepat.match(text2)  \n",
    "match()总是在字符串的开头找到匹配项  \n",
    "如果想针对整个文本  \n",
    "findall()    \n",
    "text = 'Today is 11/27/2012. PyCon starts 3/13/2013.'  \n",
    "datepat.findall(text) ['11/27/2012', '3/13/2013']  \n",
    "finditer()  "
   ]
  },
  {
   "cell_type": "markdown",
   "metadata": {},
   "source": [
    "查找与替换文本  \n",
    "str.replace('old', 'new')  \n",
    "re.sub(r'(\\d+)/(\\d+)/(\\d+)', r'\\3-\\1-\\2', text)  \n",
    "\\3表示第几个捕获组  \n"
   ]
  },
  {
   "cell_type": "code",
   "execution_count": 21,
   "metadata": {
    "ExecuteTime": {
     "end_time": "2020-02-07T01:19:36.126243Z",
     "start_time": "2020-02-07T01:19:36.122255Z"
    }
   },
   "outputs": [],
   "source": [
    "# 指定一个替换回调函数  \n",
    "from calendar import month_abbr\n",
    "import re\n",
    "def change_date(m):\n",
    "    mon_name = month_abbr[int(m.group(1))]\n",
    "    return '{} {} {}'.format(m.group(2), mon_name, m.group(3))"
   ]
  },
  {
   "cell_type": "code",
   "execution_count": 22,
   "metadata": {
    "ExecuteTime": {
     "end_time": "2020-02-07T01:25:05.972762Z",
     "start_time": "2020-02-07T01:25:05.967776Z"
    }
   },
   "outputs": [
    {
     "data": {
      "text/plain": [
       "'Today is 27 Nov 2012. PyCon starts 13 Mar 2013.'"
      ]
     },
     "execution_count": 22,
     "metadata": {},
     "output_type": "execute_result"
    }
   ],
   "source": [
    "text = 'Today is 11/27/2012. PyCon starts 3/13/2013.'\n",
    "re.sub(r'(\\d+)/(\\d+)/(\\d+)',change_date,text)"
   ]
  },
  {
   "cell_type": "code",
   "execution_count": 23,
   "metadata": {
    "ExecuteTime": {
     "end_time": "2020-02-07T01:26:59.484074Z",
     "start_time": "2020-02-07T01:26:59.479639Z"
    }
   },
   "outputs": [
    {
     "data": {
      "text/plain": [
       "'Today is 27 Nov 2012. PyCon starts 13 Mar 2013.'"
      ]
     },
     "execution_count": 23,
     "metadata": {},
     "output_type": "execute_result"
    }
   ],
   "source": [
    "# 想知道完成了多少次替换\n",
    "newtext, n = re.subn(r'(\\d+)/(\\d+)/(\\d+)',change_date,text)\n",
    "newtext"
   ]
  },
  {
   "cell_type": "code",
   "execution_count": 24,
   "metadata": {
    "ExecuteTime": {
     "end_time": "2020-02-07T01:27:03.044700Z",
     "start_time": "2020-02-07T01:27:03.040704Z"
    }
   },
   "outputs": [
    {
     "data": {
      "text/plain": [
       "2"
      ]
     },
     "execution_count": 24,
     "metadata": {},
     "output_type": "execute_result"
    }
   ],
   "source": [
    "n"
   ]
  },
  {
   "cell_type": "markdown",
   "metadata": {},
   "source": [
    "以不区分大小写的方式对文本做查找和替换  \n",
    "re.IGNORECASE  \n",
    "re.findall('python', text, flags=re.IGNORECASE)"
   ]
  },
  {
   "cell_type": "markdown",
   "metadata": {},
   "source": [
    "定义实现最短匹配的正则表达式  \n",
    "r'\\\"(.*)\\\"' 尝试去匹配包含在引号中的文本,  \n",
    "但是 * 操作符在正则表达式中采用的是贪心策略  \n",
    "所匹配过程是基于找出最长的可能匹配来进行的  \n",
    "r'\\\"(.*?)\\\"'  \n",
    "在*或+ 后添加 ? 使得匹配过程不会以贪心方式进行  \n",
    "会强制将匹配算法调整为寻找最短的可能匹配  "
   ]
  },
  {
   "cell_type": "markdown",
   "metadata": {},
   "source": [
    "编写多行模式的正则表达式  \n",
    "re.compile(r'/\\*((?:.|\\n)*?)\\*/')  \n",
    "re.compile(r'/\\*(.*?)\\*/', re.DOTALL)  \n",
    "re.DOTALL 使得 . 可以匹配所有字符"
   ]
  },
  {
   "cell_type": "markdown",
   "metadata": {},
   "source": [
    "将Unicode文本统一表示为规范形式  \n"
   ]
  },
  {
   "cell_type": "code",
   "execution_count": 28,
   "metadata": {
    "ExecuteTime": {
     "end_time": "2020-02-07T03:47:39.893568Z",
     "start_time": "2020-02-07T03:47:39.890576Z"
    }
   },
   "outputs": [],
   "source": [
    "import unicodedata\n",
    "# t1 = unicodedata.normalize('NFC', s1) NFD NFKC NFKD\n",
    "# NFC 表示字符应该是全组成的  如果可能的话就使用单个代码点\n",
    "# NFD 表示字符是组合字符  每个字符应该是能完全分解开的\n",
    "# unicodedata.combining(c) 判断它是否为一个组合型字符"
   ]
  },
  {
   "cell_type": "markdown",
   "metadata": {},
   "source": [
    "用正则表达式处理Unicode字符  \n"
   ]
  },
  {
   "cell_type": "markdown",
   "metadata": {},
   "source": [
    "从字符串中去掉不要的字符  \n",
    "str.strip()  \n",
    "str.lstrip()  \n",
    "str.rstrip()  \n"
   ]
  },
  {
   "cell_type": "code",
   "execution_count": 29,
   "metadata": {
    "ExecuteTime": {
     "end_time": "2020-02-07T05:23:18.838544Z",
     "start_time": "2020-02-07T05:23:18.833551Z"
    }
   },
   "outputs": [
    {
     "data": {
      "text/plain": [
       "'hello+++++++++'"
      ]
     },
     "execution_count": 29,
     "metadata": {},
     "output_type": "execute_result"
    }
   ],
   "source": [
    "t = '------hello+++++++++'\n",
    "t.lstrip('-')"
   ]
  },
  {
   "cell_type": "code",
   "execution_count": 30,
   "metadata": {
    "ExecuteTime": {
     "end_time": "2020-02-07T05:23:35.556197Z",
     "start_time": "2020-02-07T05:23:35.551210Z"
    }
   },
   "outputs": [
    {
     "data": {
      "text/plain": [
       "'------hello'"
      ]
     },
     "execution_count": 30,
     "metadata": {},
     "output_type": "execute_result"
    }
   ],
   "source": [
    "t.rstrip('+')"
   ]
  },
  {
   "cell_type": "code",
   "execution_count": 33,
   "metadata": {
    "ExecuteTime": {
     "end_time": "2020-02-07T05:23:57.538969Z",
     "start_time": "2020-02-07T05:23:57.533982Z"
    }
   },
   "outputs": [
    {
     "data": {
      "text/plain": [
       "'hello'"
      ]
     },
     "execution_count": 33,
     "metadata": {},
     "output_type": "execute_result"
    }
   ],
   "source": [
    "t.strip('-+')"
   ]
  },
  {
   "cell_type": "code",
   "execution_count": 39,
   "metadata": {
    "ExecuteTime": {
     "end_time": "2020-02-07T05:27:07.890742Z",
     "start_time": "2020-02-07T05:27:07.885731Z"
    }
   },
   "outputs": [
    {
     "data": {
      "text/plain": [
       "'hello          in'"
      ]
     },
     "execution_count": 39,
     "metadata": {},
     "output_type": "execute_result"
    }
   ],
   "source": [
    "s = '  hello          in      '\n",
    "s = s.strip()\n",
    "s"
   ]
  },
  {
   "cell_type": "code",
   "execution_count": 40,
   "metadata": {
    "ExecuteTime": {
     "end_time": "2020-02-07T05:27:28.016680Z",
     "start_time": "2020-02-07T05:27:28.013898Z"
    }
   },
   "outputs": [
    {
     "data": {
      "text/plain": [
       "'helloin'"
      ]
     },
     "execution_count": 40,
     "metadata": {},
     "output_type": "execute_result"
    }
   ],
   "source": [
    "s.replace(' ', '')"
   ]
  },
  {
   "cell_type": "code",
   "execution_count": 41,
   "metadata": {
    "ExecuteTime": {
     "end_time": "2020-02-07T05:27:51.994298Z",
     "start_time": "2020-02-07T05:27:51.989311Z"
    }
   },
   "outputs": [
    {
     "data": {
      "text/plain": [
       "'hello in'"
      ]
     },
     "execution_count": 41,
     "metadata": {},
     "output_type": "execute_result"
    }
   ],
   "source": [
    "re.sub('\\s+', ' ', s)"
   ]
  },
  {
   "cell_type": "markdown",
   "metadata": {},
   "source": [
    "文本过滤和清理  \n"
   ]
  },
  {
   "cell_type": "markdown",
   "metadata": {},
   "source": [
    "对齐文本字符串  \n",
    "str.ljust()  \n",
    "str.rjust()  \n",
    "str.center()  \n",
    "(num, '填充字符')  \n"
   ]
  },
  {
   "cell_type": "code",
   "execution_count": 43,
   "metadata": {
    "ExecuteTime": {
     "end_time": "2020-02-07T05:59:33.728011Z",
     "start_time": "2020-02-07T05:59:33.722990Z"
    }
   },
   "outputs": [
    {
     "data": {
      "text/plain": [
       "'hello world         '"
      ]
     },
     "execution_count": 43,
     "metadata": {},
     "output_type": "execute_result"
    }
   ],
   "source": [
    "# format() 也可以完成对齐任务\n",
    "text = 'hello world'\n",
    "format(text, '<20') # 左对齐"
   ]
  },
  {
   "cell_type": "code",
   "execution_count": 44,
   "metadata": {
    "ExecuteTime": {
     "end_time": "2020-02-07T05:59:58.086342Z",
     "start_time": "2020-02-07T05:59:58.082353Z"
    }
   },
   "outputs": [
    {
     "data": {
      "text/plain": [
       "'         hello world'"
      ]
     },
     "execution_count": 44,
     "metadata": {},
     "output_type": "execute_result"
    }
   ],
   "source": [
    "format(text, '>20') # 右对齐"
   ]
  },
  {
   "cell_type": "code",
   "execution_count": 48,
   "metadata": {
    "ExecuteTime": {
     "end_time": "2020-02-07T06:01:04.421061Z",
     "start_time": "2020-02-07T06:01:04.417834Z"
    }
   },
   "outputs": [
    {
     "data": {
      "text/plain": [
       "'****hello world*****'"
      ]
     },
     "execution_count": 48,
     "metadata": {},
     "output_type": "execute_result"
    }
   ],
   "source": [
    "format(text, '*^20') # 居中 填充*"
   ]
  },
  {
   "cell_type": "code",
   "execution_count": 59,
   "metadata": {
    "ExecuteTime": {
     "end_time": "2020-02-07T06:04:05.128924Z",
     "start_time": "2020-02-07T06:04:05.122939Z"
    }
   },
   "outputs": [
    {
     "data": {
      "text/plain": [
       "'        Hi       Xin'"
      ]
     },
     "execution_count": 59,
     "metadata": {},
     "output_type": "execute_result"
    }
   ],
   "source": [
    "# 格式化多个值\n",
    "a = '{:>10}{:>10}'.format('Hi', 'Xin')\n",
    "a"
   ]
  },
  {
   "cell_type": "code",
   "execution_count": 60,
   "metadata": {
    "ExecuteTime": {
     "end_time": "2020-02-07T06:04:09.278479Z",
     "start_time": "2020-02-07T06:04:09.273494Z"
    }
   },
   "outputs": [
    {
     "data": {
      "text/plain": [
       "20"
      ]
     },
     "execution_count": 60,
     "metadata": {},
     "output_type": "execute_result"
    }
   ],
   "source": [
    "len(a)"
   ]
  },
  {
   "cell_type": "code",
   "execution_count": 66,
   "metadata": {
    "ExecuteTime": {
     "end_time": "2020-02-07T06:07:14.605102Z",
     "start_time": "2020-02-07T06:07:14.601149Z"
    }
   },
   "outputs": [
    {
     "data": {
      "text/plain": [
       "'         3.141592654'"
      ]
     },
     "execution_count": 66,
     "metadata": {},
     "output_type": "execute_result"
    }
   ],
   "source": [
    "# format() 并不特定于字符串 它能作用于任何值\n",
    "x = 3.141592654\n",
    "format(x, '>20')"
   ]
  },
  {
   "cell_type": "code",
   "execution_count": 68,
   "metadata": {
    "ExecuteTime": {
     "end_time": "2020-02-07T06:08:34.597964Z",
     "start_time": "2020-02-07T06:08:34.593930Z"
    }
   },
   "outputs": [
    {
     "data": {
      "text/plain": [
       "'   3.14   '"
      ]
     },
     "execution_count": 68,
     "metadata": {},
     "output_type": "execute_result"
    }
   ],
   "source": [
    "format(x, '^10.2f') # 对数字做格式化处理"
   ]
  },
  {
   "cell_type": "markdown",
   "metadata": {},
   "source": [
    "字符串连接与合并"
   ]
  },
  {
   "cell_type": "code",
   "execution_count": 69,
   "metadata": {
    "ExecuteTime": {
     "end_time": "2020-02-07T06:18:35.862620Z",
     "start_time": "2020-02-07T06:18:35.857666Z"
    }
   },
   "outputs": [
    {
     "data": {
      "text/plain": [
       "'Is Chicago Not Chicago?'"
      ]
     },
     "execution_count": 69,
     "metadata": {},
     "output_type": "execute_result"
    }
   ],
   "source": [
    "parts = ['Is', 'Chicago', 'Not', 'Chicago?']\n",
    "' '.join(parts)"
   ]
  },
  {
   "cell_type": "code",
   "execution_count": 70,
   "metadata": {
    "ExecuteTime": {
     "end_time": "2020-02-07T06:18:48.230570Z",
     "start_time": "2020-02-07T06:18:48.225582Z"
    }
   },
   "outputs": [
    {
     "data": {
      "text/plain": [
       "'Is,Chicago,Not,Chicago?'"
      ]
     },
     "execution_count": 70,
     "metadata": {},
     "output_type": "execute_result"
    }
   ],
   "source": [
    "','.join(parts)"
   ]
  },
  {
   "cell_type": "code",
   "execution_count": 78,
   "metadata": {
    "ExecuteTime": {
     "end_time": "2020-02-07T06:29:23.732523Z",
     "start_time": "2020-02-07T06:29:23.728533Z"
    }
   },
   "outputs": [
    {
     "data": {
      "text/plain": [
       "'IsChicagoNotChicago?'"
      ]
     },
     "execution_count": 78,
     "metadata": {},
     "output_type": "execute_result"
    }
   ],
   "source": [
    "s = \"\"\n",
    "for p in parts: # 比join()方法慢 每个+=操作都会创建一个新的字符串对象\n",
    "    s += p\n",
    "s"
   ]
  },
  {
   "cell_type": "code",
   "execution_count": 71,
   "metadata": {
    "ExecuteTime": {
     "end_time": "2020-02-07T06:19:36.916257Z",
     "start_time": "2020-02-07T06:19:36.911765Z"
    }
   },
   "outputs": [
    {
     "data": {
      "text/plain": [
       "'悲伤的新娘'"
      ]
     },
     "execution_count": 71,
     "metadata": {},
     "output_type": "execute_result"
    }
   ],
   "source": [
    "a = '悲伤的'\n",
    "b = '新娘'\n",
    "a + b"
   ]
  },
  {
   "cell_type": "code",
   "execution_count": 72,
   "metadata": {
    "ExecuteTime": {
     "end_time": "2020-02-07T06:20:32.323650Z",
     "start_time": "2020-02-07T06:20:32.320174Z"
    }
   },
   "outputs": [
    {
     "data": {
      "text/plain": [
       "'悲伤的-新娘'"
      ]
     },
     "execution_count": 72,
     "metadata": {},
     "output_type": "execute_result"
    }
   ],
   "source": [
    "'{}-{}'.format(a, b)"
   ]
  },
  {
   "cell_type": "code",
   "execution_count": 73,
   "metadata": {
    "ExecuteTime": {
     "end_time": "2020-02-07T06:21:09.339573Z",
     "start_time": "2020-02-07T06:21:09.335616Z"
    }
   },
   "outputs": [
    {
     "data": {
      "text/plain": [
       "'helloworld'"
      ]
     },
     "execution_count": 73,
     "metadata": {},
     "output_type": "execute_result"
    }
   ],
   "source": [
    "a = 'hello' 'world'\n",
    "a"
   ]
  },
  {
   "cell_type": "code",
   "execution_count": 74,
   "metadata": {
    "ExecuteTime": {
     "end_time": "2020-02-07T06:26:54.006298Z",
     "start_time": "2020-02-07T06:26:54.001317Z"
    }
   },
   "outputs": [
    {
     "data": {
      "text/plain": [
       "'Xin,50,90.1'"
      ]
     },
     "execution_count": 74,
     "metadata": {},
     "output_type": "execute_result"
    }
   ],
   "source": [
    "# 利用生成器表达式将数据转换为字符串的同时完成连接操作\n",
    "data = ['Xin', 50, 90.1]\n",
    "','.join(str(d) for d in data)"
   ]
  },
  {
   "cell_type": "markdown",
   "metadata": {},
   "source": [
    "Version 1 (string concatenation)  \n",
    "f.write(chunk1 + chunk2)  \n",
    "Version 2 (separate I/ O operations)  \n",
    "f.write(chunk1) f.write(chunk2)  \n",
    "如 果 这 两 个 字 符 串 都 很 小， 那 么 第 一 个 版 本 的 代 码 能 带 来 更 好 的 性 能，  \n",
    "这 是 因 为 执 行 一 次 I/ O 系 统 调 用 的 固 有 开 销 就 很 高。   \n",
    "另 一 方 面， 如 果 这 两 个 字 符 串 都 很 大，  \n",
    "那 么 第 二 个 版 本 的 代 码 会 更 加 高 效。   \n",
    "因 为 这 里 避 免 了 创 建 大 的 临 时 结 果， 也 没 有 对 大 块 的 内 存 进 行 拷 贝。"
   ]
  },
  {
   "cell_type": "code",
   "execution_count": 79,
   "metadata": {
    "ExecuteTime": {
     "end_time": "2020-02-07T06:39:09.953835Z",
     "start_time": "2020-02-07T06:39:09.949844Z"
    }
   },
   "outputs": [],
   "source": [
    "# 如果我们编写的代码要从许多短字符串中构建输出\n",
    "# 则应该考虑编写生成器函数 \n",
    "# 通过yield关键字生成字符串片段\n",
    "def sample():\n",
    "    yield 'Is'\n",
    "    yield 'Xin'\n",
    "    yield 'Feng'\n",
    "    yield 'Rong?'"
   ]
  },
  {
   "cell_type": "code",
   "execution_count": 82,
   "metadata": {
    "ExecuteTime": {
     "end_time": "2020-02-07T06:39:45.865818Z",
     "start_time": "2020-02-07T06:39:45.860830Z"
    }
   },
   "outputs": [
    {
     "data": {
      "text/plain": [
       "'Is Xin Feng Rong?'"
      ]
     },
     "execution_count": 82,
     "metadata": {},
     "output_type": "execute_result"
    }
   ],
   "source": [
    "text = ' '.join(sample())\n",
    "text"
   ]
  },
  {
   "cell_type": "markdown",
   "metadata": {},
   "source": [
    "给字符串中的变量名做插值处理"
   ]
  },
  {
   "cell_type": "code",
   "execution_count": 1,
   "metadata": {
    "ExecuteTime": {
     "end_time": "2020-02-07T13:37:38.781080Z",
     "start_time": "2020-02-07T13:37:38.768552Z"
    }
   },
   "outputs": [
    {
     "data": {
      "text/plain": [
       "'Xin has 22 messages.'"
      ]
     },
     "execution_count": 1,
     "metadata": {},
     "output_type": "execute_result"
    }
   ],
   "source": [
    "s = '{name} has {n} messages.'\n",
    "s.format(name='Xin', n=22)"
   ]
  },
  {
   "cell_type": "code",
   "execution_count": 2,
   "metadata": {
    "ExecuteTime": {
     "end_time": "2020-02-07T13:38:15.234016Z",
     "start_time": "2020-02-07T13:38:15.229028Z"
    }
   },
   "outputs": [
    {
     "data": {
      "text/plain": [
       "'Feng has 21 messages.'"
      ]
     },
     "execution_count": 2,
     "metadata": {},
     "output_type": "execute_result"
    }
   ],
   "source": [
    "name = 'Feng'\n",
    "n = 21\n",
    "s.format_map(vars())"
   ]
  },
  {
   "cell_type": "markdown",
   "metadata": {},
   "source": [
    "vars()能作用于类实例上\n"
   ]
  },
  {
   "cell_type": "code",
   "execution_count": 4,
   "metadata": {
    "ExecuteTime": {
     "end_time": "2020-02-07T13:39:59.895942Z",
     "start_time": "2020-02-07T13:39:59.892607Z"
    }
   },
   "outputs": [],
   "source": [
    "class Info:\n",
    "    def __init__(self, name, n):\n",
    "        self.name = name\n",
    "        self.n = n"
   ]
  },
  {
   "cell_type": "code",
   "execution_count": 5,
   "metadata": {
    "ExecuteTime": {
     "end_time": "2020-02-07T13:41:11.627759Z",
     "start_time": "2020-02-07T13:41:11.622772Z"
    }
   },
   "outputs": [
    {
     "data": {
      "text/plain": [
       "'Rong has 20 messages.'"
      ]
     },
     "execution_count": 5,
     "metadata": {},
     "output_type": "execute_result"
    }
   ],
   "source": [
    "a = Info('Rong', 20)\n",
    "s.format_map(vars(a))"
   ]
  },
  {
   "cell_type": "code",
   "execution_count": 6,
   "metadata": {
    "ExecuteTime": {
     "end_time": "2020-02-07T13:45:56.268163Z",
     "start_time": "2020-02-07T13:45:56.264914Z"
    }
   },
   "outputs": [],
   "source": [
    "class safesub(dict): # 带有__missing__()方法的字典类\n",
    "    def __missing__(self, key):\n",
    "        return '{' + key + '}'"
   ]
  },
  {
   "cell_type": "code",
   "execution_count": 7,
   "metadata": {
    "ExecuteTime": {
     "end_time": "2020-02-07T13:46:31.701246Z",
     "start_time": "2020-02-07T13:46:31.696266Z"
    }
   },
   "outputs": [
    {
     "data": {
      "text/plain": [
       "'Feng has {n} messages.'"
      ]
     },
     "execution_count": 7,
     "metadata": {},
     "output_type": "execute_result"
    }
   ],
   "source": [
    "del n\n",
    "s.format_map(safesub(vars()))"
   ]
  },
  {
   "cell_type": "code",
   "execution_count": 13,
   "metadata": {
    "ExecuteTime": {
     "end_time": "2020-02-07T14:08:27.240143Z",
     "start_time": "2020-02-07T14:08:27.236600Z"
    }
   },
   "outputs": [],
   "source": [
    "# frame hack\n",
    "# f_locals 是 一 个 字 典， 它 完 成 对 调 用 函 数 中 局 部 变 量 的 拷 贝。\n",
    "# 尽 管 可 以 修 改 f_locals 的 内 容， \n",
    "# 可 是 修 改 后 并 不 会 产 生 任 何 持 续 性 的 效 果。\n",
    "import sys\n",
    "def sub(text):\n",
    "    return text.format_map(safesub(sys._getframe(1).f_locals))"
   ]
  },
  {
   "cell_type": "code",
   "execution_count": 9,
   "metadata": {
    "ExecuteTime": {
     "end_time": "2020-02-07T13:54:01.321302Z",
     "start_time": "2020-02-07T13:54:01.316352Z"
    }
   },
   "outputs": [
    {
     "data": {
      "text/plain": [
       "'hello Lee'"
      ]
     },
     "execution_count": 9,
     "metadata": {},
     "output_type": "execute_result"
    }
   ],
   "source": [
    "name = 'Lee'\n",
    "n = 29\n",
    "sub('hello {name}')"
   ]
  },
  {
   "cell_type": "code",
   "execution_count": 10,
   "metadata": {
    "ExecuteTime": {
     "end_time": "2020-02-07T13:54:30.463046Z",
     "start_time": "2020-02-07T13:54:30.459614Z"
    }
   },
   "outputs": [
    {
     "data": {
      "text/plain": [
       "'you are 29 years'"
      ]
     },
     "execution_count": 10,
     "metadata": {},
     "output_type": "execute_result"
    }
   ],
   "source": [
    "sub('you are {n} years')"
   ]
  },
  {
   "cell_type": "code",
   "execution_count": 12,
   "metadata": {
    "ExecuteTime": {
     "end_time": "2020-02-07T13:55:01.233994Z",
     "start_time": "2020-02-07T13:55:01.229007Z"
    }
   },
   "outputs": [
    {
     "data": {
      "text/plain": [
       "'you is {color}'"
      ]
     },
     "execution_count": 12,
     "metadata": {},
     "output_type": "execute_result"
    }
   ],
   "source": [
    "sub('you is {color}')"
   ]
  },
  {
   "cell_type": "markdown",
   "metadata": {},
   "source": [
    "以固定的列数重新格式化文本  \n",
    "textwrap.fill()模块来重新格式化文本的输出"
   ]
  },
  {
   "cell_type": "code",
   "execution_count": 14,
   "metadata": {
    "ExecuteTime": {
     "end_time": "2020-02-07T14:25:52.493646Z",
     "start_time": "2020-02-07T14:25:52.488522Z"
    }
   },
   "outputs": [],
   "source": [
    "s = \"Look into my eyes, look into my eyes, the eyes, the eyes, the eyes, not around the eyes, don't look around the eyes,  look into my eyes, you're under.\""
   ]
  },
  {
   "cell_type": "code",
   "execution_count": 19,
   "metadata": {
    "ExecuteTime": {
     "end_time": "2020-02-07T14:26:43.973066Z",
     "start_time": "2020-02-07T14:26:43.968080Z"
    }
   },
   "outputs": [
    {
     "data": {
      "text/plain": [
       "\"Look into my eyes, look into my eyes,\\nthe eyes, the eyes, the eyes, not around\\nthe eyes, don't look around the eyes,\\nlook into my eyes, you're under.\""
      ]
     },
     "execution_count": 19,
     "metadata": {},
     "output_type": "execute_result"
    }
   ],
   "source": [
    "import textwrap\n",
    "textwrap.fill(s, 40)"
   ]
  },
  {
   "cell_type": "code",
   "execution_count": 20,
   "metadata": {
    "ExecuteTime": {
     "end_time": "2020-02-07T14:27:49.983306Z",
     "start_time": "2020-02-07T14:27:49.976330Z"
    }
   },
   "outputs": [
    {
     "data": {
      "text/plain": [
       "\" Look into my eyes, look into my eyes,\\nthe eyes, the eyes, the eyes, not around\\nthe eyes, don't look around the eyes,\\nlook into my eyes, you're under.\""
      ]
     },
     "execution_count": 20,
     "metadata": {},
     "output_type": "execute_result"
    }
   ],
   "source": [
    "textwrap.fill(s, 40, initial_indent=' ')"
   ]
  },
  {
   "cell_type": "code",
   "execution_count": 25,
   "metadata": {
    "ExecuteTime": {
     "end_time": "2020-02-07T14:29:52.477150Z",
     "start_time": "2020-02-07T14:29:52.472205Z"
    }
   },
   "outputs": [
    {
     "data": {
      "text/plain": [
       "\"Look into my eyes, look into my eyes,\\n the eyes, the eyes, the eyes, not\\n around the eyes, don't look around the\\n eyes,  look into my eyes, you're under.\""
      ]
     },
     "execution_count": 25,
     "metadata": {},
     "output_type": "execute_result"
    }
   ],
   "source": [
    "textwrap.fill(s, 40, subsequent_indent=' ')"
   ]
  },
  {
   "cell_type": "code",
   "execution_count": 28,
   "metadata": {
    "ExecuteTime": {
     "end_time": "2020-02-07T14:30:14.812310Z",
     "start_time": "2020-02-07T14:30:14.807323Z"
    }
   },
   "outputs": [
    {
     "data": {
      "text/plain": [
       "120"
      ]
     },
     "execution_count": 28,
     "metadata": {},
     "output_type": "execute_result"
    }
   ],
   "source": [
    "import os\n",
    "os.get_terminal_size().columns"
   ]
  },
  {
   "cell_type": "markdown",
   "metadata": {},
   "source": [
    "在文本中处理HTML与XML实体  \n",
    "html.escape()函数来完成对< >特殊字符的替换"
   ]
  },
  {
   "cell_type": "code",
   "execution_count": 29,
   "metadata": {
    "ExecuteTime": {
     "end_time": "2020-02-07T14:37:10.149181Z",
     "start_time": "2020-02-07T14:37:10.145219Z"
    }
   },
   "outputs": [
    {
     "data": {
      "text/plain": [
       "'Elements are written as \"<tag>text</tag>\".'"
      ]
     },
     "execution_count": 29,
     "metadata": {},
     "output_type": "execute_result"
    }
   ],
   "source": [
    "s = 'Elements are written as \"<tag>text</tag>\".'\n",
    "import html\n",
    "s"
   ]
  },
  {
   "cell_type": "code",
   "execution_count": 30,
   "metadata": {
    "ExecuteTime": {
     "end_time": "2020-02-07T14:37:25.133553Z",
     "start_time": "2020-02-07T14:37:25.128567Z"
    }
   },
   "outputs": [
    {
     "data": {
      "text/plain": [
       "'Elements are written as &quot;&lt;tag&gt;text&lt;/tag&gt;&quot;.'"
      ]
     },
     "execution_count": 30,
     "metadata": {},
     "output_type": "execute_result"
    }
   ],
   "source": [
    "html.escape(s)"
   ]
  },
  {
   "cell_type": "code",
   "execution_count": 31,
   "metadata": {
    "ExecuteTime": {
     "end_time": "2020-02-07T14:38:05.995780Z",
     "start_time": "2020-02-07T14:38:05.990793Z"
    }
   },
   "outputs": [
    {
     "data": {
      "text/plain": [
       "'Elements are written as \"&lt;tag&gt;text&lt;/tag&gt;\".'"
      ]
     },
     "execution_count": 31,
     "metadata": {},
     "output_type": "execute_result"
    }
   ],
   "source": [
    "html.escape(s, quote=False)"
   ]
  },
  {
   "cell_type": "markdown",
   "metadata": {},
   "source": [
    "文本分词"
   ]
  },
  {
   "cell_type": "code",
   "execution_count": 1,
   "metadata": {
    "ExecuteTime": {
     "end_time": "2020-02-07T21:27:53.528155Z",
     "start_time": "2020-02-07T21:27:53.523168Z"
    }
   },
   "outputs": [],
   "source": [
    "text = 'foo = 23 + 42 * 10'\n",
    "import re\n",
    "NAME = r'(?P<NAME>[a-zA-Z_][a-zA-Z_0-9]*)'\n",
    "NUM = r'(?P<NUM>\\d+)'\n",
    "PLUS = r'(?P<PLUS>\\+)'\n",
    "TIMES = r'(?P<TIMES>\\*)'\n",
    "EQ = r'(?P<EQ>=)'\n",
    "WS = r'(?P<WS>\\s+)'\n",
    "list_args = [NAME, NUM, PLUS, TIMES, EQ, WS]\n",
    "master_pat = re.compile('|'.join(list_args))"
   ]
  },
  {
   "cell_type": "code",
   "execution_count": 21,
   "metadata": {
    "ExecuteTime": {
     "end_time": "2020-02-07T21:33:33.795512Z",
     "start_time": "2020-02-07T21:33:33.790563Z"
    }
   },
   "outputs": [
    {
     "data": {
      "text/plain": [
       "<re.Match object; span=(0, 3), match='foo'>"
      ]
     },
     "execution_count": 21,
     "metadata": {},
     "output_type": "execute_result"
    }
   ],
   "source": [
    "# 扫描对象演示\n",
    "scanner = master_pat.scanner('foo=32')\n",
    "scanner.match()"
   ]
  },
  {
   "cell_type": "code",
   "execution_count": 22,
   "metadata": {
    "ExecuteTime": {
     "end_time": "2020-02-07T21:33:37.345859Z",
     "start_time": "2020-02-07T21:33:37.341869Z"
    }
   },
   "outputs": [
    {
     "data": {
      "text/plain": [
       "('NAME', 'foo')"
      ]
     },
     "execution_count": 22,
     "metadata": {},
     "output_type": "execute_result"
    }
   ],
   "source": [
    "_.lastgroup, _.group()"
   ]
  },
  {
   "cell_type": "code",
   "execution_count": 23,
   "metadata": {
    "ExecuteTime": {
     "end_time": "2020-02-07T21:33:48.963388Z",
     "start_time": "2020-02-07T21:33:48.958404Z"
    }
   },
   "outputs": [
    {
     "data": {
      "text/plain": [
       "<re.Match object; span=(3, 4), match='='>"
      ]
     },
     "execution_count": 23,
     "metadata": {},
     "output_type": "execute_result"
    }
   ],
   "source": [
    "scanner.match()"
   ]
  },
  {
   "cell_type": "code",
   "execution_count": 24,
   "metadata": {
    "ExecuteTime": {
     "end_time": "2020-02-07T21:34:18.856538Z",
     "start_time": "2020-02-07T21:34:18.851590Z"
    }
   },
   "outputs": [
    {
     "data": {
      "text/plain": [
       "('EQ', '=')"
      ]
     },
     "execution_count": 24,
     "metadata": {},
     "output_type": "execute_result"
    }
   ],
   "source": [
    "_.lastgroup, _.group()"
   ]
  },
  {
   "cell_type": "code",
   "execution_count": 25,
   "metadata": {
    "ExecuteTime": {
     "end_time": "2020-02-07T21:35:43.305677Z",
     "start_time": "2020-02-07T21:35:43.301688Z"
    }
   },
   "outputs": [
    {
     "data": {
      "text/plain": [
       "<re.Match object; span=(4, 6), match='32'>"
      ]
     },
     "execution_count": 25,
     "metadata": {},
     "output_type": "execute_result"
    }
   ],
   "source": [
    "scanner.match()"
   ]
  },
  {
   "cell_type": "code",
   "execution_count": 26,
   "metadata": {
    "ExecuteTime": {
     "end_time": "2020-02-07T21:36:19.306707Z",
     "start_time": "2020-02-07T21:36:19.301755Z"
    }
   },
   "outputs": [
    {
     "data": {
      "text/plain": [
       "('NUM', '32')"
      ]
     },
     "execution_count": 26,
     "metadata": {},
     "output_type": "execute_result"
    }
   ],
   "source": [
    "_.lastgroup, _.group()"
   ]
  },
  {
   "cell_type": "code",
   "execution_count": 28,
   "metadata": {
    "ExecuteTime": {
     "end_time": "2020-02-07T21:41:11.000528Z",
     "start_time": "2020-02-07T21:41:10.995541Z"
    }
   },
   "outputs": [],
   "source": [
    "from collections import namedtuple\n",
    "Token = namedtuple('Token', ['type', 'value'])\n",
    "def generate_tokens(pat, text):\n",
    "    scanner = pat.scanner(text)\n",
    "    for m in iter(scanner.match, None):\n",
    "        yield Token(m.lastgroup, m.group())"
   ]
  },
  {
   "cell_type": "code",
   "execution_count": 29,
   "metadata": {
    "ExecuteTime": {
     "end_time": "2020-02-07T21:42:05.418175Z",
     "start_time": "2020-02-07T21:42:05.412126Z"
    }
   },
   "outputs": [
    {
     "name": "stdout",
     "output_type": "stream",
     "text": [
      "Token(type='NAME', value='foo')\n",
      "Token(type='WS', value=' ')\n",
      "Token(type='EQ', value='=')\n",
      "Token(type='WS', value=' ')\n",
      "Token(type='NUM', value='42')\n"
     ]
    }
   ],
   "source": [
    "for tok in generate_tokens(master_pat, 'foo = 42'):\n",
    "    print(tok)"
   ]
  },
  {
   "cell_type": "code",
   "execution_count": 31,
   "metadata": {
    "ExecuteTime": {
     "end_time": "2020-02-07T21:45:37.128103Z",
     "start_time": "2020-02-07T21:45:37.124070Z"
    }
   },
   "outputs": [
    {
     "name": "stdout",
     "output_type": "stream",
     "text": [
      "Token(type='NAME', value='foo')\n",
      "Token(type='EQ', value='=')\n",
      "Token(type='NUM', value='23')\n",
      "Token(type='PLUS', value='+')\n",
      "Token(type='NUM', value='42')\n",
      "Token(type='TIMES', value='*')\n",
      "Token(type='NUM', value='10')\n"
     ]
    }
   ],
   "source": [
    "# 过滤掉空格\n",
    "tokens = (tok for tok in generate_tokens(master_pat, text) if tok.type != 'WS')\n",
    "for tok in tokens:\n",
    "    print(tok)"
   ]
  },
  {
   "cell_type": "markdown",
   "metadata": {},
   "source": [
    "编写简单的递归下降解析器  \n",
    "根据一组语法规则来解析文本  \n",
    "以此来执行相应的操作或构建一个抽象的语法树"
   ]
  },
  {
   "cell_type": "markdown",
   "metadata": {},
   "source": [
    "在字节串上执行文本操作  \n",
    "Byte String  \n"
   ]
  }
 ],
 "metadata": {
  "kernelspec": {
   "display_name": "Python 3",
   "language": "python",
   "name": "python3"
  },
  "language_info": {
   "codemirror_mode": {
    "name": "ipython",
    "version": 3
   },
   "file_extension": ".py",
   "mimetype": "text/x-python",
   "name": "python",
   "nbconvert_exporter": "python",
   "pygments_lexer": "ipython3",
   "version": "3.7.3"
  },
  "toc": {
   "base_numbering": 1,
   "nav_menu": {},
   "number_sections": true,
   "sideBar": true,
   "skip_h1_title": false,
   "title_cell": "Table of Contents",
   "title_sidebar": "Contents",
   "toc_cell": false,
   "toc_position": {},
   "toc_section_display": true,
   "toc_window_display": false
  }
 },
 "nbformat": 4,
 "nbformat_minor": 4
}
