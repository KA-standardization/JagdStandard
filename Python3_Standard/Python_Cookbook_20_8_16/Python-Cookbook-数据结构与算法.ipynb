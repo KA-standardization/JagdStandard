{
 "cells": [
  {
   "cell_type": "markdown",
   "metadata": {},
   "source": [
    "### 将一个包含N个元素的元组或序列,分解为N个单独的变量"
   ]
  },
  {
   "cell_type": "code",
   "execution_count": 1,
   "metadata": {
    "ExecuteTime": {
     "end_time": "2020-03-12T09:05:21.995095Z",
     "start_time": "2020-03-12T09:05:21.992102Z"
    }
   },
   "outputs": [],
   "source": [
    "# 例 1\n",
    "p = (4, 5)\n",
    "x, y = p"
   ]
  },
  {
   "cell_type": "code",
   "execution_count": 2,
   "metadata": {
    "ExecuteTime": {
     "end_time": "2020-03-12T09:05:22.007615Z",
     "start_time": "2020-03-12T09:05:21.997597Z"
    }
   },
   "outputs": [
    {
     "data": {
      "text/plain": [
       "4"
      ]
     },
     "execution_count": 2,
     "metadata": {},
     "output_type": "execute_result"
    }
   ],
   "source": [
    "x"
   ]
  },
  {
   "cell_type": "code",
   "execution_count": 3,
   "metadata": {
    "ExecuteTime": {
     "end_time": "2020-03-12T09:05:22.012564Z",
     "start_time": "2020-03-12T09:05:22.008571Z"
    }
   },
   "outputs": [
    {
     "data": {
      "text/plain": [
       "5"
      ]
     },
     "execution_count": 3,
     "metadata": {},
     "output_type": "execute_result"
    }
   ],
   "source": [
    "y"
   ]
  },
  {
   "cell_type": "code",
   "execution_count": 4,
   "metadata": {
    "ExecuteTime": {
     "end_time": "2020-03-12T09:05:22.017547Z",
     "start_time": "2020-03-12T09:05:22.013559Z"
    }
   },
   "outputs": [],
   "source": [
    "# 例 2\n",
    "data = ['FengRong', 18, 90.1, (2020, 1, 1)]\n",
    "name, age, source, date = data"
   ]
  },
  {
   "cell_type": "code",
   "execution_count": 5,
   "metadata": {
    "ExecuteTime": {
     "end_time": "2020-03-12T09:05:22.023574Z",
     "start_time": "2020-03-12T09:05:22.019544Z"
    }
   },
   "outputs": [
    {
     "data": {
      "text/plain": [
       "'FengRong'"
      ]
     },
     "execution_count": 5,
     "metadata": {},
     "output_type": "execute_result"
    }
   ],
   "source": [
    "name"
   ]
  },
  {
   "cell_type": "code",
   "execution_count": 6,
   "metadata": {
    "ExecuteTime": {
     "end_time": "2020-03-12T09:05:22.028573Z",
     "start_time": "2020-03-12T09:05:22.024528Z"
    }
   },
   "outputs": [
    {
     "data": {
      "text/plain": [
       "(2020, 1, 1)"
      ]
     },
     "execution_count": 6,
     "metadata": {},
     "output_type": "execute_result"
    }
   ],
   "source": [
    "date"
   ]
  },
  {
   "cell_type": "code",
   "execution_count": 7,
   "metadata": {
    "ExecuteTime": {
     "end_time": "2020-03-12T09:05:22.032558Z",
     "start_time": "2020-03-12T09:05:22.029515Z"
    }
   },
   "outputs": [],
   "source": [
    "# 例 3\n",
    "name, age, source, (year, month, day) = data"
   ]
  },
  {
   "cell_type": "code",
   "execution_count": 8,
   "metadata": {
    "ExecuteTime": {
     "end_time": "2020-03-12T09:05:22.037533Z",
     "start_time": "2020-03-12T09:05:22.033505Z"
    }
   },
   "outputs": [
    {
     "data": {
      "text/plain": [
       "'FengRong'"
      ]
     },
     "execution_count": 8,
     "metadata": {},
     "output_type": "execute_result"
    }
   ],
   "source": [
    "name"
   ]
  },
  {
   "cell_type": "code",
   "execution_count": 9,
   "metadata": {
    "ExecuteTime": {
     "end_time": "2020-03-12T09:05:22.042514Z",
     "start_time": "2020-03-12T09:05:22.038497Z"
    }
   },
   "outputs": [
    {
     "data": {
      "text/plain": [
       "2020"
      ]
     },
     "execution_count": 9,
     "metadata": {},
     "output_type": "execute_result"
    }
   ],
   "source": [
    "year"
   ]
  },
  {
   "cell_type": "code",
   "execution_count": 10,
   "metadata": {
    "ExecuteTime": {
     "end_time": "2020-03-12T09:05:22.047467Z",
     "start_time": "2020-03-12T09:05:22.043478Z"
    }
   },
   "outputs": [
    {
     "data": {
      "text/plain": [
       "1"
      ]
     },
     "execution_count": 10,
     "metadata": {},
     "output_type": "execute_result"
    }
   ],
   "source": [
    "day"
   ]
  },
  {
   "cell_type": "code",
   "execution_count": 11,
   "metadata": {
    "ExecuteTime": {
     "end_time": "2020-03-12T09:05:22.052454Z",
     "start_time": "2020-03-12T09:05:22.048464Z"
    }
   },
   "outputs": [],
   "source": [
    "# 例 4\n",
    "s = 'hello'\n",
    "a,b,c,d,e = s"
   ]
  },
  {
   "cell_type": "code",
   "execution_count": 12,
   "metadata": {
    "ExecuteTime": {
     "end_time": "2020-03-12T09:05:22.057479Z",
     "start_time": "2020-03-12T09:05:22.053450Z"
    }
   },
   "outputs": [
    {
     "data": {
      "text/plain": [
       "'h'"
      ]
     },
     "execution_count": 12,
     "metadata": {},
     "output_type": "execute_result"
    }
   ],
   "source": [
    "a"
   ]
  },
  {
   "cell_type": "code",
   "execution_count": 13,
   "metadata": {
    "ExecuteTime": {
     "end_time": "2020-03-12T09:05:22.061461Z",
     "start_time": "2020-03-12T09:05:22.058438Z"
    }
   },
   "outputs": [
    {
     "data": {
      "text/plain": [
       "'e'"
      ]
     },
     "execution_count": 13,
     "metadata": {},
     "output_type": "execute_result"
    }
   ],
   "source": [
    "b"
   ]
  },
  {
   "cell_type": "markdown",
   "metadata": {},
   "source": [
    "### 从任意长度可迭代对象中分解元素"
   ]
  },
  {
   "cell_type": "code",
   "execution_count": 14,
   "metadata": {
    "ExecuteTime": {
     "end_time": "2020-03-12T09:05:22.180182Z",
     "start_time": "2020-03-12T09:05:22.068410Z"
    },
    "code_folding": []
   },
   "outputs": [],
   "source": [
    "# 例 1\n",
    "import numpy as np\n",
    "def drop_first_last(grades):\n",
    "    first, *middle, last = grades\n",
    "    return np.mean(middle) # mean 均值"
   ]
  },
  {
   "cell_type": "code",
   "execution_count": 15,
   "metadata": {
    "ExecuteTime": {
     "end_time": "2020-03-12T09:05:22.186096Z",
     "start_time": "2020-03-12T09:05:22.181109Z"
    }
   },
   "outputs": [
    {
     "data": {
      "text/plain": [
       "10.0"
      ]
     },
     "execution_count": 15,
     "metadata": {},
     "output_type": "execute_result"
    }
   ],
   "source": [
    "grades = [1,2,3,30,5,6]\n",
    "res = drop_first_last(grades)\n",
    "res"
   ]
  },
  {
   "cell_type": "code",
   "execution_count": 16,
   "metadata": {
    "ExecuteTime": {
     "end_time": "2020-03-12T09:05:22.191083Z",
     "start_time": "2020-03-12T09:05:22.188091Z"
    }
   },
   "outputs": [],
   "source": [
    "# 例 1\n",
    "record = ('Lee', 'lee@qq.com', '123-123-123', '234-234-234')\n",
    "name, email, *phone = record"
   ]
  },
  {
   "cell_type": "code",
   "execution_count": 17,
   "metadata": {
    "ExecuteTime": {
     "end_time": "2020-03-12T09:05:22.197066Z",
     "start_time": "2020-03-12T09:05:22.192080Z"
    }
   },
   "outputs": [
    {
     "data": {
      "text/plain": [
       "'Lee'"
      ]
     },
     "execution_count": 17,
     "metadata": {},
     "output_type": "execute_result"
    }
   ],
   "source": [
    "name"
   ]
  },
  {
   "cell_type": "code",
   "execution_count": 18,
   "metadata": {
    "ExecuteTime": {
     "end_time": "2020-03-12T09:05:22.202053Z",
     "start_time": "2020-03-12T09:05:22.198064Z"
    }
   },
   "outputs": [
    {
     "data": {
      "text/plain": [
       "['123-123-123', '234-234-234']"
      ]
     },
     "execution_count": 18,
     "metadata": {},
     "output_type": "execute_result"
    }
   ],
   "source": [
    "phone"
   ]
  },
  {
   "cell_type": "code",
   "execution_count": 19,
   "metadata": {
    "ExecuteTime": {
     "end_time": "2020-03-12T09:05:22.207040Z",
     "start_time": "2020-03-12T09:05:22.203050Z"
    }
   },
   "outputs": [],
   "source": [
    "# 例 2\n",
    "*trailing, last = [1,2,3,4,5,6]"
   ]
  },
  {
   "cell_type": "code",
   "execution_count": 20,
   "metadata": {
    "ExecuteTime": {
     "end_time": "2020-03-12T09:05:22.212027Z",
     "start_time": "2020-03-12T09:05:22.208037Z"
    }
   },
   "outputs": [
    {
     "data": {
      "text/plain": [
       "[1, 2, 3, 4, 5]"
      ]
     },
     "execution_count": 20,
     "metadata": {},
     "output_type": "execute_result"
    }
   ],
   "source": [
    "trailing"
   ]
  },
  {
   "cell_type": "code",
   "execution_count": 21,
   "metadata": {
    "ExecuteTime": {
     "end_time": "2020-03-12T09:05:22.218011Z",
     "start_time": "2020-03-12T09:05:22.214022Z"
    }
   },
   "outputs": [
    {
     "data": {
      "text/plain": [
       "6"
      ]
     },
     "execution_count": 21,
     "metadata": {},
     "output_type": "execute_result"
    }
   ],
   "source": [
    "last"
   ]
  },
  {
   "cell_type": "markdown",
   "metadata": {},
   "source": [
    "### *式语法迭代一个变长的元组序列时尤其有用"
   ]
  },
  {
   "cell_type": "code",
   "execution_count": 22,
   "metadata": {
    "ExecuteTime": {
     "end_time": "2020-03-12T09:05:22.223994Z",
     "start_time": "2020-03-12T09:05:22.219008Z"
    }
   },
   "outputs": [],
   "source": [
    "records = [\n",
    "    ('foo', 1, 2),\n",
    "    ('bar', 'hello'),\n",
    "    ('foo', 3, 4),\n",
    "]\n",
    "def do_foo(x, y):\n",
    "    print('foo', x, y)\n",
    "    \n",
    "def do_bar(s):\n",
    "    print('bar', s)"
   ]
  },
  {
   "cell_type": "code",
   "execution_count": 23,
   "metadata": {
    "ExecuteTime": {
     "end_time": "2020-03-12T09:05:22.230976Z",
     "start_time": "2020-03-12T09:05:22.224992Z"
    }
   },
   "outputs": [
    {
     "name": "stdout",
     "output_type": "stream",
     "text": [
      "foo 1 2\n",
      "bar hello\n",
      "foo 3 4\n"
     ]
    }
   ],
   "source": [
    "for tag, *args in records:\n",
    "    if tag == 'foo':\n",
    "        do_foo(*args)\n",
    "    elif tag == 'bar':\n",
    "        do_bar(*args)"
   ]
  },
  {
   "cell_type": "code",
   "execution_count": 24,
   "metadata": {
    "ExecuteTime": {
     "end_time": "2020-03-12T09:05:22.234965Z",
     "start_time": "2020-03-12T09:05:22.231973Z"
    }
   },
   "outputs": [],
   "source": [
    "line = 'XinBa:*:2:2:/var/empty:/usr/bin/false'\n",
    "name, *something, path_a,path_b = line.split(':') "
   ]
  },
  {
   "cell_type": "code",
   "execution_count": 25,
   "metadata": {
    "ExecuteTime": {
     "end_time": "2020-03-12T09:05:22.239952Z",
     "start_time": "2020-03-12T09:05:22.235963Z"
    }
   },
   "outputs": [
    {
     "data": {
      "text/plain": [
       "'XinBa'"
      ]
     },
     "execution_count": 25,
     "metadata": {},
     "output_type": "execute_result"
    }
   ],
   "source": [
    "name"
   ]
  },
  {
   "cell_type": "code",
   "execution_count": 26,
   "metadata": {
    "ExecuteTime": {
     "end_time": "2020-03-12T09:05:22.244939Z",
     "start_time": "2020-03-12T09:05:22.240950Z"
    }
   },
   "outputs": [
    {
     "data": {
      "text/plain": [
       "'/usr/bin/false'"
      ]
     },
     "execution_count": 26,
     "metadata": {},
     "output_type": "execute_result"
    }
   ],
   "source": [
    "path_b"
   ]
  },
  {
   "cell_type": "markdown",
   "metadata": {},
   "source": [
    "### collections.deque  \n",
    "deque(maxlen=N) 创建了一个固定长度的队列  \n",
    "如果不指定队列的大小 则得到一个无界限的队列  \n",
    "可在两端执行添加和弹出操作  \n",
    "append()     appendleft()  \n",
    "pop()       popleft()"
   ]
  },
  {
   "cell_type": "code",
   "execution_count": 27,
   "metadata": {
    "ExecuteTime": {
     "end_time": "2020-03-12T09:05:22.249926Z",
     "start_time": "2020-03-12T09:05:22.245936Z"
    }
   },
   "outputs": [],
   "source": [
    "from collections import deque\n",
    "def search(lines, pattern, history=5):\n",
    "    previous_lines = deque(maxlen=history)\n",
    "    for line in lines:\n",
    "        if pattern in line:\n",
    "            yield line, previous_lines\n",
    "        previous_lines.append(line)\n",
    "        \n",
    "# with open(r'C:\\Users\\root\\Desktop\\res.txt') as f:\n",
    "#     for line, prevlines in search(f, 'python', 5):\n",
    "#         for pline in prevlines:\n",
    "#             print(pline, end='')\n",
    "#         print(line, end='')\n",
    "#         print('-'*20)"
   ]
  },
  {
   "cell_type": "markdown",
   "metadata": {},
   "source": [
    "### 找到最大/最小的N个元素<br/>\n",
    "heapq  \n",
    "nlargest()  \n",
    "nsmallest()"
   ]
  },
  {
   "cell_type": "code",
   "execution_count": 28,
   "metadata": {
    "ExecuteTime": {
     "end_time": "2020-03-12T09:05:22.263888Z",
     "start_time": "2020-03-12T09:05:22.259899Z"
    }
   },
   "outputs": [],
   "source": [
    "import heapq\n",
    "nums = [1,8,2,23,7,-1,22,43,76,100]"
   ]
  },
  {
   "cell_type": "code",
   "execution_count": 29,
   "metadata": {
    "ExecuteTime": {
     "end_time": "2020-03-12T09:05:22.269872Z",
     "start_time": "2020-03-12T09:05:22.264885Z"
    }
   },
   "outputs": [
    {
     "data": {
      "text/plain": [
       "[100, 76, 43]"
      ]
     },
     "execution_count": 29,
     "metadata": {},
     "output_type": "execute_result"
    }
   ],
   "source": [
    "heapq.nlargest(3, nums)"
   ]
  },
  {
   "cell_type": "code",
   "execution_count": 30,
   "metadata": {
    "ExecuteTime": {
     "end_time": "2020-03-12T09:05:22.275856Z",
     "start_time": "2020-03-12T09:05:22.270870Z"
    }
   },
   "outputs": [
    {
     "data": {
      "text/plain": [
       "[-1, 1, 2]"
      ]
     },
     "execution_count": 30,
     "metadata": {},
     "output_type": "execute_result"
    }
   ],
   "source": [
    "heapq.nsmallest(3, nums)"
   ]
  },
  {
   "cell_type": "code",
   "execution_count": 31,
   "metadata": {
    "ExecuteTime": {
     "end_time": "2020-03-12T09:05:22.281840Z",
     "start_time": "2020-03-12T09:05:22.276853Z"
    }
   },
   "outputs": [],
   "source": [
    "portfolio = [{' name': 'IBM', 'shares': 100, 'price': 91.1}, \n",
    "             {' name': 'AAPL', 'shares': 50, 'price': 543.22},\n",
    "             {' name': 'FB', 'shares': 200, 'price': 21.09}, \n",
    "             {' name': 'HPQ', 'shares': 35, 'price': 31.75},\n",
    "             {' name': 'YHOO', 'shares': 45, 'price': 16.35}, \n",
    "             {' name': 'ACME', 'shares': 75, 'price': 115.65},\n",
    "             ]"
   ]
  },
  {
   "cell_type": "code",
   "execution_count": 32,
   "metadata": {
    "ExecuteTime": {
     "end_time": "2020-03-12T09:05:22.287823Z",
     "start_time": "2020-03-12T09:05:22.282837Z"
    }
   },
   "outputs": [
    {
     "data": {
      "text/plain": [
       "[{' name': 'AAPL', 'shares': 50, 'price': 543.22},\n",
       " {' name': 'ACME', 'shares': 75, 'price': 115.65},\n",
       " {' name': 'IBM', 'shares': 100, 'price': 91.1}]"
      ]
     },
     "execution_count": 32,
     "metadata": {},
     "output_type": "execute_result"
    }
   ],
   "source": [
    "heapq.nlargest(3, portfolio, key=lambda s:s['price'])"
   ]
  },
  {
   "cell_type": "code",
   "execution_count": 33,
   "metadata": {
    "ExecuteTime": {
     "end_time": "2020-03-12T09:05:22.293808Z",
     "start_time": "2020-03-12T09:05:22.288821Z"
    }
   },
   "outputs": [
    {
     "data": {
      "text/plain": [
       "[{' name': 'YHOO', 'shares': 45, 'price': 16.35},\n",
       " {' name': 'FB', 'shares': 200, 'price': 21.09},\n",
       " {' name': 'HPQ', 'shares': 35, 'price': 31.75}]"
      ]
     },
     "execution_count": 33,
     "metadata": {},
     "output_type": "execute_result"
    }
   ],
   "source": [
    "heapq.nsmallest(3, portfolio, key=lambda s:s['price'])"
   ]
  },
  {
   "cell_type": "markdown",
   "metadata": {},
   "source": [
    "元素以堆的顺序排列  \n",
    "堆的重要特性就heap[0] 总是最小的那个元素  \n"
   ]
  },
  {
   "cell_type": "code",
   "execution_count": 34,
   "metadata": {
    "ExecuteTime": {
     "end_time": "2020-03-12T09:05:22.317744Z",
     "start_time": "2020-03-12T09:05:22.312757Z"
    }
   },
   "outputs": [
    {
     "data": {
      "text/plain": [
       "[-1, 7, 1, 23, 8, 2, 22, 43, 76, 100]"
      ]
     },
     "execution_count": 34,
     "metadata": {},
     "output_type": "execute_result"
    }
   ],
   "source": [
    "heap = list(nums)\n",
    "heapq.heapify(heap)\n",
    "heap"
   ]
  },
  {
   "cell_type": "markdown",
   "metadata": {},
   "source": [
    "heapq.heappop() 该方法会将最小的元素弹出 第一个元素 然后第二小的元素取代它  \n",
    "O(logN) N代表堆的大小  \n",
    "sorted(items)[:N]  \n",
    "sorted(items)[-N:]"
   ]
  },
  {
   "cell_type": "code",
   "execution_count": 35,
   "metadata": {
    "ExecuteTime": {
     "end_time": "2020-03-12T09:05:22.350656Z",
     "start_time": "2020-03-12T09:05:22.346667Z"
    }
   },
   "outputs": [
    {
     "data": {
      "text/plain": [
       "-1"
      ]
     },
     "execution_count": 35,
     "metadata": {},
     "output_type": "execute_result"
    }
   ],
   "source": [
    "heapq.heappop(heap)"
   ]
  },
  {
   "cell_type": "code",
   "execution_count": 36,
   "metadata": {
    "ExecuteTime": {
     "end_time": "2020-03-12T09:05:22.356713Z",
     "start_time": "2020-03-12T09:05:22.351654Z"
    }
   },
   "outputs": [
    {
     "data": {
      "text/plain": [
       "1"
      ]
     },
     "execution_count": 36,
     "metadata": {},
     "output_type": "execute_result"
    }
   ],
   "source": [
    "heapq.heappop(heap)"
   ]
  },
  {
   "cell_type": "markdown",
   "metadata": {},
   "source": [
    "### 实现优先队列  \n",
    "heapq.heappush()  \n",
    "heapq.heappop()\n"
   ]
  },
  {
   "cell_type": "code",
   "execution_count": 37,
   "metadata": {
    "ExecuteTime": {
     "end_time": "2020-03-12T09:05:22.390552Z",
     "start_time": "2020-03-12T09:05:22.385563Z"
    }
   },
   "outputs": [],
   "source": [
    "import heapq\n",
    "class PriorityQueue:\n",
    "    def __init__(self):\n",
    "        self._queue = []\n",
    "        self._index = 0\n",
    "\n",
    "    def push(self, item, priority):\n",
    "        heapq.heappush(self._queue, (-priority, self._index, item))\n",
    "        self._index += 1\n",
    "    \n",
    "    def pop(self):\n",
    "        return heapq.heappop(self._queue)[-1]"
   ]
  },
  {
   "cell_type": "code",
   "execution_count": 38,
   "metadata": {
    "ExecuteTime": {
     "end_time": "2020-03-12T09:05:22.395535Z",
     "start_time": "2020-03-12T09:05:22.391547Z"
    }
   },
   "outputs": [],
   "source": [
    "class Item:\n",
    "    def __init__(self, name):\n",
    "        self.name = name\n",
    "    def __repr__(self):\n",
    "        return 'Item({!r})'.format(self.name)"
   ]
  },
  {
   "cell_type": "code",
   "execution_count": 39,
   "metadata": {
    "ExecuteTime": {
     "end_time": "2020-03-12T09:05:22.401520Z",
     "start_time": "2020-03-12T09:05:22.396534Z"
    }
   },
   "outputs": [],
   "source": [
    "q = PriorityQueue()\n",
    "q.push(Item('foo'), 1)\n",
    "q.push(Item('bar'), 5)\n",
    "q.push(Item('spam'), 4)\n",
    "q.push(Item('cat'), 1)"
   ]
  },
  {
   "cell_type": "code",
   "execution_count": 40,
   "metadata": {
    "ExecuteTime": {
     "end_time": "2020-03-12T09:05:22.406506Z",
     "start_time": "2020-03-12T09:05:22.402517Z"
    }
   },
   "outputs": [
    {
     "data": {
      "text/plain": [
       "Item('bar')"
      ]
     },
     "execution_count": 40,
     "metadata": {},
     "output_type": "execute_result"
    }
   ],
   "source": [
    "q.pop()"
   ]
  },
  {
   "cell_type": "code",
   "execution_count": 41,
   "metadata": {
    "ExecuteTime": {
     "end_time": "2020-03-12T09:05:22.411495Z",
     "start_time": "2020-03-12T09:05:22.407504Z"
    }
   },
   "outputs": [
    {
     "data": {
      "text/plain": [
       "Item('spam')"
      ]
     },
     "execution_count": 41,
     "metadata": {},
     "output_type": "execute_result"
    }
   ],
   "source": [
    "q.pop()"
   ]
  },
  {
   "cell_type": "code",
   "execution_count": 42,
   "metadata": {
    "ExecuteTime": {
     "end_time": "2020-03-12T09:05:22.417516Z",
     "start_time": "2020-03-12T09:05:22.412491Z"
    }
   },
   "outputs": [
    {
     "data": {
      "text/plain": [
       "Item('foo')"
      ]
     },
     "execution_count": 42,
     "metadata": {},
     "output_type": "execute_result"
    }
   ],
   "source": [
    "q.pop()"
   ]
  },
  {
   "cell_type": "code",
   "execution_count": 43,
   "metadata": {
    "ExecuteTime": {
     "end_time": "2020-03-12T09:05:22.422499Z",
     "start_time": "2020-03-12T09:05:22.418474Z"
    }
   },
   "outputs": [
    {
     "data": {
      "text/plain": [
       "Item('cat')"
      ]
     },
     "execution_count": 43,
     "metadata": {},
     "output_type": "execute_result"
    }
   ],
   "source": [
    "q.pop()"
   ]
  },
  {
   "cell_type": "markdown",
   "metadata": {},
   "source": [
    "### 元组比较大小  \n",
    "a = Item('Xin')  \n",
    "b = Item('Feng')  \n",
    "此时a和b比较不了大小  \n",
    "self._index (没有重复)就是prioroty相同时的2级比较 "
   ]
  },
  {
   "cell_type": "code",
   "execution_count": 44,
   "metadata": {
    "ExecuteTime": {
     "end_time": "2020-03-12T09:05:22.449392Z",
     "start_time": "2020-03-12T09:05:22.444405Z"
    }
   },
   "outputs": [
    {
     "data": {
      "text/plain": [
       "True"
      ]
     },
     "execution_count": 44,
     "metadata": {},
     "output_type": "execute_result"
    }
   ],
   "source": [
    "a = (1,0,Item('Xin'))\n",
    "b = (1,1,Item('Feng'))\n",
    "a < b"
   ]
  },
  {
   "cell_type": "markdown",
   "metadata": {},
   "source": [
    "### 在字典中将键映射到多个值上  \n",
    "一键多值字典 multidict  \n",
    "defaultdict()  \n",
    "setdefault()"
   ]
  },
  {
   "cell_type": "code",
   "execution_count": 45,
   "metadata": {
    "ExecuteTime": {
     "end_time": "2020-03-12T09:05:22.485334Z",
     "start_time": "2020-03-12T09:05:22.482344Z"
    }
   },
   "outputs": [],
   "source": [
    "from collections import defaultdict\n",
    "d = defaultdict(list)\n",
    "d['a'].append(1)\n",
    "d['a'].append(1)\n",
    "d['a'].append(2)\n",
    "d['b'].append(4)"
   ]
  },
  {
   "cell_type": "code",
   "execution_count": 46,
   "metadata": {
    "ExecuteTime": {
     "end_time": "2020-03-12T09:05:22.492277Z",
     "start_time": "2020-03-12T09:05:22.486293Z"
    }
   },
   "outputs": [
    {
     "data": {
      "text/plain": [
       "defaultdict(list, {'a': [1, 1, 2], 'b': [4]})"
      ]
     },
     "execution_count": 46,
     "metadata": {},
     "output_type": "execute_result"
    }
   ],
   "source": [
    "d"
   ]
  },
  {
   "cell_type": "code",
   "execution_count": 47,
   "metadata": {
    "ExecuteTime": {
     "end_time": "2020-03-12T09:05:22.497263Z",
     "start_time": "2020-03-12T09:05:22.493274Z"
    }
   },
   "outputs": [],
   "source": [
    "d = defaultdict(set)\n",
    "d['a'].add(1)\n",
    "d['a'].add(2)\n",
    "d['a'].add(1)\n",
    "d['b'].add(4)"
   ]
  },
  {
   "cell_type": "code",
   "execution_count": 48,
   "metadata": {
    "ExecuteTime": {
     "end_time": "2020-03-12T09:05:22.503286Z",
     "start_time": "2020-03-12T09:05:22.498261Z"
    }
   },
   "outputs": [
    {
     "data": {
      "text/plain": [
       "defaultdict(set, {'a': {1, 2}, 'b': {4}})"
      ]
     },
     "execution_count": 48,
     "metadata": {},
     "output_type": "execute_result"
    }
   ],
   "source": [
    "d"
   ]
  },
  {
   "cell_type": "code",
   "execution_count": 49,
   "metadata": {
    "ExecuteTime": {
     "end_time": "2020-03-12T09:05:22.507278Z",
     "start_time": "2020-03-12T09:05:22.504245Z"
    }
   },
   "outputs": [],
   "source": [
    "d = {}\n",
    "d.setdefault('a', []).append(1)\n",
    "d.setdefault('a', []).append(2)\n",
    "d.setdefault('b', set()).add(4)"
   ]
  },
  {
   "cell_type": "code",
   "execution_count": 50,
   "metadata": {
    "ExecuteTime": {
     "end_time": "2020-03-12T09:05:22.512270Z",
     "start_time": "2020-03-12T09:05:22.508234Z"
    }
   },
   "outputs": [
    {
     "data": {
      "text/plain": [
       "{'a': [1, 2], 'b': {4}}"
      ]
     },
     "execution_count": 50,
     "metadata": {},
     "output_type": "execute_result"
    }
   ],
   "source": [
    "d"
   ]
  },
  {
   "cell_type": "markdown",
   "metadata": {},
   "source": [
    "### 让字典保持有序  \n",
    "OrderedDict()  \n",
    "OrderedDict 内 部 维 护 了 一 个 双 向 链 表  \n",
    "它 会 根 据 元 素 加 入 的 顺 序 来 排 列 键 的 位 置  \n",
    "第 一 个 新 加 入 的 元 素 被 放 置 在 链 表 的 末 尾  \n",
    "接 下 来 对 已 存 在 的 键 做 重 新 赋 值 不 会 改 变 键 的 顺 序  \n",
    "OrderedDict的大小是普通字典的2倍多"
   ]
  },
  {
   "cell_type": "code",
   "execution_count": 51,
   "metadata": {
    "ExecuteTime": {
     "end_time": "2020-03-12T09:05:22.546171Z",
     "start_time": "2020-03-12T09:05:22.543141Z"
    }
   },
   "outputs": [],
   "source": [
    "from collections import OrderedDict\n",
    "d = OrderedDict()\n",
    "d['foo'] = 1\n",
    "d['bar'] = 2\n",
    "d['xin'] = 3\n",
    "d['feng'] = 4"
   ]
  },
  {
   "cell_type": "code",
   "execution_count": 52,
   "metadata": {
    "ExecuteTime": {
     "end_time": "2020-03-12T09:05:22.551120Z",
     "start_time": "2020-03-12T09:05:22.547130Z"
    }
   },
   "outputs": [
    {
     "name": "stdout",
     "output_type": "stream",
     "text": [
      "foo 1\n",
      "bar 2\n",
      "xin 3\n",
      "feng 4\n"
     ]
    }
   ],
   "source": [
    "for k in d:\n",
    "    print(k, d[k])"
   ]
  },
  {
   "cell_type": "markdown",
   "metadata": {},
   "source": [
    "构建一个映射结构以便稍后对其做序列化或编码成另一种格式"
   ]
  },
  {
   "cell_type": "code",
   "execution_count": 53,
   "metadata": {
    "ExecuteTime": {
     "end_time": "2020-03-12T09:05:22.592009Z",
     "start_time": "2020-03-12T09:05:22.587023Z"
    }
   },
   "outputs": [
    {
     "data": {
      "text/plain": [
       "'{\"foo\": 1, \"bar\": 2, \"xin\": 3, \"feng\": 4}'"
      ]
     },
     "execution_count": 53,
     "metadata": {},
     "output_type": "execute_result"
    }
   ],
   "source": [
    "import json\n",
    "json.dumps(d)"
   ]
  },
  {
   "cell_type": "markdown",
   "metadata": {},
   "source": [
    "### 字典有关的计算问题  \n",
    "zip()将字典的键和值反转过来  \n",
    "zip()创建了一个迭代器,它的内容只能被消费一次"
   ]
  },
  {
   "cell_type": "code",
   "execution_count": 54,
   "metadata": {
    "ExecuteTime": {
     "end_time": "2020-03-12T09:05:22.634895Z",
     "start_time": "2020-03-12T09:05:22.631903Z"
    }
   },
   "outputs": [],
   "source": [
    "prices = {\n",
    "    'ACME': 45.23,\n",
    "    'AAPL': 612.78,\n",
    "    'IBM': 205.55,\n",
    "    'HPQ': 37.20,\n",
    "    'FB': 10.75 \n",
    " }"
   ]
  },
  {
   "cell_type": "code",
   "execution_count": 55,
   "metadata": {
    "ExecuteTime": {
     "end_time": "2020-03-12T09:05:22.640881Z",
     "start_time": "2020-03-12T09:05:22.635892Z"
    }
   },
   "outputs": [
    {
     "data": {
      "text/plain": [
       "(10.75, 'FB')"
      ]
     },
     "execution_count": 55,
     "metadata": {},
     "output_type": "execute_result"
    }
   ],
   "source": [
    "min(zip(prices.values(), prices.keys()))"
   ]
  },
  {
   "cell_type": "code",
   "execution_count": 56,
   "metadata": {
    "ExecuteTime": {
     "end_time": "2020-03-12T09:05:22.648859Z",
     "start_time": "2020-03-12T09:05:22.643872Z"
    }
   },
   "outputs": [
    {
     "data": {
      "text/plain": [
       "(612.78, 'AAPL')"
      ]
     },
     "execution_count": 56,
     "metadata": {},
     "output_type": "execute_result"
    }
   ],
   "source": [
    "max(zip(prices.values(), prices.keys()))"
   ]
  },
  {
   "cell_type": "code",
   "execution_count": 57,
   "metadata": {
    "ExecuteTime": {
     "end_time": "2020-03-12T09:05:22.655880Z",
     "start_time": "2020-03-12T09:05:22.650855Z"
    }
   },
   "outputs": [
    {
     "data": {
      "text/plain": [
       "[(612.78, 'AAPL'),\n",
       " (205.55, 'IBM'),\n",
       " (45.23, 'ACME'),\n",
       " (37.2, 'HPQ'),\n",
       " (10.75, 'FB')]"
      ]
     },
     "execution_count": 57,
     "metadata": {},
     "output_type": "execute_result"
    }
   ],
   "source": [
    "sorted(zip(prices.values(), prices.keys()),reverse=True)"
   ]
  },
  {
   "cell_type": "code",
   "execution_count": 58,
   "metadata": {
    "ExecuteTime": {
     "end_time": "2020-03-12T09:05:22.661826Z",
     "start_time": "2020-03-12T09:05:22.657836Z"
    }
   },
   "outputs": [
    {
     "data": {
      "text/plain": [
       "10.75"
      ]
     },
     "execution_count": 58,
     "metadata": {},
     "output_type": "execute_result"
    }
   ],
   "source": [
    "prices[min(prices, key=lambda k: prices[k])]"
   ]
  },
  {
   "cell_type": "markdown",
   "metadata": {},
   "source": [
    "### 值相同比较键  \n",
    "键相同 MMP你键怎么存里面的"
   ]
  },
  {
   "cell_type": "code",
   "execution_count": 59,
   "metadata": {
    "ExecuteTime": {
     "end_time": "2020-03-12T09:05:22.699722Z",
     "start_time": "2020-03-12T09:05:22.695732Z"
    }
   },
   "outputs": [],
   "source": [
    "prices = {'AAA': 45.23, 'ZZZ': 45.23}"
   ]
  },
  {
   "cell_type": "code",
   "execution_count": 60,
   "metadata": {
    "ExecuteTime": {
     "end_time": "2020-03-12T09:05:22.705706Z",
     "start_time": "2020-03-12T09:05:22.700719Z"
    }
   },
   "outputs": [
    {
     "data": {
      "text/plain": [
       "(45.23, 'AAA')"
      ]
     },
     "execution_count": 60,
     "metadata": {},
     "output_type": "execute_result"
    }
   ],
   "source": [
    "min(zip(prices.values(), prices.keys()))"
   ]
  },
  {
   "cell_type": "code",
   "execution_count": 61,
   "metadata": {
    "ExecuteTime": {
     "end_time": "2020-03-12T09:05:22.711691Z",
     "start_time": "2020-03-12T09:05:22.706703Z"
    }
   },
   "outputs": [
    {
     "data": {
      "text/plain": [
       "(45.23, 'ZZZ')"
      ]
     },
     "execution_count": 61,
     "metadata": {},
     "output_type": "execute_result"
    }
   ],
   "source": [
    "max(zip(prices.values(), prices.keys()))"
   ]
  },
  {
   "cell_type": "markdown",
   "metadata": {},
   "source": [
    "### 在两个字典中找相同点  \n",
    "字典的keys()方法返回key-view对象  \n",
    "字典的键支持常见的集合操作 并集 交集 差集"
   ]
  },
  {
   "cell_type": "code",
   "execution_count": 62,
   "metadata": {
    "ExecuteTime": {
     "end_time": "2020-03-12T09:05:22.753578Z",
     "start_time": "2020-03-12T09:05:22.749589Z"
    }
   },
   "outputs": [],
   "source": [
    "a = {\n",
    "    'x': 1,\n",
    "    'y': 2,\n",
    "    'z': 3,\n",
    "}\n",
    "b = {\n",
    "    'x': 11,\n",
    "    'y': 2,\n",
    "    'w': 12,\n",
    "}"
   ]
  },
  {
   "cell_type": "code",
   "execution_count": 63,
   "metadata": {
    "ExecuteTime": {
     "end_time": "2020-03-12T09:05:22.759564Z",
     "start_time": "2020-03-12T09:05:22.754575Z"
    }
   },
   "outputs": [
    {
     "data": {
      "text/plain": [
       "{'x', 'y'}"
      ]
     },
     "execution_count": 63,
     "metadata": {},
     "output_type": "execute_result"
    }
   ],
   "source": [
    "# 交集\n",
    "a.keys() & b.keys()"
   ]
  },
  {
   "cell_type": "code",
   "execution_count": 64,
   "metadata": {
    "ExecuteTime": {
     "end_time": "2020-03-12T09:05:22.765548Z",
     "start_time": "2020-03-12T09:05:22.760559Z"
    }
   },
   "outputs": [
    {
     "data": {
      "text/plain": [
       "{'z'}"
      ]
     },
     "execution_count": 64,
     "metadata": {},
     "output_type": "execute_result"
    }
   ],
   "source": [
    "# 差集\n",
    "a.keys() - b.keys()"
   ]
  },
  {
   "cell_type": "code",
   "execution_count": 65,
   "metadata": {
    "ExecuteTime": {
     "end_time": "2020-03-12T09:05:22.771532Z",
     "start_time": "2020-03-12T09:05:22.766543Z"
    }
   },
   "outputs": [
    {
     "data": {
      "text/plain": [
       "{'w', 'x', 'y', 'z'}"
      ]
     },
     "execution_count": 65,
     "metadata": {},
     "output_type": "execute_result"
    }
   ],
   "source": [
    "# 并集\n",
    "a.keys() | b.keys()"
   ]
  },
  {
   "cell_type": "code",
   "execution_count": 66,
   "metadata": {
    "ExecuteTime": {
     "end_time": "2020-03-12T09:05:22.776542Z",
     "start_time": "2020-03-12T09:05:22.772527Z"
    }
   },
   "outputs": [
    {
     "data": {
      "text/plain": [
       "{('y', 2)}"
      ]
     },
     "execution_count": 66,
     "metadata": {},
     "output_type": "execute_result"
    }
   ],
   "source": [
    "a.items() & b.items()"
   ]
  },
  {
   "cell_type": "code",
   "execution_count": 67,
   "metadata": {
    "ExecuteTime": {
     "end_time": "2020-03-12T09:05:22.782529Z",
     "start_time": "2020-03-12T09:05:22.777514Z"
    }
   },
   "outputs": [
    {
     "data": {
      "text/plain": [
       "{'x': 1, 'y': 2}"
      ]
     },
     "execution_count": 67,
     "metadata": {},
     "output_type": "execute_result"
    }
   ],
   "source": [
    "# 创建一个新字典,其中去掉某些键\n",
    "c = {k:a[k] for k in a.keys() - {'z'}}\n",
    "c"
   ]
  },
  {
   "cell_type": "markdown",
   "metadata": {},
   "source": [
    "### 从序列中移除重复元素且保持元素间顺序不变"
   ]
  },
  {
   "cell_type": "code",
   "execution_count": 68,
   "metadata": {
    "ExecuteTime": {
     "end_time": "2020-03-12T09:05:22.821396Z",
     "start_time": "2020-03-12T09:05:22.817408Z"
    }
   },
   "outputs": [],
   "source": [
    "# 如果序列中的值是可哈希的 hashable\n",
    "def dedupe(items):\n",
    "    seen = set()\n",
    "    for item in items:\n",
    "        if item not in seen:\n",
    "            yield item\n",
    "            seen.add(item)"
   ]
  },
  {
   "cell_type": "code",
   "execution_count": 69,
   "metadata": {
    "ExecuteTime": {
     "end_time": "2020-03-12T09:05:22.827380Z",
     "start_time": "2020-03-12T09:05:22.822393Z"
    }
   },
   "outputs": [
    {
     "data": {
      "text/plain": [
       "[1, 5, 2, 9, 10]"
      ]
     },
     "execution_count": 69,
     "metadata": {},
     "output_type": "execute_result"
    }
   ],
   "source": [
    "a = [1,5,2,1,9,1,5,10]\n",
    "list(dedupe(a))"
   ]
  },
  {
   "cell_type": "markdown",
   "metadata": {},
   "source": [
    "### 不可哈希对象序列中去重"
   ]
  },
  {
   "cell_type": "code",
   "execution_count": 70,
   "metadata": {
    "ExecuteTime": {
     "end_time": "2020-03-12T09:05:22.878244Z",
     "start_time": "2020-03-12T09:05:22.873258Z"
    }
   },
   "outputs": [],
   "source": [
    "def dedupe2(items, key=None):\n",
    "    seen = set()\n",
    "    for item in items:\n",
    "        val = item if key is None else key(item)\n",
    "        if val not in seen:\n",
    "            yield item\n",
    "            seen.add(val)\n",
    "a = [{'x': 1, 'y': 2}, {'x': 1, 'y': 3}, {'x': 1, 'y': 2}, {'x': 2, 'y': 4}]"
   ]
  },
  {
   "cell_type": "code",
   "execution_count": 71,
   "metadata": {
    "ExecuteTime": {
     "end_time": "2020-03-12T09:05:22.885295Z",
     "start_time": "2020-03-12T09:05:22.879242Z"
    }
   },
   "outputs": [
    {
     "data": {
      "text/plain": [
       "[{'x': 1, 'y': 2}, {'x': 2, 'y': 4}]"
      ]
     },
     "execution_count": 71,
     "metadata": {},
     "output_type": "execute_result"
    }
   ],
   "source": [
    "list(dedupe2(a, key=lambda d: d['x']))"
   ]
  },
  {
   "cell_type": "code",
   "execution_count": 72,
   "metadata": {
    "ExecuteTime": {
     "end_time": "2020-03-12T09:05:22.892251Z",
     "start_time": "2020-03-12T09:05:22.886223Z"
    }
   },
   "outputs": [
    {
     "data": {
      "text/plain": [
       "[{'x': 1, 'y': 2}, {'x': 1, 'y': 3}, {'x': 2, 'y': 4}]"
      ]
     },
     "execution_count": 72,
     "metadata": {},
     "output_type": "execute_result"
    }
   ],
   "source": [
    "list(dedupe2(a, key=lambda d: (d['x'], d['y'])))"
   ]
  },
  {
   "cell_type": "markdown",
   "metadata": {},
   "source": [
    "### 切片命名  \n",
    "slice()函数会创建一个切片对象"
   ]
  },
  {
   "cell_type": "code",
   "execution_count": 73,
   "metadata": {
    "ExecuteTime": {
     "end_time": "2020-03-12T09:05:22.936089Z",
     "start_time": "2020-03-12T09:05:22.932101Z"
    }
   },
   "outputs": [],
   "source": [
    "items = [0,1,2,3,4,5,6,7,8,9]"
   ]
  },
  {
   "cell_type": "code",
   "execution_count": 74,
   "metadata": {
    "ExecuteTime": {
     "end_time": "2020-03-12T09:05:22.941117Z",
     "start_time": "2020-03-12T09:05:22.937087Z"
    }
   },
   "outputs": [],
   "source": [
    "a = slice(1,5,2)"
   ]
  },
  {
   "cell_type": "code",
   "execution_count": 75,
   "metadata": {
    "ExecuteTime": {
     "end_time": "2020-03-12T09:05:22.946104Z",
     "start_time": "2020-03-12T09:05:22.942074Z"
    }
   },
   "outputs": [
    {
     "data": {
      "text/plain": [
       "[1]"
      ]
     },
     "execution_count": 75,
     "metadata": {},
     "output_type": "execute_result"
    }
   ],
   "source": [
    "items[1:2]"
   ]
  },
  {
   "cell_type": "code",
   "execution_count": 76,
   "metadata": {
    "ExecuteTime": {
     "end_time": "2020-03-12T09:05:22.951117Z",
     "start_time": "2020-03-12T09:05:22.947060Z"
    }
   },
   "outputs": [
    {
     "data": {
      "text/plain": [
       "[1, 3]"
      ]
     },
     "execution_count": 76,
     "metadata": {},
     "output_type": "execute_result"
    }
   ],
   "source": [
    "items[a]"
   ]
  },
  {
   "cell_type": "code",
   "execution_count": 77,
   "metadata": {
    "ExecuteTime": {
     "end_time": "2020-03-12T09:05:22.956038Z",
     "start_time": "2020-03-12T09:05:22.952047Z"
    }
   },
   "outputs": [],
   "source": [
    "items[a] = ['e','E']"
   ]
  },
  {
   "cell_type": "code",
   "execution_count": 78,
   "metadata": {
    "ExecuteTime": {
     "end_time": "2020-03-12T09:05:22.961067Z",
     "start_time": "2020-03-12T09:05:22.957033Z"
    }
   },
   "outputs": [
    {
     "data": {
      "text/plain": [
       "[0, 'e', 2, 'E', 4, 5, 6, 7, 8, 9]"
      ]
     },
     "execution_count": 78,
     "metadata": {},
     "output_type": "execute_result"
    }
   ],
   "source": [
    "items"
   ]
  },
  {
   "cell_type": "code",
   "execution_count": 79,
   "metadata": {
    "ExecuteTime": {
     "end_time": "2020-03-12T09:05:22.966049Z",
     "start_time": "2020-03-12T09:05:22.962020Z"
    }
   },
   "outputs": [
    {
     "data": {
      "text/plain": [
       "[0, 2, 4, 5, 6, 7, 8, 9]"
      ]
     },
     "execution_count": 79,
     "metadata": {},
     "output_type": "execute_result"
    }
   ],
   "source": [
    "del items[a]\n",
    "items"
   ]
  },
  {
   "cell_type": "code",
   "execution_count": 80,
   "metadata": {
    "ExecuteTime": {
     "end_time": "2020-03-12T09:05:22.970996Z",
     "start_time": "2020-03-12T09:05:22.967007Z"
    }
   },
   "outputs": [
    {
     "data": {
      "text/plain": [
       "1"
      ]
     },
     "execution_count": 80,
     "metadata": {},
     "output_type": "execute_result"
    }
   ],
   "source": [
    "a.start"
   ]
  },
  {
   "cell_type": "code",
   "execution_count": 81,
   "metadata": {
    "ExecuteTime": {
     "end_time": "2020-03-12T09:05:22.975983Z",
     "start_time": "2020-03-12T09:05:22.971994Z"
    }
   },
   "outputs": [
    {
     "data": {
      "text/plain": [
       "5"
      ]
     },
     "execution_count": 81,
     "metadata": {},
     "output_type": "execute_result"
    }
   ],
   "source": [
    "a.stop"
   ]
  },
  {
   "cell_type": "code",
   "execution_count": 82,
   "metadata": {
    "ExecuteTime": {
     "end_time": "2020-03-12T09:05:22.980020Z",
     "start_time": "2020-03-12T09:05:22.976981Z"
    }
   },
   "outputs": [
    {
     "data": {
      "text/plain": [
       "2"
      ]
     },
     "execution_count": 82,
     "metadata": {},
     "output_type": "execute_result"
    }
   ],
   "source": [
    "a.step"
   ]
  },
  {
   "cell_type": "markdown",
   "metadata": {},
   "source": [
    "indices(size)方法将切片映射到特定大小的序列上"
   ]
  },
  {
   "cell_type": "code",
   "execution_count": 83,
   "metadata": {
    "ExecuteTime": {
     "end_time": "2020-03-12T09:05:23.069732Z",
     "start_time": "2020-03-12T09:05:23.065742Z"
    }
   },
   "outputs": [],
   "source": [
    "s = 'Hi,FengRong'"
   ]
  },
  {
   "cell_type": "code",
   "execution_count": 84,
   "metadata": {
    "ExecuteTime": {
     "end_time": "2020-03-12T09:05:23.074758Z",
     "start_time": "2020-03-12T09:05:23.070729Z"
    }
   },
   "outputs": [
    {
     "data": {
      "text/plain": [
       "(1, 5, 2)"
      ]
     },
     "execution_count": 84,
     "metadata": {},
     "output_type": "execute_result"
    }
   ],
   "source": [
    "a.indices(len(s))"
   ]
  },
  {
   "cell_type": "code",
   "execution_count": 85,
   "metadata": {
    "ExecuteTime": {
     "end_time": "2020-03-12T09:05:23.079706Z",
     "start_time": "2020-03-12T09:05:23.075716Z"
    }
   },
   "outputs": [
    {
     "name": "stdout",
     "output_type": "stream",
     "text": [
      "i\n",
      "F\n"
     ]
    }
   ],
   "source": [
    "for i in range(*a.indices(len(s))):\n",
    "    print(s[i])"
   ]
  },
  {
   "cell_type": "markdown",
   "metadata": {},
   "source": [
    "### 找出序列中出现次数最多的元素  \n",
    "Counter()  \n",
    "most_common() 最大的几个"
   ]
  },
  {
   "cell_type": "code",
   "execution_count": 86,
   "metadata": {
    "ExecuteTime": {
     "end_time": "2020-03-12T09:05:23.141540Z",
     "start_time": "2020-03-12T09:05:23.136553Z"
    }
   },
   "outputs": [],
   "source": [
    "words = ['look', 'into', 'my', 'eyes', 'look', 'into', 'my',\n",
    "         'eyes', 'the', 'eyes', 'the', 'eyes', 'the', 'eyes', 'not',\n",
    "         'around', 'the', 'eyes', \"don't\", 'look', 'around', 'the',\n",
    "         'eyes', 'look', 'into', 'my', 'eyes', \"you're\",\n",
    "         'under']\n",
    "morewords = ['why', ' are', ' you', ' not', ' looking', ' in', ' my', ' eyes']"
   ]
  },
  {
   "cell_type": "code",
   "execution_count": 87,
   "metadata": {
    "ExecuteTime": {
     "end_time": "2020-03-12T09:05:23.148522Z",
     "start_time": "2020-03-12T09:05:23.142537Z"
    }
   },
   "outputs": [
    {
     "data": {
      "text/plain": [
       "[('eyes', 8), ('the', 5), ('look', 4)]"
      ]
     },
     "execution_count": 87,
     "metadata": {},
     "output_type": "execute_result"
    }
   ],
   "source": [
    "from collections import Counter\n",
    "word_counts = Counter(words)\n",
    "top_three = word_counts.most_common(3)\n",
    "top_three"
   ]
  },
  {
   "cell_type": "code",
   "execution_count": 88,
   "metadata": {
    "ExecuteTime": {
     "end_time": "2020-03-12T09:05:23.153549Z",
     "start_time": "2020-03-12T09:05:23.149519Z"
    }
   },
   "outputs": [
    {
     "data": {
      "text/plain": [
       "1"
      ]
     },
     "execution_count": 88,
     "metadata": {},
     "output_type": "execute_result"
    }
   ],
   "source": [
    "# Counter对象接受任何可哈希hashable的对象作为输入\n",
    "# 在底层实现中 Counter是一个字典 在元素和它们出现的次数间做了映射\n",
    "word_counts['not']"
   ]
  },
  {
   "cell_type": "code",
   "execution_count": 89,
   "metadata": {
    "ExecuteTime": {
     "end_time": "2020-03-12T09:05:23.158494Z",
     "start_time": "2020-03-12T09:05:23.154505Z"
    }
   },
   "outputs": [
    {
     "data": {
      "text/plain": [
       "8"
      ]
     },
     "execution_count": 89,
     "metadata": {},
     "output_type": "execute_result"
    }
   ],
   "source": [
    "word_counts['eyes']"
   ]
  },
  {
   "cell_type": "code",
   "execution_count": 90,
   "metadata": {
    "ExecuteTime": {
     "end_time": "2020-03-12T09:05:23.164479Z",
     "start_time": "2020-03-12T09:05:23.159492Z"
    }
   },
   "outputs": [
    {
     "data": {
      "text/plain": [
       "Counter({'look': 4,\n",
       "         'into': 3,\n",
       "         'my': 3,\n",
       "         'eyes': 8,\n",
       "         'the': 5,\n",
       "         'not': 1,\n",
       "         'around': 2,\n",
       "         \"don't\": 1,\n",
       "         \"you're\": 1,\n",
       "         'under': 1})"
      ]
     },
     "execution_count": 90,
     "metadata": {},
     "output_type": "execute_result"
    }
   ],
   "source": [
    "word_counts"
   ]
  },
  {
   "cell_type": "code",
   "execution_count": 91,
   "metadata": {
    "ExecuteTime": {
     "end_time": "2020-03-12T09:05:23.169465Z",
     "start_time": "2020-03-12T09:05:23.165475Z"
    }
   },
   "outputs": [
    {
     "data": {
      "text/plain": [
       "Counter({'look': 4,\n",
       "         'into': 3,\n",
       "         'my': 3,\n",
       "         'eyes': 8,\n",
       "         'the': 5,\n",
       "         'not': 1,\n",
       "         'around': 2,\n",
       "         \"don't\": 1,\n",
       "         \"you're\": 1,\n",
       "         'under': 1,\n",
       "         'why': 1,\n",
       "         ' are': 1,\n",
       "         ' you': 1,\n",
       "         ' not': 1,\n",
       "         ' looking': 1,\n",
       "         ' in': 1,\n",
       "         ' my': 1,\n",
       "         ' eyes': 1})"
      ]
     },
     "execution_count": 91,
     "metadata": {},
     "output_type": "execute_result"
    }
   ],
   "source": [
    "word_counts.update(morewords)\n",
    "word_counts"
   ]
  },
  {
   "cell_type": "markdown",
   "metadata": {},
   "source": [
    "Counter和个种数学运算操作结合起来"
   ]
  },
  {
   "cell_type": "code",
   "execution_count": 92,
   "metadata": {
    "ExecuteTime": {
     "end_time": "2020-03-12T09:05:23.215382Z",
     "start_time": "2020-03-12T09:05:23.213348Z"
    }
   },
   "outputs": [],
   "source": [
    "a = Counter(words)\n",
    "b = Counter(morewords)"
   ]
  },
  {
   "cell_type": "code",
   "execution_count": 93,
   "metadata": {
    "ExecuteTime": {
     "end_time": "2020-03-12T09:05:23.221326Z",
     "start_time": "2020-03-12T09:05:23.216340Z"
    }
   },
   "outputs": [
    {
     "data": {
      "text/plain": [
       "Counter({'look': 4,\n",
       "         'into': 3,\n",
       "         'my': 3,\n",
       "         'eyes': 8,\n",
       "         'the': 5,\n",
       "         'not': 1,\n",
       "         'around': 2,\n",
       "         \"don't\": 1,\n",
       "         \"you're\": 1,\n",
       "         'under': 1})"
      ]
     },
     "execution_count": 93,
     "metadata": {},
     "output_type": "execute_result"
    }
   ],
   "source": [
    "a"
   ]
  },
  {
   "cell_type": "code",
   "execution_count": 94,
   "metadata": {
    "ExecuteTime": {
     "end_time": "2020-03-12T09:05:23.227311Z",
     "start_time": "2020-03-12T09:05:23.222324Z"
    }
   },
   "outputs": [
    {
     "data": {
      "text/plain": [
       "Counter({'why': 1,\n",
       "         ' are': 1,\n",
       "         ' you': 1,\n",
       "         ' not': 1,\n",
       "         ' looking': 1,\n",
       "         ' in': 1,\n",
       "         ' my': 1,\n",
       "         ' eyes': 1})"
      ]
     },
     "execution_count": 94,
     "metadata": {},
     "output_type": "execute_result"
    }
   ],
   "source": [
    "b"
   ]
  },
  {
   "cell_type": "code",
   "execution_count": 95,
   "metadata": {
    "ExecuteTime": {
     "end_time": "2020-03-12T09:05:23.233296Z",
     "start_time": "2020-03-12T09:05:23.228307Z"
    }
   },
   "outputs": [
    {
     "data": {
      "text/plain": [
       "Counter({'look': 4,\n",
       "         'into': 3,\n",
       "         'my': 3,\n",
       "         'eyes': 8,\n",
       "         'the': 5,\n",
       "         'not': 1,\n",
       "         'around': 2,\n",
       "         \"don't\": 1,\n",
       "         \"you're\": 1,\n",
       "         'under': 1,\n",
       "         'why': 1,\n",
       "         ' are': 1,\n",
       "         ' you': 1,\n",
       "         ' not': 1,\n",
       "         ' looking': 1,\n",
       "         ' in': 1,\n",
       "         ' my': 1,\n",
       "         ' eyes': 1})"
      ]
     },
     "execution_count": 95,
     "metadata": {},
     "output_type": "execute_result"
    }
   ],
   "source": [
    "c = a + b\n",
    "c"
   ]
  },
  {
   "cell_type": "code",
   "execution_count": 96,
   "metadata": {
    "ExecuteTime": {
     "end_time": "2020-03-12T09:05:23.238320Z",
     "start_time": "2020-03-12T09:05:23.234291Z"
    }
   },
   "outputs": [
    {
     "data": {
      "text/plain": [
       "Counter({'look': 4,\n",
       "         'into': 3,\n",
       "         'my': 3,\n",
       "         'eyes': 8,\n",
       "         'the': 5,\n",
       "         'not': 1,\n",
       "         'around': 2,\n",
       "         \"don't\": 1,\n",
       "         \"you're\": 1,\n",
       "         'under': 1})"
      ]
     },
     "execution_count": 96,
     "metadata": {},
     "output_type": "execute_result"
    }
   ],
   "source": [
    "a - b"
   ]
  },
  {
   "cell_type": "markdown",
   "metadata": {},
   "source": [
    "### 通过公共键对字典列表排序  \n",
    "operator模块的itemgetter函数"
   ]
  },
  {
   "cell_type": "code",
   "execution_count": 97,
   "metadata": {
    "ExecuteTime": {
     "end_time": "2020-03-12T09:05:23.292189Z",
     "start_time": "2020-03-12T09:05:23.289145Z"
    }
   },
   "outputs": [],
   "source": [
    "rows = [{'fname': 'Brian', 'lname': 'Jones', 'uid': 1003}, \n",
    "        {'fname': 'David', 'lname': 'Beazley', 'uid': 1002},\n",
    "        {'fname': 'John', 'lname': 'Cleese', 'uid': 1001}, \n",
    "        {'fname': 'Big', 'lname': 'Jones', 'uid': 1004}\n",
    "        ]"
   ]
  },
  {
   "cell_type": "code",
   "execution_count": 98,
   "metadata": {
    "ExecuteTime": {
     "end_time": "2020-03-12T09:05:23.297124Z",
     "start_time": "2020-03-12T09:05:23.293135Z"
    }
   },
   "outputs": [],
   "source": [
    "from operator import itemgetter\n",
    "rows_by_fname = sorted(rows, key=itemgetter('fname'))\n",
    "rows_by_id = sorted(rows, key=itemgetter('uid'))"
   ]
  },
  {
   "cell_type": "code",
   "execution_count": 99,
   "metadata": {
    "ExecuteTime": {
     "end_time": "2020-03-12T09:05:23.302150Z",
     "start_time": "2020-03-12T09:05:23.298121Z"
    }
   },
   "outputs": [
    {
     "data": {
      "text/plain": [
       "[{'fname': 'Big', 'lname': 'Jones', 'uid': 1004},\n",
       " {'fname': 'Brian', 'lname': 'Jones', 'uid': 1003},\n",
       " {'fname': 'David', 'lname': 'Beazley', 'uid': 1002},\n",
       " {'fname': 'John', 'lname': 'Cleese', 'uid': 1001}]"
      ]
     },
     "execution_count": 99,
     "metadata": {},
     "output_type": "execute_result"
    }
   ],
   "source": [
    "rows_by_fname"
   ]
  },
  {
   "cell_type": "code",
   "execution_count": 100,
   "metadata": {
    "ExecuteTime": {
     "end_time": "2020-03-12T09:05:23.308135Z",
     "start_time": "2020-03-12T09:05:23.303107Z"
    }
   },
   "outputs": [
    {
     "data": {
      "text/plain": [
       "[{'fname': 'John', 'lname': 'Cleese', 'uid': 1001},\n",
       " {'fname': 'David', 'lname': 'Beazley', 'uid': 1002},\n",
       " {'fname': 'Brian', 'lname': 'Jones', 'uid': 1003},\n",
       " {'fname': 'Big', 'lname': 'Jones', 'uid': 1004}]"
      ]
     },
     "execution_count": 100,
     "metadata": {},
     "output_type": "execute_result"
    }
   ],
   "source": [
    "rows_by_id"
   ]
  },
  {
   "cell_type": "code",
   "execution_count": 101,
   "metadata": {
    "ExecuteTime": {
     "end_time": "2020-03-12T09:05:23.314078Z",
     "start_time": "2020-03-12T09:05:23.309091Z"
    }
   },
   "outputs": [
    {
     "data": {
      "text/plain": [
       "[{'fname': 'David', 'lname': 'Beazley', 'uid': 1002},\n",
       " {'fname': 'John', 'lname': 'Cleese', 'uid': 1001},\n",
       " {'fname': 'Big', 'lname': 'Jones', 'uid': 1004},\n",
       " {'fname': 'Brian', 'lname': 'Jones', 'uid': 1003}]"
      ]
     },
     "execution_count": 101,
     "metadata": {},
     "output_type": "execute_result"
    }
   ],
   "source": [
    "rows_by_lfname = sorted(rows, key=itemgetter('lname', 'fname'))\n",
    "rows_by_lfname"
   ]
  },
  {
   "cell_type": "code",
   "execution_count": 102,
   "metadata": {
    "ExecuteTime": {
     "end_time": "2020-03-12T09:05:23.320064Z",
     "start_time": "2020-03-12T09:05:23.315075Z"
    }
   },
   "outputs": [
    {
     "data": {
      "text/plain": [
       "[{'fname': 'Big', 'lname': 'Jones', 'uid': 1004},\n",
       " {'fname': 'Brian', 'lname': 'Jones', 'uid': 1003},\n",
       " {'fname': 'David', 'lname': 'Beazley', 'uid': 1002},\n",
       " {'fname': 'John', 'lname': 'Cleese', 'uid': 1001}]"
      ]
     },
     "execution_count": 102,
     "metadata": {},
     "output_type": "execute_result"
    }
   ],
   "source": [
    "rows_by_fname = sorted(rows, key=lambda k:k['fname'])\n",
    "rows_by_fname"
   ]
  },
  {
   "cell_type": "code",
   "execution_count": 103,
   "metadata": {
    "ExecuteTime": {
     "end_time": "2020-03-12T09:05:23.326048Z",
     "start_time": "2020-03-12T09:05:23.321060Z"
    }
   },
   "outputs": [
    {
     "data": {
      "text/plain": [
       "[{'fname': 'David', 'lname': 'Beazley', 'uid': 1002},\n",
       " {'fname': 'John', 'lname': 'Cleese', 'uid': 1001},\n",
       " {'fname': 'Big', 'lname': 'Jones', 'uid': 1004},\n",
       " {'fname': 'Brian', 'lname': 'Jones', 'uid': 1003}]"
      ]
     },
     "execution_count": 103,
     "metadata": {},
     "output_type": "execute_result"
    }
   ],
   "source": [
    "rows_by_lfname = sorted(rows, key=lambda k:(k['lname'], k['fname']))\n",
    "rows_by_lfname"
   ]
  },
  {
   "cell_type": "code",
   "execution_count": 104,
   "metadata": {
    "ExecuteTime": {
     "end_time": "2020-03-12T09:05:23.332032Z",
     "start_time": "2020-03-12T09:05:23.327044Z"
    }
   },
   "outputs": [
    {
     "data": {
      "text/plain": [
       "{'fname': 'John', 'lname': 'Cleese', 'uid': 1001}"
      ]
     },
     "execution_count": 104,
     "metadata": {},
     "output_type": "execute_result"
    }
   ],
   "source": [
    "min(rows, key=itemgetter('uid'))"
   ]
  },
  {
   "cell_type": "code",
   "execution_count": 105,
   "metadata": {
    "ExecuteTime": {
     "end_time": "2020-03-12T09:05:23.338015Z",
     "start_time": "2020-03-12T09:05:23.333027Z"
    }
   },
   "outputs": [
    {
     "data": {
      "text/plain": [
       "{'fname': 'Big', 'lname': 'Jones', 'uid': 1004}"
      ]
     },
     "execution_count": 105,
     "metadata": {},
     "output_type": "execute_result"
    }
   ],
   "source": [
    "max(rows, key=itemgetter('uid'))"
   ]
  },
  {
   "cell_type": "markdown",
   "metadata": {},
   "source": [
    "### 对不原生支持比较操作的对象排序  \n",
    "例如 对同一个类的实例之间做排序,但是它们之间并不原生支持比较操作  \n",
    "operator.attrgetter()  \n",
    "attrgetter()比lambda要快一些  \n",
    "而且具有同时提取多个字段的能力"
   ]
  },
  {
   "cell_type": "code",
   "execution_count": 106,
   "metadata": {
    "ExecuteTime": {
     "end_time": "2020-03-12T09:05:23.389942Z",
     "start_time": "2020-03-12T09:05:23.384889Z"
    }
   },
   "outputs": [],
   "source": [
    "class User:\n",
    "    def __init__(self, user_id):\n",
    "        self.user_id = user_id\n",
    "    def __repr__(self):\n",
    "        return f'User({self.user_id})'\n",
    "users = [User(23), User(3), User(33)]"
   ]
  },
  {
   "cell_type": "code",
   "execution_count": 107,
   "metadata": {
    "ExecuteTime": {
     "end_time": "2020-03-12T09:05:23.395859Z",
     "start_time": "2020-03-12T09:05:23.390873Z"
    }
   },
   "outputs": [
    {
     "data": {
      "text/plain": [
       "[User(3), User(23), User(33)]"
      ]
     },
     "execution_count": 107,
     "metadata": {},
     "output_type": "execute_result"
    }
   ],
   "source": [
    "sorted(users, key=lambda k: k.user_id)"
   ]
  },
  {
   "cell_type": "code",
   "execution_count": 108,
   "metadata": {
    "ExecuteTime": {
     "end_time": "2020-03-12T09:05:23.401844Z",
     "start_time": "2020-03-12T09:05:23.396858Z"
    }
   },
   "outputs": [
    {
     "data": {
      "text/plain": [
       "[User(3), User(23), User(33)]"
      ]
     },
     "execution_count": 108,
     "metadata": {},
     "output_type": "execute_result"
    }
   ],
   "source": [
    "from operator import attrgetter\n",
    "sorted(users, key=attrgetter('user_id'))"
   ]
  },
  {
   "cell_type": "code",
   "execution_count": 109,
   "metadata": {
    "ExecuteTime": {
     "end_time": "2020-03-12T09:05:23.407828Z",
     "start_time": "2020-03-12T09:05:23.402841Z"
    }
   },
   "outputs": [
    {
     "data": {
      "text/plain": [
       "User(3)"
      ]
     },
     "execution_count": 109,
     "metadata": {},
     "output_type": "execute_result"
    }
   ],
   "source": [
    "min(users, key=attrgetter('user_id'))"
   ]
  },
  {
   "cell_type": "code",
   "execution_count": 110,
   "metadata": {
    "ExecuteTime": {
     "end_time": "2020-03-12T09:05:23.412816Z",
     "start_time": "2020-03-12T09:05:23.408824Z"
    }
   },
   "outputs": [
    {
     "data": {
      "text/plain": [
       "User(33)"
      ]
     },
     "execution_count": 110,
     "metadata": {},
     "output_type": "execute_result"
    }
   ],
   "source": [
    "max(users, key=attrgetter('user_id'))"
   ]
  },
  {
   "cell_type": "markdown",
   "metadata": {},
   "source": [
    "### 根据字段将记录分组  \n",
    "itertools.groupby()  \n",
    "对数据进行分组"
   ]
  },
  {
   "cell_type": "code",
   "execution_count": 111,
   "metadata": {
    "ExecuteTime": {
     "end_time": "2020-03-12T09:05:23.473691Z",
     "start_time": "2020-03-12T09:05:23.469662Z"
    }
   },
   "outputs": [],
   "source": [
    "rows = [ {'address': '5412 N CLARK', 'date': '07/01/2012'}, \n",
    "         {'address': '5148 N CLARK', 'date': '07/04/2012'},\n",
    "         {'address': '5800 E 58TH', 'date': '07/02/2012'},\n",
    "         {'address': '2122 N CLARK', 'date': '07/03/2012'}, \n",
    "         {'address': '5645 N RAVENSWOOD', 'date': '07/02/2012'}, \n",
    "         {'address': '1060 W ADDISON', 'date': '07/02/2012'},\n",
    "         {'address': '4801 N BROADWAY', 'date': '07/01/2012'},\n",
    "         {'address': '1039 W GRANVILLE', 'date': '07/04/2012'},\n",
    "]"
   ]
  },
  {
   "cell_type": "code",
   "execution_count": 112,
   "metadata": {
    "ExecuteTime": {
     "end_time": "2020-03-12T09:05:23.481630Z",
     "start_time": "2020-03-12T09:05:23.474648Z"
    }
   },
   "outputs": [
    {
     "data": {
      "text/plain": [
       "[{'address': '5412 N CLARK', 'date': '07/01/2012'},\n",
       " {'address': '4801 N BROADWAY', 'date': '07/01/2012'},\n",
       " {'address': '5800 E 58TH', 'date': '07/02/2012'},\n",
       " {'address': '5645 N RAVENSWOOD', 'date': '07/02/2012'},\n",
       " {'address': '1060 W ADDISON', 'date': '07/02/2012'},\n",
       " {'address': '2122 N CLARK', 'date': '07/03/2012'},\n",
       " {'address': '5148 N CLARK', 'date': '07/04/2012'},\n",
       " {'address': '1039 W GRANVILLE', 'date': '07/04/2012'}]"
      ]
     },
     "execution_count": 112,
     "metadata": {},
     "output_type": "execute_result"
    }
   ],
   "source": [
    "from operator import itemgetter\n",
    "from itertools import groupby\n",
    "# 这里重要的是首先要根据感兴趣的字段对数据进行排序\n",
    "# 因为groupby()只能检查连续项\n",
    "rows.sort(key=itemgetter('date'))\n",
    "rows"
   ]
  },
  {
   "cell_type": "code",
   "execution_count": 113,
   "metadata": {
    "ExecuteTime": {
     "end_time": "2020-03-12T09:05:23.487613Z",
     "start_time": "2020-03-12T09:05:23.482627Z"
    }
   },
   "outputs": [
    {
     "name": "stdout",
     "output_type": "stream",
     "text": [
      "07/01/2012\n",
      "  {'address': '5412 N CLARK', 'date': '07/01/2012'}\n",
      "  {'address': '4801 N BROADWAY', 'date': '07/01/2012'}\n",
      "07/02/2012\n",
      "  {'address': '5800 E 58TH', 'date': '07/02/2012'}\n",
      "  {'address': '5645 N RAVENSWOOD', 'date': '07/02/2012'}\n",
      "  {'address': '1060 W ADDISON', 'date': '07/02/2012'}\n",
      "07/03/2012\n",
      "  {'address': '2122 N CLARK', 'date': '07/03/2012'}\n",
      "07/04/2012\n",
      "  {'address': '5148 N CLARK', 'date': '07/04/2012'}\n",
      "  {'address': '1039 W GRANVILLE', 'date': '07/04/2012'}\n"
     ]
    }
   ],
   "source": [
    "for date, items in groupby(rows, key=itemgetter('date')):\n",
    "    print(date)\n",
    "    for i in items:\n",
    "        print(' ', i)"
   ]
  },
  {
   "cell_type": "markdown",
   "metadata": {},
   "source": [
    "筛选序列种的元素  \n",
    "itertools.compress"
   ]
  },
  {
   "cell_type": "code",
   "execution_count": 114,
   "metadata": {
    "ExecuteTime": {
     "end_time": "2020-03-12T09:05:23.551443Z",
     "start_time": "2020-03-12T09:05:23.546457Z"
    }
   },
   "outputs": [
    {
     "data": {
      "text/plain": [
       "[1, 4, 10, 2, 3]"
      ]
     },
     "execution_count": 114,
     "metadata": {},
     "output_type": "execute_result"
    }
   ],
   "source": [
    "mylist = [1,4,-5,10,-7,2,3,-1]\n",
    "[n for n in mylist if n > 0]"
   ]
  },
  {
   "cell_type": "code",
   "execution_count": 115,
   "metadata": {
    "ExecuteTime": {
     "end_time": "2020-03-12T09:05:23.557429Z",
     "start_time": "2020-03-12T09:05:23.552441Z"
    }
   },
   "outputs": [
    {
     "data": {
      "text/plain": [
       "[-5, -7, -1]"
      ]
     },
     "execution_count": 115,
     "metadata": {},
     "output_type": "execute_result"
    }
   ],
   "source": [
    "[n for n in mylist if n < 0]"
   ]
  },
  {
   "cell_type": "markdown",
   "metadata": {},
   "source": [
    "使用列表推导式的一个缺点是如果原始输入非常大的话  \n",
    "这么做可能会产生一个庞大的结果  \n",
    "可以使用生成器表达式通过迭代的方式产生筛选的结果  "
   ]
  },
  {
   "cell_type": "code",
   "execution_count": 116,
   "metadata": {
    "ExecuteTime": {
     "end_time": "2020-03-12T09:05:23.625247Z",
     "start_time": "2020-03-12T09:05:23.621256Z"
    }
   },
   "outputs": [
    {
     "data": {
      "text/plain": [
       "<generator object <genexpr> at 0x00000243473F66D0>"
      ]
     },
     "execution_count": 116,
     "metadata": {},
     "output_type": "execute_result"
    }
   ],
   "source": [
    "pos = (n for n in mylist if n > 0)\n",
    "pos"
   ]
  },
  {
   "cell_type": "code",
   "execution_count": 117,
   "metadata": {
    "ExecuteTime": {
     "end_time": "2020-03-12T09:05:23.630233Z",
     "start_time": "2020-03-12T09:05:23.626243Z"
    }
   },
   "outputs": [
    {
     "name": "stdout",
     "output_type": "stream",
     "text": [
      "1\n",
      "4\n",
      "10\n",
      "2\n",
      "3\n"
     ]
    }
   ],
   "source": [
    "for x in pos:\n",
    "    print(x)"
   ]
  },
  {
   "cell_type": "markdown",
   "metadata": {},
   "source": [
    "筛选结果涉及异常处理或者其他一些复杂的细节  \n",
    "可以把筛选逻辑的代码放到单独的函数中  \n",
    "然后使用内建的filter()函数处理"
   ]
  },
  {
   "cell_type": "code",
   "execution_count": 118,
   "metadata": {
    "ExecuteTime": {
     "end_time": "2020-03-12T09:05:23.701043Z",
     "start_time": "2020-03-12T09:05:23.697053Z"
    }
   },
   "outputs": [],
   "source": [
    "values = ['1','2','-3','-','4','N/A','5']"
   ]
  },
  {
   "cell_type": "code",
   "execution_count": 119,
   "metadata": {
    "ExecuteTime": {
     "end_time": "2020-03-12T09:05:23.706030Z",
     "start_time": "2020-03-12T09:05:23.702040Z"
    }
   },
   "outputs": [],
   "source": [
    "def is_int(val):\n",
    "    try:\n",
    "        x = int(val)\n",
    "        return True\n",
    "    except ValueError:\n",
    "        return False"
   ]
  },
  {
   "cell_type": "code",
   "execution_count": 120,
   "metadata": {
    "ExecuteTime": {
     "end_time": "2020-03-12T09:05:23.711052Z",
     "start_time": "2020-03-12T09:05:23.707027Z"
    }
   },
   "outputs": [
    {
     "name": "stdout",
     "output_type": "stream",
     "text": [
      "['1', '2', '-3', '4', '5']\n"
     ]
    }
   ],
   "source": [
    "ivals = list(filter(is_int, values))\n",
    "print(ivals)"
   ]
  },
  {
   "cell_type": "code",
   "execution_count": 121,
   "metadata": {
    "ExecuteTime": {
     "end_time": "2020-03-12T09:05:23.716044Z",
     "start_time": "2020-03-12T09:05:23.712013Z"
    }
   },
   "outputs": [
    {
     "data": {
      "text/plain": [
       "[1, 4, 0, 10, 0, 2, 3, 0]"
      ]
     },
     "execution_count": 121,
     "metadata": {},
     "output_type": "execute_result"
    }
   ],
   "source": [
    "clip_neg = [n if n > 0 else 0 for n in mylist]\n",
    "clip_neg"
   ]
  },
  {
   "cell_type": "markdown",
   "metadata": {},
   "source": [
    "首先创建一个布尔序列  \n",
    "用来表示那个元素可满足我们的条件  \n",
    "compress()函数挑选出满足布尔值为True的相应元素"
   ]
  },
  {
   "cell_type": "code",
   "execution_count": 122,
   "metadata": {
    "ExecuteTime": {
     "end_time": "2020-03-12T09:05:23.781871Z",
     "start_time": "2020-03-12T09:05:23.778835Z"
    }
   },
   "outputs": [],
   "source": [
    "addresses = ['5412 N CLARK',\n",
    "             '5148 N CLARK',\n",
    "             '5800 E 58TH',\n",
    "             '2122 N CLARK',\n",
    "             '5645 N RAVENSWOOD',\n",
    "             '1060 W ADDISON',\n",
    "             '4801 N BROADWAY',\n",
    "             '1039 W GRANVILLE',]\n",
    "counts = [0, 3, 10, 4, 1, 7, 6, 1]"
   ]
  },
  {
   "cell_type": "code",
   "execution_count": 123,
   "metadata": {
    "ExecuteTime": {
     "end_time": "2020-03-12T09:05:23.787862Z",
     "start_time": "2020-03-12T09:05:23.782824Z"
    }
   },
   "outputs": [
    {
     "data": {
      "text/plain": [
       "[False, False, True, False, False, True, True, False]"
      ]
     },
     "execution_count": 123,
     "metadata": {},
     "output_type": "execute_result"
    }
   ],
   "source": [
    "from itertools import compress\n",
    "more5 = [n > 5 for n in counts]\n",
    "more5"
   ]
  },
  {
   "cell_type": "code",
   "execution_count": 124,
   "metadata": {
    "ExecuteTime": {
     "end_time": "2020-03-12T09:05:23.793795Z",
     "start_time": "2020-03-12T09:05:23.788808Z"
    }
   },
   "outputs": [
    {
     "data": {
      "text/plain": [
       "['5800 E 58TH', '1060 W ADDISON', '4801 N BROADWAY']"
      ]
     },
     "execution_count": 124,
     "metadata": {},
     "output_type": "execute_result"
    }
   ],
   "source": [
    "list(compress(addresses, more5))"
   ]
  },
  {
   "cell_type": "markdown",
   "metadata": {},
   "source": [
    "从字典中提取子集"
   ]
  },
  {
   "cell_type": "code",
   "execution_count": 125,
   "metadata": {
    "ExecuteTime": {
     "end_time": "2020-03-12T09:05:23.861658Z",
     "start_time": "2020-03-12T09:05:23.858622Z"
    }
   },
   "outputs": [],
   "source": [
    "prices = {'ACME': 45.23,\n",
    "          'AAPL': 612.78,\n",
    "          'IBM': 205.55,\n",
    "          'HPQ': 37.20,\n",
    "          'FB': 10.75 \n",
    "          }\n",
    "tech_names = {'AAPL', 'IBM', 'HPQ', 'MSFT'}"
   ]
  },
  {
   "cell_type": "code",
   "execution_count": 126,
   "metadata": {
    "ExecuteTime": {
     "end_time": "2020-03-12T09:05:23.866641Z",
     "start_time": "2020-03-12T09:05:23.862610Z"
    }
   },
   "outputs": [
    {
     "data": {
      "text/plain": [
       "{'AAPL': 612.78, 'IBM': 205.55}"
      ]
     },
     "execution_count": 126,
     "metadata": {},
     "output_type": "execute_result"
    }
   ],
   "source": [
    "p1 = {k: v for k, v in prices.items() if v > 200}\n",
    "p1"
   ]
  },
  {
   "cell_type": "code",
   "execution_count": 127,
   "metadata": {
    "ExecuteTime": {
     "end_time": "2020-03-12T09:05:23.872645Z",
     "start_time": "2020-03-12T09:05:23.867597Z"
    }
   },
   "outputs": [
    {
     "data": {
      "text/plain": [
       "{'AAPL': 612.78, 'IBM': 205.55, 'HPQ': 37.2}"
      ]
     },
     "execution_count": 127,
     "metadata": {},
     "output_type": "execute_result"
    }
   ],
   "source": [
    "p2 = {k: v for k, v in prices.items() if k in tech_names}\n",
    "p2"
   ]
  },
  {
   "cell_type": "markdown",
   "metadata": {},
   "source": [
    "大 部 分 可 以 用 字 典 推 导 式 解 决 的 问 题  \n",
    "也 可 以 通 过 创 建 元 组 序 列 然 后 将 它 们 传 给 dict() 函 数 来 完 成  \n",
    "实际运行效率比字典推导式慢很多"
   ]
  },
  {
   "cell_type": "code",
   "execution_count": 128,
   "metadata": {
    "ExecuteTime": {
     "end_time": "2020-03-12T09:05:23.945423Z",
     "start_time": "2020-03-12T09:05:23.940403Z"
    }
   },
   "outputs": [
    {
     "data": {
      "text/plain": [
       "{'AAPL': 612.78, 'IBM': 205.55}"
      ]
     },
     "execution_count": 128,
     "metadata": {},
     "output_type": "execute_result"
    }
   ],
   "source": [
    "p1 = dict((k, v) for k, v in prices.items() if v > 200)\n",
    "p1"
   ]
  },
  {
   "cell_type": "code",
   "execution_count": 129,
   "metadata": {
    "ExecuteTime": {
     "end_time": "2020-03-12T09:05:23.950416Z",
     "start_time": "2020-03-12T09:05:23.946386Z"
    }
   },
   "outputs": [
    {
     "data": {
      "text/plain": [
       "{'AAPL': 612.78, 'HPQ': 37.2, 'IBM': 205.55}"
      ]
     },
     "execution_count": 129,
     "metadata": {},
     "output_type": "execute_result"
    }
   ],
   "source": [
    "# 比第一种p2慢上1.6倍\n",
    "p2 = {k: prices[k] for k in prices.keys() & tech_names}\n",
    "p2"
   ]
  },
  {
   "cell_type": "markdown",
   "metadata": {},
   "source": [
    "将名称映射到序列元素中  \n",
    "collections.namedtuple()  \n",
    "命名元组  \n",
    "_replace() 修改属性"
   ]
  },
  {
   "cell_type": "code",
   "execution_count": 130,
   "metadata": {
    "ExecuteTime": {
     "end_time": "2020-03-12T09:05:24.024178Z",
     "start_time": "2020-03-12T09:05:24.020189Z"
    }
   },
   "outputs": [],
   "source": [
    "from collections import namedtuple\n",
    "Subscriber = namedtuple('Subscriber', ['addr', 'joined'])"
   ]
  },
  {
   "cell_type": "code",
   "execution_count": 131,
   "metadata": {
    "ExecuteTime": {
     "end_time": "2020-03-12T09:05:24.030163Z",
     "start_time": "2020-03-12T09:05:24.025176Z"
    }
   },
   "outputs": [
    {
     "data": {
      "text/plain": [
       "Subscriber(addr='dalian', joined='2020-1-1')"
      ]
     },
     "execution_count": 131,
     "metadata": {},
     "output_type": "execute_result"
    }
   ],
   "source": [
    "sub = Subscriber('dalian', '2020-1-1')\n",
    "sub"
   ]
  },
  {
   "cell_type": "code",
   "execution_count": 132,
   "metadata": {
    "ExecuteTime": {
     "end_time": "2020-03-12T09:05:24.035149Z",
     "start_time": "2020-03-12T09:05:24.031159Z"
    }
   },
   "outputs": [
    {
     "data": {
      "text/plain": [
       "'2020-1-1'"
      ]
     },
     "execution_count": 132,
     "metadata": {},
     "output_type": "execute_result"
    }
   ],
   "source": [
    "# namedtuple的实例与普通元组是可互换的,而且支持所有普通元组所支持的操作\n",
    "# 索引 indexing\n",
    "sub[1]"
   ]
  },
  {
   "cell_type": "code",
   "execution_count": 133,
   "metadata": {
    "ExecuteTime": {
     "end_time": "2020-03-12T09:05:24.040136Z",
     "start_time": "2020-03-12T09:05:24.036147Z"
    }
   },
   "outputs": [
    {
     "name": "stdout",
     "output_type": "stream",
     "text": [
      "dalian\n",
      "2020-1-1\n"
     ]
    }
   ],
   "source": [
    "# 分解 unpacking\n",
    "a, j = sub\n",
    "print(a)\n",
    "print(j)"
   ]
  },
  {
   "cell_type": "markdown",
   "metadata": {},
   "source": [
    "命 名 元 组 的 主 要 作 用 在 于 将 代 码 同 它 所 控 制 的 元 素 位 置 间 解 耦"
   ]
  },
  {
   "cell_type": "code",
   "execution_count": 134,
   "metadata": {
    "ExecuteTime": {
     "end_time": "2020-03-12T09:05:24.113938Z",
     "start_time": "2020-03-12T09:05:24.109952Z"
    }
   },
   "outputs": [],
   "source": [
    "def compute_cost(records):\n",
    "    total = 0.0\n",
    "    for rec in records:\n",
    "        total += rec[1] * rec[2]\n",
    "    return total"
   ]
  },
  {
   "cell_type": "code",
   "execution_count": 135,
   "metadata": {
    "ExecuteTime": {
     "end_time": "2020-03-12T09:05:24.120919Z",
     "start_time": "2020-03-12T09:05:24.115933Z"
    }
   },
   "outputs": [],
   "source": [
    "Stock = namedtuple('Stock', ['name', 'shares', 'price'])\n",
    "def compute_cost2(records):\n",
    "    total = 0.0\n",
    "    for rec in records:\n",
    "        s = Stock(*rec)\n",
    "        total += s.shares * s.price\n",
    "    return total"
   ]
  },
  {
   "cell_type": "code",
   "execution_count": 136,
   "metadata": {
    "ExecuteTime": {
     "end_time": "2020-03-12T09:05:24.126945Z",
     "start_time": "2020-03-12T09:05:24.121917Z"
    }
   },
   "outputs": [
    {
     "data": {
      "text/plain": [
       "Stock(name='ACME', shares=100, price=123.45)"
      ]
     },
     "execution_count": 136,
     "metadata": {},
     "output_type": "execute_result"
    }
   ],
   "source": [
    "s = Stock('ACME', 100, 123.45)\n",
    "s"
   ]
  },
  {
   "cell_type": "code",
   "execution_count": 137,
   "metadata": {
    "ExecuteTime": {
     "end_time": "2020-03-12T09:05:24.131921Z",
     "start_time": "2020-03-12T09:05:24.127900Z"
    }
   },
   "outputs": [
    {
     "data": {
      "text/plain": [
       "Stock(name='ACME', shares=75, price=123.45)"
      ]
     },
     "execution_count": 137,
     "metadata": {},
     "output_type": "execute_result"
    }
   ],
   "source": [
    "# 修改属性 该方法会创建一个全新的命名元组\n",
    "ss = s._replace(shares=75)\n",
    "ss"
   ]
  },
  {
   "cell_type": "code",
   "execution_count": 138,
   "metadata": {
    "ExecuteTime": {
     "end_time": "2020-03-12T09:05:24.137915Z",
     "start_time": "2020-03-12T09:05:24.132888Z"
    }
   },
   "outputs": [],
   "source": [
    "# _replace() 可以作为简便的方法填充具有可选或缺失的命名元组\n",
    "Stock = namedtuple('Stock', ['name', 'shares', 'price', 'date', 'time'])\n",
    "stock_prototype = Stock('', 0, 0.0, None, None)\n",
    "def dict_to_stock(s):\n",
    "    return stock_prototype._replace(**s)"
   ]
  },
  {
   "cell_type": "code",
   "execution_count": 139,
   "metadata": {
    "ExecuteTime": {
     "end_time": "2020-03-12T09:05:24.142894Z",
     "start_time": "2020-03-12T09:05:24.138871Z"
    }
   },
   "outputs": [
    {
     "data": {
      "text/plain": [
       "Stock(name='ACME', shares=100, price=123.45, date=None, time=None)"
      ]
     },
     "execution_count": 139,
     "metadata": {},
     "output_type": "execute_result"
    }
   ],
   "source": [
    "a = {'name': 'ACME', 'shares': 100, 'price': 123.45}\n",
    "dict_to_stock(a)"
   ]
  },
  {
   "cell_type": "code",
   "execution_count": 140,
   "metadata": {
    "ExecuteTime": {
     "end_time": "2020-03-12T09:05:24.147879Z",
     "start_time": "2020-03-12T09:05:24.143858Z"
    }
   },
   "outputs": [
    {
     "data": {
      "text/plain": [
       "Stock(name='ACME', shares=100, price=123.45, date='2020/1/1', time=None)"
      ]
     },
     "execution_count": 140,
     "metadata": {},
     "output_type": "execute_result"
    }
   ],
   "source": [
    "b = {'name': 'ACME', 'shares': 100, 'price': 123.45, 'date': '2020/1/1'}\n",
    "dict_to_stock(b)"
   ]
  },
  {
   "cell_type": "markdown",
   "metadata": {},
   "source": [
    "同时对数据做转换和换算  \n",
    "使用生成器做参数通常是更为高效和优雅"
   ]
  },
  {
   "cell_type": "code",
   "execution_count": 141,
   "metadata": {
    "ExecuteTime": {
     "end_time": "2020-03-12T09:05:24.221690Z",
     "start_time": "2020-03-12T09:05:24.217661Z"
    }
   },
   "outputs": [
    {
     "data": {
      "text/plain": [
       "'ACME,50,123.45'"
      ]
     },
     "execution_count": 141,
     "metadata": {},
     "output_type": "execute_result"
    }
   ],
   "source": [
    "# output a tuple as CSV\n",
    "s = ('ACME', 50, 123.45)\n",
    "','.join(str(x) for x in s)"
   ]
  },
  {
   "cell_type": "code",
   "execution_count": 142,
   "metadata": {
    "ExecuteTime": {
     "end_time": "2020-03-12T09:05:24.227634Z",
     "start_time": "2020-03-12T09:05:24.222647Z"
    }
   },
   "outputs": [],
   "source": [
    "portfolio = [\n",
    "    {'name': 'GOOG', 'shares': 50},\n",
    "    {'name': 'YHOO', 'shares': 75},\n",
    "    {'name': 'AOL', 'shares': 20},\n",
    "    {'name': 'SCOX', 'shares': 65}\n",
    "]"
   ]
  },
  {
   "cell_type": "code",
   "execution_count": 143,
   "metadata": {
    "ExecuteTime": {
     "end_time": "2020-03-12T09:05:24.233659Z",
     "start_time": "2020-03-12T09:05:24.228631Z"
    }
   },
   "outputs": [
    {
     "data": {
      "text/plain": [
       "20"
      ]
     },
     "execution_count": 143,
     "metadata": {},
     "output_type": "execute_result"
    }
   ],
   "source": [
    "min_shares = min(s['shares'] for s in portfolio)\n",
    "min_shares"
   ]
  },
  {
   "cell_type": "code",
   "execution_count": 144,
   "metadata": {
    "ExecuteTime": {
     "end_time": "2020-03-12T09:05:24.238638Z",
     "start_time": "2020-03-12T09:05:24.234654Z"
    }
   },
   "outputs": [
    {
     "data": {
      "text/plain": [
       "{'name': 'AOL', 'shares': 20}"
      ]
     },
     "execution_count": 144,
     "metadata": {},
     "output_type": "execute_result"
    }
   ],
   "source": [
    "min_shares = min(portfolio, key=lambda k: k['shares'])\n",
    "min_shares"
   ]
  },
  {
   "cell_type": "markdown",
   "metadata": {},
   "source": [
    "将多个映射合并为单个映射  \n",
    "例如 先在a中查找, 如果没找到再去b中查找  \n",
    "collections.ChainMap"
   ]
  },
  {
   "cell_type": "code",
   "execution_count": 145,
   "metadata": {
    "ExecuteTime": {
     "end_time": "2020-03-12T09:05:24.316399Z",
     "start_time": "2020-03-12T09:05:24.313405Z"
    }
   },
   "outputs": [],
   "source": [
    "a = {'x': 1, 'z': 3}\n",
    "b = {'y': 2, 'z': 4}"
   ]
  },
  {
   "cell_type": "code",
   "execution_count": 146,
   "metadata": {
    "ExecuteTime": {
     "end_time": "2020-03-12T09:05:24.322389Z",
     "start_time": "2020-03-12T09:05:24.317394Z"
    }
   },
   "outputs": [
    {
     "name": "stdout",
     "output_type": "stream",
     "text": [
      "1\n",
      "2\n",
      "3\n"
     ]
    }
   ],
   "source": [
    "# 如 果 有 重 复 的 键， 那 么 这 里 会 采 用 第 一 个 映 射 中 所 对 应 的 值\n",
    "from collections import ChainMap\n",
    "c = ChainMap(a, b)\n",
    "print(c['x'])\n",
    "print(c['y'])\n",
    "print(c['z'])"
   ]
  },
  {
   "cell_type": "code",
   "execution_count": 147,
   "metadata": {
    "ExecuteTime": {
     "end_time": "2020-03-12T09:05:24.328398Z",
     "start_time": "2020-03-12T09:05:24.323378Z"
    }
   },
   "outputs": [
    {
     "data": {
      "text/plain": [
       "3"
      ]
     },
     "execution_count": 147,
     "metadata": {},
     "output_type": "execute_result"
    }
   ],
   "source": [
    "# ChainMap 只 是 简 单 地 维 护 一 个 记 录 底 层 映 射 关 系 的 列 表\n",
    "# 然 后 重 定 义 常 见 的 字 典 操 作 来 扫 描 这 个 列 表\n",
    "len(c)"
   ]
  },
  {
   "cell_type": "code",
   "execution_count": 148,
   "metadata": {
    "ExecuteTime": {
     "end_time": "2020-03-12T09:05:24.334348Z",
     "start_time": "2020-03-12T09:05:24.329361Z"
    }
   },
   "outputs": [
    {
     "data": {
      "text/plain": [
       "['x', 'y', 'z']"
      ]
     },
     "execution_count": 148,
     "metadata": {},
     "output_type": "execute_result"
    }
   ],
   "source": [
    "list(c.keys())"
   ]
  },
  {
   "cell_type": "code",
   "execution_count": 149,
   "metadata": {
    "ExecuteTime": {
     "end_time": "2020-03-12T09:05:24.339335Z",
     "start_time": "2020-03-12T09:05:24.335345Z"
    }
   },
   "outputs": [
    {
     "data": {
      "text/plain": [
       "[1, 2, 3]"
      ]
     },
     "execution_count": 149,
     "metadata": {},
     "output_type": "execute_result"
    }
   ],
   "source": [
    "list(c.values())"
   ]
  },
  {
   "cell_type": "code",
   "execution_count": 150,
   "metadata": {
    "ExecuteTime": {
     "end_time": "2020-03-12T09:05:24.344323Z",
     "start_time": "2020-03-12T09:05:24.341329Z"
    }
   },
   "outputs": [],
   "source": [
    "# 修 改 映 射 的 操 作 总 是 会 作 用 在 列 出 的 第 一 个 映 射 结 构 上\n",
    "# 也就是 a 上"
   ]
  },
  {
   "cell_type": "code",
   "execution_count": 151,
   "metadata": {
    "ExecuteTime": {
     "end_time": "2020-03-12T09:05:24.348343Z",
     "start_time": "2020-03-12T09:05:24.345319Z"
    }
   },
   "outputs": [],
   "source": [
    "values = ChainMap()\n",
    "values['x'] = 1\n",
    "values = values.new_child()\n",
    "values['x'] = 2\n",
    "values = values.new_child()\n",
    "values['x'] = 3"
   ]
  },
  {
   "cell_type": "code",
   "execution_count": 152,
   "metadata": {
    "ExecuteTime": {
     "end_time": "2020-03-12T09:05:24.353339Z",
     "start_time": "2020-03-12T09:05:24.349309Z"
    }
   },
   "outputs": [
    {
     "data": {
      "text/plain": [
       "ChainMap({'x': 3}, {'x': 2}, {'x': 1})"
      ]
     },
     "execution_count": 152,
     "metadata": {},
     "output_type": "execute_result"
    }
   ],
   "source": [
    "values"
   ]
  },
  {
   "cell_type": "code",
   "execution_count": 153,
   "metadata": {
    "ExecuteTime": {
     "end_time": "2020-03-12T09:05:24.358327Z",
     "start_time": "2020-03-12T09:05:24.354295Z"
    }
   },
   "outputs": [
    {
     "data": {
      "text/plain": [
       "3"
      ]
     },
     "execution_count": 153,
     "metadata": {},
     "output_type": "execute_result"
    }
   ],
   "source": [
    "values['x']"
   ]
  },
  {
   "cell_type": "code",
   "execution_count": 154,
   "metadata": {
    "ExecuteTime": {
     "end_time": "2020-03-12T09:05:24.363303Z",
     "start_time": "2020-03-12T09:05:24.359282Z"
    }
   },
   "outputs": [
    {
     "data": {
      "text/plain": [
       "ChainMap({'x': 2}, {'x': 1})"
      ]
     },
     "execution_count": 154,
     "metadata": {},
     "output_type": "execute_result"
    }
   ],
   "source": [
    "values = values.parents\n",
    "values"
   ]
  },
  {
   "cell_type": "code",
   "execution_count": 155,
   "metadata": {
    "ExecuteTime": {
     "end_time": "2020-03-12T09:05:24.368271Z",
     "start_time": "2020-03-12T09:05:24.364268Z"
    }
   },
   "outputs": [
    {
     "data": {
      "text/plain": [
       "2"
      ]
     },
     "execution_count": 155,
     "metadata": {},
     "output_type": "execute_result"
    }
   ],
   "source": [
    "values['x']"
   ]
  },
  {
   "cell_type": "code",
   "execution_count": 156,
   "metadata": {
    "ExecuteTime": {
     "end_time": "2020-03-12T09:05:24.373244Z",
     "start_time": "2020-03-12T09:05:24.369255Z"
    }
   },
   "outputs": [
    {
     "data": {
      "text/plain": [
       "1"
      ]
     },
     "execution_count": 156,
     "metadata": {},
     "output_type": "execute_result"
    }
   ],
   "source": [
    "values = values.parents\n",
    "values['x']"
   ]
  },
  {
   "cell_type": "code",
   "execution_count": 157,
   "metadata": {
    "ExecuteTime": {
     "end_time": "2020-03-12T09:05:24.378263Z",
     "start_time": "2020-03-12T09:05:24.374241Z"
    }
   },
   "outputs": [
    {
     "data": {
      "text/plain": [
       "ChainMap({'x': 1})"
      ]
     },
     "execution_count": 157,
     "metadata": {},
     "output_type": "execute_result"
    }
   ],
   "source": [
    "values"
   ]
  }
 ],
 "metadata": {
  "kernelspec": {
   "display_name": "Python 3",
   "language": "python",
   "name": "python3"
  },
  "language_info": {
   "codemirror_mode": {
    "name": "ipython",
    "version": 3
   },
   "file_extension": ".py",
   "mimetype": "text/x-python",
   "name": "python",
   "nbconvert_exporter": "python",
   "pygments_lexer": "ipython3",
   "version": "3.7.3"
  },
  "toc": {
   "base_numbering": 1,
   "nav_menu": {},
   "number_sections": true,
   "sideBar": true,
   "skip_h1_title": false,
   "title_cell": "Table of Contents",
   "title_sidebar": "Contents",
   "toc_cell": false,
   "toc_position": {},
   "toc_section_display": true,
   "toc_window_display": true
  }
 },
 "nbformat": 4,
 "nbformat_minor": 4
}
